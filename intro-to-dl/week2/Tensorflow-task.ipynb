{
 "cells": [
  {
   "cell_type": "markdown",
   "metadata": {
    "slideshow": {
     "slide_type": "slide"
    }
   },
   "source": [
    "# Going deeper with Tensorflow\n",
    "\n",
    "In this video, we're going to study the tools you'll use to build deep learning models. Namely, [Tensorflow](https://www.tensorflow.org/).\n",
    "\n",
    "If you're running this notebook outside the course environment, you'll need to install tensorflow:\n",
    "* `pip install tensorflow` should install cpu-only TF on Linux & Mac OS\n",
    "* If you want GPU support from offset, see [TF install page](https://www.tensorflow.org/install/)"
   ]
  },
  {
   "cell_type": "code",
   "execution_count": 1,
   "metadata": {},
   "outputs": [],
   "source": [
    "import sys\n",
    "sys.path.append(\"..\")\n",
    "import grading"
   ]
  },
  {
   "cell_type": "markdown",
   "metadata": {},
   "source": [
    "# Visualization"
   ]
  },
  {
   "cell_type": "markdown",
   "metadata": {},
   "source": [
    "Plase note that if you are running on the Coursera platform, you won't be able to access the tensorboard instance due to the network setup there. If you run the notebook locally, you should be able to access TensorBoard on http://127.0.0.1:7007/"
   ]
  },
  {
   "cell_type": "code",
   "execution_count": 2,
   "metadata": {},
   "outputs": [],
   "source": [
    "! killall tensorboard\n",
    "import os\n",
    "os.system(\"tensorboard --logdir=/tmp/tboard --port=7007 &\");"
   ]
  },
  {
   "cell_type": "code",
   "execution_count": 3,
   "metadata": {},
   "outputs": [
    {
     "name": "stderr",
     "output_type": "stream",
     "text": [
      "Using TensorFlow backend.\n"
     ]
    }
   ],
   "source": [
    "import tensorflow as tf\n",
    "from keras_utils import reset_tf_session\n",
    "s = reset_tf_session()"
   ]
  },
  {
   "cell_type": "markdown",
   "metadata": {},
   "source": [
    "# Warming up\n",
    "For starters, let's implement a python function that computes the sum of squares of numbers from 0 to N-1."
   ]
  },
  {
   "cell_type": "code",
   "execution_count": 4,
   "metadata": {},
   "outputs": [],
   "source": [
    "import numpy as np\n",
    "def sum_sin(N):\n",
    "    return np.sum(np.arange(N)**2)"
   ]
  },
  {
   "cell_type": "code",
   "execution_count": 5,
   "metadata": {},
   "outputs": [
    {
     "name": "stdout",
     "output_type": "stream",
     "text": [
      "CPU times: user 538 µs, sys: 182 µs, total: 720 µs\n",
      "Wall time: 592 µs\n"
     ]
    },
    {
     "data": {
      "text/plain": [
       "333328333350000"
      ]
     },
     "execution_count": 5,
     "metadata": {},
     "output_type": "execute_result"
    }
   ],
   "source": [
    "%%time\n",
    "sum_sin(10**5)"
   ]
  },
  {
   "cell_type": "markdown",
   "metadata": {},
   "source": [
    "# Tensoflow teaser\n",
    "\n",
    "Doing the very same thing"
   ]
  },
  {
   "cell_type": "code",
   "execution_count": 6,
   "metadata": {},
   "outputs": [],
   "source": [
    "# An integer parameter\n",
    "N = tf.placeholder('int64', name=\"input_to_your_function\")\n",
    "\n",
    "# A recipe on how to produce the same result\n",
    "result = tf.reduce_sum(tf.range(N)**2)"
   ]
  },
  {
   "cell_type": "code",
   "execution_count": 7,
   "metadata": {},
   "outputs": [
    {
     "data": {
      "text/plain": [
       "<tf.Tensor 'Sum:0' shape=() dtype=int64>"
      ]
     },
     "execution_count": 7,
     "metadata": {},
     "output_type": "execute_result"
    }
   ],
   "source": [
    "result"
   ]
  },
  {
   "cell_type": "code",
   "execution_count": 8,
   "metadata": {},
   "outputs": [
    {
     "name": "stdout",
     "output_type": "stream",
     "text": [
      "CPU times: user 6.02 ms, sys: 671 µs, total: 6.69 ms\n",
      "Wall time: 4.92 ms\n"
     ]
    },
    {
     "data": {
      "text/plain": [
       "333328333350000"
      ]
     },
     "execution_count": 8,
     "metadata": {},
     "output_type": "execute_result"
    }
   ],
   "source": [
    "%%time\n",
    "result.eval({N: 10**5})"
   ]
  },
  {
   "cell_type": "code",
   "execution_count": 9,
   "metadata": {},
   "outputs": [],
   "source": [
    "writer = tf.summary.FileWriter(\"/tmp/tboard\", graph=s.graph)"
   ]
  },
  {
   "cell_type": "markdown",
   "metadata": {},
   "source": [
    "# How does it work?\n",
    "1. Define placeholders where you'll send inputs\n",
    "2. Make symbolic graph: a recipe for mathematical transformation of those placeholders\n",
    "3. Compute outputs of your graph with particular values for each placeholder\n",
    "  * `output.eval({placeholder:value})`\n",
    "  * `s.run(output, {placeholder:value})`\n",
    "\n",
    "So far there are two main entities: \"placeholder\" and \"transformation\"\n",
    "* Both can be numbers, vectors, matrices, tensors, etc.\n",
    "* Both can be int32/64, floats, booleans (uint8) of various size.\n",
    "\n",
    "* You can define new transformations as an arbitrary operation on placeholders and other transformations\n",
    " * `tf.reduce_sum(tf.arange(N)**2)` are 3 sequential transformations of placeholder `N`\n",
    " * There's a tensorflow symbolic version for every numpy function\n",
    "   * `a+b, a/b, a**b, ...` behave just like in numpy\n",
    "   * `np.mean` -> `tf.reduce_mean`\n",
    "   * `np.arange` -> `tf.range`\n",
    "   * `np.cumsum` -> `tf.cumsum`\n",
    "   * If if you can't find the op you need, see the [docs](https://www.tensorflow.org/api_docs/python).\n",
    "   \n",
    "`tf.contrib` has many high-level features, may be worth a look."
   ]
  },
  {
   "cell_type": "code",
   "execution_count": 10,
   "metadata": {},
   "outputs": [],
   "source": [
    "with tf.name_scope(\"Placeholders_examples\"):\n",
    "    # Default placeholder that can be arbitrary float32\n",
    "    # scalar, vertor, matrix, etc.\n",
    "    arbitrary_input = tf.placeholder('float32')\n",
    "\n",
    "    # Input vector of arbitrary length\n",
    "    input_vector = tf.placeholder('float32', shape=(None,))\n",
    "\n",
    "    # Input vector that _must_ have 10 elements and integer type\n",
    "    fixed_vector = tf.placeholder('int32', shape=(10,))\n",
    "\n",
    "    # Matrix of arbitrary n_rows and 15 columns\n",
    "    # (e.g. a minibatch your data table)\n",
    "    input_matrix = tf.placeholder('float32', shape=(None, 15))\n",
    "    \n",
    "    # You can generally use None whenever you don't need a specific shape\n",
    "    input1 = tf.placeholder('float64', shape=(None, 100, None))\n",
    "    input2 = tf.placeholder('int32', shape=(None, None, 3, 224, 224))\n",
    "\n",
    "    # elementwise multiplication\n",
    "    double_the_vector = input_vector*2\n",
    "\n",
    "    # elementwise cosine\n",
    "    elementwise_cosine = tf.cos(input_vector)\n",
    "\n",
    "    # difference between squared vector and vector itself plus one\n",
    "    vector_squares = input_vector**2 - input_vector + 1"
   ]
  },
  {
   "cell_type": "code",
   "execution_count": 11,
   "metadata": {},
   "outputs": [],
   "source": [
    "my_vector =  tf.placeholder('float32', shape=(None,), name=\"VECTOR_1\")\n",
    "my_vector2 = tf.placeholder('float32', shape=(None,))\n",
    "my_transformation = my_vector * my_vector2 / (tf.sin(my_vector) + 1)"
   ]
  },
  {
   "cell_type": "code",
   "execution_count": 12,
   "metadata": {},
   "outputs": [
    {
     "name": "stdout",
     "output_type": "stream",
     "text": [
      "Tensor(\"truediv:0\", shape=(?,), dtype=float32)\n"
     ]
    }
   ],
   "source": [
    "print(my_transformation)"
   ]
  },
  {
   "cell_type": "code",
   "execution_count": 13,
   "metadata": {},
   "outputs": [
    {
     "name": "stdout",
     "output_type": "stream",
     "text": [
      "[0. 1. 2. 3. 4.]\n"
     ]
    },
    {
     "data": {
      "text/plain": [
       "array([0.       , 1.6291324, 2.0950115, 2.6289961, 0.       ],\n",
       "      dtype=float32)"
      ]
     },
     "execution_count": 13,
     "metadata": {},
     "output_type": "execute_result"
    }
   ],
   "source": [
    "dummy = np.arange(5).astype('float32')\n",
    "print(dummy)\n",
    "my_transformation.eval({my_vector:dummy, my_vector2:dummy[::-1]})"
   ]
  },
  {
   "cell_type": "code",
   "execution_count": 14,
   "metadata": {},
   "outputs": [],
   "source": [
    "writer.add_graph(my_transformation.graph)\n",
    "writer.flush()"
   ]
  },
  {
   "cell_type": "markdown",
   "metadata": {},
   "source": [
    "TensorBoard allows writing scalars, images, audio, histogram. You can read more on tensorboard usage [here](https://www.tensorflow.org/get_started/graph_viz)."
   ]
  },
  {
   "cell_type": "markdown",
   "metadata": {},
   "source": [
    "# Summary\n",
    "* Tensorflow is based on computation graphs\n",
    "* The graphs consist of placehlders and transformations"
   ]
  },
  {
   "cell_type": "markdown",
   "metadata": {},
   "source": [
    "# Mean squared error\n",
    "\n",
    "Your assignment is to implement mean squared error in tensorflow."
   ]
  },
  {
   "cell_type": "code",
   "execution_count": 15,
   "metadata": {},
   "outputs": [],
   "source": [
    "with tf.name_scope(\"MSE\"):\n",
    "    y_true = tf.placeholder(\"float32\", shape=(None,), name=\"y_true\")\n",
    "    y_predicted = tf.placeholder(\"float32\", shape=(None,), name=\"y_predicted\")\n",
    "    mse = tf.reduce_mean(tf.square(y_true - y_predicted))\n",
    "    \n",
    "def compute_mse(vector1, vector2):\n",
    "    return mse.eval({y_true: vector1, y_predicted: vector2})"
   ]
  },
  {
   "cell_type": "code",
   "execution_count": 16,
   "metadata": {},
   "outputs": [],
   "source": [
    "writer.add_graph(mse.graph)\n",
    "writer.flush()"
   ]
  },
  {
   "cell_type": "markdown",
   "metadata": {},
   "source": [
    "Tests and result submission. Please use the credentials obtained from the Coursera assignment page."
   ]
  },
  {
   "cell_type": "code",
   "execution_count": null,
   "metadata": {},
   "outputs": [],
   "source": [
    "import submit"
   ]
  },
  {
   "cell_type": "code",
   "execution_count": null,
   "metadata": {},
   "outputs": [],
   "source": [
    "submit.submit_mse(compute_mse, <your email>, <your token>)"
   ]
  },
  {
   "cell_type": "markdown",
   "metadata": {},
   "source": [
    "# Variables\n",
    "\n",
    "The inputs and transformations have no value outside function call. This isn't too comfortable if you want your model to have parameters (e.g. network weights) that are always present, but can change their value over time.\n",
    "\n",
    "Tensorflow solves this with `tf.Variable` objects.\n",
    "* You can assign variable a value at any time in your graph\n",
    "* Unlike placeholders, there's no need to explicitly pass values to variables when `s.run(...)`-ing\n",
    "* You can use variables the same way you use transformations \n",
    " "
   ]
  },
  {
   "cell_type": "code",
   "execution_count": 17,
   "metadata": {},
   "outputs": [],
   "source": [
    "# Creating a shared variable\n",
    "shared_vector_1 = tf.Variable(initial_value=np.ones(5),\n",
    "                              name=\"example_variable\")"
   ]
  },
  {
   "cell_type": "code",
   "execution_count": 18,
   "metadata": {},
   "outputs": [
    {
     "name": "stdout",
     "output_type": "stream",
     "text": [
      "Initial value [1. 1. 1. 1. 1.]\n"
     ]
    }
   ],
   "source": [
    "# Initialize variable(s) with initial values\n",
    "s.run(tf.global_variables_initializer())\n",
    "\n",
    "# Evaluating shared variable (outside symbolicd graph)\n",
    "print(\"Initial value\", s.run(shared_vector_1))\n",
    "\n",
    "# Within symbolic graph you use them just\n",
    "# as any other inout or transformation, not \"get value\" needed"
   ]
  },
  {
   "cell_type": "code",
   "execution_count": 19,
   "metadata": {},
   "outputs": [
    {
     "name": "stdout",
     "output_type": "stream",
     "text": [
      "New value [0. 1. 2. 3. 4.]\n"
     ]
    }
   ],
   "source": [
    "# Setting a new value\n",
    "s.run(shared_vector_1.assign(np.arange(5)))\n",
    "\n",
    "# Getting that new value\n",
    "print(\"New value\", s.run(shared_vector_1))"
   ]
  },
  {
   "cell_type": "markdown",
   "metadata": {},
   "source": [
    "# tf.gradients - why graphs matter\n",
    "* Tensorflow can compute derivatives and gradients automatically using the computation graph\n",
    "* True to its name it can manage matrix derivatives\n",
    "* Gradients are computed as a product of elementary derivatives via the chain rule:\n",
    "\n",
    "$$ {\\partial f(g(x)) \\over \\partial x} = {\\partial f(g(x)) \\over \\partial g(x)}\\cdot {\\partial g(x) \\over \\partial x} $$\n",
    "\n",
    "It can get you the derivative of any graph as long as it knows how to differentiate elementary operations"
   ]
  },
  {
   "cell_type": "code",
   "execution_count": 20,
   "metadata": {},
   "outputs": [],
   "source": [
    "my_scalar = tf.placeholder('float32')\n",
    "\n",
    "scalar_squared = my_scalar**2\n",
    "\n",
    "# A derivative of scalar_squared by my_scalar\n",
    "derivative = tf.gradients(scalar_squared, [my_scalar, ])"
   ]
  },
  {
   "cell_type": "code",
   "execution_count": 21,
   "metadata": {},
   "outputs": [
    {
     "data": {
      "text/plain": [
       "[<tf.Tensor 'gradients/pow_1_grad/Reshape:0' shape=<unknown> dtype=float32>]"
      ]
     },
     "execution_count": 21,
     "metadata": {},
     "output_type": "execute_result"
    }
   ],
   "source": [
    "derivative"
   ]
  },
  {
   "cell_type": "code",
   "execution_count": 22,
   "metadata": {},
   "outputs": [
    {
     "data": {
      "image/png": "[encoded data removed]",
      "text/plain": [
       "<Figure size 432x288 with 1 Axes>"
      ]
     },
     "metadata": {},
     "output_type": "display_data"
    }
   ],
   "source": [
    "import matplotlib.pyplot as plt\n",
    "%matplotlib inline\n",
    "\n",
    "x = np.linspace(-3, 3)\n",
    "x_squared, x_squared_der = s.run([scalar_squared, derivative[0]],\n",
    "                                 {my_scalar:x})\n",
    "\n",
    "plt.plot(x, x_squared,label=\"$x^2$\")\n",
    "plt.plot(x, x_squared_der, label=r\"$\\frac{dx^2}{dx}$\")\n",
    "plt.legend();"
   ]
  },
  {
   "cell_type": "markdown",
   "metadata": {},
   "source": [
    "# Why that rocks"
   ]
  },
  {
   "cell_type": "code",
   "execution_count": 23,
   "metadata": {},
   "outputs": [],
   "source": [
    "my_vector = tf.placeholder('float32', [None])\n",
    "# Compute the gradient of the next weird function over my_scalar and my_vector\n",
    "# Warning! Trying to understand the meaning of that function may result in permanent brain damage\n",
    "weird_psychotic_function = tf.reduce_mean(\n",
    "    (my_vector+my_scalar)**(1+tf.nn.moments(my_vector,[0])[1]) + \n",
    "    1./ tf.atan(my_scalar))/(my_scalar**2 + 1) + 0.01*tf.sin(\n",
    "    2*my_scalar**1.5)*(tf.reduce_sum(my_vector)* my_scalar**2\n",
    "                      )*tf.exp((my_scalar-4)**2)/(\n",
    "    1+tf.exp((my_scalar-4)**2))*(1.-(tf.exp(-(my_scalar-4)**2)\n",
    "                                    )/(1+tf.exp(-(my_scalar-4)**2)))**2\n",
    "\n",
    "der_by_scalar = tf.gradients(weird_psychotic_function, my_scalar)\n",
    "der_by_vector = tf.gradients(weird_psychotic_function, my_vector)"
   ]
  },
  {
   "cell_type": "code",
   "execution_count": 24,
   "metadata": {},
   "outputs": [
    {
     "data": {
      "image/png": "[encoded data removed]",
      "text/plain": [
       "<Figure size 432x288 with 1 Axes>"
      ]
     },
     "metadata": {},
     "output_type": "display_data"
    }
   ],
   "source": [
    "# Plotting the derivative\n",
    "scalar_space = np.linspace(1, 7, 100)\n",
    "\n",
    "y = [s.run(weird_psychotic_function, {my_scalar:x, my_vector:[1, 2, 3]})\n",
    "     for x in scalar_space]\n",
    "\n",
    "plt.plot(scalar_space, y, label='function')\n",
    "\n",
    "y_der_by_scalar = [s.run(der_by_scalar,\n",
    "                         {my_scalar:x, my_vector:[1, 2, 3]})\n",
    "                   for x in scalar_space]\n",
    "\n",
    "plt.plot(scalar_space, y_der_by_scalar, label='derivative')\n",
    "plt.grid()\n",
    "plt.legend();"
   ]
  },
  {
   "cell_type": "markdown",
   "metadata": {},
   "source": [
    "# Almost done - optimizers\n",
    "\n",
    "While you can perform gradient descent by hand with automatic grads from above, tensorflow also has some optimization methods implemented for you. Recall momentum & rmsprop?"
   ]
  },
  {
   "cell_type": "code",
   "execution_count": 25,
   "metadata": {},
   "outputs": [],
   "source": [
    "y_guess = tf.Variable(np.zeros(2, dtype='float32'))\n",
    "y_true = tf.range(1, 3, dtype='float32')\n",
    "loss = tf.reduce_mean((y_guess - y_true + tf.random_normal([2]))**2) \n",
    "#loss = tf.reduce_mean((y_guess - y_true)**2) \n",
    "optimizer = tf.train.MomentumOptimizer(0.01, 0.5).minimize(\n",
    "    loss, var_list=y_guess)"
   ]
  },
  {
   "cell_type": "code",
   "execution_count": 26,
   "metadata": {},
   "outputs": [
    {
     "data": {
      "image/png": "[encoded data removed]",
      "text/plain": [
       "<Figure size 432x288 with 1 Axes>"
      ]
     },
     "metadata": {},
     "output_type": "display_data"
    }
   ],
   "source": [
    "from matplotlib import animation, rc\n",
    "import matplotlib_utils\n",
    "from IPython.display import HTML, display_html\n",
    "\n",
    "fig, ax = plt.subplots()\n",
    "y_true_value = s.run(y_true)\n",
    "level_x = np.arange(0, 2, 0.02)\n",
    "level_y = np.arange(0, 3, 0.02)\n",
    "X, Y = np.meshgrid(level_x, level_y)\n",
    "Z = (X - y_true_value[0])**2 + (Y - y_true_value[1])**2\n",
    "ax.set_xlim(-0.02, 2)\n",
    "ax.set_ylim(-0.02, 3)\n",
    "s.run(tf.global_variables_initializer())\n",
    "ax.scatter(*s.run(y_true), c='red')\n",
    "contour = ax.contour(X, Y, Z, 10)\n",
    "ax.clabel(contour, inline=1, fontsize=10)\n",
    "line, = ax.plot([], [], lw=2)\n",
    "\n",
    "def init():\n",
    "    line.set_data([], [])\n",
    "    return (line,)\n",
    "\n",
    "guesses = [s.run(y_guess)]\n",
    "\n",
    "def animate(i):\n",
    "    s.run(optimizer)\n",
    "    guesses.append(s.run(y_guess))\n",
    "    line.set_data(*zip(*guesses))\n",
    "    return (line,)\n",
    "\n",
    "anim = animation.FuncAnimation(fig, animate, init_func=init,\n",
    "                               frames=400, interval=20, blit=True)"
   ]
  },
  {
   "cell_type": "code",
   "execution_count": 27,
   "metadata": {},
   "outputs": [
    {
     "data": {
      "text/html": [
       "<img src=\"data:image/jpeg;base64,/9j/4AAQSkZJRgABAQEASABIAAD/2wBDAAIBAQEBAQIBAQECAgICAgQDAgICAgUEBAMEBgUGBgYFBgYGBwkIBgcJBwYGCAsICQoKCgoKBggLDAsKDAkKCgr/2wBDAQICAgICAgUDAwUKBwYHCgoKCgoKCgoKCgoKCgoKCgoKCgoKCgoKCgoKCgoKCgoKCgoKCgoKCgoKCgoKCgoKCgr/wAARCAEgAbADASIAAhEBAxEB/8QAHwAAAQUBAQEBAQEAAAAAAAAAAAECAwQFBgcICQoL/8QAtRAAAgEDAwIEAwUFBAQAAAF9AQIDAAQRBRIhMUEGE1FhByJxFDKBkaEII0KxwRVS0fAkM2JyggkKFhcYGRolJicoKSo0NTY3ODk6Q0RFRkdISUpTVFVWV1hZWmNkZWZnaGlqc3R1dnd4eXqDhIWGh4iJipKTlJWWl5iZmqKjpKWmp6ipqrKztLW2t7i5usLDxMXGx8jJytLT1NXW19jZ2uHi4%2BTl5ufo6erx8vP09fb3%2BPn6/8QAHwEAAwEBAQEBAQEBAQAAAAAAAAECAwQFBgcICQoL/8QAtREAAgECBAQDBAcFBAQAAQJ3AAECAxEEBSExBhJBUQdhcRMiMoEIFEKRobHBCSMzUvAVYnLRChYkNOEl8RcYGRomJygpKjU2Nzg5OkNERUZHSElKU1RVVldYWVpjZGVmZ2hpanN0dXZ3eHl6goOEhYaHiImKkpOUlZaXmJmaoqOkpaanqKmqsrO0tba3uLm6wsPExcbHyMnK0tPU1dbX2Nna4uPk5ebn6Onq8vP09fb3%2BPn6/9oADAMBAAIRAxEAPwD9/KKKKACiiigAooooAKKKKACiiigAooooAKKKKACiiigAooooAKKKKACiiigAooooAKKKKACiiigAooooAKKKKACiiigAooooAKKKKACiiigAooooAKKKKACiiigAooooAKKKKACiiigAooooAKKKKACiiigAorj/AAR%2B0J8A/iZ431n4Z/Dj44eD/EHiTw5JJH4h8P6J4ltbu%2B0t0kMTrcQRSNJAVkBQh1GGG088VZsPjb8GNV%2BKV78DdL%2BLvhi58babZLeaj4Pt9ftn1S1tiEImktA/nJGRJHh2UA7155FAHT0UUUAFFFFABRRRQAUUUUAFFFFABRRRQAUUUUAFFFFABRRRQAUUUUAFFFFABRRRQAUUUUAFFFFABRRRQAUUUUAFFFFABRRRQAUUUUAFFFFABRRRQAUUUUAFFFFABRRRQAUUUUAFFFFAHyM/iK78Sf8ABRXRvjLpWnfFnWdA8OeFNe0jVrLxH8LL/T9N8KS3FxpcStpco06CXVDdy2xaQ%2BZfIiIZkktohiTl/hp4A%2BIMH7T3hD4cXHwo8UW%2Bu%2BFP2lfG3jrxN4xuPDN1HpV34c1HS9bisfL1Joxb3UhGpaTam1SRpU%2BwMzIqwIT9w0UAeIftr%2BO/2nfhZ4W0Xxt8A/H3gPTba58X%2BHPD%2BoWPi/wHe6rI76rrtjpf2iOW21WzEYiS8MnllH3mMDegORZ/4Qf/AIKF/wDR0HwZ/wDDD6t/81FH7eH/ACRDQ/8Ass3w4/8AU10SvZqAPGf%2BEH/4KF/9HQfBn/ww%2Brf/ADUVW1nQP28/DmkXXiDxD%2B1t8ELCwsrd5729vfgdqkUNvEgLNI7t4pCooAJJJAAGa7b4c/HXS/iD8QvEvwzufBeuaBqfh0xyJFrsUMf9p2byTRLeW4jlctCZYJUywVuFJUB1J8J8Y%2BGPjJ4e0nxP8PPjbo1/rGmfETxRL4atPGUvjN57hUvHkNhJDpUcKw2sELMkLmNhKQjTsCqkjrpYRznyzdnpp1afbWzsrv8Ap2xnVSjdK%2B/9feZ3iT47ft2anB4Xj%2BAH7SfwE8d3Piq8vYrJYvhPqlnCBaQ%2BdOvmnxJJ%2B%2B2lQsJUFt24lUVnHcfCjUv27vi94B0/4geHv2mvhBDBerIktrd/ATVlmtZ4pGhngkH/AAlPDxyxyRsOmUNY/hn4NfFz4x/Eq58Y%2BK/Bep/D7WNLsNLun15mtZobjxHavKj3FvFFKfOtpLSWWJywjLR3LJ95cp7n8FfhhcfCjwZJoOp%2BIxq%2BpXuq3mp6vqaWItkuLq5neaQpCGby0Bbaq7mICjLMck6YqnhaVNRg/e9b736rTa1rWflrpNKVWUrvb%2BvmeDeBx/wWR8RfFHWNF8XeKPgJ4e8H2FxPDpniCf4dapc32qbWxHMlnF4gKRRuAW/eThxkZTOcegf8IP8A8FC/%2BjoPgz/4YfVv/mor2aiuOclN3UUvS/6tm0U0tXc8Z/4Qf/goX/0dB8Gf/DD6t/8ANRR/wg//AAUL/wCjoPgz/wCGH1b/AOaivZqw/iF8T/ht8JPDsni/4qfEDRPDWlQ/63Ute1SGzgXjODJKyrn8amMZSdoq7K3PNf8AhB/%2BChf/AEdB8Gf/AAw%2Brf8AzUUf8IP/AMFC/wDo6D4M/wDhh9W/%2BaiuQn/4Kh/BjxncPpn7Lfwu%2BInxlulcx/afAPhOX%2BzEkzgB9SvDBaBf9pZH78HFNHiv/gqv8XOfD3wo%2BFXwe0%2BX5Wl8V65ceJtVjH98QWQgtVb2M7jPr1rs/s/ER/i2h/iaT%2B7WX/kpfJLrodj/AMIP/wAFC/8Ao6D4M/8Ahh9W/wDmorK8XH9tXwBpZ1vx5%2B2j8BNEsl%2B9eav8F9Stoh/wOTxUB%2BtYn/DB3xr%2BIH779or/AIKJfFfXc8PpvgZ7TwnYsvdStjGbgj63BODyTWt4R/4JZ/sB%2BE9UGv3H7NOh%2BItT6vqnjiWfX7h267i%2BoyTHOeeMY7Yo9lgYfHVcv8Mf1k1%2BQWgup4x4q/4KMP4T1I6Kf%2BCo37O2tXwyBZeD/gRrmuzE%2BgTTvEs5J7YxWb/w3d%2B3rr//ACSnwjrXi1H/AOPe8tP2O9a022l9CJdT8W2w2%2B/P0r7m8K%2BCvBvgTTRovgjwlpmjWa/dtNKsI7eIf8BjUD9K06Pa4CPw0pP1lb8Ix/ULw7HwPH8av%2BDgjxA4bwj%2BzN8I7OBz8k3jHRfsJx6lLTxNeMv0IzXffCy1/wCC7ev%2BI7T/AIW94p/ZT8N6I%2B77ZLo/hPxHqd9F8jbdsTalBE3z7QcyjAJPJAB%2BuqKieIpSjaNKK/8AAm/xl%2BgnJdjxn/hB/wDgoX/0dB8Gf/DD6t/81FH/AAg//BQv/o6D4M/%2BGH1b/wCaivZqK5STxn/hB/8AgoX/ANHQfBn/AMMPq3/zUUf8IP8A8FC/%2BjoPgz/4YfVv/mor2aigDxn/AIQf/goX/wBHQfBn/wAMPq3/AM1FH/CD/wDBQv8A6Og%2BDP8A4YfVv/mor2aigDxn/hB/%2BChf/R0HwZ/8MPq3/wA1FH/CD/8ABQvt%2B1B8Gf8Aww%2Brf/NRXs1FAHxJ4k1P/g4i8P7pdK0j9kfX0H3E0%2Bw8RW8jD3E96qg/8CNYI/aJ/wCC63hg%2Bd8Sv2XvBot1/wBZP4J8CQ6wf%2BAxyeMLaRv%2B%2BRX3zRXZHE0bWlRi/wDwJflJ/kVzLsfK/wCz98Sv%2BChPx%2B0zUr9/GnhvwRNpk8cU1j8Qf2YtX06WYspO6EjxY6TKMYLIxAJA71pfEvxF/wAFBvh74t8EeC7f9oL4M6he%2BNvEj6Xbr/wpTVYRaxRWNzeTXJ/4qZt4VLbbs%2BXLSKNwr6Wrzbx/%2BzPoHjv4y6D8dU%2BI/jDSdb8O288NhbafrKyaeVmiaKQtZ3EcsIYqeXRVf5R83XMU5Yd13Jq0bOy1lrZ27PfW/QFy3PBf2g/jh/wUO%2BCWpXmmaH8V/hH4kfQPDMniXxhJD8GdStk0nR42kDT5fxOTNKfJmKQqAWELfMOM61j8cv2qtQ%2BKkHwitv2sPhYdRubsWMV8f2bdeFgdQNoLz7B9q/4SbyhdfZj5piLbtobupA7f4xfsl%2BOviR4rvrnSPitZ2mj%2BLfD%2Bn6N4%2BS70Uve3dvaTSS7raRJUjhMyyPDIrRsoViyYbOfPfEX7On7TEMWv%2BGPDPhextbLw9rXiTxV4Z1yLWVMmtalcQyLpduIwN8BjWRo5pH4JRSgIchOynRwFSkk5JO3e2/e/Z9F01flSUGjsfA3iP9rf4nXWpWXw4/bp/Z71%2BfRrn7Pq8OjfB3ULl7KXn5Jlj8VkxscHAbGcZFdD/wAIP/wUL/6Og%2BDP/hh9W/8Amormv2OfBt2fGEHi3w/4F13w14W8N/DXR/B2lWviLRJtNur%2BS2BleQ286rIqRGQxq7ABmkmKllIY9x8S/wBtr9lT4MfFW3%2BC3xg%2BNmj%2BFfEF3Zx3NnF4jZ7K2uEcsFCXcyrbs%2BVOUEm8ZGQNwzy1cLL27p0U5WV9rvz2vt%2BF/Ilx1sjM/wCEH/4KF/8AR0HwZ/8ADD6t/wDNRR/wg/8AwUL/AOjoPgz/AOGH1b/5qK9f0vVdM1zTodX0XUoLy0uYxJb3VrMskcqHoyspIYH1FT1ybEnjP/CD/wDBQv8A6Og%2BDP8A4YfVv/morz/wGP8AgshqPxS1Xwf8S/FHwE0nw5BbyzaN4v0f4dapfR3mJVVIZbaTxBDLBKUYucB4xsYbz8ufqairjNRTTinf1081r%2BdyWm2tT5n%2BPHiL/gof8FfhxceNbD47/BfXdRe6t7HRtCPwa1e0bUb64lWG3gWQeI5dpaR1BOw4Xcx4U1f%2BIniP9sD4QaPaa98WP22vgJ4ds729js4LvVvgpqkMLXD52pvfxSAM4PJwOO1egfFb4Bar8Qfid4X%2BK2l/E3UrSXwrdm6tvDN9BHc6PdzfZ7iFZpItqypMouWKyJIANqkoxAxwv7TUPxJ8QeJvDS%2BF/hX4sbxdoN5BJ4c1jSngm0C5Nz5dvfx3gkLFIkgknyZYkcqMwsXO0ddGlQqqEL923s12WullbfXd6aGU51Iczt2t/SNm08Jf8FAL%2B1iv7D9qr4KzwTxrJDND8CtVZJEIyGUjxTggg5BFSf8ACD/8FC/%2BjoPgz/4YfVv/AJqK801T4y654d1/S/i3D8S7rQvDdv4u1Gy0/wAH2NrDHp8PhnSxPFf3U0ITfvLwO6uCNoSMJwxDeyfBX48eL/iL4qn8HfED4Wf8Irfv4bste060bWBdTGzuWkQR3CeUn2e4R4yrRgyLyMOSGCzVwVWlDn3X5f52ur20HCtGTscXqXjH9s34S/Gn4VeGvij8W/hh4l8P%2BPPGt3oOp2mgfC7UdIvLcR%2BH9X1OOaK4m1y7QHzdOjRlaE5WRsFSAa%2Bga8Z/ag/5Lf8As4/9lmvv/UK8UV7NXGbBRRRQAUUUUAFFFFABRRRQAUUUUAeM/t4f8kQ0P/ss3w4/9TXRK6fwD%2B0p8OPih8W/EXwg8BwaxqNz4UDR69rUejyrpdteK6q1iLpgEkuV3bmRN20A5IIxXMft4f8AJEND/wCyzfDj/wBTXRK9lREjBEaBQSSQBjk8k1cXTUXzK76a2t/n6aEtSbVmeXfF34PfFDxf8avB3xM%2BGPjHSPDn9h2d7aa7qN1YPeXN/ZTmJjZpDuSNRviWQTOzbHQYjYM2ertPg78Pk8T2Hj3WfD1tq/iPTLVrey8RarbRy3kKMzFgj7QI87iDsC5GAeAK6eirdeq4qN7WVtNNPN7vf/gCVOKbfcKraxrOkeHtKude1/VbaxsbOBpry9vJ1iigjUZZ3diAqgAkknAAqn43HjVvCOor8OJdLTXTasNKfWopHtFmx8plWNldkHcKyk9MjrXiR1vxV%2B09%2ByR43%2BF/xFvtJ0rxvo73fh7xRiMwWA1OAo8MoWRmZLa5ja2mUFmIjudu4suadKj7Rczel0n3V%2Btu36miVzoPiJ%2B13o9na%2BHH/Z/8OWnxMl8S2mo3tidB8RQJbyW1lDHLMsc4DpJcN50Sxw5XfuZiyqjGvG5v2mfG9/4p8afHjw58W9Uks/Dl3pWoaf4Gu1t47C/8LXHkRSuiGISpepdJfRtIXYK6xqTsdVF/wh8G/iV8Yfjjr3xC0nwbrvwzv7WHT9Tlv9W0xHt/%2BEnidre5aFFkC3lrc2UUCSspQELGVfeXCevfD/8AY%2B%2BFWj%2BDdD0j4seFfD/jTWdE1e91W21jUfDsYS3u7q8lu5Ps0UjSm3hWWX93F5j%2BWEjwxKKR6V8DhI2au9L7N66%2Bceyumn1NPcieh%2BOfDd3408Far4T0/wAV6noM%2Bp6dNbQ63ozol3YM6FRPCZEdBIhO5dysMgZB6V4x8Pf%2BCZ37IngzxFH498YeA7r4ieK05bxb8UtVl8QX5bsym7LRwkdvJjjA7CvfaK82nicRRg405NJ720v81r8r28jNSkloMt7eC0gS1tYEjijQLHHGoVVUDAAA6AU%2BiisBBRRXP/Ej4r/C34N%2BG5PGXxd%2BJOgeFdIiz5uqeI9YgsbdOM8yTMqj86ajKTsldjScnZLU6CivlW8/4LDfso%2BJbyXSP2aPDfxG%2BN99C5SWL4Q%2BALzU7VGHHzX8qw2IGeM%2Bfgd%2B1MH7RH/BVv4r/u/hN/wT88HfD21k%2BaDV/jH8Ukll2di1jo0NyVbHO1p1PY4611fUcSvjSj/iaj%2BDd/wOn6liF8aUf8TS/Bu/4H1bRXymP2dP%2BCsHxF/0v4kf8FGfB3gZJOJdL%2BFXwchk2DuFutYubo59/JHrS/8ADrIeJP3nxf8A%2BChH7THixpObm2HxROjWsnqPJ0iC1wv%2BySfrR9Xw8firL5KT/SKD2FCPxVV8lJ/okfVTukal3YKoGSScACuR8S/tBfAXwYzJ4w%2BN3hDSSn3xqXiW1gK/XfIMV4Kn/BFH/gmpdsJvF37Pl14pmzmSfxn441rWWkb1IvLyRfyAFdd4a/4JX/8ABNPwkqjRP2BvhAGT7st18PdPuJB/wOWJm/WjlwC%2B1J/9uxX5yYcuCX2pP5JfnJm1qv8AwUO/YB0Jimt/ty/B6zK/eF18TNKjI/76uBWPN/wVL/4JoQNtf/goJ8Fyf9j4m6W38p67DSv2Nf2QdCULon7Knw2swv3Ra%2BBtPjx/3zCK2If2d/2f7ddkHwM8HIPRPDNoP5R0Xy/tP/yT/IP9h7T/APJf8jzq2/4Kif8ABNS7YJD/AMFBPgrk9A/xQ0pf/QrgVvaN%2B3p%2Bwz4iYJ4f/bP%2BE98W%2B6LP4i6ZLn/vmc10l1%2Bzf%2BzversvfgJ4LmB6iXwtaMP1jrB1j9hz9inxCpTX/wBj74W3wb7wvPh/psuf%2B%2BoTR/wn/wB//wAkD/Yf7/8A5Kdn4X%2BK3wu8blV8F/EnQNXLfdGl6xBcZ%2Bnlsa36%2BdPFH/BIn/gl74vDDVv2B/hVFu6nS/BtrYn8DbIhFYB/4Iv/ALBGknz/AIa%2BD/G3ga5H%2BruvA3xZ8Q6YY/8AdSK%2B8sf98UcmAe05L1in%2BUg5cE9pyXrFP8pH1VRXyp/w7X%2BLPg7/AEr4I/8ABUf9ojQrhf8AVQ%2BJ9f07xPar6ZTU7KWRvxlpP%2BFW/wDBY74Z/wDIm/tY/Bf4oQdfI%2BIPw3vNBuSPT7Rpd1LGD/tfZ8f7NP6tRl8FaPzUo/mmvxD6vRl8NVfNSj%2Baa/E%2BrKK%2BUT%2B2h%2B338Kv%2BTh/%2BCXWv6pYw/LPrvwV8d6f4hVz/AHlsrv7FdAewVzx3OBWt4H/4K8/sF%2BJfEMPgbx58Xbj4Z%2BJZjtPhn4vaBeeF7tX6bAdRjiikbJA/du/JxSeBxVrxjzL%2B61L8m3%2BAPB4m14x5l/dal%2BTb/A%2BmKKraRrGkeINMg1vQdVtr6yuYxJbXdnOssUqHoyupIYe4NWa5Njl2Cs3xZ4N8IePtCn8LeOvCum61plyuLnTtWsY7mCUejRyAq34itKimm4u6A%2Ba9T/4Je/A3wrqVx4o/ZU8aeMPglrM8hmkk%2BHGuNDps8nUedpdwJbKRAf4REv1FV28af8FL/wBnH/kffh14Z%2BPfhuD7%2BseCGXQPEiRjlnfT7l2tLlsdFhmiJ7L2P05RXasfWnpWSqL%2B9q//AAJWl%2BLL5299Txv4E/t6/s0fH/xG/wAPNA8ZT6B40gH%2Bm/D/AMa6fJpGuW7YyR9kuQrSgd3i8xP9qvZK4T48fsxfAD9p3w4nhb48/CjSPEltCd1nLfW%2BLmyf/npb3CFZbd/9uN1b3rxZ/gh%2B3H%2ByT/p/7MnxUf4v%2BDoOW%2BGvxR1TZq9vGP4NP1vblj0Cx3iuoAx5o60eywmI/hS5JdpbfKf/AMkl6haMttD6korxz9nj9uH4M/tA%2BIbn4ZFNU8HfEHTYt%2BsfDfxrZfYNYtVHWRI2JW6h4yJoGkjIIORnFex1y1aNWhPkqKz/AK%2B9eabXmS007M828ffspfBrxh4a8X6XongrSdA1Pxnb7dX13S9JhW4mlDiRZZMrib94qsytkSYw2c1pfCP4P3nw/wBT1nxp4v8AGD%2BIvFHiJoBrGsmyFtGYYA4gt4YQzCKFPMlYKWYlpXJYk129FU8RWdNwcrp/8DrvbRabaLsZ%2BzgpXSPGP2nWL/G39nIlCv8Axee/GD7eCvFHNez14z%2B1B/yW/wDZx/7LNff%2BoV4or2asSwooooAKKKKACiiigAooooA8H8KfGb9oLQ/2z7f9nT4heIPA/iTS9Z8I6r4iWLwr4cvLG%2B8K20F7bQWK30s17cR3QuhNcKjrHakvYzFEkVZDFhfCz9qf4u67%2B2l4q%2BBvxY8TaJ4Z0W38T3Om%2BANAv/hPrdpc%2BJ7aLS7e7Nxa69PdjT7uRXa7LW8EDSCO1ckAIzjovhN%2BxLefBz4heN/iN4c/ay%2BJt3dePtcn1XW4NWtvDs4Wd2QRLHN/ZAuPKt4UW3hieV0ji4Clvnrfvv2WoPEXxy0X41%2BPfjf418RQ%2BFtaudX8I%2BDtSOmR6Tot9NZ3Fk08X2ayiupittd3UaC5uJlUTsQNyoygHGf8FC/i58KPDXg/wZ8KPEfxO8Paf4p8QfGH4ey6D4avdagi1DUkj8Z6M0jW9uziSYKqsWKKQApJxg19D14z%2B3h/yRDQ/wDss3w4/wDU10SvZqACuJ%2BPv7Q/wh/Zj%2BHs3xM%2BM/i%2BHStNSVYLWPY0tzf3L8R21tCgL3EznhY0BY8noCRj/tT/ALUngz9lrwPa65q%2BkXuveItdvl03wX4L0YB9Q8Q6i4%2BS2gXsB955W%2BSNAWbsDwn7O37IvjPU/iDB%2B1r%2B2nqtl4l%2BKLxMNB0i2JfR/Ats/W005G4acjAlvG/eSEYUqnDdlHDwVP21d2h0S3k%2By7JdZPRbK70VKKtd7Hon7NPxQ%2BMXxh8E3Xj34t/A2b4fR3uos3hrQtT1NZ9SOnbE8uW%2BjRdlrOzbyYA7lFKqxDAik0b9lr4UaZ8add%2BP2pW%2Boat4k14QJLJquoNJa2sUKqsUcNqu2BSu3IlZGm5IMhHFejUVi60lOTp%2B6paWV9u2uvT5/gK%2BugUUUViIKKK8D/ag/wCCgPw9%2BAvjS2%2BAvw18Gat8Ufi/qtsJtI%2BF/g0o12kRwBdX87nydMtMlczzkZB%2BRXIIrSlSqVp8sFd/1q%2BiXm7I0p0qlaXLBXf9b9l5s96lligiaaaRURFLO7HAUDqSewr5h8f/APBVT4KXHi%2B9%2BEv7I3gbxL8fvG1lJ5N3pPwwtkn03TZj0W%2B1eVksbQZyCDKzqRylYFp%2BwV8f/wBsCRfFP/BTr4zfbtEmYSW3wI%2BG1/PYeGbZeqx6jdKUutZkGFLB2jt9wOIipr6l%2BHvw4%2BH3wl8IWXw/%2BFvgfSPDmhadF5dho%2Bh6dHaWtuvokUSqq/gK6eXCUPifPLstI/fu/kkvM35cLQ%2BJ877LSP37v5JLzPmVfhD/AMFU/wBpv/SPjP8AtD%2BGfgF4auPveFPhFZLrOvtE3WObWdQj8iGQf3ra1Ps9dF8Nv%2BCS/wCw14F8SR/EHxj8KZviX4uXmTxl8XdXn8T6i75zvVr9pI4T6eSkYHYV9JUVMsbiLcsHyLtHT72tX85CeMr2tB8q7R0/Fav5sisrKy02zi0/TrSK3t4UCQwQRhEjUDAVVHAAHYVLRRXIcoUUUUAFFFFABRRRQAUUUUAFFFFABRRRQAVkeOPh94C%2BJ3h2bwh8SvBGkeIdJuBi40vXNNiu7eX/AHo5VZW/EVr0U03F3Q02ndHytrP/AASG/Zp8M6nP4q/ZK8W%2BOPgHrk0hle4%2BEniaSy0%2BeTqPO0qYS2EqZ6r5C5HccEU38Sf8Faf2Wxu8V%2BEvBv7S3haD/Wah4YCeFfFkcfUu1pM76feMB/DHLbsx6LyBX1rRXWsbWlpVtNf3tX/4FpL8WdKxlWWlW01/e1f36S/FnhP7Ov8AwUc/Zb/aP8Wv8KtJ8U6h4R%2BINumb74ZfETSpNE8QW/BJxaXGDcLgZ8yBpY8fxV7tXnX7R37JX7OH7W/hNPBf7RXwg0fxRaQP5lhPewFLvT5cgiW1uYys1rICB88To3vXgM3w5/4KCfsCj%2B0/gr4s1T9oz4WWozceA/GGoRp400aAcn%2Bz9TfbHqqqMkW93tmIVVWZiafssNX/AIT5ZdpPT5S0%2B6SXqP2eHr/w3yvtJ6fKX/ySXqfYdFeZfsuftf8AwH/bC8GXHi/4KeLXuJtMufsniPw9qlo9nq2g3gzutL6zlAltpVIYYYYbaSpZea9NrlnTnSm4zVmujOacJ05OMlZoKKKKgk85/aM/ZR%2BB37U/h620T4u%2BEBPd6bL5%2Bg%2BIdOuGtNV0W4GCs9ndxESwOCAflO07QGDDivFR8bf2kv2AZ00j9re/vPiP8JUcR2fxk07T/wDia%2BH484VdctIRiWIDj7dAuOMyxqW3V9YUy4t7e7t3tbqBJYpUKSRyKGV1IwQQeCCO1ddHFuEPZVVzQ7Pp5xe8X%2BD6p7lKVlZ7FXw34l8O%2BMdAsvFfhLXbPVNL1G2S40/UdPuVmguYXGVkjdCVdSCCCCQau18keMfhJ8RP%2BCcmvXvxq/ZX8N32v/CC7uXvPH3wcsF8yXQwx3TapoSH7uOXlsRhHG4x7WwB9NfDH4m%2BAfjN4A0n4p/C7xTaa34f1yyS60rVLKTdHPE3cdwQcgqQGVgVIBBFLEYdU4qpTfNB7Pqn2kuj/BrVO2xKNtVsebftQf8AJb/2cf8Ass19/wCoV4or2avGf2oP%2BS3/ALOP/ZZr7/1CvFFezVykhRRRQAUUUUAFFFFABRRRQAUUUUAeM/t4f8kQ0P8A7LN8OP8A1NdEr0L4w/FvwH8B/hdr3xj%2BJ%2BuJp2geHNNlvtUu3GSsaDO1R1Z2OFVRyzMqjkivPf28P%2BSIaH/2Wb4cf%2BprolcH%2B0PbD9q79tnwd%2ByXJ%2B/8GfDmxt/H3xKgHMV9eec0ei6dL2K%2BbFPePGwIYW0WetdOFoxrVff0ik3L0W9vN6Jeb8ioq71L37HHwW8efEXxpcft6ftR6C9t468TWRh8FeFbv5l8DeH3O6KzRTwLyZdslzLgMWYRDaqEH6UooqcRXliKnM9Fsktklsl5L8dW9WxSbkwooorAQUUV84/8FCv2gPih4Q0zwn%2Byr%2BzHqMVt8W/jHqM2l%2BGNSki8xPDenQoH1LXZU6MtrCw2KT888sK4bJFa0aUq9RQj1%2B5Ldt%2BSWppSpSrVFBf8Murfklqc7%2B0B%2B1B8bf2ivjJqv7Ef/BP7V7aw1bRGWH4sfGO5tRc2HgdXGfsVrGfkvNXZDkRE%2BXACGl5O0evfsp/sd/BD9jrwVceFPhLolzLf6tc/bPFPi3XLo3ms%2BI745L3d/dv89xKxLHnCruIRVXitL9l/9mj4W/sjfBXR/gZ8I9Mli0zS0Z7m9vJfNu9UvJDvuL66lPM1xNIWd3PUnAwAAPQK2rV48vsqOkPxk%2B7/AEWy83dm1avHl9lS0h%2BMvN/otl5u7CiiiuQ5QooooAKKKKACiiigAooooAKKK%2BE/%2BCpvxa/bH%2BFH7Tvwgb9nP4iWcdrqcN5JZ%2BD7rUBZW2pXdqRJcG9kkkiikgMMkShGlUghyuGYNXo5Vl081xiw8JqLak7yvb3U3bS%2B9t9lu9jzM3zOnlGCeJnCU0nFWjZv3mlfVq9r7bvZbn3ZRX5vfF7/AIK3fEnXP2VftFn4g0z4f/EzRvG0Gl%2BP9K0%2Byjvby10pxIGvtPgupBHOd3lDHmMAWGXQOj1wf7Cf/BRPwF8L/iLcfE79qb9unx/4nOo6VJaR%2BGLzQruSxsWaVHE7gSuvmqqFcRRkDeQHYcH3Y8F5u8HUryWsW0opSk5NW2cVazTunezWvkeBPjjJljadCL0kk3JuMVFO%2B6k%2Ba6as42unp5n6u0VDpuo2Wr6dBq2m3KzW11Cs1vMnR0YBlYexBBqavkWmnZn2KaaugooooGFFFFABRRRQAUUUUAfPH7WH7BenfF/xlB%2B0r%2Bzv42f4ZfHDRbby9H8faXbhotVhXBGnavbDC6hZNtA2v%2B8iwGjZSMG3%2Bxp%2B2hf/AB31XXPgJ8efAyeA/jV4HijPjPwS1yZILm3Y7YtW0yVsG60%2BYj5XHzRMfLkAYAt75Xzz%2B31%2Byj4t%2BMugaP8AH39nO9t9G%2BN3wwkk1L4da3J8sd%2BCP9I0W8OR5lleIDE4JGxykikFDntpVY14qjWf%2BGX8vk/7vdfZ3XVPspVY1oqlVfpL%2BXyf93y6brqn9DUV5t%2ByJ%2B0x4R/a%2B/Z48N/H7wfp9xp6a1asup6LejFzpGoQu0N3YzggESwTxyRNkDOzI4Ir0muScJ05uElZrRnLOEqc3GSs1oFFFFSSFfI/iuw/4drfH1fib4eX7P8AAj4na/HB4y0teLfwT4huXCRapEOkVldSFY514WOVkkBAZlr64rB%2BKHw08GfGT4c658KPiLoseo6F4i0ubT9VspRxLBKhRgD/AAtg5DDkEAjkCurC11Rm4zV4S0kvLuvNbp99Nmyouz12PN/2oP8Akt37OP8A2Wa%2B/wDUK8UV7NXy/P8ADTx98G7X9kv4U/Ez4jDxbq/h74qXthJ4iNoYXvYYvBnipYGkUsxMohEau%2BfndWbA3YH1BWFSMYTcYu6T37%2BfzE9GFFFFQIKKKKACiiigAooooA5DwL%2B0J8A/ih4y1n4dfDP44eEPEXiHw67J4g0LQvEtrd3mmMrmNluIIpGeAhwVIcDDDHWrFr8bfgzffFO5%2BBdl8XPDE3jezsBe3ng6LX7dtVgtSFIne0D%2BcsZDp85Xb8y88ivmv4a/FfTPix%2B2/q3xT8WfCT4i%2BEtJ%2BFmk614X8C6bcfBrxDD/AG19qvLM6jqzXQsPs7wSS2kCWsEUjM8azXLg74xDzPg34f8AxBi/ak8PfDeb4UeKIte0H9p3xJ491rxnL4auk0qbw7eaFqdvbSJqZj%2BzTyFb2w0/7KshmX7MzGMRwq9AHvf7eH/JEND/AOyzfDj/ANTXRK5D/gndF/wm3iH45/tFX48278ZfGnVbC0uv72maOE0q1Qf7INtO495TV7/goXpvxXn8H%2BDNR8OeNPD1r4Wh%2BMPw9GvaNe%2BGJ7jULxz4z0by2t7xb2OO2CttLB7aYsAQCmQRX/4JYzRxfsv6j4de2SG80X4peMrDUokLHbcJ4gvmbO4k7iHVjz34AGBXbR0wNZrq4L5Xk/zSLXwP5H0fRRRXEQFFFFABXyX%2ByLZt8df%2BCiX7Q/7U2ssLi28EX2n/AAp8EbxzZw2ltDqOrFf%2But7exKW6kWijPGB9aV8qf8Et2Ww1D9pLwpd/Lf6d%2B1L4qlu424bZdJZ3kDkehhnjwf8AZ9q7MP7uGrSW9or5OWv5JHVQ93D1ZLeyXyctfySPquiiiuM5QooooAKKKKACiiigAooooAKKKKAOdHxb%2BGLfEv8A4U0njzSm8VjTjft4fW8U3a2wIHmmMHKrlh169RxXlX7Tmpf8E7PiZNY6H%2B1T48%2BGt5PoU8z2Fl4h8U20U1s7ALKAnnKxztUFSDyo4yBXxP8AtGf8Emv25/G3jTx78d/Gfxu%2BGtqddkub3XtVt9U1S0xp0Y3fZ3hitWUwiOKJih8xswr87EEt8O6b%2BzH8YfHvw9bx38FINJ8a3cOryWs3g3w9em516S2UH/TUsFXzjASCMhS4xlkVSrH7uOS5Bl%2BXTzSWYS5aSjzulCU5RctHblV7avZXUVJvon8bl%2BM4p4n4ho8PYfL6Sq4iU1T%2BsVqdGnJRTklKVSSgpPlSXNJRc5Qimrtrsv2/PDfwU0j9ozXdR/Z2TwzB4MnmjTQ7fw14hF/HIqxL5kpGS0GW6o2BknYWUEjz3wDZ/F9bmb4pfDTw7qjjwckM9/rOk6QXg01fmEb3LohjUPtZf3vEnzKd3Ir7p/YL/wCCOnxs8a/DT/hO/jt4ruPhyniGCW2u/Do8Owz621g6hGRp58/YC67wVVC5VsPwdg/QbwB%2Bxf8As1fDr4Dt%2BzdpHwq0u58KXCxnVLLULRJH1SVGVhPcuFBml3IhDnkbFC4CqB9XU4/ybB4ClSw7eI0irtNXjZXb5knzNdGtXrKy0Pianhnn8s4xCxqjhpRlO8YyhNKabsounKceVP7UZNWVoc25%2BVvwM/4KM/8ABUPUddi%2BLUNz408d%2BEtH1uKfxHaaX4YiFlKFVd1q9xDZutqrIVyqgY3bgNxDV9O%2BD/8Ag4C%2BG3ibwnJC37MXi%2Bbxg3mfY9B0e8hurSYKMgm5wsq8ZJxbttx3r0zx7/wRF/YT8beLk8Vad4e8ReHIjOZbzR/D%2BubLO6JbcVZZkkaNc8BYmjAHAAwMe9/s3/sxfB/9lD4fn4afBjQJbHTXvZLuY3N0080sr4BZnbk8KoA6AD6187m%2Bd8GYykqkMI3NWslekkuqk4tqXyitNLo97Jsh43wVZ054xKDveUrVW30cVJJx%2BcnrrZl39nj4m%2BJ/jN8FPDnxT8ZfDm48Jajruni7m8PXdyZpLNWY7AzlEJLJtfBVSN%2BCMiuzoor8/qyhOrKUI8qbdlq7K%2Biu9XbbU/RqMJ06UYzlzNJJvRXdtXZaK%2B%2BmgUUUVmaBRRRQAUUUUAFFFFAHyb%2BzBar8AP8Agpl8df2a9PHlaB8QNC0r4reHrKP/AFdteXEkum6xj3kuLW1nI/vXDH%2BKvrKvlSdl1T/gt7afYTu/sT9le5XUyv8ACb3xJbm3De5FjckD619V12YzWcJPdwi362a/JI6sXrKEnu4xb%2B5r8kgooorjOUKKKKAPGf2oP%2BS3/s4/9lmvv/UK8UV7NXjP7UH/ACW/9nH/ALLNff8AqFeKK9moAKKKKACiiigAooooAKKKKACiiigDxn9vD/kiGh/9lm%2BHH/qa6JXGfsnTD4N/tn/Hb9mTUf3UOv6xbfEvwmH63NrqMSW2obfaO/tWJH/T0p/irs/28P8AkiGh/wDZZvhx/wCprolcv%2B374E8aeEj4U/be%2BDegz6l4r%2BENzPcarotmv73X/DVwqrqdgo/jlCIlzCDnEtuAAS9duCanKVCTtzqy/wASd4/jp/28XDXTufR1FYnw2%2BI3gv4veANH%2BKPw58QQaroWv6dFfaVqFs2UngkUMreoODgg8ggggEEVt1xyjKMnFqzRGwUUUUgCvjySOP8AY1/4KxX/AIo1q9uI/BX7VOjWNpHdXNwxttP8aaNbNFFbgHCQ/bdOA2/xSS2O3nKgfYdebftZ/sw%2BAv2v/gZq/wAEPH1zdWSXhiutG13TZPLvdD1KBxLaahayDmOeGVVdSDzgqcqzA9OFqwpzcZ/DJWfp3%2BTSf3rqdGGqRhNxn8MlZ/5/JpP711PSaK%2Baf2Jv2ufHev8Aim%2B/Yv8A2xYLXRvjl4NshJdNEnlWXjbS1OyPXtMzgPHJgedCvzW8u5GVRtr6WrOtRnQqcsv%2BA10a7p/1rdLOrSnRnyy/4DXRryf9dUFFFFZGYUUUUAFFFFABRRRQAUUUUAeSft2eIPHHh79kvxxL8PPhJN441O90OWwXw5DFJJ9oiuB5MrMkTCSRVjd2KRne2MAj7w%2BE/wDglN4O/wCCe3wd8YWviD4i/HDw1q/xJl1dY/C32%2B11LTrjSneIRSW0kdxtgMxkLqDgn0c7wq/pL8Vvib4Y%2BEPgPUvHfinU7KCGxtJJIIb3U4LMXcyoWSBJbh0jV3ICjcwGTyQK/Dv9sr9o/wCL37bH7Rdj4j8W2eleDka2SPw5pM3iBEtLGPex82S5YrH5zMDumYR5CIOAq1%2BicHYTE5nl2IwSbp0payqRdm7LSPK07rvy20upXukfmvG2Mw2VZlh8c0qtWOkaco3SvLWXMmrPa3NfVJxtZs/eaivwl%2BKvwX/4KF/AP48aJ8LLvx14t1Tx7rFgmr6bY%2BFfEd5f3TQ73VZi0ZPRoZM8naIyzYUgn6N%2BDH/BQT/goH8CP21fC/wL/bcfWNQt5LRbLUPDWh6Pp93dzG4jY21yDaA%2Bawfy92x87Ff5S2VbmxPA1aNBVcJiqdX3XOydpNLrFN6rdX0V%2Bp1YXj6jOu6WLwlSl78YXavFSl0k0lZ6p21duh%2BptFFFfCH6AFFFFABRRRQAUUUUAFFFFABUGq6ppmh6Zc63rWoQWlnZwPPd3dzKEjhiRSzO7HhVABJJ4AFT18V/H7xvrH/BT74ran%2Bw98B9YuY/g94b1IW/7QHxE06YpFqjIQzeFNPmX/WSScC8lQ4hiJi3b5Ctb4eg60tXaK1b7L/N7JdX87b0KLrS1dorVvsv8%2BiXV/O3Q/8ABMqHUvjt4n%2BKn/BRrXbGaC3%2BMmv29r8PYLqIo8fhDSkkttOm2sN0ZupHu7wr3W4jPTFfWdVdC0LRfC%2BiWfhrw5pVvYadp1pHa2FjaQiOK3hjUIkaKvCqqgAAcAACrVLEVfb1nNKy2S7JaJfcvvuKvV9tVckrLouyWiX3L8wooorExCiivIv20/2k7n9mv4Otqng/R11nxz4lvo9C%2BHPhpTl9V1q4ysCEdoo%2BZpWJAWKJySOK0o0p16qpwWr/AK%2B7q30SbGk27IrftQf8lv8A2cf%2ByzX3/qFeKK9mr5en%2BFHiT4H2v7Jfwv8AGfxB1LxXrel/FS9Gt%2BItWvJJ5r%2B9k8GeKpZ5A0hLLH5ruETokYRBgKK%2BoaVSMYzai7pPfv5/MHowoooqBBRRRQAUUUUAFFFFABRXi/7HPxd%2BOHxKuvil4O%2BP174Uu9Z%2BH/xMbw9bX3g/Rbmwtbi1bRtK1JC0VzdXLmRW1B4y4cK4jVgiZIrkv2KP2p/i78Z/iF4j8EfHvxNomj67a3OsS6T8Pz8J9b8P6gmm2urSWkN/HfajdyQ6vA0P2VnltIVjV7qPLLvVSAdf%2B3h/yRDQ/wDss3w4/wDU10SvZq%2BeP%2BChfxc%2BFHhrwf4M%2BFHiP4neHtP8U%2BIPjD8PZdB8NXutQRahqSR%2BM9GaRre3ZxJMFVWLFFIAUk4wa%2Bh6APkK/kvP%2BCXPxTvNeFtK/wCzl431lrjUBDGWX4bazcSfPNtH3NKuZGy2Plt5nJwqPz9cWV7Z6lZw6jp13FcW9xEskE8EgdJEYZVlYcEEEEEcEGo9a0XR/Emj3Xh7xDpVtf2F9bPb3tleQLLDcROpV43RgQyspIIIwQcV8nN4X%2BMf/BMe7kv/AIZaBrPj/wDZ8aVpLvwnZh7vW/h8pJLSWKkl77TVyS1vkywD5k3qGWvR93MFq7Vfwn8%2Bk/XSXdS%2BK/j9fz/4J9dUVzvwp%2BLfw0%2BOXgLT/ih8IfG2neIfD%2Bqw%2BZY6pplwJI5B3B7qwPDIwDKQQwBBFdFXBKMoScZKzRGwUUUVIHkn7XP7G3wu/bA8I6fpvi671HQfE3hu8OoeBvH3hu4%2Bz6x4Zv8AGBcWswHAIAEkTZjlX5XU4BHjngf9un4sfskeJbH4E/8ABUiwsdIFzcLZ%2BFfj5o1qYvC3iUk4jS%2B6jRb5h96KU%2BQ7BzFJjC19fVneLfCPhTx94ZvvBfjrwzp%2Bs6Pqds1vqWlarZpcW11Eww0ckcgKup7ggg11UsQlD2VVc0endf4X%2Baej8nqdNOulD2dVc0fxXo/zT0fk9S7a3VrfWsd7ZXMc0M0YeGaJwyupGQwI4II5BFSV8hSfsFftC/shXMniD/gmR8bbfTfD4kMs/wAC/ibNcX3hlsnLLp10pa70cnLEIhlg3MP3QArT8Jf8FV/hr4N8Q2nw1/bv%2BFviD9nvxXdSiC3fxzsm8O6jL/05a7BmzlHTiVoZOeUFU8G5rmoPnXZfEvWO/wA1zIp4VzV6D512%2B0vWO/zV0fVVFV9J1fSdf0y31vQtTt72yuolltbu0nWSKZCMhkdSQykcgg4NWK49jk2CiiigAoqpr%2Bv6F4U0K88T%2BJ9ZtdO03TrV7m/v72dYobaFFLPI7sQFVVBJJOABXyno37Z37Vf7VfjfxPo37B/gT4dz%2BFvC2q/2bN458ba1cy2%2BoTbFcmCG0UOFAbgksCMHIziu7B5dicbGU4WUI25pSfLFX0V209X0Su/K2pwY3MsNgZQhO8pzvyxiuaTtq2kmtF1bsl3voXP2ov8Agof8VPgX%2B0nYfsy%2BC/2Wl1i/163ibw14h17xpBpNhqUjKCyRtLEVZkc%2BXs8wOzYAX5k3ENv/AMFRf2hJ10a88V%2BAfhBokW9b/W/DEi69f3D7tpgjEuI4iuGVmyGDdM4wPLv2n/2Yv%2BCmv7W2reD/AIG/tAeEfhVqPgew8T2mtar4n8KXl1ayKkZkhlt3WeXzNzQzSECOIjIX94CMV9lfAj4A/Cb9mj4d2/wr%2BC/hRdH0W3nknFv9plmeSVzl5HklZnZjgdTgAADAAA%2BhxdTK8sy%2Bi6EaUq7WrX71aO3NeTSi2vsOm7b9j5vB082zXMq6ryqxw6asn%2B6eqvy2jFuUU/tqor6LueP%2BE/8AgmV8IbzxQnjz9pTx34n%2BMeswRGOwb4gXwns7FTywhtFAjG49Q24cDAB5rptX/wCCcH7Cetrtvf2WvCCf9eemi3/9FFa9sorwp5zm05c3t5K21m4peijypfJHvwyTJ4Q5fYQd9%2BaKk36uXNJ/ORBp%2Bl6dpNpDY6bZRQQ20CQQRxoAEjUYVB6ADoKnoorzm23dnppJKyCiiikMKKKKACiiigAoorm/it8Y/hL8CfB1x8QvjT8S9C8J6Faj9/q3iHVYrO3U4zt3ysoLHHCjk9gacYyk7RV2NRlJ2SuzpK534rfFz4YfAvwFqPxS%2BMnj7SfDPh3SoTLqGs61fJb28K9gWcgFieAoyWJAAJIFfM83/BRL41ftPk6H/wAE0P2ZL/xbYzHYvxe%2BJUNxoPhGAf8APWASIL3VQCCMW8SoeD5uOa2Phh/wTT0nXvHunfHv9u/4sXvxx8f6bN9o0aPXLFLXw14bl7HTNHQmGN14H2iYyznaG3qa7PqsaOuIly/3VrL7to/9vP8A7dOr6tGlrXfL5LWX3bL/ALefyONvvGn7T3/BVBT4f%2BESeJPg5%2Bz1dcal48vLd7HxV48tj1i0uBwH0uxkXreSgTyKy%2BWiAs1fV3wc%2BDXwu/Z8%2BGej/Bz4L%2BCLDw54Z0G0FtpWkabFsihQEknuXdmJZnYlnZmZiWJJ6aisq2IdSKhFcsFsv1b6vzfokkZ1a7qRUIrliun6t9X5/ckgooornMAoorzL9pj9rT4SfsseH7O88d3l3qGua1Mbbwr4M0C2N3rGv3XaC0tl%2BZznG5zhEyCzKKunSqVpqEFdvoNJt2R0Pxw%2BOHww/Zy%2BGGq/GD4weKYdI0LSId9zcy5Z5GJwkMSD5pZXYhUjUFmYgAc14r%2Byz8IPid8afiyf28v2p/DE2j65NYSWXws8AXpDN4N0eXG%2BWYdBqV0ApmYcxoFhB4YU34O/syfFr46/EzS/2rP27ra0XVtImNz8PPhRY3QuNL8HEj5bmdx8t9qe04M%2BPLiJIiHRh9MV2znTwlN0qbvN6Sktkv5Yvr/el12Wl3Km1FWW54z%2B1B/yW/8AZx/7LNff%2BoV4or2avGf2oP8Akt/7OP8A2Wa%2B/wDUK8UV7NXnkBRRRQAUUUUAFFFFABRRRQB4v8Cf2PNY%2BBPjTxf41tP2sviV4jk8ceK4fEGvWPiG08OiB7tLW3syE%2ByaRA6Rvb2ltEwD5xCGUq7Ozanw/wD2WoPCfxoX48%2BNvjf418da9ZaHfaN4d/4So6ZHBoljeXFtcXUNvHp9la7zI9lZgyXBmkC26gONz7/VKKAPGf28P%2BSIaH/2Wb4cf%2BprolezV4z%2B3h/yRDQ/%2ByzfDj/1NdErU8M/tgfBrWvjTqP7PPiK9v8Awt4wtLuSPTdI8V2RsjrkKnAudPkY%2BXdxNzgIxcYO5FxWkKVSqm4K9tXbou/9fOxMpxja7tc9SooorMo%2Bcfih%2Bw54h8HePdQ/aB/YT8f2vw48bajN9o8Q%2BHrq1abwx4sk7m/s0IMMzdPtdvtlGWLCTNS/C/8A4KCeHLfxnafBD9r/AMB3Xwd%2BIN0/lWFl4gulk0bXnHG7TNTAENxnK/uXMcwLBTGSM19E1gfEz4V/Db4z%2BDbv4efFrwJpXiPQ79Nt3pWs2KXEEnodrggMOoYYIPIINd0cXCrFQxK5rbSXxL57SXlL5SRfMnpI36K%2BXV/ZA/aa/Zd/0z9hH49C88OQ8r8I/ixcz6hpkSD/AJZ2GogteWAAGFRzPHk8qAKvaF/wUp8D%2BB9Wt/BX7a3ws8QfA7XZ5RDDeeLFW48PXkh7W2s2%2BbZhjnExhcZ5UUPAyqK%2BHl7RdlpJesXr/wCA8yDkv8Op9KUVV0TXNE8TaTb6/wCG9YtdQsLuISWt7Y3CywzIejI6kqwPqDirVcLTTsyArP8AFPhTwt458P3fhLxt4a0/WNKv4TFfaZqtmlxb3EZ6pJHICrr7EEVoUU02ndAm07o%2BbvBH/BLr9nv4J/FPTfih%2By54p8a/CiG21dL7WPBngfxPJF4b1sB8vDcaXOJbaNWGVzbrC4zkMDXWfty%2BLdd8PfCDS/DWg%2BKb3QW8YeNtF8OXevafKYptOtru7RJpUkH%2BqYxhkD8bTICCDivZa%2Bf/ANs39pPQPBOv6H%2BzNb/s0y/FvXPHWnXU6eDpXtUtJbWAqWNwboNGVJyQCrD92xOMDPoYVYvH4uMfjau9WtkrttysrLe8n03Fiszp4RLEYuTaTS2bbbdkkkm5NvZa/ccn8G/GXxU8Nfsf/FXxB%2Bz9L4g8XrpPiTV4fhJ9u1CXWLq6tEWJI1imvJWe6jSbzwnmSnIjK7sAAU4P%2BCgF38K/hN4Xi8YfFPwV4w8X%2BJtavtPtD4pU%2BAodNNlE7XY1UXEl41rLHIqxYSMlmni2x7SXrD8Mf8E/v2jf2h9Jm8TftJ/tC%2BK/hTaahKjWPw0%2BDOrRaUmjQQKYraGS8g3rPti2goF2cD6Cjrv/AAQv/Z10S2stS%2BDusxxeIntNVtfEfib4laU3im51YagqebebZp4oor%2BN08yKcI0al3DwyAjb6kqWTUqrjiK3M73fJG62tbndk%2B7cVZu%2B6dzOlmFfHU3OFDk5ndOpo7W0cowvJJvW11Le9jxL9tf/AIKk3X7Yei%2BFv2Yf2a/D1jqfhv4h%2BHtEk%2BI2s21jc38vg6W%2Bv444Y7m4iZLaBQ6qhZi%2BWLKREQpb9Nfh58PPBvwq8G2HgLwF4etNM0vTbZIba1srZIkAVQu4hAAWOOT1Jr5O0v8A4J2eIPhp4l1/4F/BrwB4X0j4U%2BMda0G%2B1bW7W/8AJvrOx022iWTTfsiQBZXnuInlNz5uAL2YFAUXd9NfHfRfjpr3w3u9O/Zx8deHfDniszRPY6n4p0GXUrJUDgyI8EU8LncuVDBxtJzg4xWGZYzC1sPRwmFXJTi29Xq27e9O2l0vdslol3eudLK6FHGyxTnzVKllq9IRTuox0uldu%2B7bV30R2NFfKv23/gtt4c%2BabQP2XvFsafe%2Bz6j4h0OWQeytHeqD9WxUlr%2B0d/wVa0mQ23iT/gmZ4L1MJG7G78N/H%2BHEjBSQojutNiIyQAMtjnnAFeZ9Tm/hnB/9vL9bHp/VJPacX/28v1sfU1FfKv8Aw2j/AMFC7E/8Tn/gjx4zZR1fSvi94WuB%2BAe8jb9KX/hvf9sCEYu/%2BCQfxiVu4h8WeF5B%2BY1Oj6jiOnL/AOBQ/wDkg%2Bp1/L/wKP8A8kfVNFfK3/DeP7Zlx8unf8EgPi4zdhc%2BNPC0I/M6kaT/AIbF/wCCj19/yCv%2BCPviCEH7raz8a/DUA/HyZpiPyo%2Bo1%2BvL/wCBw/8Akg%2Bp1%2Btv/Ao//JH1VRXyqfjv/wAFefE/7nw//wAE9fhZ4ZJ4WfxT8eJboD3KWWkt%2BQY0f2T/AMFs/FH7i98afsx%2BDYn%2B/Lp2ieINdmjH%2ByZZrNCfqtH1OS%2BKcF/28n%2BSYfVGvinFf9vJ/kmfVVFfKf8Awxj/AMFC/Gf7n4r/APBWnxDa2sn%2Bvs/hr8KNF0UgeiT3a3sq49d3vig/8Eff2bvFvP7Q3xc%2BNPxbH/Pv8Q/i9qktrn/r0s5La3wf7vl7fan7DCx%2BKrf/AAxk/wA%2BVB7HDR%2BKr90W/wA%2BVHqHxz/b5/Yn/Zojm/4Xv%2B1T4E8M3EH39O1HxJb/AG0nuFtlYzOfZUNeV/8AD1G3%2BKI%2By/sY/sX/ABk%2BLbTcWWup4UPhvQZT6nUNaNsCvvHHJ7A5GfXfgj%2Bw7%2Bxx%2BzZ5UnwG/Zd8B%2BFLiIfLf6N4XtobpvdrgJ5rn3Zia9To58DT%2BGDl/idl90df/Jh8%2BDh8MHL1dl90dfxPk0%2BCf%2BCvH7Q5z41%2BLfw3/Z80Gf5jp3gXTn8VeIQh4Mb318kNlC2P4o7aXHUH06H4V/8ABKj9kjwL4xt/it8TNF1v4ueObbmLxv8AGPW5PEF7Cc5Bgjn/ANGtMHp9nhjx0HQV9I0UpY2vblhaC7RVvve7%2BchPF1rcsLRX91W%2B97v5sRVVVCqAABgAdqWiiuQ5Qorzfxh%2B1r8AfCeheL9VtfiLpuuXfgezkuPEOh%2BH7%2BG5voChUGPyg4w%2B50Q7ioVnUMVzmvNfGn7VnxW8ca/4d%2BEfw30ZPh54t1HXrrTtei8Z6ZFqB06aPT5L21iUW90sTpchGCzq7geW67NzKR1U8HiKnSy7vTpf128n0KUZM%2BkqpeI/Enh3wfoV34o8W69ZaXplhA019qOo3SQQW8Y6u8jkKijuSQK5n4A/FS6%2BMfwxtPGOq6Omnakl3dWOr6fHIWWC7triSCUKTyULRllPdWWvNfEv/BP7wB8YPivefE/9qP4g%2BIPibZx6q114X8D%2BIZY4vD2hx7sxqLCBVju5FB2%2Bdc%2BaSMcA81MKVKNSUa8uW3ZXb8l0%2BbdvUElfU5jUf20/jB%2B1PeTeDP8AgnR4Bh1LS/MaDUPjX4xtJYfDllg7XNhF8s2rzLhgPL2wBgu6Ug4rvv2bv2Kfh/8AAXxBefFfxN4i1Px78TdZgEev/EnxWVkv506m3t1UeXY2oJO23hCqBjcXIBr2GysrPTbOLTtOtIre3gjWOCCCMIkaKMBVUcAADAA6VLWlTF2g6dGPJF79W/8AFL9FaPkwctLLQKKKZc3NtZW8l5eXCRQxIXlllcKqKBkkk8AAd64yTxz9qD/kt/7OP/ZZr7/1CvFFezV4V8ePFXhjxv8AFD9mjxX4M8RWOraXe/GO/ez1HTLtJ4J1/wCEL8UjckiEqwyCMg9q91ptNOzBNMKKKKQBRRRQAUUUUAFFFFABRXM/Cz40/Bz456Jd%2BJvgn8WfDPjHTbDUpNOvtQ8La9b6hBb3kYVpLeSSB3VJVDoWjJDAOpI5FJ4O%2BNvwZ%2BIni/Xfh78P/i54Y13X/C04h8TaHo%2Bv291eaRISwCXUMbs9uxKsAJApyp9DQBwH7eH/ACRDQ/8Ass3w4/8AU10Su5%2BM3wI%2BEH7Qvg%2BTwH8Z/h/p3iDTHbfHDexfPbydpYZFIeGQdpI2Vh2NcN%2B3h/yRDQ/%2ByzfDj/1NdEr2aqhOdOSlF2a6oTSkrNaHzYvwv/bU/ZU/e/Azxp/wuLwXD93wR481MW%2BvWUf9yz1UjZcgdo7tc4UDzq7D4N/tzfAj4t%2BJx8M9Tv8AUPBXjlQPP8B%2BPLE6ZqgJ/wCeSSHZdKcZDwPIpHOa9jrkvjF8Bvgz%2B0F4YPg741fDTSPEungloodUs1doGP8AHFJ9%2BF/9tCrD1rs%2Bs0a/8eOv80bJ/NfC/wDyV%2BZj7OcP4b07Pb5PdfijraK%2BcV/ZW/ac%2BAv7/wDZE/abnvtJi/1Xw/8Ai75urWKr0EdvqCEXtsoHChjOo/u44p4/b11r4TH7D%2B2b%2Bzd4r%2BHKx8SeKtMhOveHmHQObyzUyW4PXE8MeB1PBNL6lKprQkp%2BS0l/4C9fuch%2B2Uf4i5fy%2B9frY%2Bi6q63oeieJdJuNA8R6Pa6hYXcRjurK9t1lhmQ9VdGBVgfQjFY/wz%2BL3wq%2BM/h9fFfwk%2BI%2BieJdNbH%2Bm6HqcV1GpP8ACxjY7W/2TgjuK6KuSUZ05Waaa%2BT/AENU01dHzbrX/BMn4Q%2BF9XuPF/7JnxB8W/A/Wp5DNIPh5qYTSLmXsZ9JuFkspFHosaH/AGqrjxT/AMFRfgQfJ8UfDfwJ8ddFh%2BUaj4Uvz4Z10qOrvaXbSWcrY/hjniz6Dv8ATVYXxA%2BKHw2%2BFGit4j%2BJ3j7R/D9ggJN3rOpRWyHHYGRhk%2Bw5ruhjMTWkoTiqvZNXl8mvf/FjnWjTg5VGrLq9LfNtfmeGaT/wVM/Zg0vUofDn7QFv4t%2BDmrzvsjsfiv4Xn0qFz3KXuHs3X3Wc5/Ove/BvjrwR8RdDj8T/AA%2B8ZaVrumzf6nUNG1GK6gf6SRsyn8DXzlr3/BVz9hjWFuNK1bVNb1Xww8ptb/xI3gq7n0bOcFXkMR3DPH3CD9Oa808f%2BGP%2BCHGqXb/EPQPiJ4P8D61LGJE134WeKbnQb9Ced2zTHj3PznDoxz1Ga9CeTV3bmw1WDfaLmvyUl6N38jzYZ7kVW/LiYaf34/q1deauvM%2Bmf22PjV48/Z4/Zg8XfGH4a%2BEY9Z1fRdNMtvBPKqxW4JCtcyAkF0iUlyi8tt2jGcjyz9lP9jOw8Y3HgX9s39oD4zeMfH/jiXQ7fVdHbWboWljoxu7ZXaOCzhwsfEhVgSVJAO0EV8r/ABY%2BOnwT174fa38J/hd/wVr8eeJPD2r2MlpeeHfiJ8K5/ES3CtxsW8itrO6XnGH81iCAeeten/sI/Gv/AIKleHfgvFpzfs1WPxG8L6HINO0C98Q643hnWbu2jUbJEW6ikSeILtVTJ5Z4x5j4JHr/ANmY3L8knyNU5uWrknTlKEo25U5rve6i1dPVtaHhyxOW5nxBSjGoq8OX3VF80YTjLm5pJWWqsoyk5JSVkk3c/QCivmv/AIeD%2BN/CP%2Bj/ABr/AOCfPx08OTJ/x8XOieGrbxFZoO5Eul3MzkD18scVNYf8Faf%2BCf8AJdppnif49r4VvHO1rPxv4d1HRHRv7p%2B3W8S8exI96%2BV/s7HfZpt/4bS/9Jcj7Hkn2Po6ivPfBn7W/wCyp8Rgh%2BH/AO0x8P8AXC/3V0nxjZXBPtiOUnPtXf29zb3kC3NpcJLG4ykkbhlYeoI61yzp1KbtOLXqmvzSJaa3H0UUVAgooooAKKKKACiiigAoqprGvaH4dtDqHiDWrSxgXrPeXKxIPxYgV5l42/bx/Yl%2BHIceN/2uPhvp0ifet5/Gll534RiUufwFaU6Naq7U4t%2Bib/JMaTex6xRXzY3/AAVl/Yv1gm3%2BF3ibxZ4/uj/q7XwB8OtZ1Uyf7skNqYj/AN90h/bh/aM8a/L8Ef8Agml8VL8f8/XjvUNL8MwfXE9zJPj/ALY7v9mun%2Bzsavihy/4mo/8ApTX5Fckux9KUV81b/wDgrP8AEn7tv8EfhZZT93fUvFGo24%2BgFlblv%2B%2BgfakP7A3xZ%2BIX7z9pH/goN8WfEytxLpXhC5tfCmnyL3Rk06MXDL25uCcdSaPqlKH8StFel5P8El%2BIcqW7PpQSxtI0SyKWUAsoPIz0z%2BVeLfCvxX8QPhd8e/F/wf8AjR8WLzxDY32jQeKfCmtazaWlqILYSG1vbIGCKKMRwP8AZHBYFyLz5mY11H7Pn7KnwD/ZY0nUdH%2BBXw/TRU1i4SfV7iTULi7ub6VFKrJNPcySSysASMsx61oeJP2ePgl4z%2BKenfGvxn8NtN1jxPo1obbRdV1aI3J01CSWNskpZLd2z80kaq7AAMxAAERnh4SnHVxa0dle%2Blurtre%2Buwk4q58yf8KL8TeMPEfhT4L3HgDVryws/EmvzHx5YFDpt94V1X7Tcv8A6SpIF0bkWMnl7TukhD42sWHpPgz9jbxb4nutX1P9pLxnp2pXsul6JY6NqHhGOexuIZtMeWWLVTI7M0d27yKGVSYwsKr8wZwfoXp0orWpmNeStHT897v0v2Wg3NnP/C74Z%2BF/hB4JtfAXhAXbWltJNK8%2BoXr3NxczzSvNNPLLIS0kkksjuzHuxwAMAdBRXnnxr/ax/Zw/Z1jUfGX4xaJol1Lj7PpUlz5t/cZ6CK0iDTyk%2BiIeorljGtiKlopyk%2B2r/AzlOMVeTseh1HdXVtY20l7e3EcMMSF5ZZXCqigZLEngADvXzu37UX7VfxwH2X9lb9lG70jTpeI/G/xjkfSLQDs8WnR7r24UjkbxAD6jrTrb9ge5%2BK1zHrf7bPx1174oyK4kXwrGP7I8NQMDlQNPtmzcbTxuuZJcjqBXR9UjS1rzUfJe9L7k7L5y%2BRj7Zy/hxv57L8dX8kWfFP8AwUB8H%2BI9eufh5%2ByJ4A1T4x%2BJraQxXTeGJVi0TTpP%2BnvVpP8AR4%2B/yxmWTjGzNZ8H7HHxY/aJuI9e/b0%2BK8etadvEkPwq8EvNZeHYSDkC6kJFxqZBAP70pFkH91g19BeGPCvhjwToNt4V8GeHLDSNMsoxHZ6dplmkEECf3UjQBVHsBV%2Bn9bjR0w0eX%2B89ZfftH/t1X/vB7Jz/AIjv5bL/AIPz%2B48M%2BP3hzw94Q%2BKX7M/hjwnoVnpmm2PxgvYbLT9Ptkhgt4x4J8UYREQBVUegAFe514z%2B1B/yW/8AZx/7LNff%2BoV4or2auJtt3ZvsFFFFIAooooAKKKKACiiigD5V/YW%2BKXhqH4s/HbTofhf8RdCtPEHxlt77w2%2Bt/B7xDpNrdWTeHdEsVmjkurCKMRi4sblCcgIIwzYR0ZuI/YU%2BH/xB0v4w/Cnwxq3wo8UaHqPwn%2BGfjHQfiVr2s%2BGrqys9T1O/1nS5oWtbqaNYtTW5ezu77zrd5VjDjzCkkxWvuGigD54/4KF6b8V5/B/gzUfDnjTw9a%2BFofjD8PRr2jXvhie41C8c%2BM9G8tre8W9jjtgrbSwe2mLAEApkEbXjlP25/hl4x1LxZ8P5fC/xO8L3d288PhHUANF1bToyeIba7XdBcKo/57qjHpv71P8At4f8kQ0P/ss3w4/9TXRK9mrSlU9m9k0%2BjX/DNfJmNej7aKSk4tbNO3%2Bafo00eJeDf2%2BfgVqevw%2BBfiwdW%2BGPieY7U0D4jWB00zN0/cXLE21wCeAY5WJ9BnFe1wzQ3EK3FvKrxuoZHRshgehBHUVm%2BMfBHgz4h6DN4V8feEtM1vTLgYn07V7GO5gk/wB5JAVP5V4tL%2BwTofgCZ9S/ZR%2BNPi74Vz7i66TpV7/aOiM56ltOvN8ag/8ATIxexFbWwlXZuD8/eX3r3l9zOa%2BYUN0qi8vdl9zvF/JxPfaCARgjIPUV4CPiH%2B318IP3fxC%2BCXhn4o6XF11j4e6p/ZmpBB1Z7C%2BYxu5HOI7j6DtV/wAN/wDBQv8AZkvtXi8LfETxLqPw61yU4Gi/ErR5tFlz6LJcAQSZ7bJGz26ih4Ou1eC5l/dd/wAFr%2BA1mOFTtUbg%2B01y/i/dfykWPiV/wT%2B/ZW%2BJPiBvHMPw5PhbxQclPFvgO/m0TUlc/wAZms2j80/9dA49uK8p%2BL%2Bt/Hz9iGC1uB/wUL8G6tp1yrnS/Dnx209Eu540xv8ALv8ATvLmkIyBue3lwWGc5Ar610vVtK1zT4tX0XU7e8tJ03Q3VrMskci%2BqspII9xXx5aw6f8A8FD/ANtbw78VPCng7T5/hj8GbjU7F/E%2BpWqTp4p1GeIRSW9vG4KPbxEK3mkH5uV%2B8CPUyt1MRKTxUm6NOLcrpO2j5Yrm2cpaJJ33drJs480rvDQhHCpOtUklFa7XXNJ8vSMfebemyvdpPzPxB/wU3/a5/aS8ExaV8EPgB4h8MaOuofZvFXxQ8HaHe%2BJI7e2wQZLCBrWB3Y4OSylkGOhw9fQXwZ/4Jp/sdWllp3xO8VeDNS%2BIOu6hZw3UniH4lXNxe3VxvUODJb3GEjb5slGjDKeDyK%2BkoIILWBLa2hSOONQsccagKqjgAAdBSXcMtxay28F08DvGypPGqloyRgMAwIJHXkEeoNLEZ01T9lgYewh15ZPml/ilZN%2Biaiui6k0ckpzqe2x8lXn05orlj/hhdxXq05PrLoebfArxl4n8Wa/4/wDhz4m8K%2BHbfSPB/iRNH0k6GjiGa3eyguvKkicYV0S5jRtvyEk4A6VyXwzu/wBljxBfa34ksP2UdN8N6Roc%2BotJ411HwppUGnzizmeK4mSeJ2dFVo5OZVjOEY9q6f4J/A74nfBS216CT4tWniptd8QXesXN1rHh5LW6eeaJVCvJbOsRAaOMZEIIQbccA15V4x/Zh%2BLkvhzx9rmlfCzwl4fTxBo9jb3vgrwLqRlh12ZNQFxe3rtLb2qfaJLdpYURl%2BZmbfLhgRjTlRdWajU5U%2BXVSa7X0ur313ul13O6dNOMXKCbV90nbtZ2dum1j3vwJ8aPhD448H3Hi7wd4xsf7H064%2By3c86taLaSDbhHWZUMeQ6EZA3B1IyGBPVxyRzRrNDIro6gqynIIPQg18g%2BObSW1%2BImmfGn9oj4f32meC/EXivUNS1Dw9qOli9YyW2mfYdNju4IRKrSTLJPIA25VaC3Utu2ge%2Bfsr%2BGfE/gP9nPwt4e8bWL2l9Z6Vul08glrGNnZ47XAyf3UbJFj/pnXNicLTpU1OL3fk/VXW7T36ao3pVZSlytf1/wT0Sob/T7DVLR7DU7GG5gkGJIZ4g6MPQg8GvA4v8AgqN%2BxRaSLa%2BMvihqHhO5zh7bxl4Q1TSih9C1zbIn5Ma7fwn%2B2d%2ByH47Cjwd%2B1F8PtRd%2BkNr4wsmkHsU8zcD7EVnLBY2mrypyXyf5pP8AMpV6MnpJfeiHxn%2BxD%2Bxn8RC7%2BOv2T/hvq0j/AHp77wVYyS59Q5i3A%2B4NcDcf8Ejf%2BCdrzPc6V%2BzZZaNI5yX8Na7qOlHPt9juIsfhX0LpOt6Lr1qL3Q9Xtb2E9JrS4WRT%2BKkirVOGNx1JWjVkv%2B3pflf9DdTlbRnzb/w65%2BBmm8eBvjL8bvDCj7qaF8bddRV%2BgluX/Wj/AIdy39txo/8AwUC/aSswOg/4WNBc4/8AAqzlz%2BNfSVFV/aOO6zv6qL/OLHzz7nzb/wAMGfGa040j/gpr8dkA6fbZ9CuD%2BbaYM0f8MTftNpxB/wAFRPi0B/000Hw8x/P%2Bzq%2BkqKP7QxXdf%2BAw/wDkA55f1b/I%2Bbf%2BGI/2lJeLv/gqF8XWHfydF8PRn8xp1H/DAXxSvRjW/wDgpf8AtAyeosdV0S2z/wB86WcV9JUUf2hi%2BjX/AIDD/wCQDnl/Vv8AI%2BbT/wAE3oLr/kN/t2ftJXoP3h/wtZ7XP/gJDFj8MUf8Oqf2XdU/5HzxL8VfFWfvf8JF8Z/EMob6hLxAa%2BkqKP7Rx3So16WX5RQc8%2B5876P/AMEm/wDgnLo92L9v2SvC%2BpTj/lt4gSbU2P1N3JJn8a9N8E/sufszfDRkb4c/s7eBdAMf%2BrbRfCVnalfoYolru6y/EfjnwT4PiM/i3xhpWloBkvqOoRwDH1dhUTxeNr6SqSl5Xk/wv%2BhLnK2rNQAKAqgAAcAUV5F4u/b%2B/Yg8DBh4l/a0%2BHsMifft4PFdrPKP%2B2cTs/6VzB/4Kc/st6x%2B7%2BGQ8c%2BOZv4YfBfw11i%2B3fSQWwjP4PRHA42auqcrejS%2B92X4mLr0E7OS%2B/8A4c%2BhKK%2Be/wDhsj9oDxbx8I/%2BCdvxMvB/z8eM9R0vw/F9cTXMkuP%2B2efakOr/APBUTx189h4N%2BDPw9tpeCNT1bUfEN5CPXbDHaQkj/fI9qr6jVj8cox9ZR/JczF7eD%2BFN%2Bif62PoWqXiDxJ4d8J6XJrnirXrLTLKEZmvNQukhiQe7uQB%2BJrwf/hkX9prxxx8av%2BChXjaWA8mw%2BHmgaf4djB7jzQk9xj/tqD6EVc0D/gmh%2Bxtp%2BqR%2BIvGPwsl8cashy2rfEbWrvX5nb%2B8RfSyRg/7qAUexwcPjq3/wxf5y5V%2BAc9aW0ber/wAri%2BJf%2BClX7H%2Bl6rJ4Z8EfEifx9rScLonw10a51%2Bd2/u7rJHjU/wC86is8/tC/txfFY%2BV8D/2MIfCllL/qfEHxh8TR2hUep06w8%2Bcn2d4/w7e8%2BG/C3hnwdpMeg%2BEPDlhpVjCMRWWm2aQRJ9EQAD8BV%2Bn7fCU/4dK/nJ3/AAjyr8WHJVl8Urei/V3Z87H9kT9o34r/AL79pv8AbY8SS2knzSeF/hbYp4bsRn70bXCtLezJjj/XJn0659C%2BCv7If7NH7PEjXnwf%2BDWi6Rfy5%2B0a0bc3GoTk9TJdzF55M8/ec9T616PXnl/8cNf0T4pad4I8SfCfUdP0fWdYk0rR/EM%2Bo2zfartbeW4/490YusTJBLtcncShyijBpPE4uvFwTtHsrRX3K1/nciSw9BqUt27Xd3%2BOtvwPQ6yPGnjrwr8PvDd34t8Wap9nsbHaLh4oJJn3MwVUWOJWd3YsoVFUsxYAA5rw74j/ABZ%2BJvhb4i%2BLvGcfxCmg07wf4j0myufCc9tAbSXSbyK3R7veIxN5izT%2BZv8AM2qsLJt6k%2BWeGfh896LH4P8Awns4dP8AHNpoU8ni3TpIhEp1nSbxLrTtRu8AZe5uDn7VgmVS/wAzBMC6eCTXNOWn9PXtutdVqcVbM3GTjThrqteru0rJb6p6XTsj7D8C%2BPvCfxJ8PR%2BKPBmri7s3kaNiYnjkikU4eKSNwHikU8FHAYdxXmnxO/as8RaN44v/AIS/A/8AZ48XePPE2nMiX0iWv9maPZO6LIom1G6Cxk7HVsQrKcHGM8Vs/ATw/wCNLfxP428ceKPBF34Zg8R6zb3Nlot9e280gaO1jiluGNvJIi%2BY68DduKxoWVWJUelVg/ZUaruuZev523tto0dS%2BsYjDq0uR9XbW2q0Utr6PVO3Y8B%2BMNx48uvHn7MNz8T9M0uz19/i9enVLXRLuSe1il/4QrxT8sckiIzDGOSo5zXv1eM/tQf8lv8A2cf%2ByzX3/qFeKK9mrBu7udcVyxSvcKKKKQwooooAKKKKACiiigAooooA8Z/bw/5Ihof/AGWb4cf%2BprolTeMrX9tjwR4r1DxH8P8AU/Bvjvw/cXTzW/hjWIZNH1CziJ4ghu4/NilwP4pY1J7t6w/t4f8AJEND/wCyzfDj/wBTXRK9kjlilBMUittYqdpzgjqPrVwnyPZP1ObFYZYmKXPKDWqcXZ/k015NNHiMP7dPgfwjKunftG/DXxd8MbrcEa68SaQZ9Md/RNQtPNgI93ZPp0r1rwb488D/ABE0dPEPgDxjpeuWEn3L3SNQjuYj/wADjYitSaGK4iaCeJXR1KujrkMD1BB6ivJfGP7DX7M/ivWH8VaX8P8A/hFtdbJXX/A99No14rf3i9oyBz/vhqu9CW6cfxX42f4s4uTOcP8ADKFVf3l7OX3x5oP5xieuVR8R%2BF/DPjHSJdA8XeHbHVbCcYmstStEnhkH%2B0jgqfxFeOf8KQ/a7%2BHHzfCL9q6LxFZx/wCp0X4o%2BHkuyR6G%2BszBN%2BLK/wCPf0n4Sap8X9V8MSP8bfCGiaPrMN48Sx%2BHtXkvLW5hCqVmVpIo3jyxYbGBI2g55wFKHIuaMk/vT%2B7c2oYydefsq1CcHbqlKL/7ei2vk0r9j5q/bQ/Zo/Zc/ZX/AGf/ABh%2B0f8ADjwt4k8DahpNkGQfDHxHcaStxPNKkEKPBGxtvL8yVN5MRwmeDjBT9lH9l39vf9mb9njwr4N%2BH/xz8CX62unebP4O8V%2BF5Ps9jLM7TyRR39lKJHw8jfM0cgznGVwKyv8AgqRF4r%2BLnxe%2BEX7JXgzWpruDxvq083irw/Ddp5bWVm0Fwjzx5BCFg7bs5xA20MeK%2BgvjT8ZfGngL4jeFvA3hS00KKLWoZ3uLzxEt3HbNIskMcVslxBG6RSuZGIEg5CHAzXu1MTXp5TSotqUqjc3za%2B7FcsVrqted79tT5xLA/wBs4ityuEaKhTThpec3zS%2BHTbkTTSt13Ryo/aQ/a38A/L8YP2HdS1K3i4l1b4ZeKrTVVf8A2ltbn7NOB7AMf5VLaf8ABR/9lizuU0z4l%2BI9d8AX7sFNj8QfCd9pBU%2B8s8QhP4Oa7VP2hdEPxFTwG3hLVWtjrI0aXxFF5LWSan9mFz9m5kEp/dnHmCPZv%2BQkNxWr4J%2BLfwt%2BML32i%2BFNWGprbwpJcR3GmzRxXEEhZUmiMyKlxCxRwJIy6Haea8pui1edK3nFtfg%2BZHt060nPko4lN3atOKbuuzXI362a31di14F%2BL/wm%2BKFuLv4afE/w94hiK7hJoetQXYx65idq6KvJ/HX7Cn7HPxIuDfeK/wBm3wi92W3G/sdHjs7kn1863CSZ991c7/w7%2B8DaB8vwn%2BPnxe8FRL/qrTRPiJdXNsh/643/ANoTH4VHJg5bTa9Y3/GL/Q6vaZjD4qcZf4ZNfhKP6nvVFeDD4A/tseGefBf7eC6nFH/qrTxr8N7G63D0aaze2f8AHBNH2/8A4KY%2BHPnufDnwU8VxJ1Wz1LVdHmkHsJI7lAf%2BBYo%2BrRfw1Iv5tfmv1D67OPx0Zr0Sl/6TL9D3eWKOaNoZo1dGGGVhkEehFcR4s/Zi/Zr8elj45/Z78D6yX%2B%2BdV8J2dwT%2BMkZrz/8A4aK/bM0XnxV/wT7vrmNf9ZN4W%2BJOl3n4hLj7M5%2BmKP8AhubUNO%2BTxZ%2Bxb8c9NZf9Y0PgiPUEH0NlcTEj8KuGHxcHem//AAGS/SSE8wwTXv3X%2BKEl%2BcGGrf8ABMD9gHVrk3v/AAy14ZsZj0l0SKXT2H0Nq8ePwqr/AMOyv2ZdO58Gan8RvDZHQ6D8Wteh2/QNdsB%2BAq3/AMPH/wBmew%2BTxevjnw6/ePXvhhrcG36kWjKPxNSWv/BS/wDYRuphby/tLeH7SQ/8s9T860YfUTRqRXRz52lvN/e//kjL63k1/jgvml%2BfKUB/wT6tLXjRf2zv2grID7oHxQlucf8AgVFL%2BtH/AAw/8TrH/kB/8FEPjhF6C%2Bv9Husf996cK6/Tf25/2LdXA%2Bw/tZ/Dgk9Fk8aWUbH8HlBrbsv2n/2atSAOnftDeBp89PJ8W2bZ/KWoeIzNfEn84L9aZtGpl0vhnH5TX/yZ5t/wyP8AtP2/Gnf8FJ/iKoHT7T4W8PzfzsRSf8Ms/tjLxF/wUy8YAf7fw78ON/7Z165B8bfgxdDNr8XfDEg/6Z6/bH%2BT1YX4rfC5xlfiToB%2BmsQf/FVH1vGLeK/8Aj/8gaKOFe0v/Jv/ALY8b/4ZW/bBk4uP%2BCmPjMj/AKZ/D/w6n8rOl/4Y/wD2kLrjVP8AgpH8TnB6/ZNB0GD%2BVgcV7E/xa%2BFcQzJ8TPD6j1bWYB/7PVS5%2BO/wPswTefGXwpEB1MniK2X%2Bb0LFY17RX/gEf/kAawq3l/5N/wDbHk//AAwr44vPm1v/AIKDfHmc91tdf0u1U/8AfrTgR%2BdH/DvHw1eceIP2sPj7qan70c/xbvYUb6rbeUK9Evv2rv2W9LBOpftJ%2BALcDr5/jGxTH5y1hap%2B31%2BxFpAJu/2s/h62OotvFlrMf/IbtVqvmkvhT%2BUF%2BlMylVy2HxVI/Oa/%2BTOY/wCHX37H998/ivw34t8QSH7z%2BIPiXrt1u%2BqtebD/AN81qeHP%2BCa/7A3heUTad%2ByP4FncHO/VNBjvmJ9SbgPk1Xf/AIKafsMFzHYftAWGosDjbo%2Bl3t6fwEEL5pv/AA8T%2BB2pceCPAvxR8TE/d/sL4Uay%2B76GS2QVblnTVm5perX6xMli8nT0nB%2Bln%2BSkep%2BEfgr8G/ABU%2BA/hL4Z0Qp9w6RoNvbbfp5aDFdNXgx/bU8dax%2B68EfsJ/Ge/kP3G1TRrDS4j9WurxWH4rR/wvD9u7Xf3Xh79hfS9I3/AHbjxV8VLRdnu0dlBcZ%2BgauaWGxMnebXzkv/AJJs1WYYRK0FJ%2BkJv/21I95orwb%2Bzf8Agph4l/dXfij4LeE4n6vY6ZqmsTxj2MklshP1Wk/4Ze/ak8UfuviT/wAFA/FXkN9%2B38E%2BEdL0fH%2B7I8dxKP8Avs1P1emviqxXpd/kv1H9cqy%2BChN%2BvLH85X/A96rhPiJ%2B1D%2Bzd8JBIPiZ8ePCOhyR53W2o%2BILeOYn0EZfex9gCa4D/h3P8Atc%2Bf4seJPiB4%2Bf/qc/iHqVzH/35jljhx7bMe1d38O/2U/2ZvhKY5Phr8AfB%2BizR423Vh4et0nyO5l2b2PuSaOXBx3lKXokvzb/ACDnzKe0Ix9ZOT%2B6KS/E4M/8FE/gx4j%2BT4K%2BAfiL8R26CTwZ4EvHt89s3NysMGP9rzMe9H/C2/2%2BviF%2B7%2BH/AOyn4Y8FW7cx6l8R/GguJNvqbTTUkwfYzL6HFe90Ue2oR%2BCmv%2B3m3%2BHuoPq2LqfxKz9IpR/F8zOG%2BCPhb4%2B%2BHrPULr4%2B/FnRfEt7eyxvZ22geGTp1tpqgNvjQtNLJMGJB3OQRt6c1lfE74V/F/xj8bvDfjrwr4y8Oabovh/S7hI49S0ae8uhdzyIsssYWeKNT9nQxq7b9vmyHYciuw8c/FT4Y/DGz/tD4kfEXQ9Ag27hLrOrQ2qkexkYZry%2Bf9v34FaxK1n8ItN8W/EW5RirReBPCd1eRA%2B9yypbge5kxSg68pupGO/lp28l%2BJhicTleFgqFesk007Od5uzvsuab/wDATu9Y%2BAvw38Waxpfifx3ow1vV9Il8y01S8xHIcSCVFdYAiSojqrKrqwUqD15rs8AdB1rw8/E39uT4h/J4B/Zz8N%2BCLVuU1H4h%2BJvtU5U9/senhsN7NOvvikP7LPxn8f8A7z49ftf%2BK76FuW0XwLbReHrPB6ozxb7mRe3Mwz%2BlKUG0vaTWnz/BafiZwx7k39Uw05X6tKmn6udpP/wBnofxS%2BPvwT%2BCdn9t%2BLPxT0PQAV3Rw6jqKJNL/wBc4s75D7KpNedf8NfeNviN%2B4/Zo/Zl8WeKIn/1XiHxJF/YGklT0kWS7Xz5l9o4Tn19Ow%2BF37J37OXwZvP7W%2BHnwh0e01ItufWbmA3V%2B7dy11OXmJ%2Br16HU81COyb9dPwX%2BZfsc4xH8SrGku0FzS/8AA56L5QPBPjRJ43l%2BIP7McnxItdLg11vi/enU4tEmkktEl/4QrxTkRNKquy4xywBr3uvGf2oP%2BS3/ALOP/ZZr7/1CvFFezVk3d3PUhHkgo3bt1e79dtfkFFFFIoKKKKACiiigAooooA%2BXfgN%2B2N8bfiD8YvC0njbTPCy%2BA/iZrXi3TPBVnpem3Meq6XJot3LFDJeXD3LxXS3dvbXMxWOGA27eXHmfJkFz4NftT/F3xN%2B2F4r%2BCnxe8T6J4b0y38S6hp/gPw3e/CfW7G68RWlvawzfabbXbi7%2BwXrjdOzwW8BdUhYnaFZq6Pwd%2BwZ4G8BfEuT4keF/i743gFre6vd%2BFdAkn06TT/DE%2Bq3yXupvZI9kZCbiRXX/AEh5/JjnlS38hWwN%2BX9lqDWvjno/xu8ffG/xr4lXwxq95qng7wnqp0yPS9CvLm0nsnmh%2By2UNzMy2t1dQp9pnmCrcPgbtrKAcZ/wUL%2BLnwo8NeD/AAZ8KPEfxO8Paf4p8QfGH4ey6D4avdagi1DUkj8Z6M0jW9uziSYKqsWKKQApJxg12vi/9kP4U%2BIfEt7468L3/iHwf4g1Cdpr7WvB%2BvzWUlxIeS0keWhlJPXfGc96y/28P%2BSIaH/2Wb4cf%2BproldN4i%2BK3xP8H67dxaz8A9V1HRo52FpqvhrUIbuV48/Kz2zGORTjqF3/AI1lWr06CTne3km/vsnb7jzcypZdVpRWMp80U9HyyfK7b3j70dOqa7XOc/4Qv9tD4fc%2BEvi94Y8d2a9LPxlo7afdhR/CLqyyjN7tD9fWj/hqHx94O/d/Gr9lrxnoyr9/UvDaR67ZKvdi1qfOUf70I966LRP2o/gdq96ukX/jaPRNQPDad4ltpNOmU%2BmLhUBP0Jru4dR0%2B5shqdvfwyWxQuLhJQU2jvuHGPelRxFDEL91NS9Gn/wfvSOChhYTTeX42SS6OUasV6qfvr/wNHBeBv2sP2b/AIjXX9neFfjHoj3u7adNvrr7Hdg%2BhguAkmf%2BA1yX7SH7d/ws%2BBWsx/DHwnYXfjv4j34C6R4A8LDz7uRyMhrhlBW1jwQxZ%2BQvzBWANeQ/tFfE4ft%2B%2BLrz9mD9kzwloOs2NpIIPG/xg1TSIbyw0KM/egsGdSLi7I6MhwucgjmSP0L4Y/8ABMP9nn4I6VCnwV8Q%2BNPCWr/ZEh1HxDofiiVLnUmXnfOsgeF8tztEYQHoor6COCw2XQVTHJub1VNOzt0dR7xT6RS52tfdTTfn/wBocR4tTp4NU5xi7e1V4335lCM%2BaEpL%2Bbm5E9LyaaWR%2Bzj%2Bxb8RtW%2BNOo/tnftZazaQfEHWbAW1hoHg%2BZ7W00K3KhdjzRMGvJtgCszlkGMDeAhX2L4jfAvUviSkOg6t8VtZXw44tRqmgNa2rreeQ6SD9%2BYvNQu0a7/mII3ABc5rn/8AhWH7YPhD5/Bn7S%2BjeI4k4jsvHHhBA2PQ3FjJESfcxn8aP%2BFo/tgeFP3Xi/8AZh0jxAicyXvgrxpGCR6iC%2BjhP4bya4cTjq%2BKre0lZWVkkklFLZJdLfN9W23c1w6wGDwzoVsLVipNuTcXPmb1blKlKV79fdStpa2hma/%2Bzf8AFXVbjXdLt/FOkw6WdR1nWtAuU8w3cmpXkbC389dqokduztgqzGQLHnaVO7Y%2BAXgHxZa%2BJrbxZ4k8CXPhaz0LwXZeGdF0S7vLeaUpEQ80zNbyPHsysSJ82cIxIXdiov8Ahs/wZov/ACUv4S/Efwkq/wCsuNY8FXE0Cn/rrZiZD9c1s%2BFv2wP2XPGUgg0L49eFzMTgW15q0drNn08uYo%2BfbFYuvOUeVl4etw4sVGUMSlL%2BWUlFvVtaTUJWTbsl872KvxG%2BPnxV%2BHPjK80sfsm%2BMfEXh%2BHy/sniHwtf6fctcZjVn/0WS4jlTaxZehztyOtYf/DfvwR0f5fiT4Y8f%2BDG/wCpo%2BHmpQoP%2B2kcMkePfdj3r2bTdV0vWbVb/R9St7uB/uzW0yyIfoVJFWKSnStZw%2B5v/gnrSw%2BYuTnRxOj1SlCMl6JxlF27b%2BrPLvC37bf7IPjJhHoP7SngxpGOFgutfgt5SfTZMytn8K9C0LxT4Y8UQfavDXiOw1GLGfMsbxJlx9UJFUvFPww%2BGvjgMvjX4eaHrAYYYappMNxn6%2BYprz3Xf2BP2MPEE/2q6/Zt8K2suciXSdOFiwPqDbFCPwp/7O%2B6%2B5/5E3zyHSlP51IP8po9eorxIfsBfA3TOfA/iX4heGD2/wCEf%2BJerxAfQPcOB9MYo/4Y68U6d8/hf9tH4x2bD7q3mv2d8g%2BoubR2P/fVHJRe0/vT/RsPrWbR%2BLCp/wCGrH/26MWe21Fd2VnfxG3vrSKaM9UljDD8jXi//DP37Wdh8ujft66s6D7q6x8PtJuMfUxpET%2BdH/Csf28tM5sP2rfBWp46DU/hg8WfqYb/APpR7KHSa/H/ACD%2B0cUviwlT5ezf5VEek6l8HPhFrJJ1f4V%2BG7onr9p0O3fP/fSGsS9/ZR/Zb1Ik6j%2BzZ4AuCevneDrF8/nFXI/2X/wUZtPli8afBe%2BA6NN4d1aBj/3zduP0o8//AIKOQ/8AML%2BCVx/2/wCsQ5/8hPWi9rHaqv8AwJmMsbQl8eEqf%2BCov/25m5P%2BxB%2BxhcndN%2ByR8MyT1I8C6eD%2BkNV2/YM/Ylc5P7JPw5/DwdZj%2BUdZf9t/8FF4f9Z8OPg1N/1y8Xaqv/oVjR/wlP8AwUMXg/Bv4Tt7r441AfzsKvnxS/5ff%2BTv/MzeIy574Of/AIINWP8AYP8A2Jozlf2Sfhwf97wZZH%2BcdW7b9in9jezO61/ZM%2BGkZH8S%2BBNPB/Pya5//AISf/goc/C/B/wCEqe7%2BN9RP8rCj%2B1v%2BCjM33PAfwWg/66eKdWc/pZD%2BdDninvW/8nf%2BYLEZetsHP/wQjtLH9mH9mrSyDpv7PPga3x08jwlZpj8oq3dM%2BGPw20Qg6N8PdDtCOhtdJhjx/wB8qK8u3f8ABR2b/lj8Erb/ALa6xPj/AMdSj%2Bwf%2BCid/wDLc/Ez4PaeD/FZ%2BEdTnYf9/L1QfyqGqkviqL/wJs1jjaMfgwlT/wAFxX/t6PbEjSJBHGgVQMBVGAKWvEv%2BFR/tzah81/8Atj%2BGrDPVNL%2BFaNj6NNet/Kj/AIZw/aZ1P5PEv7e3ioxnqmjeD9Gs/wAmNvIw/M1n7KHWa/H/ACNf7Qxb%2BHCVPm6a/ObPbaK8SP7Ftxe8%2BJP2u/jVqBb7yr42SyU/QWcERA/GqcX7C37I2r6jc6Z4ol1vxPf2aB76LX/iNql5JEpzgyRtdbQDg8svOKOSgt5/cv8ANkvF5q7JYeMb/wA1WP8A7bBnrvib4m/DfwUrN4y%2BIOh6SF%2B8dT1aGDH13sK88179vv8AY08PXP2K4/aL8NXs%2BcCDRLw6i5PoFtRISfYVB8Lv2WP2DL6wOs/Cz4KfDjVoIJzEb%2B00u0v9ki9V81g5DDPrnmvV9B8K%2BF/Ctt9j8L%2BG7DTYcY8qws0hX8kAFH%2Bzru/uX%2BYoTznEQUoSoqL2a55/jeMWeQf8N1eCdZ5%2BG/wP%2BK/i1G/1dxo/w9uoIW/7a3ogQfiaP%2BF5fth%2BKPl8EfsVjS4pP9Ve%2BNvHtnbbR6tDaLcv%2BGQa9urN8ReMfCHhC3%2B1%2BLPFWm6XFjPm6jfRwLj6uQKPaUltD723/kOeFx3LzV8W4r%2B7GnBffLnf4nkX/CIf8FA/GI2a98Zvhx4KiPOPDHhW51Wce3mXk0afj5X4Gj/hjLVPFH7z4xftV/FHxOX/AOPiyttfTRrOUenk6dHCcexc1t63%2B27%2Bylol3/Z4%2BNukalc9rbw%2BZNTkY%2BgW0WQmqX/DWt/r/wC7%2BGf7M/xM15n/ANRcz%2BH10u2f382%2BkiOPcKaPb1F8Nl6Jf8FnlSq8NOXLUxDrPt7SdX/yWndfgaHgf9ij9lD4d3n9qeGvgN4ea%2B3bv7S1Sz%2B33W718%2B6MkmffdXp8MMNvEsFvEqIihURFwFA6AAdK8g/4S79uDxb/AMgH4OeBvCEX/PTxN4nm1KbHr5VnEiZ9vN/Gk/4UR%2B0Z4t/5KT%2B13qlrA/Mlh4G8O2umBfYTzCeXHuCKzlOc3eTb9Tsw%2BLo0IcmAwU7eUI0o/fNxf/krZ65qGpadpFnJqOq38NrbxLmWe4lCIg9SxIArzHxD%2B2p%2BzZomotoWl/EeLxFqY4XSvCFpNq07N/dxaLIFP%2B8RVKw/Yu/ZoXWYpPHGjXXjHVwpkWbxxr9xqsrgcFvKnkaPH0QCu6%2BHOsfCgrc%2BFPhhFpdrHpzYmsdMshbxoNxXcqhVVl3Ky7lyMgjNZOpBSUW1dmjrZ1Wkot0qN9rt1JfcvZwv95wf/C9P2i/HQ2fCb9la/sIJOI9W%2BImsRaYiH1NtD505HsVQ/wAqD8Fv2mviB8/xY/aabRbWT/WaP8N9HSyx7fbLkyzH6qE/w9V1/wATeG/CtkdS8UeILHTbYdbi/u0hQf8AAnIFcJc/tWfCi7nex8B/2x4vukbDQeE9GmvFH1lAEIHuXrKrisNQdqk0n2vr92r/AAMK%2BFwlN2zDFym39nmUE/SFK0n98jkPjh4Ws/BXxH/Zl8KafqF/dw2PxgvY0udUvnubiT/iivFB3SSyEs7HPUmveK8L%2BPerXuu/FD9mjWNR0C60ue4%2BMN88mn3rIZYD/wAIV4o%2BVtjMufoTXulbxkpRTXU9%2BkqcaUVTVo2Vt9rab67d9e4UUUUzQKKKKACiiigAooooAKKKKAPGf28P%2BSIaH/2Wb4cf%2BprolepWXjfwdqOqzaFY%2BKdPlvreUxT2aXaeajg4IKZz%2BleW/t4f8kQ0P/ss3w4/9TXRK9N8S/DvwJ4wB/4Sjwhp18xH%2BtuLRS4%2Bj43D8DXFjf7RUE8HyN31U%2BZJrycLtO/VpryJlzdC7rfh7QPE1k2meI9Ds9Qtm%2B9b31skqH6qwIr4k/af/Zv8LfEn9uLwh%2Byhb3M3gPwF4n8F3mr6kvhGWS3m8RXMEpEunuN3lRxLFskOIySCwPVSn1befB7QfDVs9/4Y%2BIGveHIYhuKxauZbZPcx3G9QPpivlr4XN8cf2yf2ttM/aN8Ga1YXvgf4N3ep6Z4T1zVbBrF/E97cw/Z7wr5at/o8YAAbABYDjl1TXI8diKeLrYjGYK0qNOUlOMqdVxk1am4R9yrzSndQ9zpJ3TjdfN8Q4ahi40aNSlzTnOOy1cYu9ROSs1FRd37yvpH7Vn734B/Zp8f/AAG8K2vgj4AfFqzsdC09SLLQNb8LW0kK5OTmS18h8k8ljuJPJ5Oa2f8AhMv2ovDfy6/8GtA8QoOtx4Z8SG3fH/XK7RRn28ytb/hY3xF0j/kafgrqLIODPoWoQ3gPuEYxv%2BlLH8fvhrC4g1%2B/vdFmJwYtb0ue2x/wJ02/rXz8s8yXncqmKnRk9/a88NX/ANfoW/8AKh3wy/D0IqNCrOmlslL3V5KM1JJeSaMj/hp3QtJ48ffC/wAb%2BHAvElxfeGpLiBT/ANdbXzVx78Vq%2BHP2kfgJ4rcQ6L8XNBaYnAt7jUEglz6eXKVb9K6TRfGXhHxIAfD3inTr7PT7HepJ/wCgk0zxH4E8EeMIzF4t8HaVqikYK6jp8c4x/wADU161GeIrU1OhWhUj3srf%2BBQk0aqnmkF7lWE1/ei1%2BMJfoaNrd2t7At1ZXMc0TjKyROGU/QjrWV4p%2BHXw%2B8cRmHxr4E0bWEIwV1TS4rgEemJFNcjdfslfAF52vNJ8CnR52ORPoGpXFgyn1AgkUfmKj/4Z513Sv3ng/wDaI8e2DL9yO91OHUIh/wABuYnY/wDfVa%2B1x0fipJ/4ZL8pJfmTUnjpQ5a2HjNeU4tfdOKKOpfsMfsoX921/afBqw0q4b/lv4euZ9NYfQ2skeKg/wCGPrHTP%2BRL/aI%2BK2hqv%2Bqgg8ZvdxJ7BLxJhj2rV/4Qj9qHRvn0j466Dq%2BOkWu%2BD/Lz9Xtp0/RRR/bX7W2kfPe%2BA/AutKO2na9dWbt%2BEsDgf99Gj6418dKa%2BV//AEmT/I8t4DJk7ywEoPvGFvxo1I/kZX/Ckv2o9J%2BXw3%2B2bdTxr9yLxF4FsLrj0LweQx%2BuaP7M/bz0j93beLPhTraL0e80fUbCRvqY5plH4LWr/wALg%2BNenfN4g/Zb1jYPvPo/iKwu/wAlaSNj%2BVL/AMNK29t/yGvgd8R7ED7zP4UadV/G3eQUf2hhV8Ta9YyX/tovZZTD4a9an/2/WX/pcJoyf%2BE%2B/bY0X5dU/Z08Gazjq%2Bi/ECSDP0FxZj9SKP8Ahfn7RWn/ADa/%2BxP4iCDq%2Bk%2BLNKuvyBmjY/kK1v8Ahrf4GwfLq%2Buarpr901PwxfwY%2BpaDH61Zsf2rv2btQO2H40%2BH0Ppc36w4%2BvmYxTWYYBu3tY/%2BBJfm0NTw17U8za8pSov/ANKhFmB/w1lq9r8usfsm/Fy2I%2B8YvDdtcr%2BBguXJ/Kl/4bO8E2//ACGvhB8U9OHc3nw21HA/FI2B/Cu3sfjd8GNTwdO%2BLvhi4z08nX7dv5PWtaeM/B9/g2PivTZs9PKvo2z%2BRreNehP4Zp%2BjT/JnVCGPn/Dx8Zf9w6T/APSaiPMv%2BG6f2dYeNT1bxLYt3W88A6wmPx%2BykUf8N6fsoL/r/im0P/XzoF/F/wChwCvXYp4Z13wTK49UYGnVqbewz3piKb/7hP8ASqeP/wDDfX7Hw%2B/8ddKT/rrDOv8AOMUo/b5/Y4P/ADcFoH4yuP8A2WvX6Qqp6gH60B7HP/8An9S/8Fz/APlp5Cf2%2Bv2OB0/aB0E%2ByySH%2BS0f8N8fshH/AFfxu06T/rlaXD/%2BgxmvXwAOgooD2Of/APP6l/4Ln/8ALTyD/hvP9lZv9R8SLqf/AK9vDGpS/wDoFuaP%2BG5PgNP/AMghfF%2BoHsLL4e6u2f8Avq2Fev1FcX1laDN1eRRD1kkC/wA6G0twdDPba4mmvSk/1qnN/Cz4taN8W9OutU0Twx4j02K1mEZHiPw9cae0uRndGs6qXX3HGeK4j45WV74X%2BJXhr4iaRqUkMI1u0h1jy/E10Z5EkbyVgisCTbsjbgXYbX%2BUkAnmvSbz4geA9Pz9v8baRBjr52pRLj82rk9X%2BIf7KkHiWPxprfjXwB/bUCBIdUn1CyN2ijOFWQneAMngHufWsZYjDw%2BKaXq0v1M8bGNXBRpVa8OdNPmbUNne6Sk/S17PW7VzzP473mhnx9revX1zaS%2BIJLTSJfhjdI6GadkuP9Jt7Nu7sxw6oclJPm%2BUcUNQ8GXuveKLv4f6N4enTxS914ki1%2B8%2BwNGlxZXcTPHI8xAV0kbykQZJU5AACnHqrftXfsyaUq2Vr8WNFYRrtjh08tNgegESn9KT/hrD4R3Xy6BF4l1duy6Z4O1CTP0JhAP51i8xwH/P2Pyaf5XPFrYPKa1eU54uHvO7Ss3rq9U5Pm%2BypWuoe60yj8AYNY1Hxjqfih/CWp6Lav4e0uzvYNT02W1M1/FGVk2rIq%2BYI1Cx%2BauUYY2MwGa3/in8KPG3xF1a2m0T4%2BeJvCmnxW3l3Fh4dt7MNO%2B4nzPOmgkdTggYHHGcZzWd/wANF6hefLoX7PPxGu2P3TNoUdqp%2BpuJkI/Kk/4Wj%2B0JqH/IH/ZhkgVvuyaz4wtIce5WESn8KX1/DP4W36Rk/wD21Hp0pZasF9WlKdRXu3GNRXd7/YUbLyUrPW%2B5lf8ADFvgHVPl8efFL4k%2BJ0P3odZ8fXqxH/gFs0Sj8AK0fD37Fv7KXhif7Xp/wE8Nzz5z9o1SwF7Jn133G9s%2B%2Bc1J9o/a91T5otN%2BHmjI3QTXN7fSL%2BCrCpP40f8ACtf2jNV%2BbXP2kobJW%2B/DoHhC3jwPQPcPKfxwKPrc5fBRm/ko/wDpUv0M4YHKVLmp5e5PvKEb/fVnNnf6J4d8P%2BGrQWHhzQrPT4B0hsrVIkH4KAKt7l3bNw3EZAzzivNf%2BGabLUf%2BRv8AjL8QNZVv9ZDN4me2if22WqxDFb/w/wDgb8K/hdqU2teB/CSWl7cweTcXslzLPNJHuDbWkldmIyAevarhUxc5rmpqK85Xf3JW/E9ihUxrko%2BxjCH%2BNNpeSjG34opfGvxB8QPCGlR%2BJ/CF4zw25HnafDohuTIRlmaWQPmKIIpyVQtnGCchar/E/QvEPiW90jxj4dvba70q2s5Jbq0ufEtzYW0gOx0l/cgiXGOBJhcE5NXfitLpup6hpHg7Ub7V4odSnaO7Gl3ghBibEYEpwWKszBcKQcnrisvxxp%2Bh2Bu9MHgzR73SfD1hBqNzYarZm4JXDoDDvYrFsSJudpyVxxnNeNjsxwtJ1%2BaTai4ppXbjLlc9u3InKW%2BkXo3oYYjD1atSor%2B6%2BW2r0ktdLJ6d11tscfe6na65r0PjOLQLuDXNfutG1TwxLJZsZlikjEM0BcAhREnmGRCQCCWwS3PTfDjwd4r0fxToWi3fhm5tLfwvaX9o%2BqF4/Iu7Z5f9FjjwxZv3YVmyoCMhHOauXPiDxhE89zp%2BtyFLvUL3S7bT1t4wLV0jcwNHhd24BCTuLA8YAFXvhbfwnUvsWj6rLd2V1ottfuJrtpzDM/ykbnJYbtrEqTwQema87CZnh62Ywpcsrye75V1bTsrt8zi22mnFWUl2xoZbGNZTlK7unokr63133lrdWaVkdB4m%2BHvgTxreWeoeMPB2marNp282L6jZJN5BfbuK7wcE7V59hWpDDaafaiGCKOCGJcKiKFVFHsOAKxvGGheIvEc0FnoHxBn0VI1Y3iWdpDJLKDjbhpAfLxzyAc57Y5x0%2BAvge7cTeLbrVvEMgOQ2uarLMo/7ZgrH/wCO17VfFZisTKODwql3nKpCMW7doxnUdttUtfLU9bkUKjlGCTe70V/XS7%2BZxf7TFxb3fxo/ZvubWdJY3%2BMt8UkjYMrD/hCvFHQjrXtNeJftHaZpujfGD9m3S9IsIbW2g%2BMl8sNvbxBEQf8ACFeKOAo4Fe2169P2ns17S3NZXte1%2Btr62vtfXubK4UUUVYBRRRQAUUUUAFFFFAHMeHPjb8GPGPxB1n4SeEfi74Y1XxX4cRX8Q%2BGdN1%2B2n1DS1bG1ri2RzJADuXBdRnI9aLD42/BjVfile/A3S/i74YufG2m2S3mo%2BD7fX7Z9UtbYhCJpLQP5yRkSR4dlAO9eeRXxx%2Bzx4e8Z%2BC/jZ4A0DxB8IPGunan8NPFXxHvPH3iY%2BB9Ra01G31nWXe0%2BzXSQFNR%2B2PPa3rLbtL5C2jG48lowKu/DTwB8QYP2nvCHw4uPhR4ot9d8KftK%2BNvHXibxjceGbqPSrvw5qOl63FY%2BXqTRi3upCNS0m1NqkjSp9gZmRVgQkA97/bw/5Ihof/ZZvhx/6muiV2vxC8f/AAk%2BA9hc/EX4p/E208PadLuDvrWsCOBn4OI0c/M/HCpknOAK4D9tn4P/ALT/AMYfCui6Z8AfFXgJbbSfGHhvXdQ8OeMNNvYX1VtL16x1Mxx6pbSyCxDJaFcmwutzED5A25fmD9mf9nX9on4s6rqf7R3xV/Zr%2BHXxP8SQeMNf0WC/%2BJHx51GeKwfTNXu9OkW2s08Lm3ji820Z0OC2CrARklBdPAZRi6sauOv%2B6fNBRTcuazWj5oxWmjcuZWfwt7cmKr5jSioYSCblo3J2il5pJyl5KNvOSR6jqfxj1/8A4KFeLdM0f4L%2BDfGFr8LtE1VLzUPGF1biwtPEckZIS2hV/wB/JBvKszqox5bK23PP0ZqeheD/AA34X0zQPD9ppWnWGk25Nloqw%2BXGyKpUJGoKkEHpgde3NcTB4x/4KCWsKW1t%2Byz8Fo441Cxxp8dtWCqoGAAB4W4FK/jX/goPJgSfsufBhsHIz8d9WOD6/wDIrV83nnD2HzKeKeGbhGvGK5ZtzScXzKV0otu9nyu9P3eVRUJST6sudXCqMq8ueom7ySUdNuVK7sl68z3bbtbv7rUb0XBntbuaBbWe2ggswwIcsA7h85JOxsDnjGat6Xrd/qN7AL3yXtdQSZoYRFyio2FJOSGDLyeBgkV5Y%2Bv/ALe0mpLq7/so/BU3KjCzf8L31bI4x/0K/XBIz71FpWq/t96ROZ7f9mL4POQmyJZfj3qxEKZzsQf8ItwP8B6V41DI%2BIcNmMZqtem53dpNKyejcWmnzQvT9nC0I2jLWyZ6Eq%2BGnSa5dbdv19dbvV7HqWtfCD4W%2BIWMmr/D/SZXPWZbJEk/76UBv1rN/wCFE%2BFrL/kWfEXiPRh2TTfEE%2Bz/AL4kZ1/DFeMTfHL9uzxl8Zdb%2BB1t%2BzR8M7HVfDHhjSddury1%2BP2qRwSwalcalbwop/4RglnVtKnLBlAAkjwWJYL1%2BmeLP%2BCiFhYx2c/7N3wfumQHM8/x41Xe/JPOPCwHt07V6k8ly7E5lONXLoKNrqqnBOT0umoKnUi99XJp280cMqNBwUrq/azX47Hcf8K%2B%2BKGncaH8b7t0H3Y9X0a3uPzZBG360bf2hdP4EnhDU1Xuy3No7fl5gzXHf8Jx/wAFC/8Ao1/4M/8Ah%2BNW/wDmXo/4Tj/goX/0a/8ABn/w/Grf/MvXR/q9hofwK1an/hrTa%2B6ftEZezXRv7/8Ahzsf%2BE4%2BL1l/yEvgkZgPvPpniGCTPuFlEZo/4XLJbcav8J/GNqR95l0cTqPxhd647/hOP%2BChf/Rr/wAGf/D8at/8y9cvq37R37duj/GfQPgdcfsofCRtU8ReF9X12zuU%2BOuqeRHBp1zptvMjk%2BGNwdm1SAqApBCSZKkKGP7Lzan/AAsfP/t%2BnRn%2BSpsOWfSX5HrX/DQXwui%2BXU9WvbBu66ho11Dj6lo8frW14U%2BIngbxy0qeEPFNnqDQqGmS2mDMgPQkdRXmf/Ccf8FC/wDo1/4M/wDh%2BNW/%2BZemJ4v/AOCgUUrTx/sr/BZXcfM6/HXVQT9T/wAItW%2BGo57Trr29enOHW1OUZfJqpKP3oaVRPVr7v%2BCeh%2BPfG2peHZILHw/p8d1cGaA3fmhtkMMkojBOP4mJIUe3PFV/iBr9vaXUtjF4V0/UWs9Ne/1D7fgBLdSRhfkbc52tgHA45Iryjxdpf7bHjWaK71v9kP4IPcxzRP8Aa/8AheGqeayxuGCFv%2BEWztOMEehOMVB4ktf%2BCiniA7x8Afg3A1zp7WGpuPjbqhNzbMSdo/4pgeWwDMAwzjceOlebjqXEXNiXTd1Jx5OVrRJTurSVk2%2BRyd5JpStbROJxnJNPVf13PQL3S/hJq%2BsRxXvwT8O3OmyXcdpJf3Om27Oszx7wPLMZBUdGYsCD0BHNUfD/AMJv2dPGmofZLr9nbw7ZpcWxubCY6Nbr9pi3bS2EUFDnB2nsQa8j%2BMHxG/bu%2BDum2njTxJ%2BzP8IrjQ7zxxodgml2Pxr1QzC91S/tdIgYyN4bUeQs14krgLvAVipbAQ9b4TT/AIKK%2BHru1udQ/Z7%2BC959h0xbK0CfG3VoiF3ZZ2P/AAjLbmOF6YHB4545qGFzuWNj7enFw5tbxpWtqn05lG1nD7XNfm0OWWBwtSXv0oP1jD/5E9Bl/ZC/Zplbf/wp3SEPrDG0f/oLCm/8Mg/s7D/VfDzy/wDrjq12n/oMori/F13/AMFEPFkUEcPwM%2BGOkmBmO/SP2gdUjMmccNu8KNkDHH1NYf8Awjn/AAUmj/1HgvwQP%2Bun7QF638/B9ehiqU6NdxpZdGpH%2BZSoxv8A9uySattuRLKcsvphof8AgMV%2BiPUP%2BGRfgEPueFNQT/rn4o1Ff5XFH/DI3wJ7eH9YH08Yap/8k15f/Y3/AAU6X/V%2BEPh6P97453bf%2B6hXL/G34hf8FJvgP8GPF3xx8U%2BBPAd1pfgzwxf67qVrYfGm4a4mt7S2kuJEjD%2BE1UuVjIUMyjJGSBzXPzV/%2BhU//A6H/wAkif7Ky3/oGj90T3j/AIZG%2BBHfw7q5%2Bvi/VD/7c0f8MifADo/g%2B9f/AK6eJdQb%2Bc9eX/2V/wAFQz97wn8Ofw%2BNt0P/AHUaP7E/4KbN/rfB/wAPz/ufHW7X/wB1CjmrvbKn/wCB0P8A5Jh/ZWW/9A0fuieof8Mgfs5N/rfhpDL/ANd9QuZP/QpTUtv%2ByR%2BzTanMfwY0Nj/01td//oRNeVf8Iz/wUhfmfwR4Kb2T9oW%2BT%2BXhCj/hEf8AgoW/%2Bv8Ahr4Nf/u5XVk/9A8KChfXOmVR%2BdSh/wDIMayrLVthYf8AgMP/AJFns1n%2Bzl%2Bz9YYNt8EfCgI6M3h%2B3Y/mUJrXsfhh8NNLx/Znw80K3x08jSIUx%2BS14F/wg37dcn/H78EPAtz6if8Aag8Qf08MiuX%2BCN7%2B038e/gx4Q%2BOWg/sd/DQab4z8L6frunW%2Bs/tJ6%2B08Vvd20dxGkqr4eZA4WQBgpYZBwSOa2jLOV/DwFKPrVj/7ZQZvDCYen8FGC9FFflA%2BukTStHh2otvaxjsAqL/SqF78QPAem5/tHxtpFvjr5%2BpRJj82r5/g%2BG37UcD%2BYP2GvgRI3rcfHTV5T/4/4YNadlo37X%2BnYNh%2Bw5%2Bz7CR3j%2BMeoA/n/wAIrWynxPLanQh6zqy/KEDpXtErJJfeerXnx6%2BDVk2yT4kaVIewt7kSk/TZnNQH4%2BeALjjRota1Juy6f4eu5M/Q%2BWAfzrh7PxN%2B3zp67bD9k/4JQD0h%2BOeqr/LwtU//AAnH/BQv/o1/4M/%2BH41b/wCZej6vxLU%2BLEUo/wCGlKX4zqr8UFqvdfd/wTsf%2BFua1efJonwZ8WTsehurWG1U/jLKCPyo/wCEs%2BNuofJp/wAI7Cyz0k1TxGpx9Vhjf%2BdeTeAf2jv27fiJ4r8b%2BENH/ZQ%2BEkNx4D8URaFqslz8ddUCTzyaVp%2Bph4tvhgkp5OowqSwU70cYwAzdR/wnH/BQv/o1/wCDP/h%2BNW/%2BZej%2ByszqfxcfU/7chSh/7ZN/iHJJ7y/I7H%2Bz/wBoHUvkuvEvhbSlPez02e6cfjJIgP5Vr%2BEfDXjDRruW78U/ES41nzI9qQNp0NvHEc53AINxPbljXm//AAnH/BQv/o1/4M/%2BH41b/wCZej/hOP8AgoX/ANGv/Bn/AMPxq3/zL1vh8lw9CtGtKrVnJbc9WbX/AICuWD%2BcWNQSd7v7zvfG/wAMY/F92%2BpQ%2BJdRs52FvhLe42xfuZC6khQGyCzYwwwTmovH/hEahYPdm/n%2B23ETWbJa7UW7gJZvJkDB8qFL5YYbBbkZNefXvin/AIKI3dzbzx/s5fCCBYHLPFD8eNU2zezZ8Kk4%2BmOtcsPjp%2B234y%2BMeufAm5/ZJ%2BEral4a8NaRr9zcv8edWW3eDUbjU7aFEK%2BGdxdW0ycuCoXEkeCxLBfNzPJFi8NjIYeio1KlkpOeknb40lzcrjzTSvHV9HFtPanChGpGU9V1Wv8Amvw6HtepeF7K6nsPGWg6XOt3KY3mNpIudpi27wkp8veFwu8jdjjNVpk0mKSfUdNBsCLSSYGMCJpLmKQiUyBMCR%2BADnPB46157p%2Bpft%2B6dpSaNb/szfCBYEUKqxfH3V4yOScgp4WBBOeeasR67%2B3pFaR2P/DJ3wUeKJt0ay/HbVnw2c7st4XJznv1rw6/C2aY6PO%2BWnKcYOau3FVVFRbhycsoptucndc0ow00Z2Qr4ai/dV7N20Sdn3vfXp6XPQrQbNbj3W5TUZNS8wuIzl7d0Vmy3dRyo54KgV02q2d1f2L2lpqctpI2MXEKqWUZ5xuBHI4/GvIf%2BE4/4KFf9Gv/AAZ/8Pxq3/zL0f8ACcf8FC/%2BjX/gz/4fjVv/AJl6%2Bjyrh6nl2Fr4ec3KNV62vB2aabvGSfO%2BZ8004t2j1VzGtiXVnGSVmvn%2BfTyIf2kbRrH4xfs22j3c1wY/jJfAzTsC7/8AFFeKOSQAM/hXtlfK/wAT/Ev7Vur/ALSf7Olr8a/gv8PfD%2Bjj4uai0d94W%2BJ19rFyZ/8AhC/E21DBPotkoQgsS/mkggDYckr9UV71KlCjSjTgrKKSW70SstW236tt923qc7bk7sKKKK0EFFFFABRRRQAUUUUAFUfFHiGw8I%2BGtR8V6qH%2By6ZYzXdz5S5by40LtgdzhTV6o7u0tb%2B1lsb23SaGaNo5opVDK6kYKkHggjjFAHzf%2Bxr%2B1L8fPip4w0bwt8f9N8JI/jf4T6d8QPC6%2BE9Pubf%2By7e4lCT6ZdNPcTC6khE1ptu4xAspeX9xFsG7ybR/%2BCjvxx8F/C/TfilrPgLwPPpfxV%2BF%2Bq%2BOvhNoujabc2T6bN/a2lW1va6rM1xKt01w2v2U8s8MUGxo7obHJRz79%2Bz/APsL%2BEP2c9Ytda8J/GXx1qkmmaLp%2BgaGniC5064GmeH7IzGDRoStkjG33TAtNIXvJPIhD3LCMCsHSf8AgmN8CLTRtb8K674z8Za1ol74S1Hwx4W0fUdStki8G6Te3UV3PbaW9vbRzJ%2B/trN0kuJJ5I/sNuqOqx7SAdh%2By78XPiv4x8S/EP4QfHK58PX3if4eeJbWxl1vwrpE%2Bn2OqWl1ptrfQzLaz3NzJbupnlhZDPKD5AkBAk2J67Xn/wAAf2fNI%2BAtn4guT4%2B8Q%2BLte8Wa4NW8TeK/FbWn27UbhbWC0i3LZW9vbxJHb20EapFCi/IWILu7t6BQAV8u/Ab9sb42/EH4xeFpPG2meFl8B/EzWvFumeCrPS9NuY9V0uTRbuWKGS8uHuXiulu7e2uZiscMBt28uPM%2BTIPqKvDPB37BngbwF8S5PiR4X%2BLvjeAWt7q934V0CSfTpNP8MT6rfJe6m9kj2RkJuJFdf9IefyY55Ut/IVsAAp3vxU%2BOXgP9trw18KvEOo%2BAde0zx9a6rKumeH/C91a634f0iwjaS3vr28e8lju4DPMtttFvb7Zr5dhcLJnJ/wCCa/7U/wAXf2lvhfb6h%2B0X4m0S0%2BIB8KaJq3iP4e2vwn1vwlfeGJry3dpYpYtXu55L2HzklhjuoljiZrWXBc5CdX8P/wBjE/Dr9oTxn%2B0Ppf7THxEvLzx1dmXWtD1KLQpbSOJIHhtbSCb%2BzBew21rvaSGEXOwSPI7iRppjJt/Bj9mO1%2BFPxB1n4t%2BKfjL4w8f%2BK9a0e00iTXvGP9mxyW2n20s80dtDDptnaQIvm3Ers5jMjkqGcqiKoB6fRRRQB8u/tNftjfG34WfFPxi3w80zws3g34TaL4b1Px3bazptzNqOsR6pfXEU0djNHcxx2jW1rB54aSK4E8koixCFMhm/a4/aW%2BJnwS/aY8J6SuseHvCXgRvClxda78QfEXwi1nX7e0ma/tovscmoWN3b2%2BjxSRjzDNdEx5iQnhMV23xn/Yh%2BHHxu%2BKR%2BJmueOfFWlxaja6Ra%2BL/DWjXVqmneKYNLvZL2xivllt5Jgsc00ufs8sBljkMUxljCoJfjh%2ByNP%2B0H4Ob4afEP9pP4hN4V1LRZNJ8X%2BG7FNFht/E9pIzCaK7kGm%2BfEJInaF/sktvmM44b5qAPPv%2BGxvjZ/w0D5n9meFv8AhWP/AAuf/hWn2D%2Bzbn%2B2/tn9m%2Bf/AGp9q%2B0%2BR5X23/Rfsv2fd5f7/wA/P7mvqKvGf%2BGIfhx/wv8A/wCF7f8ACc%2BKvs//AAlf/CVf8IJ9qtf7E/t/%2Bzf7N/tTZ9n%2B0%2Bb9m/5ZfaPs/m/v/J8795Xs1ABXz1%2B15%2B0T%2B0B4D%2BIEPwu/ZwtfCK6np/w113xvrNx4y025uobqCwktYodNhFvcQGCS4e4kzdMZVgEA/cTGTC/QteR/tL/seeD/ANpnULLWtR%2BJPi/wjqFv4f1Pw/faj4NvLWGbUtF1DyDeafMbm2nCxyNbQsJYhHcRFCYpo977gDk/2qvj549sf2J/%2BGvPhH4m8JaTpdh4LXxdLpXjXwFc67JqGLeO7sra3jt9SsvKuTN5aoSZCZGj2hSATympftV/tRfD79pXwd8Ivj34i8IeDdCuPAHg251/Xv8AhUWvX%2Bm6z4o1G%2B1K01HS7XWI79bLSQr2titul350jNqEYzKSqn2rxv8Asw%2BC/iF8PNI%2BFPibxJrL%2BHtE8W6VrljpduLSGLZpt5DeWWnMEtxus45beA7T%2B8ZYgryMC26p8a/2WoPj34ms7jxv8b/GsfhS3vtOvbz4d2B0yPSdRnsrpLqF5pTZNfY86KFnjjukjcRBWUqzq4B6pRRRQB4v/wAFBfi78cP2fv2R/Gnx6%2BAV74Uj1jwToV3rl1B4w0W5vra7tLW2lme3RLa6tmSV2RFEhcqgLEo/Aq7%2B2D8T/F3gTwd4a8C/D3TNBuNe%2BI/jK18KabL4q02S90y1WeGe4uZrm2jlha5RbS1ucQiWPzHKKXUEkan7WP7ONl%2B1p8CNe/Z91r4q%2BKfCOk%2BJ7KWx1y/8ILp32u5spYnimtt1/aXUaI6vyyIsgKja685zvG/7K0nxK%2BHVn4I8eftBeOtR1PSdT07VNA8YmLR4NT0nUrMkreQiDTktmeQM6yJLBJCySOnlhWKkA%2Bfb39vz9qvxN4a1DQPhzoXgCDxd8P8Aw1401f4gSavpN7JYau%2BgaxJpkVrYIl2j2QvjBNP50r3P2QbEMVySWH2L4F8Xab8QPBGjePdGjlSz1vSre/tEmXDrHNEsihgOhwwz714L4j/4Jk/CHXPA%2BneDNN%2BLHxA0WaPSdf0vxPr2kanZJf8Aiuy1u8%2B3atDfvJaOgNxdbpfNtUt5YDI4t3gVitfRGmabp%2Bjabb6PpNlHbWtpAkNtbwoFSKNQFVFA4AAAAHtQBPXNfGKT4mw/DLWJ/g5rWg6d4litd%2BmXvibSpr6xiKsC5lggnt5JR5YfCrLH8xXLYzXS1hfEzwdqnxB8B6n4L0b4g6z4VuNRt/JTxB4fhs5LyzBILNEt7b3FuSQCp8yFxhjgA4IAOC%2BAnxR%2BMH7Q37Efw/8AjX4fufDWj%2BNfHHw40TXGlvNKuLjS7O8vLKC4lP2ZbhJpIlMj7Y/PViAoMnVq8Bvf2zP2o9B%2BDmnr4C0jwrdQaP8AHO78Cah488HfBrXde0eTQrPRLq5fUbTRNNvWuo1i1GFNJci5liSWCVs4KhfYfCX7DU/gz9ktP2PNJ/a3%2BK66Da%2BCE8K6Vr8M%2BiW2sabYxokUTwXFtpcarMkCCFZShO0lzmXEo0fB/wCyN4m%2BHvwQ0n4G%2BAf2vPiNolroVwi6Tq%2Bl6J4VhuLWwS3WCPTUhXRPsa2ybQ6kW/nBjjzdmEAB6F8HfG%2Bm/Er4T%2BGviBpHjjSPE1vrOh2t2niHw/aNb2OpF4lY3EETyytDG5JZY2kkZAQrOxBJ6SuX%2BCvwh8G/AP4U6D8HPh/FcrpHh7T0tLNr65aaeUDJaWWRuXkdizs3dmJwOldRQAV4v%2Bxz8Xfjh8Srr4peDvj9e%2BFLvWfh/wDExvD1tfeD9FubC1uLVtG0rUkLRXN1cuZFbUHjLhwriNWCJkivaK8X%2BBP7HmsfAnxp4v8AGtp%2B1l8SvEcnjjxXD4g16x8Q2nh0QPdpa29mQn2TSIHSN7e0tomAfOIQylXZ2YA8M8Eft/8AxV8GfDf4xfET4vQ%2BGrbxd4b0vxBrGifDBvhRrXhm%2Bv47LUH0%2ByvG1K/upItVt5I109ZLm1h2RfaYskDYh95/Zk%2BLnxj8R%2BPvH/wL%2BP8Ad%2BGdQ8TeBbrTJl1zwho1xp1jqFjf2nmxN9muLm5eGVJYrmJh5zhljjkGzeY0zNc/YI8DfETVfEGq/Hr4weOfiGdc8E6v4StIPEk%2BnWyaLpOpyQPew2n9m2VqfMc2lpieYyzJ9mTa6kuW7H4Afs56V8Bj4h1i4%2BJHibxp4i8V6jDd%2BIPFnjCSzN9d%2BRbR20EW2ytra3jijijAVY4lyzyO255HZgD0SiiigDxf4K/F344a1%2B1x8WfgL8VL3wpdaP4Y0Lw9rnhCfw/otza3MVpqVzrMP2e8ea6mW4lRdMibzI0gXMrjYcA1z/iT4iftLeFf2/PBfwg0zxV8OdV8OeLtI1jWPENnB8Pry31nS9B05Eit9%2Bo/2q8Ush1DUbdVVrRVZGuiqqVJroNF/Y81jQP2i/GH7SWnftZfEoah4z0qy0y90J7Tw6dPs7SznuprSKAf2R548o3t0oaSaRmWY7y5VCvaaX8C/Cul/HDxL%2B0CmranNr/iTwxpugN580Zh06yspbuZFtlEYKM8t7K8jMX3lIhwI1AAPHv%2BCcX7U/xd/aP8C%2Bb%2B0X4m0Sy8d/8ACM6Rqus/Dy3%2BE%2Bt%2BFL7w411HKZFkXV7uZ9QgMqPFHdQJHEWtpeXJwn0rXl3wb/Zftvhb8RdU%2BL/i340%2BMviD4p1LRLfRk1vxkdNjez0%2BGWSYW8MWm2VpAoaWVnd2jaRiEBfaiqPUaACvB/2tfjN%2B0F8BvEnhfxd4M8QeB73w9rXi7QvDtt4FvvDl5JrmuXN7fLDctaXsd6sUJgtWkutjWkw8u0mZ3jQF4/eK8Z%2BJP7HK/ET9p3RP2prf9o74gaFqvh/QxpWmaBpkOiXGlwQPN5ty0aX2mXE0MtyBHHNLFKjtHDGisgHIBwv7bH7UPxm%2BFvjLxBZ/Brw54Ouk%2BE/wouviV4mHizSp7qbUYVa6hi0%2BwkiuIRYzyw2uoKbtxOqbo18l1dyKukfts/GLW/jZa67Y6d4XPwqu/i%2Bnw6hsW0u5GuG5bSxcjVDc/afIEX2w/Zvsn2fd5f7/AM/P7mu4%2BOn7CPgr9oNopvG3xg8cW0134Xu/DHi%2BfSLjToG8V6FczCWTTL4fYiqxffRZLYW86JNKFlHmOTaj/Yc%2BGkPx7X44Q%2BNfFCWieKR4oXwEtzaDQ114ab/Zo1MJ9m%2B0%2Bb9m48r7R9n8z995PnfvKAPaKKKKACiiigAooooAKKKKACiiigAooooAKKKKACiiigAooooAKKKKACiiigAooooAKKKKACiiigAooooAKKKKACiiigAooooAKKKKACiiigAooooAKKKKACiiigAooooAKKKKACiiigAooooAKKKKACiiigD/2Q%3D%3D\">"
      ]
     },
     "metadata": {},
     "output_type": "display_data"
    }
   ],
   "source": [
    "try:\n",
    "    display_html(HTML(anim.to_html5_video()))\n",
    "# In case the build-in renderers are unaviable, fall back to\n",
    "# a custom one, that doesn't require external libraries\n",
    "except (RuntimeError, KeyError):\n",
    "    anim.save(None, writer=matplotlib_utils.SimpleMovieWriter(0.001))"
   ]
  },
  {
   "cell_type": "markdown",
   "metadata": {},
   "source": [
    "# Logistic regression\n",
    "Your assignment is to implement the logistic regression\n",
    "\n",
    "Plan:\n",
    "* Use a shared variable for weights\n",
    "* Use a matrix placeholder for `X`\n",
    " \n",
    "We shall train on a two-class MNIST dataset\n",
    "* please note that target `y` are `{0,1}` and not `{-1,1}` as in some formulae"
   ]
  },
  {
   "cell_type": "code",
   "execution_count": 28,
   "metadata": {},
   "outputs": [
    {
     "name": "stdout",
     "output_type": "stream",
     "text": [
      "y [shape - (360,)]: [0 1 0 1 0 1 0 0 1 1]\n",
      "X [shape - (360, 64)]:\n"
     ]
    }
   ],
   "source": [
    "from sklearn.datasets import load_digits\n",
    "mnist = load_digits(2)\n",
    "\n",
    "X, y = mnist.data, mnist.target\n",
    "\n",
    "print(\"y [shape - %s]:\" % (str(y.shape)), y[:10])\n",
    "print(\"X [shape - %s]:\" % (str(X.shape)))"
   ]
  },
  {
   "cell_type": "code",
   "execution_count": 29,
   "metadata": {},
   "outputs": [
    {
     "name": "stdout",
     "output_type": "stream",
     "text": [
      "X:\n",
      " [[ 0.  0.  5. 13.  9.  1.  0.  0.  0.  0.]\n",
      " [ 0.  0.  0. 12. 13.  5.  0.  0.  0.  0.]\n",
      " [ 0.  0.  1.  9. 15. 11.  0.  0.  0.  0.]]\n",
      "y:\n",
      " [0 1 0 1 0 1 0 0 1 1]\n"
     ]
    },
    {
     "data": {
      "image/png": "[encoded data removed]",
      "text/plain": [
       "<Figure size 432x288 with 1 Axes>"
      ]
     },
     "metadata": {},
     "output_type": "display_data"
    }
   ],
   "source": [
    "print('X:\\n',X[:3,:10])\n",
    "print('y:\\n',y[:10])\n",
    "plt.imshow(X[0].reshape([8,8]));"
   ]
  },
  {
   "cell_type": "markdown",
   "metadata": {},
   "source": [
    "It's your turn now!\n",
    "Just a small reminder of the relevant math:\n",
    "\n",
    "$$\n",
    "P(y=1|X) = \\sigma(X \\cdot W + b)\n",
    "$$\n",
    "$$\n",
    "\\text{loss} = -\\log\\left(P\\left(y_\\text{predicted} = 1\\right)\\right)\\cdot y_\\text{true} - \\log\\left(1 - P\\left(y_\\text{predicted} = 1\\right)\\right)\\cdot\\left(1 - y_\\text{true}\\right)\n",
    "$$\n",
    "\n",
    "$\\sigma(x)$ is available via `tf.nn.sigmoid` and matrix multiplication via `tf.matmul`"
   ]
  },
  {
   "cell_type": "code",
   "execution_count": 30,
   "metadata": {},
   "outputs": [],
   "source": [
    "from sklearn.model_selection import train_test_split\n",
    "X_train, X_test, y_train, y_test = train_test_split(\n",
    "    X, y, random_state=42)"
   ]
  },
  {
   "cell_type": "markdown",
   "metadata": {},
   "source": [
    "__Your code goes here.__ For the training and testing scaffolding to work, please stick to the names in comments."
   ]
  },
  {
   "cell_type": "code",
   "execution_count": 31,
   "metadata": {},
   "outputs": [],
   "source": [
    "# Model parameters - weights and bias\n",
    "weights = tf.Variable(tf.zeros((X.shape[1], 1)), dtype=tf.float32)\n",
    "b = tf.Variable(0, dtype=tf.float32)"
   ]
  },
  {
   "cell_type": "code",
   "execution_count": 32,
   "metadata": {},
   "outputs": [],
   "source": [
    "# Placeholders for the input data\n",
    "input_X = tf.placeholder(tf.float32, (None, X.shape[1]))\n",
    "input_y = tf.placeholder(tf.float32, (None,))"
   ]
  },
  {
   "cell_type": "code",
   "execution_count": 33,
   "metadata": {},
   "outputs": [],
   "source": [
    "# The model code\n",
    "\n",
    "# Compute a vector of predictions, resulting shape should be [input_X.shape[0],]\n",
    "# This is 1D, if you have extra dimensions, you can  get rid of them with tf.squeeze .\n",
    "# Don't forget the sigmoid.\n",
    "predicted_y = tf.nn.sigmoid(tf.matmul(input_X, weights) + b)\n",
    "predicted_y = tf.squeeze(predicted_y)\n",
    "\n",
    "# Loss. Should be a scalar number - average loss over all the objects\n",
    "# tf.reduce_mean is your friend here\n",
    "loss = -tf.reduce_mean(input_y * tf.log(predicted_y) + (1. - input_y) * tf.log(1. - predicted_y))\n",
    "\n",
    "# See above for an example. tf.train.*Optimizer\n",
    "optimizer = tf.train.AdamOptimizer().minimize(loss)"
   ]
  },
  {
   "cell_type": "markdown",
   "metadata": {},
   "source": [
    "A test to help with the debugging"
   ]
  },
  {
   "cell_type": "code",
   "execution_count": 34,
   "metadata": {},
   "outputs": [],
   "source": [
    "validation_weights = 1e-3 * np.fromiter(map(lambda x:\n",
    "        s.run(weird_psychotic_function, {my_scalar:x, my_vector:[1, 0.1, 2]}),\n",
    "                                   0.15 * np.arange(1, X.shape[1] + 1)),\n",
    "                                   count=X.shape[1], dtype=np.float32)[:, np.newaxis]\n",
    "# Compute predictions for given weights and bias\n",
    "prediction_validation = s.run(\n",
    "    predicted_y, {\n",
    "    input_X: X,\n",
    "    weights: validation_weights,\n",
    "    b: 1e-1})\n",
    "\n",
    "# Load the reference values for the predictions\n",
    "validation_true_values = np.loadtxt(\"validation_predictons.txt\")\n",
    "\n",
    "assert prediction_validation.shape == (X.shape[0],),\\\n",
    "       \"Predictions must be a 1D array with length equal to the number \" \\\n",
    "       \"of examples in input_X\"\n",
    "assert np.allclose(validation_true_values, prediction_validation)\n",
    "loss_validation = s.run(\n",
    "        loss, {\n",
    "            input_X: X[:100],\n",
    "            input_y: y[-100:],\n",
    "            weights: validation_weights+1.21e-3,\n",
    "            b: -1e-1})\n",
    "assert np.allclose(loss_validation, 0.728689)"
   ]
  },
  {
   "cell_type": "code",
   "execution_count": 35,
   "metadata": {},
   "outputs": [
    {
     "name": "stdout",
     "output_type": "stream",
     "text": [
      "loss at iter 0:0.6393\n",
      "train auc: 1.0\n",
      "test auc: 1.0\n",
      "loss at iter 1:0.5895\n",
      "train auc: 1.0\n",
      "test auc: 1.0\n",
      "loss at iter 2:0.5433\n",
      "train auc: 1.0\n",
      "test auc: 1.0\n",
      "loss at iter 3:0.5007\n",
      "train auc: 1.0\n",
      "test auc: 1.0\n",
      "loss at iter 4:0.4614\n",
      "train auc: 1.0\n",
      "test auc: 1.0\n"
     ]
    }
   ],
   "source": [
    "from sklearn.metrics import roc_auc_score\n",
    "s.run(tf.global_variables_initializer())\n",
    "for i in range(5):\n",
    "    s.run(optimizer, {input_X: X_train, input_y: y_train})\n",
    "    loss_i = s.run(loss, {input_X: X_train, input_y: y_train})\n",
    "    print(\"loss at iter %i:%.4f\" % (i, loss_i))\n",
    "    print(\"train auc:\", roc_auc_score(y_train, s.run(predicted_y, {input_X:X_train})))\n",
    "    print(\"test auc:\", roc_auc_score(y_test, s.run(predicted_y, {input_X:X_test})))"
   ]
  },
  {
   "cell_type": "markdown",
   "metadata": {},
   "source": [
    "### Coursera submission"
   ]
  },
  {
   "cell_type": "code",
   "execution_count": null,
   "metadata": {},
   "outputs": [],
   "source": [
    "grade_submitter = grading.Grader(\"BJCiiY8sEeeCnhKCj4fcOA\")"
   ]
  },
  {
   "cell_type": "code",
   "execution_count": 37,
   "metadata": {},
   "outputs": [],
   "source": [
    "test_weights = 1e-3 * np.fromiter(map(lambda x:\n",
    "    s.run(weird_psychotic_function, {my_scalar:x, my_vector:[1, 2, 3]}),\n",
    "                               0.1 * np.arange(1, X.shape[1] + 1)),\n",
    "                               count=X.shape[1], dtype=np.float32)[:, np.newaxis]"
   ]
  },
  {
   "cell_type": "markdown",
   "metadata": {},
   "source": [
    "First, test prediction and loss computation. This part doesn't require a fitted model."
   ]
  },
  {
   "cell_type": "code",
   "execution_count": 38,
   "metadata": {},
   "outputs": [],
   "source": [
    "prediction_test = s.run(\n",
    "    predicted_y, {\n",
    "    input_X: X,\n",
    "    weights: test_weights,\n",
    "    b: 1e-1})"
   ]
  },
  {
   "cell_type": "code",
   "execution_count": null,
   "metadata": {},
   "outputs": [],
   "source": [
    "assert prediction_test.shape == (X.shape[0],),\\\n",
    "       \"Predictions must be a 1D array with length equal to the number \" \\\n",
    "       \"of examples in X_test\""
   ]
  },
  {
   "cell_type": "code",
   "execution_count": null,
   "metadata": {},
   "outputs": [],
   "source": [
    "grade_submitter.set_answer(\"0ENlN\", prediction_test)"
   ]
  },
  {
   "cell_type": "code",
   "execution_count": 39,
   "metadata": {},
   "outputs": [],
   "source": [
    "loss_test = s.run(\n",
    "    loss, {\n",
    "        input_X: X[:100],\n",
    "        input_y: y[-100:],\n",
    "        weights: test_weights+1.21e-3,\n",
    "        b: -1e-1})\n",
    "# Yes, the X/y indices mistmach is intentional"
   ]
  },
  {
   "cell_type": "code",
   "execution_count": null,
   "metadata": {},
   "outputs": [],
   "source": [
    "grade_submitter.set_answer(\"mMVpM\", loss_test)"
   ]
  },
  {
   "cell_type": "code",
   "execution_count": null,
   "metadata": {},
   "outputs": [],
   "source": [
    "grade_submitter.set_answer(\"D16Rc\", roc_auc_score(y_test, s.run(predicted_y, {input_X:X_test})))"
   ]
  },
  {
   "cell_type": "markdown",
   "metadata": {},
   "source": [
    "Please use the credentials obtained from the Coursera assignment page."
   ]
  },
  {
   "cell_type": "code",
   "execution_count": null,
   "metadata": {},
   "outputs": [],
   "source": [
    "grade_submitter.submit(<email>, <token>)"
   ]
  }
 ],
 "metadata": {
  "kernelspec": {
   "display_name": "Python 3",
   "language": "python",
   "name": "python3"
  },
  "language_info": {
   "codemirror_mode": {
    "name": "ipython",
    "version": 3
   },
   "file_extension": ".py",
   "mimetype": "text/x-python",
   "name": "python",
   "nbconvert_exporter": "python",
   "pygments_lexer": "ipython3",
   "version": "3.6.6"
  }
 },
 "nbformat": 4,
 "nbformat_minor": 1
}
