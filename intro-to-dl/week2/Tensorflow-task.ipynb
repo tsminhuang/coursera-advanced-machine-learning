{
 "cells": [
  {
   "cell_type": "markdown",
   "metadata": {
    "slideshow": {
     "slide_type": "slide"
    }
   },
   "source": [
    "# Going deeper with Tensorflow\n",
    "\n",
    "In this video, we're going to study the tools you'll use to build deep learning models. Namely, [Tensorflow](https://www.tensorflow.org/).\n",
    "\n",
    "If you're running this notebook outside the course environment, you'll need to install tensorflow:\n",
    "* `pip install tensorflow` should install cpu-only TF on Linux & Mac OS\n",
    "* If you want GPU support from offset, see [TF install page](https://www.tensorflow.org/install/)"
   ]
  },
  {
   "cell_type": "code",
   "execution_count": 1,
   "metadata": {},
   "outputs": [],
   "source": [
    "import sys\n",
    "sys.path.append(\"..\")\n",
    "import grading"
   ]
  },
  {
   "cell_type": "markdown",
   "metadata": {},
   "source": [
    "# Visualization"
   ]
  },
  {
   "cell_type": "markdown",
   "metadata": {},
   "source": [
    "Plase note that if you are running on the Coursera platform, you won't be able to access the tensorboard instance due to the network setup there. If you run the notebook locally, you should be able to access TensorBoard on http://127.0.0.1:7007/"
   ]
  },
  {
   "cell_type": "code",
   "execution_count": 2,
   "metadata": {},
   "outputs": [],
   "source": [
    "! killall tensorboard\n",
    "import os\n",
    "os.system(\"tensorboard --logdir=/tmp/tboard --port=7007 &\");"
   ]
  },
  {
   "cell_type": "code",
   "execution_count": 3,
   "metadata": {},
   "outputs": [
    {
     "name": "stderr",
     "output_type": "stream",
     "text": [
      "/opt/anaconda3/lib/python3.6/site-packages/h5py/__init__.py:36: FutureWarning: Conversion of the second argument of issubdtype from `float` to `np.floating` is deprecated. In future, it will be treated as `np.float64 == np.dtype(float).type`.\n",
      "  from ._conv import register_converters as _register_converters\n"
     ]
    }
   ],
   "source": [
    "import tensorflow as tf\n",
    "s = tf.InteractiveSession()"
   ]
  },
  {
   "cell_type": "markdown",
   "metadata": {},
   "source": [
    "# Warming up\n",
    "For starters, let's implement a python function that computes the sum of squares of numbers from 0 to N-1."
   ]
  },
  {
   "cell_type": "code",
   "execution_count": 4,
   "metadata": {},
   "outputs": [],
   "source": [
    "import numpy as np\n",
    "def sum_sin(N):\n",
    "    return np.sum(np.arange(N)**2)"
   ]
  },
  {
   "cell_type": "code",
   "execution_count": 5,
   "metadata": {},
   "outputs": [
    {
     "name": "stdout",
     "output_type": "stream",
     "text": [
      "CPU times: user 249 ms, sys: 283 ms, total: 532 ms\n",
      "Wall time: 531 ms\n"
     ]
    },
    {
     "data": {
      "text/plain": [
       "662921401752298880"
      ]
     },
     "execution_count": 5,
     "metadata": {},
     "output_type": "execute_result"
    }
   ],
   "source": [
    "%%time\n",
    "sum_sin(10**8)"
   ]
  },
  {
   "cell_type": "markdown",
   "metadata": {},
   "source": [
    "# Tensoflow teaser\n",
    "\n",
    "Doing the very same thing"
   ]
  },
  {
   "cell_type": "code",
   "execution_count": 6,
   "metadata": {},
   "outputs": [],
   "source": [
    "# An integer parameter\n",
    "N = tf.placeholder('int64', name=\"input_to_your_function\")\n",
    "\n",
    "# A recipe on how to produce the same result\n",
    "result = tf.reduce_sum(tf.range(N)**2)"
   ]
  },
  {
   "cell_type": "code",
   "execution_count": 7,
   "metadata": {},
   "outputs": [
    {
     "data": {
      "text/plain": [
       "<tf.Tensor 'Sum:0' shape=() dtype=int64>"
      ]
     },
     "execution_count": 7,
     "metadata": {},
     "output_type": "execute_result"
    }
   ],
   "source": [
    "result"
   ]
  },
  {
   "cell_type": "code",
   "execution_count": 8,
   "metadata": {},
   "outputs": [
    {
     "name": "stdout",
     "output_type": "stream",
     "text": [
      "CPU times: user 346 ms, sys: 213 ms, total: 559 ms\n",
      "Wall time: 422 ms\n"
     ]
    },
    {
     "data": {
      "text/plain": [
       "662921401752298880"
      ]
     },
     "execution_count": 8,
     "metadata": {},
     "output_type": "execute_result"
    }
   ],
   "source": [
    "%%time\n",
    "result.eval({N: 10**8})"
   ]
  },
  {
   "cell_type": "code",
   "execution_count": 9,
   "metadata": {},
   "outputs": [],
   "source": [
    "writer = tf.summary.FileWriter(\"/tmp/tboard\", graph=s.graph)"
   ]
  },
  {
   "cell_type": "markdown",
   "metadata": {},
   "source": [
    "# How does it work?\n",
    "1. Define placeholders where you'll send inputs\n",
    "2. Make symbolic graph: a recipe for mathematical transformation of those placeholders\n",
    "3. Compute outputs of your graph with particular values for each placeholder\n",
    "  * `output.eval({placeholder:value})`\n",
    "  * `s.run(output, {placeholder:value})`\n",
    "\n",
    "So far there are two main entities: \"placeholder\" and \"transformation\"\n",
    "* Both can be numbers, vectors, matrices, tensors, etc.\n",
    "* Both can be int32/64, floats, booleans (uint8) of various size.\n",
    "\n",
    "* You can define new transformations as an arbitrary operation on placeholders and other transformations\n",
    " * `tf.reduce_sum(tf.arange(N)**2)` are 3 sequential transformations of placeholder `N`\n",
    " * There's a tensorflow symbolic version for every numpy function\n",
    "   * `a+b, a/b, a**b, ...` behave just like in numpy\n",
    "   * `np.mean` -> `tf.reduce_mean`\n",
    "   * `np.arange` -> `tf.range`\n",
    "   * `np.cumsum` -> `tf.cumsum`\n",
    "   * If if you can't find the op you need, see the [docs](https://www.tensorflow.org/api_docs/python).\n",
    "   \n",
    "`tf.contrib` has many high-level features, may be worth a look."
   ]
  },
  {
   "cell_type": "code",
   "execution_count": 10,
   "metadata": {},
   "outputs": [],
   "source": [
    "with tf.name_scope(\"Placeholders_examples\"):\n",
    "    # Default placeholder that can be arbitrary float32\n",
    "    # scalar, vertor, matrix, etc.\n",
    "    arbitrary_input = tf.placeholder('float32')\n",
    "\n",
    "    # Input vector of arbitrary length\n",
    "    input_vector = tf.placeholder('float32', shape=(None,))\n",
    "\n",
    "    # Input vector that _must_ have 10 elements and integer type\n",
    "    fixed_vector = tf.placeholder('int32', shape=(10,))\n",
    "\n",
    "    # Matrix of arbitrary n_rows and 15 columns\n",
    "    # (e.g. a minibatch your data table)\n",
    "    input_matrix = tf.placeholder('float32', shape=(None, 15))\n",
    "    \n",
    "    # You can generally use None whenever you don't need a specific shape\n",
    "    input1 = tf.placeholder('float64', shape=(None, 100, None))\n",
    "    input2 = tf.placeholder('int32', shape=(None, None, 3, 224, 224))\n",
    "\n",
    "    # elementwise multiplication\n",
    "    double_the_vector = input_vector*2\n",
    "\n",
    "    # elementwise cosine\n",
    "    elementwise_cosine = tf.cos(input_vector)\n",
    "\n",
    "    # difference between squared vector and vector itself plus one\n",
    "    vector_squares = input_vector**2 - input_vector + 1"
   ]
  },
  {
   "cell_type": "code",
   "execution_count": 11,
   "metadata": {},
   "outputs": [],
   "source": [
    "my_vector =  tf.placeholder('float32', shape=(None,), name=\"VECTOR_1\")\n",
    "my_vector2 = tf.placeholder('float32', shape=(None,))\n",
    "my_transformation = my_vector * my_vector2 / (tf.sin(my_vector) + 1)"
   ]
  },
  {
   "cell_type": "code",
   "execution_count": 12,
   "metadata": {},
   "outputs": [
    {
     "name": "stdout",
     "output_type": "stream",
     "text": [
      "Tensor(\"truediv:0\", shape=(?,), dtype=float32)\n"
     ]
    }
   ],
   "source": [
    "print(my_transformation)"
   ]
  },
  {
   "cell_type": "code",
   "execution_count": 13,
   "metadata": {},
   "outputs": [
    {
     "name": "stdout",
     "output_type": "stream",
     "text": [
      "[0. 1. 2. 3. 4.]\n"
     ]
    },
    {
     "data": {
      "text/plain": [
       "array([0.       , 1.6291324, 2.0950115, 2.6289961, 0.       ],\n",
       "      dtype=float32)"
      ]
     },
     "execution_count": 13,
     "metadata": {},
     "output_type": "execute_result"
    }
   ],
   "source": [
    "dummy = np.arange(5).astype('float32')\n",
    "print(dummy)\n",
    "my_transformation.eval({my_vector:dummy, my_vector2:dummy[::-1]})"
   ]
  },
  {
   "cell_type": "code",
   "execution_count": 14,
   "metadata": {},
   "outputs": [],
   "source": [
    "writer.add_graph(my_transformation.graph)\n",
    "writer.flush()"
   ]
  },
  {
   "cell_type": "markdown",
   "metadata": {},
   "source": [
    "TensorBoard allows writing scalars, images, audio, histogram. You can read more on tensorboard usage [here](https://www.tensorflow.org/get_started/graph_viz)."
   ]
  },
  {
   "cell_type": "markdown",
   "metadata": {},
   "source": [
    "# Summary\n",
    "* Tensorflow is based on computation graphs\n",
    "* The graphs consist of placehlders and transformations"
   ]
  },
  {
   "cell_type": "markdown",
   "metadata": {},
   "source": [
    "# Mean squared error\n",
    "\n",
    "Your assignment is to implement mean squared error in tensorflow."
   ]
  },
  {
   "cell_type": "code",
   "execution_count": 15,
   "metadata": {},
   "outputs": [],
   "source": [
    "with tf.name_scope(\"MSE\"):\n",
    "    y_true = tf.placeholder(\"float32\", shape=(None,), name=\"y_true\")\n",
    "    y_predicted = tf.placeholder(\"float32\", shape=(None,), name=\"y_predicted\")\n",
    "\n",
    "    mse = tf.reduce_mean(tf.square(y_true - y_predicted))\n",
    "    \n",
    "def compute_mse(vector1, vector2):\n",
    "    return mse.eval({y_true: vector1, y_predicted: vector2})"
   ]
  },
  {
   "cell_type": "code",
   "execution_count": 16,
   "metadata": {},
   "outputs": [],
   "source": [
    "writer.add_graph(mse.graph)\n",
    "writer.flush()"
   ]
  },
  {
   "cell_type": "markdown",
   "metadata": {},
   "source": [
    "Tests and result submission. Please use the credentials obtained from the Coursera assignment page."
   ]
  },
  {
   "cell_type": "code",
   "execution_count": 17,
   "metadata": {},
   "outputs": [],
   "source": [
    "import submit"
   ]
  },
  {
   "cell_type": "code",
   "execution_count": 18,
   "metadata": {},
   "outputs": [
    {
     "name": "stdout",
     "output_type": "stream",
     "text": [
      "Submitted to Coursera platform. See results on assignment page!\n"
     ]
    }
   ],
   "source": [
    "submit.submit_mse(compute_mse, \"\", \"\")"
   ]
  },
  {
   "cell_type": "markdown",
   "metadata": {},
   "source": [
    "# Variables\n",
    "\n",
    "The inputs and transformations have no value outside function call. This isn't too comfortable if you want your model to have parameters (e.g. network weights) that are always present, but can change their value over time.\n",
    "\n",
    "Tensorflow solves this with `tf.Variable` objects.\n",
    "* You can assign variable a value at any time in your graph\n",
    "* Unlike placeholders, there's no need to explicitly pass values to variables when `s.run(...)`-ing\n",
    "* You can use variables the same way you use transformations \n",
    " "
   ]
  },
  {
   "cell_type": "code",
   "execution_count": 19,
   "metadata": {},
   "outputs": [],
   "source": [
    "# Creating a shared variable\n",
    "shared_vector_1 = tf.Variable(initial_value=np.ones(5),\n",
    "                              name=\"example_variable\")"
   ]
  },
  {
   "cell_type": "code",
   "execution_count": 20,
   "metadata": {},
   "outputs": [
    {
     "name": "stdout",
     "output_type": "stream",
     "text": [
      "Initial value [1. 1. 1. 1. 1.]\n"
     ]
    }
   ],
   "source": [
    "# Initialize variable(s) with initial values\n",
    "s.run(tf.global_variables_initializer())\n",
    "\n",
    "# Evaluating shared variable (outside symbolicd graph)\n",
    "print(\"Initial value\", s.run(shared_vector_1))\n",
    "\n",
    "# Within symbolic graph you use them just\n",
    "# as any other inout or transformation, not \"get value\" needed"
   ]
  },
  {
   "cell_type": "code",
   "execution_count": 21,
   "metadata": {},
   "outputs": [
    {
     "name": "stdout",
     "output_type": "stream",
     "text": [
      "New value [0. 1. 2. 3. 4.]\n"
     ]
    }
   ],
   "source": [
    "# Setting a new value\n",
    "s.run(shared_vector_1.assign(np.arange(5)))\n",
    "\n",
    "# Getting that new value\n",
    "print(\"New value\", s.run(shared_vector_1))"
   ]
  },
  {
   "cell_type": "markdown",
   "metadata": {},
   "source": [
    "# tf.gradients - why graphs matter\n",
    "* Tensorflow can compute derivatives and gradients automatically using the computation graph\n",
    "* True to its name it can manage matrix derivatives\n",
    "* Gradients are computed as a product of elementary derivatives via the chain rule:\n",
    "\n",
    "$$ {\\partial f(g(x)) \\over \\partial x} = {\\partial f(g(x)) \\over \\partial g(x)}\\cdot {\\partial g(x) \\over \\partial x} $$\n",
    "\n",
    "It can get you the derivative of any graph as long as it knows how to differentiate elementary operations"
   ]
  },
  {
   "cell_type": "code",
   "execution_count": 22,
   "metadata": {},
   "outputs": [],
   "source": [
    "my_scalar = tf.placeholder('float32')\n",
    "\n",
    "scalar_squared = my_scalar**2\n",
    "\n",
    "# A derivative of scalar_squared by my_scalar\n",
    "derivative = tf.gradients(scalar_squared, [my_scalar, ])"
   ]
  },
  {
   "cell_type": "code",
   "execution_count": 23,
   "metadata": {},
   "outputs": [
    {
     "data": {
      "text/plain": [
       "[<tf.Tensor 'gradients/pow_1_grad/Reshape:0' shape=<unknown> dtype=float32>]"
      ]
     },
     "execution_count": 23,
     "metadata": {},
     "output_type": "execute_result"
    }
   ],
   "source": [
    "derivative"
   ]
  },
  {
   "cell_type": "code",
   "execution_count": 24,
   "metadata": {},
   "outputs": [
    {
     "data": {
      "image/png": "[encoded data removed]",
      "text/plain": [
       "<Figure size 432x288 with 1 Axes>"
      ]
     },
     "metadata": {},
     "output_type": "display_data"
    }
   ],
   "source": [
    "import matplotlib.pyplot as plt\n",
    "%matplotlib inline\n",
    "\n",
    "x = np.linspace(-3, 3)\n",
    "x_squared, x_squared_der = s.run([scalar_squared, derivative[0]],\n",
    "                                 {my_scalar:x})\n",
    "\n",
    "plt.plot(x, x_squared,label=\"$x^2$\")\n",
    "plt.plot(x, x_squared_der, label=r\"$\\frac{dx^2}{dx}$\")\n",
    "plt.legend();"
   ]
  },
  {
   "cell_type": "markdown",
   "metadata": {},
   "source": [
    "# Why that rocks"
   ]
  },
  {
   "cell_type": "code",
   "execution_count": 25,
   "metadata": {},
   "outputs": [],
   "source": [
    "my_vector = tf.placeholder('float32', [None])\n",
    "# Compute the gradient of the next weird function over my_scalar and my_vector\n",
    "# Warning! Trying to understand the meaning of that function may result in permanent brain damage\n",
    "weird_psychotic_function = tf.reduce_mean(\n",
    "    (my_vector+my_scalar)**(1+tf.nn.moments(my_vector,[0])[1]) + \n",
    "    1./ tf.atan(my_scalar))/(my_scalar**2 + 1) + 0.01*tf.sin(\n",
    "    2*my_scalar**1.5)*(tf.reduce_sum(my_vector)* my_scalar**2\n",
    "                      )*tf.exp((my_scalar-4)**2)/(\n",
    "    1+tf.exp((my_scalar-4)**2))*(1.-(tf.exp(-(my_scalar-4)**2)\n",
    "                                    )/(1+tf.exp(-(my_scalar-4)**2)))**2\n",
    "\n",
    "der_by_scalar = tf.gradients(weird_psychotic_function, my_scalar)\n",
    "der_by_vector = tf.gradients(weird_psychotic_function, my_vector)"
   ]
  },
  {
   "cell_type": "code",
   "execution_count": 26,
   "metadata": {},
   "outputs": [
    {
     "data": {
      "image/png": "[encoded data removed]",
      "text/plain": [
       "<Figure size 432x288 with 1 Axes>"
      ]
     },
     "metadata": {},
     "output_type": "display_data"
    }
   ],
   "source": [
    "# Plotting the derivative\n",
    "scalar_space = np.linspace(1, 7, 100)\n",
    "\n",
    "y = [s.run(weird_psychotic_function, {my_scalar:x, my_vector:[1, 2, 3]})\n",
    "     for x in scalar_space]\n",
    "\n",
    "plt.plot(scalar_space, y, label='function')\n",
    "\n",
    "y_der_by_scalar = [s.run(der_by_scalar,\n",
    "                         {my_scalar:x, my_vector:[1, 2, 3]})\n",
    "                   for x in scalar_space]\n",
    "\n",
    "plt.plot(scalar_space, y_der_by_scalar, label='derivative')\n",
    "plt.grid()\n",
    "plt.legend();"
   ]
  },
  {
   "cell_type": "markdown",
   "metadata": {},
   "source": [
    "# Almost done - optimizers\n",
    "\n",
    "While you can perform gradient descent by hand with automatic grads from above, tensorflow also has some optimization methods implemented for you. Recall momentum & rmsprop?"
   ]
  },
  {
   "cell_type": "code",
   "execution_count": 27,
   "metadata": {},
   "outputs": [],
   "source": [
    "y_guess = tf.Variable(np.zeros(2, dtype='float32'))\n",
    "y_true = tf.range(1, 3, dtype='float32')\n",
    "loss = tf.reduce_mean((y_guess - y_true + tf.random_normal([2]))**2) \n",
    "#loss = tf.reduce_mean((y_guess - y_true)**2) \n",
    "optimizer = tf.train.MomentumOptimizer(0.01, 0.5).minimize(\n",
    "    loss, var_list=y_guess)"
   ]
  },
  {
   "cell_type": "code",
   "execution_count": 28,
   "metadata": {},
   "outputs": [
    {
     "data": {
      "image/png": "[encoded data removed]",
      "text/plain": [
       "<Figure size 432x288 with 1 Axes>"
      ]
     },
     "metadata": {},
     "output_type": "display_data"
    }
   ],
   "source": [
    "from matplotlib import animation, rc\n",
    "import matplotlib_utils\n",
    "from IPython.display import HTML, display_html\n",
    "\n",
    "fig, ax = plt.subplots()\n",
    "y_true_value = s.run(y_true)\n",
    "level_x = np.arange(0, 2, 0.02)\n",
    "level_y = np.arange(0, 3, 0.02)\n",
    "X, Y = np.meshgrid(level_x, level_y)\n",
    "Z = (X - y_true_value[0])**2 + (Y - y_true_value[1])**2\n",
    "ax.set_xlim(-0.02, 2)\n",
    "ax.set_ylim(-0.02, 3)\n",
    "s.run(tf.global_variables_initializer())\n",
    "ax.scatter(*s.run(y_true), c='red')\n",
    "contour = ax.contour(X, Y, Z, 10)\n",
    "ax.clabel(contour, inline=1, fontsize=10)\n",
    "line, = ax.plot([], [], lw=2)\n",
    "\n",
    "def init():\n",
    "    line.set_data([], [])\n",
    "    return (line,)\n",
    "\n",
    "guesses = [s.run(y_guess)]\n",
    "\n",
    "def animate(i):\n",
    "    s.run(optimizer)\n",
    "    guesses.append(s.run(y_guess))\n",
    "    line.set_data(*zip(*guesses))\n",
    "    return (line,)\n",
    "\n",
    "anim = animation.FuncAnimation(fig, animate, init_func=init,\n",
    "                               frames=400, interval=20, blit=True)"
   ]
  },
  {
   "cell_type": "code",
   "execution_count": 29,
   "metadata": {},
   "outputs": [
    {
     "data": {
      "text/html": [
       "<video width=\"432\" height=\"288\" controls autoplay loop>\n",
       "  <source type=\"video/mp4\" src=\"data:video/mp4;base64,AAAAHGZ0eXBNNFYgAAACAGlzb21pc28yYXZjMQAAAAhmcmVlAACzu21kYXQAAAKtBgX//6ncRem9\n",
       "5tlIt5Ys2CDZI+7veDI2NCAtIGNvcmUgMTM4IHIyMCA0MGU3MmRhIC0gSC4yNjQvTVBFRy00IEFW\n",
       "QyBjb2RlYyAtIENvcHlsZWZ0IDIwMDMtMjAxMyAtIGh0dHA6Ly93d3cudmlkZW9sYW4ub3JnL3gy\n",
       "NjQuaHRtbCAtIG9wdGlvbnM6IGNhYmFjPTEgcmVmPTMgZGVibG9jaz0xOjA6MCBhbmFseXNlPTB4\n",
       "MzoweDExMyBtZT1oZXggc3VibWU9NyBwc3k9MSBwc3lfcmQ9MS4wMDowLjAwIG1peGVkX3JlZj0x\n",
       "IG1lX3JhbmdlPTE2IGNocm9tYV9tZT0xIHRyZWxsaXM9MSA4eDhkY3Q9MSBjcW09MCBkZWFkem9u\n",
       "ZT0yMSwxMSBmYXN0X3Bza2lwPTEgY2hyb21hX3FwX29mZnNldD0tMiB0aHJlYWRzPTEyIGxvb2th\n",
       "aGVhZF90aHJlYWRzPTIgc2xpY2VkX3RocmVhZHM9MCBucj0wIGRlY2ltYXRlPTEgaW50ZXJsYWNl\n",
       "ZD0wIGJsdXJheV9jb21wYXQ9MCBjb25zdHJhaW5lZF9pbnRyYT0wIGJmcmFtZXM9MyBiX3B5cmFt\n",
       "aWQ9MiBiX2FkYXB0PTEgYl9iaWFzPTAgZGlyZWN0PTEgd2VpZ2h0Yj0xIG9wZW5fZ29wPTAgd2Vp\n",
       "Z2h0cD0yIGtleWludD0yNTAga2V5aW50X21pbj0yNSBzY2VuZWN1dD00MCBpbnRyYV9yZWZyZXNo\n",
       "PTAgcmNfbG9va2FoZWFkPTQwIHJjPWNyZiBtYnRyZWU9MSBjcmY9MjMuMCBxY29tcD0wLjYwIHFw\n",
       "bWluPTAgcXBtYXg9NjkgcXBzdGVwPTQgaXBfcmF0aW89MS40MCBhcT0xOjEuMDAAgAAAMsFliIQA\n",
       "L//+9q78yytHC5UuHVl7s1Hy6Ely/YgwfWgAAAMAANVrIXyhglVQGODkKXxQL3nTCdA5ubEukxJ5\n",
       "N3Y3Wjtm9TudkuqJ1Baz0hGofipkW5Q06+CuAACsYHtaUROWg978k/hP1xiZbxc5x5rY8190B8N9\n",
       "3ojP8sM0pCbJPhS2rIz1Wlngpbi4oxw00/Y3BNHzbik+J304aUl67LfJq94hfpNhomGLf4bGxSWB\n",
       "t0PvCLpYnyplKLQ9pKfazgWFwD9cF6Gdx9dFNPOfCmpTp4rIV164dzLxlK4c5vvosBl8j0IuqiKu\n",
       "GoCdjHVCY1R0piA3YaGnn1tnUXvk4RXiGwlZsPgxU9r13EaBmfIgKA12u8/NePKIMQn+wtQDSKiM\n",
       "S+ev3IAAS2qm/R7r+GHIeUKlTXSZMxteZ9GPxtgbLbpZ+ZZ+eP9iWmfcTL6ZV99addoJ3b2rTD/E\n",
       "PmiKqzvKwTPESlDOo26Q1p8Kw6lFozKByi0rW2820FDVoq/bQW9PT9NyWQrvZqioHs8smOY1FsSB\n",
       "NH2mYsBQ/1FEFtM92li2nzINMSBbTirJslqDaapKh7LKkaRZfX28eOKO2sCDc2iCmJHRmO8xCRJJ\n",
       "9jC/qA/ef0mFmcu3HTg0qiSg+Ig9iycWJcMSXCJfemDrlfhfU8RC0qC9r29kOeRll0p4i3ypi6FG\n",
       "H6sdzqSTc053jGG9l+wNDgzOQ+KN+BHqV8l9t/9R2k0uylltJR9oNnaSxMbxfDK0M9yWtfh/MPEP\n",
       "nbYOFEeNfnwNiw/EAMUPteUJLjtr/pvPAI/wziL6VfuwCHsg9AhO8vc7jfs9vm/fwXclJ1CO5AP5\n",
       "PtrEXMAt6EfZ1SDMK76smEWOoA1FttwfjuoSEQ863fVByAlP0TBdwYdDLzzKaVX16nypCf78kg1P\n",
       "rWl2ecoudPE+LfH51pgGQ4yI3oDjvycln5tIgv4SMqkNWHKlhAcqBm7sNq4YkY52U1L5pVfrfR9G\n",
       "JnfKx/nuaOlhli1DcETU4w0xTfHZ2muDD3nWGzKrttl8zQp5LZdG0MP1TqEssqIV7zouhn6akNv0\n",
       "KprcpnTFqpsPSMcw6Zr/wftPybpIl8JQsW88W7/jv+lXWWZ7OVWDV4XVz6ECGxqeFg5j0sE8nEDe\n",
       "GtrrFrJ5vl4V9NeelvE08jEI/IuJB10s2CLLxYcbKvluHAPUeIMIoF/1zEthsuxYETBVOlVLhRn9\n",
       "7JZuhrLIjOCTR7OYimpMbuIf/3UwNQQQ0WxGHaFnyhN+MQJ/xCxs1ZvE70OVuk2KxJavyOW5JoSP\n",
       "o9nkmfDMmS8xSrMpUmpzSP8AEAv3SgB128Vxp5Gft5erVAN6H6Asv2YiA/48SdbZK8onfUQttFge\n",
       "oVB8Fn+88ft7fZa1r2L90UBFFWlNOBMBYqMfZhG7wQhT7t8ykdKgeW34NOxKWMBm9KM67wInxBJN\n",
       "y/7tiVd49gGebtttjeKKWvihsJWaspewxzGkJh+QEFrVq6UOd0FuQE0Ve4dSA26FbdUGmReh8pc1\n",
       "J2vbTTvUwZq/rM9XnIjUSR24SyY1UwwW2wUQ/9VdUPw/cBPzoKT0ALvbBpGtv6foZFYNblaTshh5\n",
       "b+7yk36gNwnIthTVNOvDKXBIMPZe82hkHNOXiKYXrRJxoTw5Q2PU/X8x8UY+NAOU8X5iMptOLSVr\n",
       "/8Wy75IyLah4gDRnpRChI3UH0sAAE0Zbi122CGHqbayEBVnuwq8cdjSEu6pNbjdHyHDIyg0IHGWU\n",
       "EMtvxEzavP2XlIWi12KKwv/LIDe+IHM+YZevmxUGfu6M34Gyfkf4RAxg4Uey2NLmt71y09QWBSBS\n",
       "tYSZk/fvjCjo3arOt1CkpA/JFNT/u9jYSlPAPe/xLHnyN8NN4Iwbp4JanuEZFb4s9PI2y6I3Qisp\n",
       "2W/RZXaDEXojrJR1VVeW8QLshlwAESk8UkkI2vVYsFqLhwXZoQhT8RgKtz1bQ76i6LxBO62raM2P\n",
       "0/+45PBRDljAVMUdXl/H2ZIJJx7R2IcRzP9vLswzoJ5dt4+mdhoRH+WFVGDqA/I/H1+liA+OBvnj\n",
       "ZTvECP6oD+jt8YxvJlA+0lQ1B8ua1nYEoCB/CgjcWOoKmPrJjJ/+ZdKuOZm/aCMgElGbO51xmbM7\n",
       "liORN+/sv2J1kHbYnyKEwKOUkuSvsAr30YvLnMUTNXX59VkOo3dy+ee3f4tZ9p79eAwW8ZymLwhu\n",
       "I72OMki19cDppMXgU21AKCx6iFIovZrWUJFySBPdmbn/MBbFKyrZbC1aXWKnSm0YhRbb93eQHpg8\n",
       "LV53eLOmwP9s0CoU44F8YrjCdr1oFxNjocmfmLg0QSbn1dvjYNmZDS/zrmNWSgn1yeRRuqwz8sZm\n",
       "xLAcHbySAsbqbPTd/Yd+A4DireRyqVu3MEpPpewsxtVIw66P0hYAnZzwYdjLgbAC4Sv0t1pm+Md6\n",
       "XLaDrkCbDfnMAo4LQfba1oHQZ45ahn7Dw5wbzmf6aoa7z3HY0AW3eeetY+/RTAmOLfT/+cd5Gi5l\n",
       "+pOrGwybqo9OVanSiU5ScTh4K0izUKEbjXkQhoxghN8mblgQJH7C63mQLVDP1l4uoY/rgentAbHG\n",
       "aG6+Azm8k2hrTqGofIGpTRBEg3JEJAYDaqFbu6fPRqSckt+8drcNkKMGb8SwkglXtwdIJMpHnQ2a\n",
       "zg14mmTO73uXLem6VNyOqQx9i4oqb5pugid+j+M6skKY4QzJFl33cv3g6DVdyFEjyO20YSRUfIUL\n",
       "fdBdg2IM2ucPPRh+5fjomCGMj4Suz8KaXy5gR/LK6XyTRtnL+0Ns06Hro6mDo2R0jp3jKAyjCuYZ\n",
       "ORdJdXz6OI8QGruLhOyooghoggllMMW3C3YIERXVN7CwSKET69OPo2JO02S3ynZEBFtvBsxCTacv\n",
       "V3PgydoHcx6+pYZt9I34D/cGrkVqCguUDp55lOeaH74NF64HqTp/dP/OldxZRlXDZhYpXrsdyRi6\n",
       "9pHxupMbZiwDyAOurBYGXmRuX3SS4yhgfUOG9+C2eTI0uf8rMK1nyAHRYrp4dzhXt3wBqxARz82V\n",
       "0uPHUziek3/bykxpRYWI2+8HdMd53tVN14RwQi2vSif2TssKWdDu6jmealCZLO7kzQMJic5x2b+F\n",
       "uhG04E/s3gSv/6w2LpCSlg/duix0rJ+9rMR4qI/SN5FUAf8BM68TH0BXFMBXU3RXoiBk4attkEBp\n",
       "p/QbmcE0LXXg3M7Ec5fcaC0ISAZ1zFyy5UDluW3xW2p0fwoOYksSqXScGcAPpu3XNSjPJ9oajMkQ\n",
       "68F9yCjvSvyHvOYBrLLNmIbjxNYwFngCLn50pNfXCx2xqp52zDV71tN3gzi9CT99OyrZnzeu2gaN\n",
       "Bpc9O73b2F9o8fBiljrqpC9z9svm7dUEJ0q1iwXInp9XBB6CMZPz/fggP0YvzK5ObbApGF56MLbE\n",
       "m6pdFGUdrQIoJF3sRgWZx0Kus3/tiKHEhcE92g9rIul/j29jej4GA3PVmhj0Upjd1vl6t4t8vRNd\n",
       "8LwyvOlJO4trwqxjF4NxrOgZj2qZe1D3Sz/xF4ui9CDbIrbkZmYua07V2WqW0rnap3x3OrgcXc40\n",
       "r7WHjQo6NX7cNlZVO9utTG58IJA3S45lYy41ARMMbgEh3sTQInyOkJVor7iEG/Vvbuq+tpYx5yIF\n",
       "V5c/HdApqRaPW5mFnqcMWAAAIHcIDKkcd1qVSBC08OqUYaWMtdxyAHGpeRZtH13xi74TFmV13Z88\n",
       "PiKu5cazAIOeryqZFZAow9JhmCKVob+38NMBvTw9/60vgGfUjig2+KyqCiURB7XIeMWVXxrrRajG\n",
       "/nEitTbClLDRGTg7RW/rnWjxECieK99b1oOFLtzlO7Y4VKEWFtHtMqyiE+VBUPLpuPJiSH5D/hXu\n",
       "tTer6h0U92pY5Nb8UZVq3UfzIoxhLQc/Q406QrZ7OewBuL4iaMvHSBod6UEjSHBDxThEDYtSKHuD\n",
       "Lrd1FVP1ENPz2yzH+8G6KmScfheMePX3m+KKfGERxXElYPZo16BL1KVLS7V3cVtFf73IlYdeDsh3\n",
       "fZsXUDlkYLw3Wem7/IQhcPoXFGF5e0uDOA+pUKH7OVLaBXRmdrGzrHmQgzmYSKvLX6nfGHc+5PU5\n",
       "ZtnhE6dgkYvV/OvBnRODs3I27quNDI7vWiWEVj0wSfWQx3sF9ZugNq0Y2xouWIyxUv3iffJo0YnZ\n",
       "R0+IooKsiZvwA0HJwKSBioTiW9fsdvoupehdoUMW6S6fqBWpEzLHTWowTrwF+ms/Zk6kw52T2bRV\n",
       "umq6DAWjiSBdW1QHb9btHSBAObG0xWFGUXaqzBUc+DirvTxwmTJR8hT1bd2UKAvZ72NJvEhEQMDF\n",
       "L6qWLcNF7GBeEO5FGu5KBmVShm4CDpta2QfaNdj7QQ+B+9XvF5qLBA50ma9uvHx+rBF2nJ8493/Q\n",
       "FCi3RoxVNZNACIa9moQMeNuPYcMFCGdMXyrnS+DKThY2+d7+m5KhIWJHTcNLqAm+mViI8zzlcrEV\n",
       "yRP/IUgMzSA5+6uOZyPFFQl/Z84gzqwO8jrVM3Bhrq7Wo6ENeAjUqtECKI1r2m7gEjwqpfn291kp\n",
       "tG9lkGOQ3ytZZ74ZIu3H2m17iexkPhD4ni/bmKP1m8GSGtkjb8WN57EPuhKz+dulWBTGTsu5wgw0\n",
       "5b46FjVm9W2ipIl387vE4Fe/L3vF5g3erwswq64cZ36S4W1wXER0fpPiDcrGcPcRn/Ik2DkvHaP0\n",
       "5sqm7eAuVc1ZmfA88qQaNeXlOb9F+KmeVTJ45hPkEbvesXftuboqUMLceHUyJjT70cZXrF9pdeEb\n",
       "QLD8VvVMoZCAlllKjmQfsqYwX9OJxuqWT5uqb3IdSoAKubikOCJqEJb+jEegyO2LBit4xD/Oxi4I\n",
       "HCvb+9hBnLqNF2mzNd/wu1zrwycDxRfIlDoeTuL9fgOzTXFYfscGlHCdak0lvwshqVdf/8+lZnr5\n",
       "cZ7c0FnOaNkgabvsjkY1OvduIYuoRNakAfvyzA6IVYz3Bwl2nIYPnIRQ5jsS5Kv/ETtWOOkFrDgL\n",
       "MjO3/kyrb+W7Zj8B6md6aQtmeh/V4x2P5u8utUl/IIA7Y1+C8Nnon++BDGPCwatJuK6uTVsQiTqr\n",
       "2LQxnRkM5hLfhHGW1Rd2p6w6czft2BUiyyw9yGCP8IfQtJbZKLU3MUWjw31CCJIEg1wSd4UqhVZi\n",
       "7udlc7dSVY/CBH5bMecXLc+rkYdS+ZY7n8zn4dl5SbldpeoVR61qqVe8JNtZLiWt480nGEvXrGBp\n",
       "IajVFJAwu5nkDDbenQGiRCdwcl5+GcelAaZX1jOjTlsr2Q5ykLD/CFdAqq5pRAzxqU3lZOiUqUaW\n",
       "OsmeCdwiZht3tkJXwSckapKJ8iJ/5tmyYB2xjrcbAHF4ZqTaHY4hneWQSa5oVvMZwgdUd38qCX4L\n",
       "rw3/L9tUm/zSqrsxOV9DhGtrBHhakzfzW40PxcMS0KfKQGOoWelJWZdUZXBbaJYT7Ai1WtKKTzIP\n",
       "jzKK84z2ZQaZau3xDdKa/vKHe4dEE8AmShtLWfkbYPgQWSKak/nB2R/L12pJCCxT7DzbzH9w6aNX\n",
       "LyP9IoGarMmhyNxNVt0WZAnH87icd5+kJNcuakluB/sCY1BXFHkuXH2aELauqV0UxH60EmBHpUg5\n",
       "ATI2dz4Y+Oh97GOwnmcnHWfTa6/BCWm+m+ogbZmwE+Ym0qytSZ4M65kpeesW/ZgI+FlUkY1m45eL\n",
       "t5C3/Wz7EXwlTPX+WTaRYtFgZtSbnPekDlWNUtEmOSNhdYM/b6QILNrrWeMnhcC/u0rL+W3kbc9O\n",
       "j4mJ8Ieyp9ZVPE4Sql1hLO6Me7O0GBkf1A0xRCjQghDQRy128BLGpkxkIZkcs0G6y90FgHgJNEic\n",
       "v4N1qpdxvteSk+NidhgXLdJwR/InWI/RmMmXUmt7AEBDmeiqzJRLmIdmerv//mwMzmAXcci3Bs+T\n",
       "FcimSWLhF5/TJZ0RVQaNyYtuvKTGFyJtCkYANfHoO8/Ua0j0doV2s/vgTb/Qj93SMYgZQWxBZ8QX\n",
       "Z/5jCqks/Q/6xb1niGqMWgjbpIZHb4xL7341519P33IXW9Fteoylw1kba7PRwDtqKuLs4FSw42dV\n",
       "jj3a7gtJ0h6n4rkf20bI7BN7eWJ3HUWWx3VAmmrIj48cSZwHNa4Dp9tVHDAKKEmLURi7fgr51YXa\n",
       "3CNN3VXUlkLRCTlvHB0Xed/iT+yV41CvBw7t3lbaOmKUAiDHVvi2vKrbzQw5FOyj7ppOWQt+bo1K\n",
       "Kh2uNNC//yszRZsE20ecxNGzcr+Rww18nDX68muv9ZSa40ElA71XG1q3s3vbEDemUZMhY/Bezcma\n",
       "6rribvBmHSNJydCXGTuqWV7znnX1uRN7j3zDaml2j3dDNYMmkAIXzxk04G3i4oDxRRKp6tRCNRVt\n",
       "Sc5fAes9I43SpJk5BaIiykPkUOQc7771oRIoyUr+/YGXb1Pr4DJVDyIpneBZs6jM0PfTquc6FZE2\n",
       "3fyhxMOmi6MRsX2PD+FfI55ALdRfWZjvFq0TbrUmYGrnh7u8hcQWGtIq9emrQ++lyLL9ddIlL5jn\n",
       "xyXkTdr37SuBNvGO0TB3Z5OhZsV9nW65Js8fUKhFnF4B29w2kFD77dA4B9F3ID11haYe5i1koniD\n",
       "LmuaJwSYwpLK+KziYfIbP2YdBh4Amk5N7OECibwNyUJo7YplsIubJRjyAdY5oPQ6RLeIV+SfTWMn\n",
       "y/GNkglApkln47c4wzSlZRq7HM92N1xiPrwDyyy3xJkr0Yq8lmadgtBo1WeWQBcO6gywTGiNVm0E\n",
       "jtZbacjkKE6c8ISJ76Z9X6TECBTuSI0ZIxTAwVHPdfrQgHVYEvjXrQLHkREMz9rZrosqN1Elb3XA\n",
       "TfR6//hamQYdCkUnp0uzwc7z8KSkB22t9g6ApAOnIp9xuF8hX3WEnTTJ4XMlj7T2M13sVg22vutg\n",
       "5uJ4xm4ZxcCbzwpFyzfpYWtPS8Yx+CqE4jAsi91OuWI6cvSsWzhfufybPSRwtYGD6XZxbQ5v6G6z\n",
       "FgjwB2BJD39XMJrFME90TTII3vu3VlrLIKxSC5+B3Ks80mo7vPsLb7Iw8SwhD79OVv1eyQeC6e+d\n",
       "7iPx0jWLZwMnAmQgYIU4uAtCSy3+q2vqQ8Tfb2Ji9yahtWzAPSTy/kfs6FhTv6Yr8Zk1K6bhEapp\n",
       "FsiBGX8T31VLuQigOuckVyzOC2j7UDGcr4vIK2M5UwU7+1X047YtK+3BWXmX5CnYx8FbPKKMFzCo\n",
       "i0UTSmZcFqqrauNAxFXMp5x4E2u2pl56kjYQkXK358W8P8zS8KmLoxK5BNJRwdMfTJQRtMUlLn4J\n",
       "zKAigO+VjAmLZC4axjgK0KYZ9P4P7DNLjezi/Ch7M6w8jabi/J/9FFU0OjG1oe/f7T/W4miLB/1F\n",
       "3X2DFbOivYCV8vhzaCoZD3qeTYKW09QcG/J4Z0AB0+jvRm4Am8qvh7owN5vUSKCvdbuCfyBauek8\n",
       "bGgRwXULKbSAqEZXeYgUWaXYMmn1Fc0EkVGT0tWs6R7NDmIggD6yab2bV+nohWAgYWbM0pVdc+q/\n",
       "LIGUzd2RHk2AywzQNxLva5FCl6xjkGil0WMjHWh72q+oHi5y06LOxtVUlF9WV87DA8HQrMeBg0kB\n",
       "x+PaPVLR7fkYNoHo6OIUUCr8Uk+dcm+k2LDOPqfNUVHTvhY1cvVmIPV9KBc8fv3zhSb8x2q9y3cW\n",
       "W1zVsNMcM0teeMDNads2Vl+D5w3xpmB6jdMvqeKhw5k8RiZcrY5OCg2NzfdU4lDyavv62hDSkuaX\n",
       "t3l2LaW3lqWQEVBQvMijPkS25jO/UeGs3/xycWAExv9qFEJvcvlwj+8FTzLxQvm/EmdgPc2rZTGT\n",
       "1eA56XR3klJO6LgEadKgm0jiAnaVM2B0690rSdanWoC8VpQVTgb+nKOcjfUS32Ck0cGTAU9yu81B\n",
       "havEKE/VHq3Eorvx6mD67KUuavQKvJnFvmSh+RIS217MQy9FflwNtQGJSu0TkmInAlBxY8Ubud23\n",
       "etZs2GkcmEyH+KyitJc1X4323NMYM6PcYMJgwWE4205LO5ClwfNy2nOfEjo5stmk49I9LbrfpNvz\n",
       "hdoKwCIMmqCs52zlxrkAzgzYvkwUm7FNhh+MrSQi+OgC7wV3TCGfxdlXQ24OHrl7VKuKDVXdcukp\n",
       "DGDAH6G69jjw3pyc5oRZjpczfI9tv1pzZ8bdwLTIViU0xnXjizBWGm7IfWiMTohEkG3+DnWm2aSG\n",
       "H52y+mcLKP6IJSux6/HQ7TBuDRli3uJJljH3xR8SZEU/aRNsU3u/W+VFLDUH3sMal7w/CVDo62wI\n",
       "YdGB3pKSz8/Sp6at8uFvwew9VB04zECEHj7n3WTOb0xcQN/rS5BXVG/DWG/md2ZDvOCCGzqKWSUp\n",
       "bJfej9N1ezyJzDTrOyt1y41RE8HWNGN+cmZE90T6rxtgWxFQfA9V7WF7/qfiV6WUcj3QHKSmMQtk\n",
       "6FtjL0R/EfqHD60sNq106BIPnbx3TDzkbG6vYauX3YnfA5PM27I+5RrZJAe3pd2SRdpSECEwqZCe\n",
       "jgBVpZ16I9D5j6gbmYAcDYVtRjc9H0HYq2eQMnpaEO5ZXBm1g8/LkN47ZxbJ+ikQ42vFjrS791Un\n",
       "m7donFN89Rv8H/hNC7wYLzytQ+MfG+B1OpdlPZvqAEYYN34DfcNlM28O3/GyodHN8C4IY+W5+Oaz\n",
       "MsGbZL6KVHbzt8+6fAPkvTK5/0TGJedeXoMmU7rM4oO/cUPSTdaPOk0ayOb0ehieUXkM+lZJ5IW4\n",
       "shW2MXtozrTDoUsNKdwJmWmV2RlANKvy/aPxBMMQmtmpthv+z/FR6SW3mbUBuc2mSemY8F6BJV7P\n",
       "31d9sIgGGHOBYXgr0mm40G1cUn6Oz7n4pdFTdc6jF/8Wvxd68qBUK45YPHRTgWnetGt8dfC1LMLS\n",
       "FxoBZgWxDGAohCOqXJpkCL9AHC0X37yW2jBYelKG67zhJwSpmWzm2osBj+udgcpQzDbQOSPy4Ggm\n",
       "A2jV9MMiYHYdQugI5LBzNghQJ4kqFjSfYN4WL09r8QaQ5bqUVO3vLEwOx5syXNwGtddlgRFYAo2x\n",
       "Dlt82emkWuA5PvPgy/sb7Les5t6JR10nEPBDgJcemLs0h2CQPLjEdgnj9+6Otv93U3v58Hbinx7g\n",
       "331jJRKCnclCtg9PVVOPfx/lfqPZVJJAFY1hjGCgFuzu9pgD6Sce8bVjdSMYFNvVLDIXYPqAzg5f\n",
       "c4OkNOXvvwY9P6F1gcYkPlBQzh0WQNRLR+cGaUaWj4tmamlowLkwzm6xa4iXu08n2JgBKX55k26g\n",
       "pWqGhGpiszk8iSFQhl7wQz39jGmlbSlSAtL+cfA1xg8SCiHl6lRZT3aG8GeODRTk5PzPmXJqhk99\n",
       "KDtpFDXEW+ir9EmOA65Q3wzmvMMskiny3QoIZP/leoeyahcQQfSi6A8gwpmBfC4g18Li4efl2oLf\n",
       "2Tv6I7o1FL2awEd9oA81+LuX72XnwpzNExxolYVu027aKYT4Qa7ztR3iR7xr4gXxIOS/Wj+mEDVc\n",
       "BY6lM1AcsIXMQHNr1l01SUYEplOWHM2dLR93iyVQArG6Iu146q1fhnHWnEwdRq/b1It9KUTz5H70\n",
       "GmbFBCIRDEnplT8+F5XD9RZs+VZayEh66m398JFEsdAjFhbsW6H5R8v1w/D5eAdaPqFcV8NqXPrm\n",
       "i9EFbHnF+V6LKgn9U4lPM/ZqwNuWVtWtJ5XE7P8YB85PCdcDG7TOS3jdU7Un5Os7y8DB/KYWUFZQ\n",
       "0HLQzEFtRMVrKT5UzJ+3NDZcPdbdsLkvolgfvtYSzfZud0C+af1CQzC6WsOoZuxnW/zRmdWA7pLd\n",
       "L+FTNqiVMqnIv7JQ8Dx4rHKNu++lUVUau6L5go15s5mnFagoGIowUOptfjYFIiQadgHjyDcxzQ9v\n",
       "P2e3nFJPEwlR04yf8BnKgiD25fopIAzGgK9yOqztu05iSW4ouTIehUq8VMc0hAD77H8jA9Vd6Uqn\n",
       "fAmuEfTZy9IWy6jJCCSxGNVpT1MeyFtGr1jRQaNuASBdt8Ejdr6UP6g4S/0p8BQTz7Petd3YZjqO\n",
       "agUcZo3g80Jz43MgIJssOlQlmdmmQ6aUxfVj85ugdOGGPwo2e3UWRkfPecEEP8LfZjYWUcNc0afQ\n",
       "zLSuH+GdbiYx7OB6693nwIfYG0bDH2muSA1GpqYjAmPtwGGMNlxMreUXwOv87sR1CF4wHIEc0WYO\n",
       "NLeYkSgx4Y2+xwBQSYulb97E7OQVBSAcdSXQBgXPMjNLckZpwtbPjTywmxRiMM9sbcHKvlEkt/N7\n",
       "2uFQVs/2teY1eCjY2asqy1Uo4kX3LYTyTKDfXdaVfnwM7wRVPFB8bhTKPx8YRE076OhYM0/c7n/V\n",
       "OdsRjYToYyGIVUycfVV1eb/5Y6GEZuQmDJY5w02A9WsiIgd281dYtrTgLkmnhF9NS7kfNF3fH80G\n",
       "5BeaAia/ZdD0h6AglruQWO+enCoogNzWi73DyRSCS1QTylRIqxw6Ez9gu6UasNNdKHl7G6hdHlmo\n",
       "289Ko20hZ2B+E91Mo+4bCtYUujII+2iGyswBXaxRs2ll4YebjKsmD619bh/bxo/jDr3cklHd8lyW\n",
       "fjWF7itKlBY8+JLDW5hLGxQLtjvLbYinJuYe1DqhbaGDUv/fw0N7R78n424rKkpTBHiusMTVG3+j\n",
       "Yp32SHkW9qV5p5trgXP/JF8M4vt/4OmkLNJJxBBCWSyvaJlziTM5lc2f+hBC7iV1d74C4MvxJkXH\n",
       "fD1wp0yZqMK/h+Q3GhaYcU49bTFpohVEJ8fBe3VRg6TTDPAB51fkhPoRVUZt5SgsKjD6h6rbOjrV\n",
       "hrFb0df83pd0pKUtSa/2nMxVkNXfEL/hF3O/7/MlDx0Gy+FxRG5aDJzFqJBqyofwZnFmXbfZRgm0\n",
       "+0yW7J3hFpOVIqy0BBwDjqVFAFVRxvGlfhx0R9cULSe8cdEkZlEOAdBN1ZMlGjXYXerxhAsLjDFf\n",
       "xSm+6XKKCplytlUrRZbn7UuszrzUiWy/yDoZMHYWjoIfqlCG/xp8qFcy7ANnJpS2htErGf9shgJe\n",
       "/yI9uJTJ4OunA1PYAkLBlqxkmjOV1a6HhUWdiMJLAiKjMMqTDRx44lbymXcalN6S7H5i0VuUivPx\n",
       "uBJXY6Zu2i9LTIzmC6zeTB98ZQCqJFEcRuR2WTfb8vOQb5BltozUQS20b8wJ/5qi2+XfxOb6Cgl0\n",
       "Zu9m59VxWW9S2k71Jh4JqiyeVoEL5ca3nqLWgWM891TDaGx2jOJUgtbEpixuP94UBJES3gLcwGZZ\n",
       "Cig+uufUE/KRwLjWwb4zkFkgmYZQJAT9SitA2GaOYlT++BvVX2fmVbPvW3Ih5sGJieAUduBq+OKe\n",
       "MH0eu0b8SuhcROuvpVmZHgGBTa3PunKTcTLSGCElcGrj6ISjZrshVUd10/bSqzar3HMN1jZ9dxE3\n",
       "jq/MrJA3VQ2p8Q70Rx0LFqqd8DbJkSmTxnDhXXoq1fyclETESmgGzc5uuASxqUqQKTRwUFhTMPsP\n",
       "aDrWP0S4WdY4HK7YDNc1nuIe2F+iFZARAxgI7muBENZDqzpM1BI+2QNaOsAZlZK0HPE7HBNp+3j6\n",
       "4r0y+wKwcxLMyyC7t5ciiqEJduGjZZe0wvOF8mzqm51I/8ZtifLK0IX5bjw6R0pqSbcZ+qIG/Dib\n",
       "ETxlMjL4chRfxIKkDE6VsbE3G1nrk/IDg94auIe6s6l9kbTkRJAezvbtG0hweSqbkbpgi5vwoWkD\n",
       "mriUbqBFIi8obTK0p8lRljcsrJ6LYIXFYZW2NipcCkHDzGRkF/ZIopDUWayUBgsiZZttUVR5c+Di\n",
       "oIaVLP+METM++WGvxba+i53oM0tTsEn+mZP1V7s9lH6nQds+CvPqi0XIovA6qMenbaEy9Y8NbzXB\n",
       "L+/5iOo2+V14Ls4ARGZZ2mFtcXh4nd/sqgskOOsfPSB8iAW8aPwKhcFIva0d2jxYe1gDymd+/3ma\n",
       "ZPj5Zr4sw6zutQXkNkZJJ9UjbW8rtK3gxO80wLe1WD5KuBfUbHk8HJ9dzwp7vmMotHojSra5nOts\n",
       "ZitetGo2yjlFbu2uyDA6hU1u4YVJ69tsWB+Xi1+uLl7gbXacLzw6Xr6lXz57vm9zHr+QcBrAM2o/\n",
       "5bagtjWsq0bF4KJFTIYTDCC0rmwBYZszGJXLD0kArgUmzCfC7jlBecMZSZEOzmeAYLI9xQ3kAdGY\n",
       "+QcC8bPMCDXeyPcMoTGRd4reP836osbsaLGMfW2UsVXvrhy0IBssZMVbga8Apournh5KRR6EYyvu\n",
       "rDFjTRc7uN3Djp8CVWcCvkfeT9fMd+VS98OKnrBEV9IKg+F8WhAbzYOwdURkWiK9SUGEvjHBINAk\n",
       "svoCgVP35RREEMjtyTP0RlJakqCa+ewe3GeGKTgxg/RWl9uxIhygMk87HVkV0rq+J2rMHyRgsE9B\n",
       "7cCi8PJhlqC5evAD2TPBH6dz2wyatO/H/fCV9xU90g9/6E3x8uv/zgwojp+ZLRqEJp+gF7S2HVIf\n",
       "RRGQXkOdQdsoDr0F608TZTnv4trMzaRMqhrLPclb+FsQ75ohfj9xckgF9jSOqhP9FTgM0ha9tj93\n",
       "Mn45zfKWCUpiARkIDvofLr3hAaKBd/RBf75NewTaXDLM+aqrDozWjgHDjqzO3LFTD0wGD0kPkwbh\n",
       "TdEjDSe3kibvlV3XOz8dPhWQiCNADEohdESnQS+ReID5NMdFKV31I3nWjGSaVdDtuDnvvgBPZphb\n",
       "t2YeZK/8oMzahP16N2wxLqwanJlAqzTd6tLHRFI2qXcQ/wzQqByODBJNIvUsZhagA10ani6WKYXx\n",
       "wk5eNnmGdrGW0inGQ0EyqkqP+iHt9vAQ7BYzBe15NsfRvXiT6xzErWxguJ/vemKH7hT48mHT7+GD\n",
       "PUqX4EFTKxiM3Ac3RX5MX+A5AtiSx3d+HGLNuygK3HXwPm3nE7cSSDilfX0USlkQqfuIfji10Mec\n",
       "Lu9rcfC8Ucsdv6rno6dMPL99Whe0qJ2F+mDIVLhR247pbGogzoaEyjOO2449abG0vEbvgC/1V+Xk\n",
       "GHQ5uv6HlHrziP9d0CqUOh09pZ4VlrA8Mqzbl3muwfuoIzshAJUG/ukNovtMZmDx895wBSaGJ74l\n",
       "aCRV9yY3m3Q4//5B3150TF4lwoSk8QvaAcLqNs5PwhLWg4pzilXZsfnSkll+uFzdMlghJdnk3nVe\n",
       "QjRIg7Zl+vnyCfxyriDycPXdDcRVGgZ2PkRd4SPrM6q3irx9rtqsb7ea2nNMdDtYJ5HdxDwbNI4X\n",
       "47MZUnrF3tXeA4poz9JEYBJS+rjugXdFsOKHRP7h/17QgWisim8rLV1jUq6XRzNIaoMFIfWHdWTi\n",
       "UWvBr32H+9rBfavFa9Sssz7rzX6GhHJxQzFw0rHQOsNW0th0JVJX7GchB6fjv+wzJo0i4Oi4DHIF\n",
       "5dnuAXhNjxq6whOYy5/GKV6+1EZ46FBkaeWUCuQLEZ4Cj8kpwl4F+pFiHgMD4OTytTBH3XOJX9nY\n",
       "GNihwNl54z6rB/ZDp31P+shMTttrIYd3CJiQbnskJ2CZdM+B8MsMOgdZOOM4FY09/mah4bH97+A2\n",
       "Inkow1wX/ulNXUKEHUQDokDsW/n8Bk2WQQh6UyIqV9V8ZnHf2yXB7wf6xurzCh8nBzrfS43SvmV/\n",
       "XtRHdGXuNj6x1cfs+TdPKh2xI1O4CgfSTWYK+Mjiu5xHjawBnf/Il1aWUwUnP4PeiM+7LTFXpC4s\n",
       "V4vbDzNvcBVQCjAPLz8nRIXASaEna86rD5XW7zjjlAPI47uojw/LZWN/FC51lQfM2zYkNt5lvlM8\n",
       "SKD/1h421NyPYV6yp7m58gdoS8keLnRNNiDInxrydK0ALfsC9CwDWj5LFlw9f/iK5H+b6EXvWPyI\n",
       "pVoi1Mc78dv+ZKqdQmK9wnTeLFXHOIxsloqCIwAVhlxsv5l417U0knpxhKPhPwcRwseGldTd0EtO\n",
       "agjDX8KAd/mAwNY0u8CuKjD7rVS5EyxrftW38hAjkODvf+rLmSCJDaUT5uVfDWM3Xdtru+MzqVe8\n",
       "plkU6V3x2oy5wZmqcEV1gGOyMaFwZ7tOCrI/wvL7ZcSLHBBCG7U9u64jPjz5X0l9SIfkfbpckQDZ\n",
       "lzKounUJVnwogk59ychxfIOvhksmPBRCLS4V2OMgpgM+q/HA5pHSmlcxJuSiqed3NLe58QdeyoE1\n",
       "vlM6+sf1sWW1HE5UWFIxDZt67ZOh0cVcgdd5jzavRPKkE77LWcBP+JCqFtoojdj31ALR7Ez8Vjbr\n",
       "YGl9c7daPb3EE1k84T6XtlNdTojGLQMEcGA/UWW6g2KiM6EqjwiCw7D2h3YHcOtl6rNKq9MEQYWP\n",
       "vtSfbqWwaZkoBTAYpbbWuyPPuNZTVDYYBRiheUhEwoQYPv/O6GD0/ugxKivFf7iPwxE2wPk5OpK3\n",
       "UMQGKKahy2mt8DZ/HETv7/erPPE8Mjk7tF1S1wnC8RgvJhZ/dsoytRH9q8dRgMY4VNYm4lwqjKvU\n",
       "ERCApwWSCjFw9SGjrjhdqJ7HW5alDd1LlghoKjf5Gi+lWPKlwZ34UmiEu8tuP27dM5Gy4Zfxu4q2\n",
       "W0DGh2JMhzm/DH33CI9Ct2w0JcoGKn9sFl30MgruKvyvJFerwJgB/8dh3iEdCDy2YQPxhoTSAJEr\n",
       "3rFJeGVMom8iXEPwPedV8/AuWp2I4iSoxzeu2xvVd9iwzDCZU7jXRC0/WqMnYhHe8L8t7psh21se\n",
       "Hy8vHIQqQYnyblGhqM7wbOIqrsmj1IiCd6GwH5OPd/sqEati6bSPyVWbV3XrzPxvA/D3QdkRqDWf\n",
       "po1a2Tt7RKDMolWBCEZtW2s38jRHz5lAItj8qAxJtIHGtZ41/zupoe8KmBhh0u6I1eiFhwOwj+r3\n",
       "CbBVeHfpG0eIMKbGiE2MI6I4kFkhVO5www/+3oSvmDNLI9caKu1rhONmyB3FjrcODuEdxOqJpZ+d\n",
       "pTdrq4vj4H4gm5PdxdY4qepGpVPQut2XpTch19riC9GSHetHZrjoY//O2bYyEjqO2hP50BQdK0l0\n",
       "764aNAQbOMP8AFhWTVX0HKtjGObFJ/7Az8FFKm4/7eHinDlqTaazQJu4Fnzt2v2bSzoBHxUP8q5V\n",
       "ThwJEMKRcE1OElA5EJUyBksygkqfMKGRxo9PSlhE/aZXHr4R34FXVdTwgmtxYkeEeCBLLw9ojneY\n",
       "b7Xe9aT1Cb5A59UwSd2dKzt66th4fRGv6ugZEc8Bkws7kYAw4K1X4i2pWD9CCbpq7x7xeyo0P7rz\n",
       "Y/wzs40TUNq5fVuc5vWN2Mv9wdmbspJGL23O0wC9cRIRT5O3m5R5fWLLZjV1CF7VNJLhnvJPxV9G\n",
       "6aOLnGbvdhIptnHBL5zcQzoWFi9XcWjOzgp6Fcna0aoa7cApucPQM0lLBEiOQpWfFH0UcXNeI8Qd\n",
       "JEShWgDwSSMhg9mT8Quf9nfrK3BFNVTkt6WXmoQixgbKuW/DBpHtcAx8e4vWrRELHsDVDOgoa31o\n",
       "Ob895ItxPgZAFXazUi96LdMjIkYQVHywac3PEYyp7hzfS8g1dBPC11MprLfGgHKunofPUbJ66Yut\n",
       "8xPVO1UzUPMIQ0oc9QYvDPunrTbFdOgPDz5F3fo10YDlv5ZrNXi9H4i4jHpxVcFyG/43II/oEpJt\n",
       "5LALCdOjEzD73LR03uvM8We8MY94fJzhmQHBtyoCWiw05nf26NqFs19ThH2GR9L0zX08OkK2We9I\n",
       "zvBX6JBJOVKHeDsxPe6LmDChsy6V8MKBmJFf/uCAOW0yOIv91DzlQFlHT/mobhAzE1HmCv/G6Rcm\n",
       "xAjdjcPk0zt4zjrO1MrhFBzo4BfOw8+lH2O0naXO3X8AfY1Z8FRW2sL9W8JeCq2qftLdWAOPyvLm\n",
       "jwHuuELUYSyzL58ePRSlBnHLJ5u+YA5EA9T5vyjjOphde8CPFxtGcwZ+34lzrW+5RGTJmn/ADh6b\n",
       "A9ihMDjoJ8V1SiTgU3/WlvvvtlPkeyyFGhJPUxxnglFSAJQUotOQEfZeMVblVEfXOHLR89RtZvCo\n",
       "AN4UacraU4moXFeCuRGOfd6s2tqnHLrRQBVfUeto0oCyUtaF8qyO+uYnuQVaZ08pKofSr7sZsEPJ\n",
       "utDzwGXEs8kyv1Zkh/OwNaOeHJE3VevjQ1VqnICFHuWEPei0S5esywiVGPKucdWvgwbOgLcWJznP\n",
       "6NDEmM+pFaaP5g0aeHOExMtRrdW2u5nqCvhGImNpTQn6HEbZbLyV7aCQK1pnDenLJ/EA7FT3w9Bk\n",
       "9B/Wh0iu4OLSmQG8KJ7aRvxt8sBLp/cS7MQbeYFZvRHpYgdhTlMUVEtw49wDcQwpwMkan2eJWjOm\n",
       "Z16MLh1ZuYyvurY2ARAFFO6gQilVwkAQchQOPEnP+pg50NgOPnNXsmjuDgQfDST6btSFrGQTDRY+\n",
       "4sJqab07xgikFtLSpBBn5aLUztp3b3pXssSzF43ApNNHn9etPhIuEOaazpLQIeecBWVYbCb2kj1V\n",
       "XwRXpiPZQ87TipbYbjYER+Q5sFM2fImMSoOWJFcme1BY65wT42VIiV/KZ5oDu0NYZJi10VZ1+IL1\n",
       "tsNf5EeFs3PYGxTY/CSYArWief7iFbxi7Ic5TGRZqQLfD6c4JnK9sUDZD0ENt1rWlUGYcnSmBdte\n",
       "SjAB7EUxlBL6D6jvaTbqwe5rADb64P9cJ/5LpyAGpIRyLaX/DjwngkBZQff6PiXeSwo2ijXLAjH5\n",
       "YFr+Ec+TQ1dI2nfTklLz1hJAAp1Qbb45+acwvwe1nn5BhSOYVbT1hcyXvYeVHs4qjU+DPtFAESxs\n",
       "GQM08IYvoEHowsTzZE5FSeL5BfwlVnUehe0Brim9lmy26kPQ5BUmwb6VtgyTfOvzFfXMvY6zS6DD\n",
       "I0TiRDybUoU9yx4c0ZuA8OgvTCi+BkGm4SxIJeWHslVJVImhz/a+Bwk4Mg4KYmtb7wLjOor6pSr9\n",
       "27Efbi3+w69buPlqOIedxVIUIpns3pyBXT0iYdtZyCa34iqiO4t2dAjAULknDoKaYsvaH90chC2+\n",
       "4e7+tGOkryLnuzRW73EagFbcr8oAYFbPhN7avTEJm1R9sYOjFzpr0mdrmwXCO4mDqIRcFAc6vqad\n",
       "oB/sc5xEVpSp/ogM/uX/7YwpSubA/gNIFzsDFFuTPAOLenhoFbU8un54opygPbCNBszKhPacOs20\n",
       "LdTfruxzOIYVxLndIs6raU0On6pYIfBNu/X4/2YO2VvaKPOipaQrmui51znLMOjP9frCrTlzNzCg\n",
       "mCS9JCAdk5FuspvgOMHuQtRCoXjHtRpxpfxLpL9yg+bVT2y0hQ8i+9fEtUmO8IJEoAzavnJaUaW6\n",
       "qs1LMMKltXUUbwPHfSJsBI+aOx3/Rog55dU9ZbHf4UCgAeiMiSL3LLYqq1JmdhdDGHEAAAKRQZoh\n",
       "bEL//oywCxc/thUCgKAWJIX8LkasjCNnwNK1F6hx7Sw0K/vzHleDMKloZrdqDVUGi3Wk0W+plc8M\n",
       "QL2P/LUpGPVRTIpuc6kzo4oTD2cJJf5fSl0tZoiV5+R8iWFdBVsIjRF9oCSD5Hwvs/bePBbJVC6Q\n",
       "Q7VFQEZZsZK5a0W1+z/3aQQsjugkgz+wsi+V1OQPKVXifkthJXnI/I7bnho/hMzgAEv6/l25Uwxe\n",
       "c/eqOI5w3t8GcwECK6uC2PUongFB6E3obCEuiUFdhVQD9GMRXP8FemWvgoYbvW736q2UhpUhzzEw\n",
       "Wg4EigXBjBh1xfbY0SUQqpuGSJenICd/c8+pkqc9utizt15/QDt1ENteZnoCSea0ERxb5LBhk+qt\n",
       "QfnEgsmSe355x+1cj5geGjBF7Yw+voY9J2Mv9gpjpa5uztHzckgsIRjDC/AqbnyWAK03zeuFtXy5\n",
       "t5YLN3du5YzvpCZeAq/Ll/m4Cb0wcOCtwEUPXt+xgBNrXC3qj2Gs8xV+3H7hQOvkbwf3tSoq19rJ\n",
       "bcRy7/iuJLOSETTUWalo7NkkaChSZ/S899twlCvdIqNSRFQn+JiBaNc4JNuDBJERGlRtLoGQu9Er\n",
       "GL9KJWOrMCESY2wrClVxtAfNrr6kWSc1RNkLf7j5Vxi6vSfyea0W4MwSH1fQwaIy073BCwVes3rM\n",
       "pjyNpXlmzMwETUjW3SNRb2RvbrX1c4wxXRs3YOj1RHADmqb8B24TbguwLIFx8PZS3p4+tOMAoiyk\n",
       "ToR5SBu+KSI14DrI8OYC6BTKPblGmkIWJJxi8E6eeokgHbjFlbBhqXBGHjVF7qOjyOA985sE4pnU\n",
       "/u2yQUpRDXyAY89due778Hzt5n0JRn4THJXwAAAAvkGaRTwhkymEL//+jLBsa3bnuIcBT3Oa0KCm\n",
       "im6sRNOW2nRC5yfoaqKdu//QH+eIIHfNfwaBro++Cnqbvs1ImSTrW2oo1MATXgjhUJR0lRlVj+lW\n",
       "2HT+KFcyphrhS1bevooAYPB4UtHu1QV5EewD811raZ5OGEjiNlRML+oucMrn7mEK9gkzicOZs4or\n",
       "gFANbHcny7O2MYa7mOM2xrZYf8CJDdo2Y+39e0kRcG8vW+woiJuieiYwmPfc+eT5hEEAAAAtQZ5j\n",
       "alPCPwUz3e2s/6J4Eqz8qXzO+T8KfgimcgJy185+bLA7MEq78N/+DuFYAAAALAGegnRH/wfifrCm\n",
       "ZnTyEaJDethSEBAVS0ao+vAAJlfIKgDaT2FbPeaTIo7BAAAAGAGehGpH/wfqQXeUalCdGt1XiedD\n",
       "a4XhgQAAAE9BmoZJqEFomUwIZ//+nhABBlX6RENN3ghQBVuPZPPODGmIGHL63LNJWlsFU4nsKlJI\n",
       "xJutiIrvm2he6/Jai/Gc6o5Pu9PqbOGtbR3+5ZJTAAAAgUGaqknhClJlMCF//oywAADQWkqAAoQq\n",
       "Lx0R2syIJvnrvLuiAu3q9xgwqHboat6EAcJEUsCVSAdmC58xd57vJ6IabymCAO5+T6XD8S1zvaEh\n",
       "qjBnG/e72iPT0AwGQ3Gznj2YRj67qcQf1EqE2NXzqQLqirjlikvdEuE26zDVhQu04QAAACdBnshF\n",
       "NEwj/wVZ86jsX1Rl4rQJhTh87lPABcXNYkziJa9aTLzDVjAAAAAhAZ7ndEf/B+KUj4Fic6ygnU5f\n",
       "bAAW8GVTKevEHLwVjlbAAAAAIQGe6WpH/wfqQXeUalCdKTy+4AN12X2VQoW1PBUCKJIBgQAAAHdB\n",
       "mu5JqEFomUwIX//+jLAAAMoNH1rQ9AAUGv7n7P8XNK9eCyXB+Uxzt50GvEWrmZTQ2WSxG/niE2Aj\n",
       "+3SnJMOlhq9bzzJYBaeJTih/Fy80VzlLn40W44w9fJ2F+on+62004L0I1lOWrdhbyBNAGKThjHdr\n",
       "mSfZcAAAABdBnwxFESwj/wVa8Ell/VGlg8oV7fHPAgAAABwBnyt0R/8H4pSPgWJzrLZ1fAAR1Lp/\n",
       "bNl+rTIJAAAAHAGfLWpH/wfqQXeUalCdJr7tMACWQ/kuutjrqCEAAABiQZsySahBbJlMCF///oyw\n",
       "AAGUd22AavjUyKEximhb9OQjQ0795lpeLgILHYOGheBNJZtYECDp58e7MU/sMDXWHrBIoFoTEnar\n",
       "Mh80+dzImLyVi0rAWY1nZuKPKn4ckVlqsyEAAAAiQZ9QRRUsI/8FWvBJZf1RpYQyrL2wAJZGHISt\n",
       "YMbX5h6KAgAAABQBn290R/8H4pSPgWJ/KjPrkOE6+AAAABoBn3FqR/8H6kF3lGpXSGgABcVAS3aw\n",
       "jw3qCQAAAEVBm3NJqEFsmUwIZ//+nhAAAYffzcAVv1xFBRParnncTx7AUYKeRgIK/JSwFe6pRXsp\n",
       "R3M8uwvG5FqJ+7eQDGnnSEdsG9wAAABaQZuXSeEKUmUwIZ/+nhAAAw7txwBt4OwcUgxiYsNLfi9n\n",
       "eVWXty2O9HWIitsj8yon9SLp4vL5kaot0crwgJMrz1UmVNSLlj7yo7hTIKJILlhv3dnvukSAHnN3\n",
       "AAAAGEGftUU0TCP/BVnzqOxfVGXjYUNrGZmakQAAABkBn9R0R/8H4pSPgWJ8EMqACWqfFrtEOI4Y\n",
       "AAAAEgGf1mpH/wfqQXeUaq3Y/xkwGQAAACdBm9tJqEFomUwIZ//+nhAAAw4zl1MYsAG86r0pYyAw\n",
       "2H76gJpoTwcAAAAfQZ/5RREsI/8FWvBJZf1RpYg2YWAGqreEyC5q/XwFfAAAABABnhh0R/8H4pSP\n",
       "gWJzrI9bAAAAEAGeGmpH/wfqQXeUaq591QQAAABuQZofSahBbJlMCGf//p4QAAMO+g8Amvd1yS50\n",
       "mhfpByCJ2jvtg220LUSlN0Zwhqe7/DZoxHLbLm0Sz9lbzvr7tNCQiH+6DC7SYuVXmeMilh7p56kJ\n",
       "o3eNTLnvSwohAJs3A0e1QFPNUNjDfKPVyaEAAAAhQZ49RRUsI/8FWvBJZf1RpYglWjs0AJZGLARq\n",
       "voP29AIfAAAAHQGeXHRH/wfilI+BYvWgIogYALqEi9OSWPbrRZFgAAAAGgGeXmpH/wfqQXeUaqr/\n",
       "SYALD68is9GmU1TAAAAAW0GaQ0moQWyZTAhn//6eEAAF9qDDADpG/wYqmURvd28R753GpF07bPH/\n",
       "G1fhyvpHG9r/F1i6i63xjLfcnuHFlQe+GpHEz3yWWxFIL51KnSC13rRVsoeQMLrQm4sAAAAgQZ5h\n",
       "RRUsI/8FWvBJZf1RpY+t7hgAXQEVBB7aMZoqEPAAAAATAZ6AdEf/B+KUj4Fj5q1Nff+SLQAAABgB\n",
       "noJqR/8H6kF3lGtUGSgAS1anCDkuUeAAAABYQZqHSahBbJlMCGf//p4QAAX19B4A5h8OzAckyrk2\n",
       "wmkbfZEEuSI6WzA1DTX3QqCNDj9YvrgHPk96m/8mhyNbWwvMVmcrQkLh302mZAdp/ksOV2m/5ud6\n",
       "QQAAABhBnqVFFSwj/wVa8Ell/VGlj8x9CcNwQh8AAAAQAZ7EdEf/B+KUj4Fic6yPWwAAABgBnsZq\n",
       "R/8H6kF3lGtUKCoAJq3Ism41ey8AAABnQZrLSahBbJlMCGf//p4QAAuhZtYALBS4W2/dH8YUevAL\n",
       "doyqAPzCj5g3kSMikhs2ewf4aGmqDDA2foE1BleJBX+XsNVwDEqYqq+pxrIbNNUu+GAOKGi3Ujyw\n",
       "effopGX3/ZJP5Wk6VAAAACdBnulFFSwj/wVa8Ell/VGlnww7IK7OowygAkPc2j24oqf08nTXBxwA\n",
       "AAASAZ8IdEf/B+KUj4Fj5ReYFbUXAAAAGgGfCmpH/wfqQXeUbJhcRu5gATNX4af2ktqYAAAASUGb\n",
       "D0moQWyZTAhn//6eEAALm97CrlEWYArVO7ki8YYZH5VJpUoV6O3jiPbhOBQqSnlXFWdbWi9BUcNb\n",
       "sGvbURkzoBClNTcnIuAAAAAXQZ8tRRUsI/8FWvBJZf1RpZ6rkZuYCkkAAAAVAZ9MdEf/B+KUj4Fl\n",
       "qndCNVYARdthAAAAGAGfTmpH/wfqQXeUbJl04AEuEgzNgZdhUwAAADtBm1NJqEFsmUwIZ//+nhAA\n",
       "C55OjAFW5wWQSzRkpfXAvjgTU5y5xs77p5g1vU8FCGYx6x4O8d2KX6TkXAAAAB9Bn3FFFSwj/wVa\n",
       "8Ell/VGlnslH4wAJlcHdFp3cnQk4AAAAEAGfkHRH/wfilI+BYnOsj1sAAAARAZ+Sakf/B+pBd5Rs\n",
       "knqfFTAAAAA1QZuXSahBbJlMCGf//p4QAAueNxwBTNNJemB0TbS4lMQvmxBTCcIxsmt8l9kfA+ET\n",
       "KftEVsAAAAAgQZ+1RRUsI/8FWvBJZf1RpZ8reAASP0fCYz+Kq5zAS8EAAAAQAZ/UdEf/B+KUj4Fi\n",
       "c6yPWwAAAA4Bn9ZqR/8H6kF3lGoBowAAAD5Bm9tJqEFsmUwIZ//+nhAAC55oPAFVyZv1PxFnqz9u\n",
       "TUoE9vDkix+V3m8BR85Eoe16IdQPCYlc6A+FgixWwQAAACBBn/lFFSwj/wVa8Ell/VGlny4gEAJQ\n",
       "MEZubM2D85gJeAAAABABnhh0R/8H4pSPgWJzrI9bAAAADgGeGmpH/wfqQXeUagGjAAAAT0GaH0mo\n",
       "QWyZTAhn//6eEAAWrKtcAX+3asxgiB71xjuSAHzBoFfUCL3/qmGVekarmeCpK4PkziFSg3yVSaE+\n",
       "M11fcrDBQtwWhjW3rXfZVV8AAAAZQZ49RRUsI/8FWvBJZf1Rpby4dkNC5tArYQAAABkBnlx0R/8H\n",
       "4pSPgWW0I0AdACWrEnTLDUVsAAAAGQGeXmpH/wfqQXeUbw8+YAzey1PY8BVJ3pAAAABRQZpDSahB\n",
       "bJlMCGf//p4QABc8bjgKGfcXnfDWdVJVT+qIqHj89r+78L05uariOlhkjQN9Swa5t4DYlf8YfAPk\n",
       "1stfmwyO4limVkY+88eB0PmBAAAAI0GeYUUVLCP/BVrwSWX9UaW+Fvjz2kvgARgEE40aTCSqAIOA\n",
       "AAAAGwGegHRH/wfilI+BaToQRcgwARs6P1dAKdQ2wQAAABUBnoJqR/8H6kF3lG8oFrF3qoCuGQgA\n",
       "AABNQZqHSahBbJlMCGf//p4QABdGETOAoY9WXrUXjp+z/SV7OV+OF8D83ZO54cas71ze4ieu6tOV\n",
       "gMh8W8Van+ftaFxkzYxmeF1qdzyYk4EAAAAiQZ6lRRUsI/8FWvBJZf1Rpb3oT4zYAW8bC3drG1sR\n",
       "xcAIOQAAAB0BnsR0R/8H4pSPgWloRgEwAOLDSoqv5im3CRobYQAAABIBnsZqR/8H6kF3lG722I6j\n",
       "itsAAAA3QZrLSahBbJlMCGf//p4QABasbjgCEYT3es39wIBvfy95bLaPVgtOxk99aPfwHN3jjdMr\n",
       "56GmfAAAACFBnulFFSwj/wVa8Ell/VGlu/Z1XwqjfAAJYl3xKRJwBZQAAAAQAZ8IdEf/B+KUj4Fi\n",
       "c6yPWwAAABcBnwpqR/8H6kF3lG8O6cACw2E3/dXHHwAAADxBmw9JqEFsmUwIZ//+nhAAFqzQeAK1\n",
       "S4WXEcgKFgAJ/g7cu0D53d86kaV7u9xnrNu+xIMCE0ZoHHkixnwAAAAXQZ8tRRUsI/8FWvBJZf1R\n",
       "pbxx+VlOYh8AAAAQAZ9MdEf/B+KUj4Fic6yPWwAAABgBn05qR/8H6kF3lG8PfyABOr5jqMJS70kA\n",
       "AAA4QZtTSahBbJlMCGf//p4QABbEs3CdgCJWfH5BR+IBNlz1LXK4n0UWCOfQVvkqJtWILOZHtckL\n",
       "GfAAAAAiQZ9xRRUsI/8FWvBJZf1RpbxyyLaMALcGrjyNiu1/NxQoIAAAABQBn5B0R/8H4pSPgXCF\n",
       "gNFrv3QS8QAAABUBn5JqR/8H6kF3lHQZdAIs868Q6YAAAABwQZuXSahBbJlMCGf//p4QACw5XxwC\n",
       "aUuEHON1UruOQpbg2nOZK8HoBnLHIzcbPnGl0H7nB/HLKl8YXIZ33x9b2gevw/xLDe1EtLxnfHCa\n",
       "65shT1FojcweFQiKD2U71gOG870knQcqExCsuJ5XekJoQAAAABtBn7VFFSwj/wVa8Ell/VGl9jDs\n",
       "jS3R3SmyK2EAAAAcAZ/UdEf/B+KUj4FpR2ygATjC1q/rsedNxl/gHgAAABQBn9ZqR/8H6kF3lHPM\n",
       "jFYpdYVyLQAAADpBm9tJqEFsmUwIZ//+nhAALV4QXMWCXYgm/GJRxYJ6KFzCLDFa8r8WDpLSCLFS\n",
       "CFrAzC7UGr9wbh8xAAAAGUGf+UUVLCP/BVrwSWX9UaX42cb+wswA6YAAAAAUAZ4YdEf/B+KUj4Fw\n",
       "hSn/OWHRfW0AAAATAZ4aakf/B+pBd5R0FXKYSnQ9FgAAADRBmh9JqEFsmUwIZ//+nhAALWCa+8QB\n",
       "/ng4x3Hq1gmJatI5EXpsZpWPUQOs9u1dvuCNWizhAAAAGUGePUUVLCP/BVrwSWX9UaX4lXOss3Xh\n",
       "gh8AAAAUAZ5cdEf/B+KUj4FweJDl1TXVA8AAAAAZAZ5eakf/B+pBd5Rz1sIAAca1jerwJM+0PAAA\n",
       "AE5BmkNJqEFsmUwIZ//+nhAALFJh+KR8v4AvxhDYlIXS+3x+8BmTTSBinx9yrmHr7S4KmjBr4fSv\n",
       "zPJyt5u5KUMMBfXMGRk0FsxliL4CwssAAAAcQZ5hRRUsI/8FWvBJZf1RpfTQxJ0w9i//ajUUMAAA\n",
       "ABUBnoB0R/8H4pSPgXAZRfHpaI+WgeEAAAARAZ6Cakf/B+pBd5RqUJ0P8IAAAABHQZqHSahBbJlM\n",
       "CGf//p4QACwwOjnNN3gCtUIdp5xySFw2mxVeZEWieDij6+5IiAlSdQoCRikM0I07EXkSlydVb+0B\n",
       "E2+fhs0AAAAkQZ6lRRUsI/8FWvBJZf1RpfSjOmoi1RgBuZLNliTmx/eNswKLAAAAFQGexHRH/wfi\n",
       "lI+BflrRwPXAlPGMPQAAAB4BnsZqR/8H6kF3lH2UGoOgALqEQHj59soF/xaW+LEAAAA4QZrLSahB\n",
       "bJlMCGf//p4QACw5x7gBYfXgs7Aa4p1IYjcy4KZptvQGAaN/zZ186BIxJjm8WDVyYTcAAAAYQZ7p\n",
       "RRUsI/8FWvBJZf1RpfLWRly6pkEPAAAAFAGfCHRH/wfilI+BcCeUVdjkMUWBAAAAFAGfCmpH/wfq\n",
       "QXeUc8nqxBkEIweAAAAATUGbD0moQWyZTAhn//6eEAArFVGhDgGTbU30DhVS/RnL8xo1FWnAN4Tz\n",
       "yRIOlurkNVsSVIjxvXuRR7SwpgJ2L6ZHURHwcBB5BaPnd7OAAAAAGUGfLUUVLCP/BVrwSWX9UaXx\n",
       "4/o3r63mEXEAAAAdAZ9MdEf/B+KUj4F9rCbn+YdAEQUPIleD1aluiLEAAAATAZ9Oakf/B+pBd5R9\n",
       "JJ+cDOraDwAAADtBm1NJqEFsmUwIZ//+nhAALDnHuAFc41UvqTCEmJ7Xly+I049ERjiW7gv0uPpU\n",
       "k+dYs6VdpKd/fPw2YAAAABhBn3FFFSwj/wVa8Ell/VGl9WyCJjnuAdMAAAASAZ+QdEf/B+KUj4Fw\n",
       "LXINEQttAAAAGAGfkmpH/wfqQXeUc8tAGACcZqgYRYJqwAAAAC5Bm5dJqEFsmUwIZ//+nhAALDm9\n",
       "4AIxnHOAGhfcwMkJdvOiXTjL6Hi+hXtj5+GzAAAAF0GftUUVLCP/BVrwSWX9UaX11JYPqiF3AAAA\n",
       "EgGf1HRH/wfilI+Bb9YbF4k1FgAAABEBn9ZqR/8H6kF3lGpQnQ/wgQAAADtBm9tJqEFsmUwIZ//+\n",
       "nhAALDJmxkk8uywBHoc5c4ot5EQwxqWfwgL/9NnTt7Hhw6/Mn840A1MegIWC2wAAABdBn/lFFSwj\n",
       "/wVa8Ell/VGl9Z0uugWCLgAAABIBnhh0R/8H4pSPgXAtcg0RC20AAAAXAZ4aakf/B+pBd5Rz1/aQ\n",
       "AJ2ve2dDScAAAABOQZofSahBbJlMCGf//p4QAC1Zx7gBYfXSzA74MbPGDJD2vXxMDwKTcGMzpZEl\n",
       "lVPDFrkfKuDgGBRdMnASUlvp92Py04v2PWyBDTRfmeSRAAAAIEGePUUVLCP/BVrwSWX9UaX47ySz\n",
       "QAft/r7WEfza79EHAAAAGgGeXHRH/wfilI+Bfl+KN3MACdMIKHqdFLKAAAAAGQGeXmpH/wfqQXeU\n",
       "fZgT74JgAccUGugbitgAAAA+QZpDSahBbJlMCGf//p4QAC2X8N1a4ArUv62aM95jvvlsUuBb1XCn\n",
       "yuVMFVZkvW6RiSsDo5Z4ZMair55MJeEAAAAYQZ5hRRUsI/8FWvBJZf1Rpfju+kLWALuAAAAAEgGe\n",
       "gHRH/wfilI+BcCC2DTALbQAAABwBnoJqR/8H6kF3lHQe/kADium+20Lg3vgz1kB4AAAAR0Gah0mo\n",
       "QWyZTAhn//6eEABav0DL9ATAiyitQDRq/ai7MnplfSJ+Aw6LY6zh9fFx8vlhyYy1e2ZtWoVjVn/9\n",
       "j+RX5jB5uhJxAAAAI0GepUUVLCP/BVrwSWX9UaX5eC4AGy2OUisx+7QlSWcT4CvhAAAAGQGexHRH\n",
       "/wfilI+BcI7ZQALPkHcYVhSgmhEAAAAQAZ7Gakf/B+pBd5R+H7oFbQAAAEVBmstJqEFsmUwIZ//+\n",
       "nhAAWtnjUnkB+PQAy4WZEtAjy4IAXUOUQ2obEJErNQ05MgM4L6oAfZ/Gz9//QTdKh6RZJm9EB8wA\n",
       "AAAkQZ7pRRUsI/8FWvBJZf1RqCjYXQUYQANrXGa8XlZ8lnHDVe2wAAAAFAGfCHRH/wfilI+BfwqW\n",
       "injkQkWBAAAAHAGfCmpH/wfqQXeUfi4H5Hgn6ABIaPXR1Eso0rYAAABNQZsPSahBbJlMCGf//p4Q\n",
       "AFrrHLncA+fXc7x3/TjSDPNYartqskleWUOa7WjIQX+QBRzFIX3DlIZvn5Q0bRmh2CJ/YJ/BOGwN\n",
       "91kOD5gAAAAiQZ8tRRUsI/8FWvBJZf1RqCDjyryWACOJVlwYaF4a3PoUWQAAABgBn0x0R/8H4pSP\n",
       "gX7u0jaiYMI+8lk4OpEAAAAXAZ9Oakf/B+pBd5R9n7zMADi551YfAWUAAABHQZtTSahBbJlMCGf/\n",
       "/p4QAFqxegA+fJcA+1P73l0cEmBLzd96csFevOPJHVQsHTnNoNpH8TrjQ88nbitHO69vAwJ0Lvkw\n",
       "UMAAAAAhQZ9xRRUsI/8FWvBJZf1RqCTIvRsAEdmM8aKThPawwA9oAAAAEgGfkHRH/wfilI+Bfwrj\n",
       "BRELbQAAABMBn5JqR/8H6kF3lH4fWVSioXQ8AAAAP0Gbl0moQWyZTAhn//6eEABYmNm5HIAqzSsE\n",
       "TNGzKYYJr3jSv4l4eAHSK0ENY2/O7yD5IavNVIXsWoTlgGnBJwAAABpBn7VFFSwj/wVa8Ell/VGn\n",
       "zdFllpCQrD5g/wAAABUBn9R0R/8H4pSPgX4ukuRIT0PYYeAAAAAcAZ/Wakf/B+pBd5R9W3vbwASw\n",
       "asgZ68h6UtkiwQAAAElBm9tJqEFsmUwIZ//+nhAAWHJ0YBNQTF9GcblLAzou4agvix8Y5Tm2YMFY\n",
       "Rocb5NUj6fwyiq2oFB90P1t9xI5N1k4oRB/z8GzBAAAAIkGf+UUVLCP/BVrwSWX9UafpBIrgF7sM\n",
       "Aymhs+kEPDgA+YAAAAAdAZ4YdEf/B+KUj4F+avcAC4A+hjPQ7G1yHob0m2EAAAAUAZ4aakf/B+pB\n",
       "d5R9G+WUbk2bTbAAAABVQZofSahBbJlMCGf//p4QAFhxegATaVi9FuefLJtMjZeDedBEWmzKATTW\n",
       "3qYspfran71riJ6GGQDq+9JYBU5SitI5G2MzuKmi2AyOFTgj+lp7nJgm4QAAACNBnj1FFSwj/wVa\n",
       "8Ell/VGn6TkMSFW8sACubkrZhzU823EMaQAAABMBnlx0R/8H4pSPgX5BExcU/5IsAAAAGwGeXmpH\n",
       "/wfqQXeUfPCy6YAFoQrBrzs9FggBtgAAAFNBmkNJqEFsmUwIZ//+nhAAVmrprzuAJfcPeMf6GTmC\n",
       "wCZ6cnNCO+OWuEryboCs2H9xGT41sGXlN6IuGCL0vMMY/lY420eJxnPJbncFKtBW+fg3oQAAACVB\n",
       "nmFFFSwj/wVa8Ell/VGnqZMkOYAG22rxRll5t8ovyIUu4FTAAAAAFwGegHRH/wfilI+Bfbr3AAr7\n",
       "kw/WuMl5AAAAHwGegmpH/wfqQXeUfSxlAAt0ifmsWxoLqp9S52+wh4AAAABGQZqHSahBbJlMCGf/\n",
       "/p4QAFPydGAFk/EJ4LGELKm0mx9CmFfEghqvd6dvFgiAj0ztX4pbqCWt9xNzkK0ke7++jqVoiiBg\n",
       "QQAAACFBnqVFFSwj/wVa8Ell/VGncgd2wAJxjO0IW7sxIQHENCEAAAAXAZ7EdEf/B+KUj4F9HIGA\n",
       "A97Me61xk3EAAAAXAZ7Gakf/B+pBd5R8fO8uABK6aD6II38AAAA5QZrLSahBbJlMCGf//p4QAFQX\n",
       "js4AWTBS+czh5ZDQsPDPhHDJvvJ8gwZktSCFCMQ7e4OfpX4E4sG9AAAAF0Ge6UUVLCP/BVrwSWX9\n",
       "UaXw2jN3qiygAAAAEgGfCHRH/wfilI+Bb3tTHRW1FwAAABIBnwpqR/8H6kF3lHNO2w71mosAAABB\n",
       "QZsPSahBbJlMCGf//p4QAFPydGAG69aiTiNHnSCsMv8sfjVwiTWwScRYXD3kcGfpOIxt49YfRiTS\n",
       "4V2o1/s0N6AAAAAnQZ8tRRUsI/8FWvBJZf1Rp3GZbOkAC6BSVFSU31zC5L3Pf2EB1DQhAAAAEgGf\n",
       "THRH/wfilI+Bb4Fch0lC2wAAABEBn05qR/8H6kF3lHxrlK8BdwAAAD5Bm1NJqEFsmUwIX//+jLAA\n",
       "VM8QbYAiQ0loyGrJq0CW+eLckNnQX8qrXuVaekFPhUUfzqsWzm47XqjYnQBjQAAAABhBn3FFFSwj\n",
       "/wVa8Ell/VGnfkLLxL5qgfMAAAAZAZ+QdEf/B+KUj4F9DjhAATt2J7hwFLAl3QAAABIBn5JqR/8H\n",
       "6kF3lHNKEx25wRYAAAA0QZuXSahBbJlMCF///oywAFSy7tgCJDN470MSOMjoGvLBUgbJYCHXrxlv\n",
       "oERQi3afevg6YAAAACBBn7VFFSwj/wVa8Ell/VGnjJxIAD9vuKMKRCTSMpuBBwAAABMBn9R0R/8H\n",
       "4pSPgX0MK2R3J5AeAAAAEgGf1mpH/wfqQXeUfJQlTbnBFwAAADtBm9tJqEFsmUwIX//+jLAAVLXt\n",
       "uADj21GPYE2B9obTmjWT0/jj/dYCKGxjeuS+wR4iUt0oFviXKt0DpwAAABdBn/lFFSwj/wVa8Ell\n",
       "/VGnjCkQ3qiygAAAABABnhh0R/8H4pSPgWJzrI9bAAAAEQGeGmpH/wfqQXeUalCdD/CAAAAAQ0Ga\n",
       "HEmoQWyZTAhn//6eEABT9LnADj2w0tbx34t8w+G6IYUB77C93qDKXIQOynrQe91y9Q01uiE/empO\n",
       "dEwWl3Fg3oEAAABLQZogSeEKUmUwIZ/+nhAAVG/sIC2CwBW9RkdlStTAQOjXWLu1GO68EDkgTyR3\n",
       "rD3t7J9yzuMTXVScIESiTp9LB2Kxt7RExLtI6IGBAAAAIUGeXkU0TCP/BVnzqOxfVGYtLDkAAfuk\n",
       "PtBHXh0XGnMM+AAAABABnn10R/8H4pSPgWJzrI9bAAAADgGef2pH/wfqQXeUagGjAAAAVEGaZEmo\n",
       "QWiZTAhn//6eEABT849wAjI+3ffRRUUUGzbK+IgmnEWfzw7JQCWwKNE0i1mMYnw76rM48vE1uEV2\n",
       "BCijcYeak70/YqDgejmBFpObZ+DjgAAAACFBnoJFESwj/wVa8Ell/sFMbNP1L3yAC6BrDlKhb0F0\n",
       "TcEAAAASAZ6hdEf/B+KUj4F8VqVSlbUWAAAAEgGeo2pH/wfqQXeUfBQlUznBFwAAADxBmqhJqEFs\n",
       "mUwIZ//+nhAAU/OT5ADQlLntvipHsOZ2Sz6Vfz2m5yRmL4NVZEV0inKU40OQqTSspJRAwIEAAAAg\n",
       "QZ7GRRUsI/8FWvBJZf7BTGzUk3QAHib522qXy8g6AQ8AAAAaAZ7ldEf/B+KUj4F8+QAwAQaAs6RX\n",
       "U0U0bYEAAAAOAZ7nakf/B+pBd5RqAaMAAAA8QZrsSahBbJlMCGf//p4QAFPzQeAKtg7cTuvMptwM\n",
       "J4+Km2f96CGqj9f61oC2z6Jp4tx91A91fseqcE3AAAAAGUGfCkUVLCP/BVrwSWX+tnmia+jhtkI/\n",
       "iHkAAAASAZ8pdEf/B+KUj4F89qVNFbUWAAAAEwGfK2pH/wfqQXeUjztiX650PRYAAAA4QZswSahB\n",
       "bJlMCGf//p4QAFPxuOAKZp3kttrY8bmJhtKk1YKETs43zQ96qReyuQPnracVGc/iwb0AAAAYQZ9O\n",
       "RRUsI/8FWvBJZf7BTGzUZaQdALaBAAAAEgGfbXRH/wfilI+Bl+1JrRW1FwAAABIBn29qR/8H6kF3\n",
       "lI87ao71mosAAABYQZt0SahBbJlMCGf//p4QAFPw64Aqd+fJqkhm6i3akBBu8E1ph4OhkEmIBWde\n",
       "8fGIyO9cdiGB7LBJOGue+cSlabVlKZkdM1xRfTkNvnB6JX+SkwUTeufBFwAAACVBn5JFFSwj/wVa\n",
       "8Ell/sFMbNRcRqAEhGqFoD8JUNbSX5gtmEPBAAAAEwGfsXRH/wfilI+Bl+08uBc/3osAAAAeAZ+z\n",
       "akf/B+pBd5SPO4mLyQAC1nxFIYfgcXJLZ2ekAAAAL0GbuEmoQWyZTAhn//6eEABRnvbuY9EEAKtl\n",
       "km4mvvPFJyW/Iw9AtVP1t0YScFBBAAAAG0Gf1kUVLCP/BVrwSWX+wUxs2Wajc1rKnmBlQAAAABcB\n",
       "n/V0R/8H4pSPgZftfa7Og5ZMpiC2gQAAABIBn/dqR/8H6kF3lI87ao71mosAAAA0QZv8SahBbJlM\n",
       "CGf//p4QAFGxuOAKZrE5YjhDlYwYmCLbhDWxMxxKWB5mzorIOhkZtlEDFgAAACNBnhpFFSwj/wVa\n",
       "8Ell/sFMbNl+bqAFVURuQMQ0cu5cqb1EvQAAABQBnjl0R/8H4pSPgZftfQ5dWgLVMAAAABQBnjtq\n",
       "R/8H6kF3lI87iP7mlQTapwAAADBBmiBJqEFsmUwIZ//+nhAAUbG44ApmiXNCWYO93grp0lyZtKvu\n",
       "1GijzdgPz6EWBi0AAAAZQZ5eRRUsI/8FWvBJZf7BTGzZKptOg2iygAAAABQBnn10R/8H4pSPgZft\n",
       "fN00qLAS8AAAABQBnn9qR/8H6kF3lI87iO3YVCNqmQAAACpBmmRJqEFsmUwIZ//+nhAAUdhAUAFJ\n",
       "+C0vcwp042hwFdg/U3cxf2Fg44AAAAAZQZ6CRRUsI/8FWvBJZf7BTGzZcoJrecdhgwAAABQBnqF0\n",
       "R/8H4pSPgZftfN00qLAS8AAAABIBnqNqR/8H6kF3lI87ao71mosAAAAyQZqoSahBbJlMCGf//p4Q\n",
       "AFGdZbfG18ACMDcQGxn04WAa2erBEnJ1RnBsOVUMf5RAxYEAAAAiQZ7GRRUsI/8FWvBJZf7BTGzZ\n",
       "UmTjRgA2ZAx7Y9LeckhHwQAAABUBnuV0R/8H4pSPgZftfgsiOnKjMR8AAAAVAZ7nakf/B+pBd5SP\n",
       "O4mHX9ztnNVsAAAASkGa7EmoQWyZTAhn//6eEABT83vABHvXgn96A/7/Dtkvo5n1h2Gnrp///CSu\n",
       "0T7XVTzZTLFVSUjhCwC7o+2h3sVeWT28dGRufg44AAAAIkGfCkUVLCP/BVrwSWX+wUxs2WYH7NAB\n",
       "/N3UwqA43HbuWP8AAAAWAZ8pdEf/B+KUj4GX7X5McqlmJ3BXwAAAAB4BnytqR/8H6kF3lI87iY0t\n",
       "MAD9x1Eo1pnnQztgg3oAAAA9QZswSahBbJlMCGf//p4QAFPzj3ACucw7SmGEd/YWtUu6UMssVBNZ\n",
       "pRmgIj9pFBzmGz7So1k2LEv19c+CLwAAABhBn05FFSwj/wVa8Ell/sFMbNltEy5vwZ8AAAATAZ9t\n",
       "dEf/B+KUj4GX7LAtJJGosQAAABQBn29qR/8H6kF3lI87JuXSCkXwiwAAACtBm3RJqEFsmUwIZ//+\n",
       "nhAAUZ0+eG2BgBrZz9mEAlje1dHZZG98aMrGFg44AAAAGEGfkkUVLCP/BVrwSWX+wUxs2XKmO1ED\n",
       "PwAAABQBn7F0R/8H4pSPgZftfk5dSQg9oAAAABIBn7NqR/8H6kF3lI87ao7QsHgAAAAxQZu4SahB\n",
       "bJlMCGf//p4QAFGdUqnROAIiX6v+sBbACsNnV6J6sp6zoqp7KiTLMRYOOQAAABdBn9ZFFSwj/wVa\n",
       "8Ell/sFMbNZVGgBFwAAAABIBn/V0R/8H4pSPgZftSay9jbEAAAAUAZ/3akf/B+pBd5SPO4md2EmY\n",
       "IeEAAAAeQZv5SahBbJlMCP/8hAASz0+cAE1dkjJntrnl4DugAABBEmWIggAP//73aJ8Cm1pDeoDk\n",
       "lcUl20+B/6tncHyP6QMAAAMAAK6tMz+8WNhqAgRcU8lfHXXwyWY3uENgj4HKn3y1OBgSeNPqs5Cm\n",
       "enz7pT3KXZhvzA6t59jnr5fISbkfIAATVGWsXGojV/bNtQ4lRBKjTdC/J2eCDvirdJA4JlMLIRhk\n",
       "kD0cN/qk4bBHqbfrUHg3MGevqSmqTUvt2zrPYkGYfWZ7KnuZAhtpL4QK8s6/6NyDHpkOmMfrzmtr\n",
       "2DRFogNHEG9QJFrQBnuNH4uUA4d1j7eBOsrPlgmHT/aFTK5+Mv8sAF+/TjL5bPsUVITAwqA+fcoA\n",
       "HOgBxFCp9zRwTh4GF4pYni0K8BFvuOnt9U9XrxR6fwVLjCp/VTA6K49v3r4wrI617mfid/3ZPoHY\n",
       "Y/dgC5bthkCHvLmU6pCpp6qAtPa5L+rzHPWFMJ5AyKRdi35f4WaTuSKJ8jp/0yG4iwM57n0gxVYF\n",
       "2/atYcMMl4bCTFmabFSSokQkyOtpc8dRFg2FNvag2CSP5DbnGs+H2xMw+2PSc/DKDdnjYhCa6pN4\n",
       "vCw9B3S4CdSGfGefVGG9kubhadt6nH7EAGE5wzZ4Fry+f4JuUkPxPfTPxh2Bo5Y4bjAV4bpfGPAq\n",
       "8u7oYjURGWjJTAAyjF+50NJseMk9/bt2v1CDswRGTF1mrrIAwD+9BY5xSsY2ssAJNwQ8C7k0HCT/\n",
       "XUd4ZiTCw8iLgdO8EWQO4QSKZ5aHoR3jxlK/YAH1gNd6heIdoGQcc016O+M6XAWy/nJZaMBxQgA5\n",
       "i/o5eFMxzNyS7kyGvgQKHcTxRdUWIIgTfbkaMa2J0nGPISBhRZf9uat1C68IjZEPZlJnoQWWnSqV\n",
       "RSzyw4yqqvVU7r38piJ2gldq+Xk+wBwL5sIOgmtC0ZX8u+IuPOzNHLicNHGboQoYlDmo/5Tp3Kzi\n",
       "FCr5BqLMDCnM03kjgYao0Pgo5dkL1pnOzDyN1i10SABxXcyQbrTCwctLuoIEd1HKWF+m9HzcxMLf\n",
       "Cip1xu+rfs4DrWsmj5y0AAb4Nkk0ktUbd2YjH3Bvywi8KDBc8A5rLyCGllL7gFRfe51UO4tRVHb+\n",
       "UZVVMK/+RDxRtJD1N38nYMDwY1buZ+kpTSgPKi0jyKPCmnMSqYAR6S93aSinW2NuzxQP1xqYIv+B\n",
       "bQbUzOo3EJdrjjEvRD0A9Zj1DAhk72NLLg0LdW9wNRYX2W3Q4ONeH7CecZogOVzVMUFy8AaE3qp2\n",
       "Rwf8ZqnAxigX8xLMlZC34mPCJRKu1TxRTO4DZP9AOI3EJ/sJ/TlpULQ8dFtHqg7bPb/eatXvkZBu\n",
       "+RJyj0kKe0orgWTafYUcK2/EVsjQmqzPmOReei3pEz2xSQ/9U7C4zzYX65xW/CpxofhDtwWP+GSa\n",
       "s12QWFxsEdRLPox5PlrVvy2KUWF3jCrI0ijbyjbZu5hQykyQgLZ6SoEcwPM6zA5U4wkJLbjg4Avi\n",
       "djIITgb2b6qRezIEIAn1DsFRJf7RQ901GZm2eFmxcsEOgmGxG0lgqtmFooiZv4fBh8EWC1jgd/6I\n",
       "IlUd04cKAZKO0q8c2W8u5XLSsJdWSUtrOONC+gqtz7d8FG4FrxezfzLzglhBxXe5h55ceG5uWKDC\n",
       "YU8R3hDmMKlBfSSb6DtbWZDSQKnC/36OsOHjLIaa9voHe41pNwWl3Yb5v1ecyPl4az7A+Nb+I/wU\n",
       "N1ByA+HeYf9LADLcxmeWCK26U7L+VxGOqZoK951UGSZDM6Y712NAzbNq6yg5P8i8fI5V7Rz7qgbv\n",
       "fbaEpCeB17s/VzrqJDWfxGVY4BaBKGP1du6FO+Fk900lOycdO92oKrGI2hBP2aIvuVfDVLknfRRG\n",
       "wX8mdytMRHcQZKZcEo+CD9+wKKTEHOp7/Nrx5H56e4eBrW6HpLNa0OH4Uf11F2Es0ZbS/sXRt6CZ\n",
       "ZvGfHcRwhuZbjAic9WAa6EsOJGt1GXMKsi/wUa3AWYfn2hEqPQmPd1HL6m8sDRGQvjoFbaCLeBVh\n",
       "7uIDOGY6fp7i+MpqAr5qF7YrUeiRh2wCQoHFWgXmhV5iCPmb077UL4BngeA/jfjTSgYtVDsBtqRR\n",
       "28INCVkz9WHfoGYtnXyPlZFt6pITMGN7P8VeGXTnZIJAqGMLIsDQv4ui07QvEzOC4yJBF4otEPeT\n",
       "3dfbHTb+qq0+gugEu6GJLBn4tA3E1GV29TNkxGyxfWMgmDjKUBk7bYK8AyFVKUGL0QzMaZxeltnH\n",
       "rAJmOdZ3mA4vQcFxsA7ap9G13GZgNmywENx7DS7VT8b+v5KPs3+5NjIAbhIlMeigKnFZEWzIvtMS\n",
       "p+QVhSK2OflDQjZtBAuIuIIrOrD2u+Hr8bS7Arf2B3k/Ky6r8BnpCXSh7RDdOXVx5psTWKpEfF6h\n",
       "1MZjV549Ua/5fie3S8verfRzOBYHVHUDlC9SdX3IYPLxKu0aCrblKZf35XzK7otNOZ5WnnoozRzu\n",
       "vMnYQ/ojn5Uvxqgzj3gYFvvvvmdT7FrrKKz1bxqF7XBn73PIHqpvAvUgsluA56s74XFMZT5ViGXW\n",
       "vAWItHUEkpH/sJaEhifgrTzQFWuSITQvP11e+Ja81mrKd3Xakaq2WhssmI5KiS0iyWU6Mrj/1jiJ\n",
       "FpINb1WWaR12u1UiKlx2FM6S8xmDY7VJEKESnUveLaKFhU5+uKKGQWzCHBPUl3pJxDcxLurcrvwP\n",
       "8CmqYzADPZt4Cdu4vnLe9QNOrCwcdqp6zPryVzmZr/2YdJ5rxLjRtvHtyCQb28kNPf1PivZNsv0T\n",
       "QPWPvc1ewpOhx2od84sk6UiiTdZNa4ZzYoFTzbNo7JQ5peUsFXGpTPi/h+351oRiYTpWGyeYPfpk\n",
       "Wx2holOUwHqrvAzpUrQt2Zo7UWxUHuOQ0n5iDZp5IcPGhNvOrhtINubajdtmvUnzTUlRUBVd8TY+\n",
       "jjeYOTl9v8sugHzQhIibvLkP24N0Sbiif5VAr5arLlCd8es36kt4AIB7vFrKtLjHRQxdALzmfY/1\n",
       "SkBEhI2KugLpU/wQ1YoRhpgPRbOxZBmvEiG1G1dqwD2eawELW69KmckNFF2rNXBCoMiKq7GMtrJT\n",
       "m4G95tWXitQ5cxQCpev1jvS2dYaxPiPNW0kNO4HoJtKItwpu2H9eKGzGAPtHAI4Kb6rD98tK3hY1\n",
       "gJNjfSnDA2M9wWlMG03hSXR+zTwy4TyJU3AYV6BzPQDxxQweTeQPxZ4r5vpbeJISsE1P3smJr1FQ\n",
       "3EGJARbRUe66gRx60mfwbJkgAI3W2ejyRzLGjz0pVKC+hFwpjA0V+l6zVYNjJ6H6786oMVNTy295\n",
       "rHWVhAYC+Tu1UA/vpr45lJfF2w/w7nHLcHKEdQjfjfXI3rV7ouw2uWFq9fNJb4E0iowzgDXRspFq\n",
       "euDHGRvhFEO5hiexaMKlqK0HSmvGEZyVqaRLFE7IMqd6J7yV7q22djceKSS6d2Jv1BUemLxvdJs9\n",
       "y9QLr4bQptHFyoSB4xwuor6NA+QfJ6B/YLwg09i/oHDx30HWDEOOpB6T5i3HjaSnKOhGfjNyXvM3\n",
       "lDhHM2J2b8urJodrgXcOFM5vQCgEvbwC2EdxHMArfia+WEWm/v4Idi723bUClAOGk8OQm740iQGv\n",
       "iAYI2bV8EL87mbwENBtv3DDJSUTS1+Btmq8Fa4P1anbi4SyUEEQz0/QRNxbWftmVPMpSNO477ymM\n",
       "RfO5nHHYpCrEfWHsN25tOKuPdiCeN++GWv6wztXLl9RKxYsB2HHa5lXjxRZUnn3jVPj38NO03wp2\n",
       "NiO25hZkmazIgRlbap7Z8ULkjoVUnoszj1Bq7bD/v/AzB/MxPIDEi8p3XDu/wtXA8DqFOUjqcuJK\n",
       "STyVxYvnZerUsKbf8o9uGwwSJqyMjGSJny/vqTbbfEgl86vuCt9jn28czCJ8mFAREcztLXL9qW6L\n",
       "FSVswS0mwt0ZJB2iN8aY2UYqENk5i1dpA/M/ex+aGxolN9dapvWG4UpaiH8dSUMDBHFNibWZCzC3\n",
       "w+7yFcpswqz0A5t4tQ1U8VjW5+gxsfMSTl0LQMrItLcHsK6UbTbFvZWIAc1eJWmmFKXzkGimUzJ1\n",
       "6baDEUxhhyFbvZwwvI8/U+DhcF5j6uVL/Ql1IGhWjRD3Mu/JzbCLzKgOoT6YlJTQfVt2dQtxIbBd\n",
       "Bmuorw3RB1nHZOLxfugBPoYt9UKpqs7ruxFqnIO2A7cY6vSg1/yBnS51CqNm4IKZRocbBnsdxpgk\n",
       "Us49doaBKgT18zYKjCeqZB80snUpbcxgLJ+K7NCaN13AW+q5d4H97VJVgXfp3QLe7eSVVuvVhy5A\n",
       "JmpsZNF88iYuwtGqoeBdVKwsxIuQYbBYCQXZOBpy4F61jJQkMXPByVhwdkwE7FrPVx1+CE4CMcGc\n",
       "+Z6+HNM7sdHFR5vc2acfuotWBp7G3m+FneB+Yqlq43lyDX6zXMHrjmvf/88rSgI5grLYVT5nY1P4\n",
       "nu1zrbm4T9wt6x+leZb+EaVhbiT+0uUQaebqKI03lmw0TNh86kBEZSB9B2/Uk/shtnGgLkwof3+5\n",
       "/tk09XugN5v03sN3fiwIgKbxbHsFNrD3XMCu8Rlg6UkXSKfEHxNhn5O+VFG2AJZFbWM9GLBGW7te\n",
       "atJ7ax/H5JXMn88LpPOAZEURK+m4FkJ2n5s530EUjSS3ljcv7smxgP2X98xX1kgbInh/zu5qTKnt\n",
       "Abi5s5c4uEx3/IZvFGctEdyO6H6+4DBTOUc0yYM6Pe2UMhx77rBSYsp/GcJPNhlSuPjfYmnZ+n8W\n",
       "4GJStumPrPP/eL+n64T000cW28ohqwDNZ2R8X79QYoldX8eQeyQASnOFjN3rbb5TRy0ICs6Xs6L0\n",
       "SVqbCqekpoX6sRG6ytz7pdzTxGdmJ6M5LmENdJ2tA+srRT5CnNwu0khySqwqOpBM0ovkHbsMsUzd\n",
       "tnNYCaqoPo3c9Y0iEAhHvgL37HFyUCbkWnDcbrpzv3btEMqJ7Txne11LjNQ25PTcbzjeei4YSuIP\n",
       "cRmor1uCH9ancyH8Dk3xvSJr3gBg+q7kMb5qWcNrLVJD2QIpqprZ+cQXqJL4NlLpMFcpDMLb8hbA\n",
       "f1JhQVuYkGITgw/7n+DImeACs7BGW4KqJ/RSctWkU/986RWSV1ZSwR5N2rZrW6jBPx2SHD3CqzIx\n",
       "o+Ef5OSsL44i+AJYkgYdxDf7WUTQHlJigXd77JCGEQqMtzeNbDqNyYhWeH4wvvGOAhB4reZ4sKOt\n",
       "GkX522cPQ7jbn+Y+lSy0ktqiB4f3JGD50eSqdGeUTxzqaLjER+/n/9HElv2QhIuf6CaYQtvBcGhe\n",
       "nj6cJoZsBLAmbUx+AJC2lD1zYIJHEdQqgnTnZw3ZLweNNrfkN3N2MeUSB9aXzoTtz356P2S11jd/\n",
       "7hCAw6NsF/6ZpHwpURzAHJCDO7LDuC1ma0YEPmnsjBA8Qnvl8GpgVf2mvfwDSSg6GAwtpv5fNC21\n",
       "/+TFK+oiz1TLeKPWGJIfmvFvDRAhiMvSP3aHRUfHkVxtAHh+o8rqEfCJHpBd5IhNjoWIx1reJkld\n",
       "uO4BDxQLYPNtVDZbMnFeICIlGzXJ6Hyzc21iaH69m/CrwLailFcwYAjH+YIhlln7uIVhdtf1WnyT\n",
       "XYMwNoFkqn/gpsXxRYUaCBG6s+B6szKOquNd45gz/wFAzQq4CaKS8MKs1qlBFrOcUShTvJ/ta1w7\n",
       "BXGbke1UGEA4y2v0rp0VpPhtlrDNu/UJHB9HMwyOjNGi3YMJ+no7j83Tzet/TJ9uylNAzWsGAbLd\n",
       "S0CRZ7bSOdp7n2EbF4gxRlc8VQC9J22yPKdBbU6pAPneiMjKd8Z7cdDeQZAhv/8SUM/PTLAN/93S\n",
       "oC7UfFwqbfioHDWOcO0H8OEf0mgKG9XBmfDIeACBcWSz8tDeDW0UsWWwk1b4ufLj6y22USXsWV0T\n",
       "uqfZEpOx14aNFZftmFiQ1BNQnDiK5DvxUdvtNVbqPcriltjC4hYxOwqecJEfAppdAnpdaKVMqfqm\n",
       "Au8afmm221g6a2GRIaQHaUknd44hAnI9U7uma3WWoDz0595eBNMPHfu3yMOFCZrHvmY2g1XA2cY9\n",
       "97ZoE9L1mUpXhECYrkxgaKHSM9Q8/nMDaRp6OXvVnknzsug87VXFwxGZFkg27PFAtNM3ztYK3xMN\n",
       "SLN/SShB3lZcNhQL5ibla+5TRnf/d6bDD9IHl11bS2UDPB0257NKxvuX6DLKB/imu7GMFMNHpi4u\n",
       "dU5h62Yy2qR5o5GbqPrR2D/GFBBl2tWoG6mWdrXobT3ojM1+Xz2z55IczVrAuf/8ICbdyLJSweUi\n",
       "wBtcIbzcrzGxU3YcCCVSyxv7CHBAjreGxmZp1WxwNrciQXwBAWuoY5VEXhbJjQza2jH89tbmWfFi\n",
       "ZBFKtjCHXSqiawhbnpcoHlUhQKDrtwHcO4r/8Um5kE/LFLGX/3cgLzKqaOEzDP3f6FjF8CwwNf5s\n",
       "fn7z70hZ0rRmBA5igZbyms5y6d0xWxYmod/Zc3OXsk46t0Nadhv5ZxU0fHM8fUyvhHUMX4AUvKXo\n",
       "yeIB5NhQKG1s3afj0dSjdqnVD6+G3SSYx7ldwgl9rmGiTRi8y3Ww0vbuuzT3g6l7Fj9sOdo21Oa1\n",
       "l66yCkPAGH5R43u/1xW3I9fqKsoQF90Q7CMhP89iT6TfPyEBSPQM20td9qBGkcHnxOZPxD4CszcX\n",
       "IDwPoV3oBCcAjLEFryPs2H1sCTmYLOy0BeVuXY2H5eXagF71f4HwrKrgj0+oElA9h9/cIyOMYkdR\n",
       "at8pFrza0QflvE/bkW43LOA3g2zvxIaWDNn/9EuIY3PYhkbeYVEv/a69J3Yh/aZsT2UKhAo+jhf+\n",
       "mQdtbTm2m/bLx6C/pGwNLnNxGg0TiZ+7Q4EU7lXAjluLO8noIpCkmMgCio5h0EwtkAJekADUCNGg\n",
       "Bbd/MADYvuukVqpiz6KCSJu4QrA9OuQC2gnflfVDWs9zwK2Flr3tCBi47MMw6jhnBB6+6x14Qznr\n",
       "+X0y5AqUx34TCq5QgvXuxSJUHYXKp2MM5/23yJH7xd5O2+Pw0T4VZ6m8XdWkkkxYtivnS+WQkGUP\n",
       "Pk7Jpusx0A+VbURRRNvd1CY8aY8K22y7b7SwmBBl0bfSDwde+oZ1rtDZRjvHV+LH9Dg/Axvkvi7o\n",
       "wKcWioKOoaRXmh/w3yXJXSj25Bp3c8BdRt/2qrU0vLqjBcjYjKK+Jh8sNq+jLcb8OliDnQJXumWi\n",
       "yELFAZHW6YvuOkgcJcLn7tQu38m36/ACBt8gvpqyyGEiwDpWRd5lMz0QNZDCSrhLQsiIl4Z8b6Eb\n",
       "BILXdd9rMbWnRq0JJQwXAYop/4M71ulGPwCAQNJ7vf6OqhpXGi79P4RbqqWMIblsmb06XADCSjV2\n",
       "styjwpSnQjJpdc51oR+lnzdMtWEsj4qXIMTzVpOUtpa0fyxk9uEBjvZV60IRu3TjRrSUEUKILgsB\n",
       "sYXH9/E58lXfbZ/Sngc+mC6tge8c+QwYFyR2rFB7AhKznteDW9NCvOaE30fjqWqXPMIlKIJeYZK+\n",
       "gMcjR8xDohd+9S0k3KnnlhyQ3PK/h8GyFh/0B1JbwnTLsM4JiODjXcBDFPOZFwZcxTfXIlHBlhww\n",
       "jd5PiPd/Q+h4vvFMmWHAMumCgOW17O5VijSBvTRxk/fbocTtwoCqk3aFU5NDCsydZRnbN7XKe9+v\n",
       "tCD0K1i3LBI8VpuS00opPUe0WfebHiPITf3Ka0ko29KI/QynIicUwzsFKQ4f92gdvhRhK3/VKnur\n",
       "TAD/nz3ti5EtQTIl3LHebi62pIarFC9aTjx8n0JHgyxkS9kHtnqwZce0jUKfa51Kv1LgpJewhEhr\n",
       "69d0qLOff7IBiAOCABfCTPGFK9ynpQLeV8yP28TVmMEMuT89OQNdwRn7Dp1jYPH9jm7UAgHpt6KF\n",
       "Dg8KjvM5ksPJxPoD7GTGZIZ+KW5vZ7jqK5mv+Ob47w/yU1+q3iX3eT5dsWMi9ThDWrQwXzUYWEQc\n",
       "gTTAGgSzrB6hPQ2xl+/cX+Tlyjwe3UCFq5O0XH7bj04Ao3LuD7BP/r31Oc5WE8X7/2tQEBwZhmE1\n",
       "FrVLhyh4Xy/he/tj9+myLTZdU5ij/bxV9w9fO72QJ8/Nnorn+lvQuGhXYSaBVJ/nuDJMs236sF1q\n",
       "GfE/sFiZZCgU6EtDLSPqGzgzKlJWb/k+fi35dc66DtwuKI95uM9nL2HNoMYRgJwt1xACDcI40Nez\n",
       "GCBs1RT1y8LySADNk+w6Q4DYXSF7h7uUo55x+MBhZkrxMzSSU9VJGdLz1KLONntuz9JM/xaVz1aE\n",
       "8SOW6qmogvNCaOpV64mCillgh6qXHiPQeyOYBwZ93w5oQExonttu8PvW7ZITVOKusGRPSgbKC4TH\n",
       "0Qbv80stqzTH5FCYoli4zcYFglLmQfgP0KkzqN1mk80yRznq5iX5MQxs2QmbeQD6yadqeXtY2cLq\n",
       "nDEN5FN4vybT3BnP8dl81p4naib0kZVbq2770/WxUkglsOPC0mrtaPP3rru9X6uEGkoXbLfefqrS\n",
       "tGt8dcQBxMO0DKu8/u7gGQPj4+XgGf/6Yug7Xf2LWPj5DnNmhX2a+YWZ2wNxp0iaDKoLi7Sfmzm1\n",
       "hcz8Zl7FnnCW/TSSO9tbXNG+5ilZZGWdxTYcvtf71xmS8tyxln4Svw4dhHgiKChhNLhkAieozRIh\n",
       "OtVSvrf2vf+N13FrOl3lH4mYaPeEEHOJQPhUscUYhlNzE6Ba4+w9jtzL86JoO/tbja5c8Egb70np\n",
       "WvPw4wVoejmMdmnEInVRXeNsXaFh6kxFJ62h/KKHOlhv25vXfTY/A8e/XM6HeYX+dQ+JoL/rWrQE\n",
       "ot70g8ppW+eDB7yOeR307eJTQCEgMvqdQGlyq6JtziTWlzluHbrpNLh5oI8v3zrgXczBaUrClDxc\n",
       "YdtvlHeOFeV5Q+eKoQnT9VXE+iuYWETB0orj1X1dsjDgl0YlW3gG/YJrrEmxQeTK85VVEyHRo+9U\n",
       "8CW1hPmmljbeatJgY59p13AGBbC7mqBeEn87+EbwJCq0pGkohg06Tob8Qw4enAQRSyIzpwefEipt\n",
       "7n8bkakc5R3YPiCIRzEwk1QGmAnRQ4QH24ji609VubtRjgNcCZ6AejLSlUVln9EFQsu+5xvYh4QQ\n",
       "u4VXVd/Xl5OjHOnJHR1XLJR88m5TprlAp9hjKe6kOyfVrmZsSpknjrptbOCD+AJqK+o5qnm1n+b+\n",
       "4c112ZP9YRRWdoA8nEQIYylJTysRUQqZjTWxDCpK1sAYPOSAzxpWVVmV2MGRosrbZwLwpOiFU0dp\n",
       "sT5hLEqbBP7yVU5JM88leL/yRFv5PkPZrf4ohgcwB+JIN4V1tMl4aAmvdnjC9CH0kcL49VFKpfNF\n",
       "ENthbiv3NKz0PNQbZWzc81pd9HUShOHZJlEZuutoUk+F3rM3ABihtQHnZsozUlAYtDcUlOs3p4m/\n",
       "QT7iuKpSM7pYKCmoDKkyoAIpXt9dHYbccrM/80HWzfmXgaHZ1fib1yqwcFARnyRE+GmSbrNyb0uE\n",
       "yLwnb/WivjP+Z6v1Tb5X5qTXuyNTfen+EBCjdcTLsZy52LrNJVy8t0MecykCDf2GzBh6rxyUXa/G\n",
       "bvzlULCgsrCxGWURVeEDnVlIQ20hlwy/2w0EhotoD/58ScD3HS4wfsg+MVziErrIMp4Qno4/TnvC\n",
       "Lh2il5MmHoKQyqOrYXnYFFc9uPFtT5zBFz12D/nqyJ1hW+Jtg7YSCd3UlJ7rre2Hlyd3Xv22iA+w\n",
       "Hc1fNx41RxEU2kYw0ouYKuNl6Qm++nkpQmitjACKSNaN0QWWDnVv43zfEJOL3Oi8kAeUH/4youof\n",
       "MVyxqHGZFcgZ7eqPF27KwGYOoNfXBiLxrUky3px/Ys2v4Mtn8Hl1WLcTKlf9ixFLhl1zI66n+94U\n",
       "8FZGpZrsv1S3R6ot+nwbvQVp+GNzxdNBP/fy02eo3Q/lqTRHmcunuHOdIAx72pqHkBUirxV0k81D\n",
       "Gvrvz4tObOYoDqfTNGjCTPDOXlqjP3nYForHCz35AWPEFJga+4z1FNcur8l3Tvkqczl2OsYIBJQJ\n",
       "4R784WRjjj9SiyYMAcsk4OcbN2BC86e1akjN8aGsPiPKRop9csD8ahJgsuUF145ckmHGXofeuGku\n",
       "OOzbeEVeMUD5EiglQFoHXWKcaYLc+g1jHaBFQ6lj42zvE3VXsAjBH5YAsUE/Yi/34VIwkMyYiJs5\n",
       "VjiuzXPPGYMdH2C3BRAomIuSrFtUpYVl3fk9Vg6UvFoH6+JCUyi3kMDvnwbE9JbFLN3OI/VnWz3g\n",
       "AJMKHxOUxkYThNgSWB1xvzdGRGTIK4PoZPWpnYnQH2RBF638RaqvMhuRvuezrZRrZ+wbtudJZtjf\n",
       "F73IUMqQGsRVAj4nGkil2fMDUYGv8Bc15MD98r5CyFmqIayISY1bkYGAOVJ8AlhJCfIs9osBhvxU\n",
       "B6XpGqjGSbKCkpZmcxPYekLeyqUoQKq6b3RYCi+rV0Vk6G2IMna7ztJtyFOPn/fLBzk6zebWcZ0x\n",
       "JOaMABUzEGc9z9Y/xrn2+ohjqYaNgGayfOumgNgjt0AOiMTAj4mzIfjvvTDgDG3D0dd3sMiUbadV\n",
       "qgJtlpgkgeEHULag7T/muXYJBDr3JSPc4BOJzZ2Rc19gc/PPflkWX7yTGCV4XEgUEqKDGql4EIva\n",
       "xJGs70WL7ivYcnPBCQKmXW+V9bH1mcHuAfZ3A/2Mk4UJXM4XMRFEZ4cmQcSVuwHesd4bViKywDyR\n",
       "Ed9o2PW8iUGYuCepKDJnM2EGne7s13VJ9VheIOXE9iUvsBYZEWhyMMn1lJYOeB1iWrXLP5gASziw\n",
       "ctbzgIlqxHtSTD3PRayxiZ7dxN4cgdFIp/hxE6iMyEkffZKbFlP9rY4EV0cmEyamPTtuDLCqAtV5\n",
       "/D+GLu36v27T3j3pizcHGgHVThs3SQOY3I5sZQKeuLRBVS6+QUaOAorz1eGG4CQJJhmgXaDwrBEl\n",
       "wu1qT727n+q/BBsx5BjdfazCvI+9mvaa+IT1xJbSP7A3yDVQwlcOT0wVP8XFktdQNnK6KXqeUUmf\n",
       "//jCViAlFhkbcWmW5Izbz/cJBdk4IfHJjLNi0x7T8ft2HaimPZkaMYWqkwYXUt6+qcCy2/NXka8W\n",
       "DGVhnvsSNbYIrBmJ6CMDaAjNY3h6IsIhrLwoooE9KcC5o0KR2TRKJhgSM7hTOKZlMRYEMYEQ2KwO\n",
       "nU/PjG81U9WzQHIVHrO8zx6L7WD/O4ZfY2hEsmRcu4TsHjp+hSIbtYYVbWw9chAuY3RL5fKYglwT\n",
       "aLqneNXtIII7MO4sWgG3VlfCDNgprXTJI2nEjJf/EfXnmQiTdHYizyHbuJGmQecEep3LUwYY3wRq\n",
       "QmSKiQu/fZD6MbsT6lzenpg9RRL7xZkmo0kfJ4FgSRVjnYaDjJVMyr0d5Etji9zdlv/CHVp6q5RA\n",
       "RYbJAMb8+ZGnBA55FIOyFdgCNsFizX3BY8CePbDYTUKvAwd4+J750D5pa/jlooBIKL7gGgrmBLOo\n",
       "04esvmQDAZqrJH8zlH9ADZRQW2pXtkUF54uB3SaTUEvphJ5r1aXAJ7n5tj6wV3KJssSiArD+LwM/\n",
       "Hf7rIlU7Mw5wMBJ6ZjcEpNpDeAYAzr1T2Zw6xQmtuSPBCl7Sh0xqlR/Xu1mcF1KITV0AJNSS2NhG\n",
       "EgZU7cTxHewXQdtdX3J2W+ODNOpfN/EyEkDRoJWjzwZSWnrhqwT7/um4OykNLpkpmb4G8SZs87xs\n",
       "FRR/y9I9nX5intiQ4UUPMvQZcoUt8Yz3f+rAbtgz25OOYMkYXUvnRDhOvEpqz3y7usBlBHqEqfYf\n",
       "ouQGD6FG6XCZ9UE+5Ke8K96YxvP1CKTG7nkQdrquSvJU4JluR+2GwY9vvX8W/xy6YXoihCCRYVPv\n",
       "BWlFTHge+FeHOYH61E5VJo40GAW4qJLPNeooDPg+gpjvS/XbIkOeDhNy2ABW8H273y8GSXZxnpE8\n",
       "wo3YrUynUhxIWwF41jEMIK8IuTFnL32j7EIs6AqAK+BgAMnIq1Z3Uz9leTGvqqZ2TctDELUebTNG\n",
       "J9/8LKlNFXxA3yGUnVl4PT9naK44iIfH27aTvx3yEXzfSclmsRqqX2YQpKu2plmcVynk741QxZp6\n",
       "ofuivqSp3FRiuNYHo7xQ88dhY3mnc39LPolBJUO119rz41pRsHdMdkm+CYGizQhx7ax7/cYHb1nw\n",
       "u6iCEvYOHd9XpKvqynudH//jDNJUwdBKMe4xYn1Jz92L1I7V7qWJTSHXPhM5hosXx4JSKfrE61/o\n",
       "K645nF5ujwvcfugT+pHDa0I1G3KDcPVisFJSJaErP5/tZrk01iNuuhAJ0k5jUv/rZhKMbiFqJxjZ\n",
       "uvpfWl/i6eZUfdYwVLFX5TI3H/0+aC3ysZP4Zmz9x0UakSbB6XMGbCZBqEYy8aLadPLIJ7061/Tj\n",
       "GNFgN8m1/KN8fiN91FdmGFMydz+4tDvOrPfG29YbRACKwpoPjHcGCAgPOxEsuQg+iVrHDcn17all\n",
       "5TpwfWvjrb4Tr+IuQlbh8sETB1sgyibE+BpjveyIpvKQHFRqt5MC+QftxYWZvq6kwarRhcw/JSlQ\n",
       "Hab5pWPW8K0p10AIZL3pZsqZVpGY0jJVN8wNEeqQShieoJ15hPthgys6vXwaIHmD+m2WMlWRId1/\n",
       "j6seZE+sM5hTDyXL6B4RGELmOLd165VOinmAF3HjbH1oqNbhSMTHDrAlY41fymuAbxu/PxasVFhc\n",
       "fdOxMcCUnQo8E3ckzj207Y6bwPZEP3MUBFHnaML97Lz0cpy/jY/A0eWDbG7J3j81x3A1g2nfj7IP\n",
       "Rq77unmaAzJs3TUyeFKd/OqZPCSiXiSEXfR2iP06zJN85Nb6NFf7hMb3ozEs3Try0qXxOu8Ir2VP\n",
       "lYIOuhRurACkNqYIpa8VZuCks4NLJIE5hpfkLJOcEGR8iAmsQLB28uxuxja51UvjDrMoImTLaIZ3\n",
       "TqOHQRMLDB4XQ87Xz7JpvSpFKAtSMX7a8Sfj5kQE/AmvqOGFl8zuib+ynGUbps7C3dD20Lr8L4OV\n",
       "ZQzi1R8oo/WApfLfi4JH2sXqOWKidDpzzGytm3Q1aApWQ3jFOJjs2RO/EtbQg4xExFboAqWbUAUN\n",
       "vrMGcdW4aHmo9ld9d9bY5b5AhQ+s7ybT3QEJy4k+Kj38U4GeX44L9TR9zRgItZh04RGt9WmVb81+\n",
       "Slflm0/BAZhPMWsJL3HoTK75ewnxYyM1VU3EXGbBO2ZPZE54oC/I4WPJjETBM0nXwtvzTqriPukC\n",
       "UUebZenmgyG3CPLU0z6c1f8dOg6eoqaLT4MUU+BiLVX/xI/vOlb0yju4UJj9NtDrfuFUHzVCPOS0\n",
       "dbdvVTvgpksCEllHnrNykKIlid96q5GYGx4fb2Xkc9WZ4mSuPvRSuAzqVSqNF4KNfrcVpqefPXe7\n",
       "LWmziAYS0vYMdRYPe3vRY9ebUCD/jVsPK9sGR65cQ7uO2pKY4rzMkWJs6e8pT+Pl8QJzhkax6X+S\n",
       "2ITeY2x95Oau0pP+Xo50QV5+f2H8/h9PQ2eZD3gVXO14PCcviB9bDWZH8uq3thqZZeDWint1XFDA\n",
       "pG6QkDo5wIXyBBUeHKWGlq9dkQi2dWVgdykNifEHs0SmdLDnB7gZYyLCB3JUUtJeUXed/XosyzwP\n",
       "KpG9WTO3RTfpJQqJZ4OAMaZ8LPrhOsbXRv+R1O4jFWAcFiKbFBZyw+Cu2wYvHFhyh4qjqaDGe+ND\n",
       "qcLlNCQqduERowyk4HZD433h2uzdWggbPY3EYd+1tBQMjVM5MxnWNTUhfgySSvg9ypZoGAqEFcFf\n",
       "rMkPFfDj423qVC7X7BbRubZe5j20KvJ0gqqS0fVHX0cYtNq00EpOlu7A5/H8vgOg5L9F2LN9gw41\n",
       "22YSL6dRls53qKnL/Ekkb9lM2CYaz8Jj0xrVcLP0Lf7ljCS222Gpi1rxGeYHb24H6doLoQ0x4VN5\n",
       "V8GKpQJBzkRoRvSDEVeqClj8a7wzI+UNMhZHN2gje/ZRvH7/oyysWW4OlVzbjqCLbFDxC+wnsgK+\n",
       "jnv7Dxvry6+1oRLKsmaMktkN1O/QGowfaIxebkFEMhlYkBdbTciscCgE9C3HyE2gz45myDlzZm6+\n",
       "bMjKX4focah7o4Hz5uo9cwdCd2juDyQAe1hnLJZFzCvfz9jj2iE4FEV4FmbBiphfWmibF9UaP+AA\n",
       "IL4cXho6PPLmAgXoigSvd1sZmzA0CWmdgTmna6nuT8TGbCaYJQIZxudBev06/rlSxSJZIX0fiK5Z\n",
       "bovj0OKNRsVry833pvTLs29s8sNFRprXTIFkqbawYq6ErJzrU+XUcfltlWRnbk/RFjEn2hEQDJm9\n",
       "NtweYQA4hVpFPUv08U3wOjhbmSFlU0A8NjqYnPGM/39xDtC6dO00luRAEc0/DgqjDHEbECNTNatv\n",
       "laHqaFDAV463kLYLKphwMNDx6eLTZXpQzhYAVj1ANrtA6FrFFmthbTrJkcZdhRj8Ksxs8rrKP811\n",
       "XjH5IqE+rWN35oN7kQe0/mUtuZRIq4q2b7pFmg/kK28p4FmHvn+1cH9GP1LIsbUHEVZveQtMQj1R\n",
       "XqFx5VkWokcX2x+XJQhikHOa2TRHwa0jLNapTeyZ8qDKNDKWLAWJvYSDO4UTDuNYg69jlYHvJD0c\n",
       "cTsvBFik3IaRUqJS4Ro66ON6U4AjCAfwP0UHwBxbF/PaiSFtlmJ3A30dcTayac2V6cuAPrSdBjSy\n",
       "UgWxIHpyrXkCF0vDhDwfHpKSoMS1hUt9UDQidCmnfuvwGDolTEjDao+AsyFLoOFVlTsuu9wljD+x\n",
       "9mEbCFnEgPb83OC2LKXhlLMUJt/aIzImkNvteYssnOXrlUilx2Za7dNBj39kG/tLG3yVyzaXDoxr\n",
       "/7zP6sz3jJ7tNGFJAv/MIYkuHcwDHKFZLlnHAyCUEOZU7Lv0qGsYQTxizqHvCZFFXRdynhZUlB1J\n",
       "O/phpl/3o4tzIfFO9DlCRwt1HaElk2MXFG+wSlhzh10oJ/HOwSVC+8IIwOA2UWgxOuSFWTDBXsgP\n",
       "no0TK+RP02iR+whvMdhobl25L5Y3uWjr9HzmltGHr1oD9L+BAkg4Ur/Zcyy5ue5EVihfYvGuYrqC\n",
       "d4tbG3T3NB2REegxo7E9rpAIx5WvVh2IuLrs0Wd1yCV/Qs3oIquwoxyk+xs/CJN5rrUxEG0BS/w3\n",
       "yj7UiYzm6QOX7RKUfxfa/dvgPUwYqGMD/jTKO/uySZxsLuaHM4ZwVqikfdc9zp+aZr5kj2sNXIou\n",
       "1+xK9Q7H3e6UsN0s/Fzu5VgqGrDZRWCKgFjJrdXUsN+GPLveR9AZmz4kHK+wlkTueFwJGxc3AYmp\n",
       "dPl+G3PwfU7BEAdRp3ylt1qmzF30WpYzy1q/b+AihsB5wKOIBsr0Si9a3G7nwtr1krTHOaFFd+N7\n",
       "CRSDCljq1P6nlM/nuYXTjJYXtnLaZT13xYQprsW1aXg6qmc0qEUnVKdWcHSwffc9SUV/bu+qNtwu\n",
       "3QzgnyU7sCJI2VXaDJIQzQMcggE1BkTabDHcMcUqtNUCJRVNqFB1OxH+QwNZaq7q1kz6jFR9/jPH\n",
       "nh+O6KUJY41AkTfdG8efY0rU4oSQdvHCACKr6eRwkQARwq8T5OlyoFIoUGj4c36Qw3x6Nw3H8NlI\n",
       "V/cxWN6v1XeUZqW50d2/pqjCya1kd+P15Z6/rdoEnqbmu3HFSTA8QnBXmuyDVvuQH84jrmQyCPEW\n",
       "UxeG96CkB8oiBCfugrhBkp/NWh4RD2ZpgFT5+sU59aoUEyPsPdmFbevKxFV6cV8RjKm/SYMA/51W\n",
       "WIv5dqkFS+FbYs7WvO1v3QRjzdbMlFiEmorFoDKlieBIa1hjaT2oqXV4rGJfVncMyJn8ZUmnRWXD\n",
       "vFZiYXqfMMBC6RADoTlsfMIWfMVGiELwdvf0R5ymA5jMFxAyQuM5XcmnM4w00pheUuCNRt/SBmZ7\n",
       "IUnX28BSDAyHXTFt5DZ/KdeAl/v/V5X6wjyZpRS+Zghe3fwBG/SlE6UUn/Hnzjlcc7v3V7ZnNjiV\n",
       "49RycZg5r/QiHp2chBk2mT7+PZfQKliBchJ2c+ifiU9YAb2ObxIp5bIOksiuadoxqEYP+/1/GFQP\n",
       "QWll7t98vcuGaFc+ILw10uMjUSUxAMooYVhcLPInMcU4badGdzCCrun4auf8T+4nK1MdHiKdbjGm\n",
       "umHpX2/9qp3rbHHlf6nWJOwMH8C4gUX81mRdKMmKc1ZHESjnzd8kbjvZlpBN+mTmEkfifMhZ+zvc\n",
       "PVUCHBlhcTzLPppQ/5/WlnmuDomOScZyCgp1mzBbbepSqMOxsc19mteCwYMcMXthgEQNXlxlJBbu\n",
       "NOS9PWKOaN2GG3weB25qc3YVzDTL5wcZv/o89P+pegDmuggfabZPtKCP/oSZ78nacbhT0iGRrSbn\n",
       "tWHGYF7IVXEAVJuzFjd7ha4+g6jbQC6+gEoAnaga+ULqo99dV8JvutR5Q5hKZ0T4mHSF6ejKk4Z2\n",
       "aIu+0UuusbC+ftaeHzMTtAcHKByCQORyBkqbXjEdfQeDx/Agg+tCcmlfXytIFcNiLRv/WhDVqZaq\n",
       "YQB/C/X4EUgK5BYprxKXaj7PnoLDxhih1Tt7tU/7QVusybe3x9UAXtFMhH1zMQ9fkb2yEyRja4TH\n",
       "jM89YuupW1xquzMpUyueqIHsZoHc5uPhs6deGjvDa93VJvbGcy+Z2fXHO02mbVFFf3PCFd7Ksk+/\n",
       "QXRv0b10HnnktiFwOD4Z0qtflAHeY4wumau8Gt5o1w1/WyuuApPZEbkkuUpqrMV0c5hxszcy3aI9\n",
       "iEw5a7af1k7jB+ieI9zr9RrUEVjNdEUk0lQpISwCb7ZyyI4003+oaAy1uQe+VN9nzRKAz+Wod3EY\n",
       "GTGLIHV6JEm0cp80v5FtLvZ5fRrvAR0cnSlD7Tf8pphUu5pJOH2O2AqDSj33ovpkks3cat3a0UsF\n",
       "LiXwPXD10N22iYCbiVRhREZKGq96Gq/k3/ltJa65uH/rV/AOAuB3YgiyToZm4s5YzCZKlXLJfIwt\n",
       "rBSxJgsZexG4zy+UHOsSZS879q3wa9OB5jqnGQ0ODprZEk8J/qWF62268CbMKf3V37vm4tljxnNB\n",
       "YImffCTnZ/SzEaVjpEaOQaaqz9CW8NkUfvpluFnU9ns/NVUncHrbLn39ybpFjMCNYCaqarfI6r2H\n",
       "4wWEFDgcpj5nckc2UbjoXVcU4lwDuHKPX7twBfS8vKwarKQ9DJjVa6ybiVaRuv9qBohE52pT+QNc\n",
       "IMlCcL+Lu5pKwuc49Sl8rkoRfJ7JyHChyDY7H1n7UR/MNEOfjII7zmXIbSIjnObQCTXV6m/BPr0u\n",
       "YXns6Kq3x3i5FSIpi3WTHbmYPV1O1JHne+Q5BBV8Urz2lk2LpomlXdkaObJF/9c2arWcjQTVsLEV\n",
       "0jQUqaGeYOxKWSvoVXGkDKkImchqFGBYR65MHvrub4uBuYu7qnGzHejxjmlJROlZLrM0gj6CgudJ\n",
       "DBTKXvcFszuHRZDtfH4o2FDfKGuaqJpsvcIlRcl9guGFdUAd7oGuohpvlMoXixcoqElnl8NNUjtA\n",
       "4ewGZRn95tX/CEjosAngGa5OqhhgHeNzoQKoo2QkU1n7XB3YENAdFbuLVSJ6wHpnYroXA0/9vyPa\n",
       "OYHScEGEBh/Dtgf6rlg4vu5EKzlFD3YpbKIRtvvku6vD5Jj3UGBbHh9DNMZI/Of5pbTcWF8+2WEf\n",
       "EBCtbM2op9wG/WUEqcivRM8l7bmBCZy3SJjVHnsNSI4jXk7mNCSqvpKUP/n0K4BWSXH82ltsLA3w\n",
       "KuFBR3mu6CzMEq9scsQUe/rdbnzN94Bq6jg0+Cjn3rf6BrLJW1+9j9hN8odMO9ypmkjAzOc1XDm6\n",
       "p3a36p4RWpJZr3xB67hMqNb/v5OkN1fuMUwkH3L+lKPFQCNObLfVksDS+DOiFQRGSyV1wTVvWlRB\n",
       "y65fA7dlslnrXb5OQwEUjLi3ekEaU/OkLKvqXL/pxbrV7HfYXDo/awLffueuMpUHzlmaXoCg+IcJ\n",
       "yOHsIGpjnwZh6nUiK59opX4yR1o9KxIDoswqPB0h/EmLbSiwT0fUFGqBkbV+jS3hN/cwrBQp6P5j\n",
       "0siJYEFD0x8OZfkQ1qeXDTaK6zGUy5gNm33UE5gah4Q+1E9V1XmcfIKyhTqfqAM9VPCWp9rJBnMb\n",
       "XOcJ7VdkDYqcV+CPW/NRuxaSH+iYcF9h1UuVmdYDxNg5YL0o66FwR4lS/KOp47bXxI3TqbCBmlFK\n",
       "lpNhduvD3o6O+f+6a1bf8CBy7CLv1QmCuhDqlohmPKn8yXKZwmvB79aiGXYj23SaDGFAF2GzKs/r\n",
       "DzbfnTzJ7+kTy2HSl/0X++ffWGp20J7o/ipfVReJbTrocDI8IfIwj8vIVvxpDSplpuI+tPh4kdB6\n",
       "Zo8X5lmzIYlOJyNt8HeeGaBc6/b2kYkV+Q4YceVoIZpzUMp0nMg2bKcHwCNcdAKdfdTU+DlcA4kT\n",
       "/xjSE0jczbln8kAyG7VSnhnHwDkN74TnvUfcrw/J+3YoyHu9N7UIr0aB8Uh7rCNAPLbeeClDau1x\n",
       "4TuguztQD77gPdRWoUE3vjQPlM27fRflCkme6n9epK1o49MAz9D6Cvlxt93VObQ7DuR3EsYF+cK5\n",
       "CcRfC84JuCioBf0tVrTLeFbrDOSHLvhHSxEk29D9zBv3bDFR3wP8FFPj1nC3N/3wnNVlaSPv7VP9\n",
       "4OPnbwc7O5LQLm/ryNZEPYGAbU36zplAit1x8ArGBninM6vpMx8HtZ+4wg2wwVdHTlXbKA+CbDNV\n",
       "KBYo5BDdHqI7Wd91flVpDmKyXyp+ay8Abn4GSv7Ej2i9gE5SzMH0wMq24tOrNFp9NsvRbSWVnp46\n",
       "LEP4+XT4RKr83h3AI71GVFqg1hLYECFeuWQNMF06cMR+MUh/p8fpYFHTucXfEcqm6wCf3xVZCNMx\n",
       "bLOqAxdrKoQugoEKbW//95mUe6K4sLtyctuy7sqkLZOejAKdQzpJyh2jRfQMKAxwivWOAMbtVFlb\n",
       "RV/4pXYyWNU5GP1599W68nMBWFPFD7MkGS6NYVE5Py4y/KjxzmOkgzhlERMKxXoUF81iHpkNoLK5\n",
       "0VRhNYPEv0pej+fHsrq6LIr6f2aGkDp1ll563z0hCYEgkTy/HqqWofrt5tQbNMSAwSQ2sP8QZM4+\n",
       "KjgAsBV9OSrkQhgsm+xy5+e93eYLmpHNbqfo/YOGdYtaIYQpGzUXv5vhwE3emzfSP9j8zokOMDtV\n",
       "hTXQ00dY40wtknPHNzI/+mpZ2l/AJQ/GohYs3Sj/zdwS/cYtQBAvrFvh044ObwO8OYaGR+1ZQCzF\n",
       "PAERPzuWJqysCwlIeso/UI20ig+gEHSq/QL3XVsNuHesAVitxY2XbGqpIbun9c/Z261WO/kl1GSA\n",
       "kCi298SMuOoI/7gOU13cCAgcy/JiRkoS+aBsF3qJHASw+6Kq0fFLdi7quXK+VRva9Q4StOwsNMpw\n",
       "3uyuOMvV5ZT7qZFfszSepukBI6sqiU+QQJUTx3U9d6FvgpC4KW6aCKjBmtg8Hmd1GI7wtKr13YUy\n",
       "ga7WzUcXF6AvHUcnsnzO6mDDgSF3cb1DgsgT3MEaZ3j/+wB9P4bvuRwfff2LNxuFPxujYiJ9cFpJ\n",
       "V7en5tIZtOEHZt3CBlkbSarJ/7Wue+Wnn1ioPAMkIGlOd2IH5ANjQq9YDRef5EESs7YjF2K3EV1t\n",
       "0uwSzOv//ysdbTUP9dOIn638kqt33y6xrrV4bJWzp/74KYH5GGtqr3XTJfKBb/QxDgSP1/FKdPXK\n",
       "OC2WFFiS01vdkSBKs4nOtUYhLocrxwLkESecu3JuIJDYf0I0l9GHEMirTfeOzHdTvz6qgNAD8XNK\n",
       "R0K7/QSS6XHIFsa1QYcHyNXgu30cm/Xuac1+7451lryBNwaqW1GjXN8ojIUVdek93yq2AVD6Sag+\n",
       "7t3zUuzY0XV6xTHWiIPVi+fZhevmSWu+9I+nY/aKFURdtVUZHUkrerOOVerUCoVDiEGsC3fCVRhJ\n",
       "g9I6APGFra0CFXeYwkX9xr1Pf+Am5LaMe8qBazouooTI3q99ueZRfvuscaGGnuZxN6c3uNpmvTBC\n",
       "s0701psVCYsvJu2NohQP6HosRoft3GDl66WkGOP1ZuBF2Iv9dSbNjEVCucHX7ybZkaenYhuxMuYe\n",
       "NMtMOFEleF5H7Qjgp2EUQbtmKlzSxNX+9W/F8qDEeIo6DbMs1824ZDQTPHVu4Okl7oVTRLG+7zOz\n",
       "nzc4QP5Fkz448STxX/AODwPwxQTM9n2ooaH6zTPb1T59APCJdL2syNDdfUOnCiHy46NAhsUtsvT9\n",
       "gSM3LzJ9eJNG/GyJhOGcxX1ePa3gYo9XsUYSuA9im8SfLBNht5paGDuJKQk1TAbl7AigU6TJ1XzH\n",
       "D1zze7nVkEj2XlHwWdSu/KBngo997isMSLnGA8+sTeMW1+qjtuz6pO1qkeco/FDykktrEiTrAceF\n",
       "x/IH2gz6dN1pEk5adLVQdFIJb0zYa2pmJ5pvGZFhWZmm35u42VbYVAfV9GLTMgZKvYWdrKvU79a9\n",
       "IoCa+mne7NBOuPOVOBYiL0dIyreAyTKyM87g7auUGyrsspMQREJXcQP+hg/418QbA6KVLpeA+1ES\n",
       "Yvw6hPZSAjlCOYmwpF752l/TvrNyVgWUyDMq4Q0ghfvwhxz4nNBdLlaxcvn7JAknqp/I49xJZw6U\n",
       "3G422HMBs6TDLQ5QwsEmwr+eIztNn4LhbAEimH/XcdkuWywMEtC4OPzGjV4ZbXfsEDudbeDNxYYB\n",
       "5/WG0fmsF53XqSqr98dV4kqN7xrMMpArrzekiCDWJ5zwIoBXe/ALR8hHiBBpyf0iJr8xYgv54YZn\n",
       "UkOeFm16+N8Ml990kRdooRM2heCWdDZWD3mUba1vSaPYi+r0a+p+mjEFSq1XYT8f+msXOSKkA1CG\n",
       "/YixUWrHJqofJU+hvCqYFmnEGvZ9Fm7YHYHplc3ikzSsNDnsRmXkx0m/ZT7xk6W+Nnoa6R86sjLB\n",
       "l8JKi/1K03qIXHYUYFvPHBfKTAuTi2RbwBaT+ORKIy3D3J+MV5aimbWMvN26xCFcy01Pf/yvjpiM\n",
       "fklR5dez53Q+75CrhKdpmeIbq9YyfAWJ1Do7GxoNNdyTo5svy4OQeAfx14OqBHeiiZT0+SV5mczm\n",
       "FsykhB8BkB7/dmgMKK/P7KXY6cqUZIwrKnEigOm4kldhh5qfU3goxsqS2U3JIQLjagfi2SwQqFRa\n",
       "Q9jjUOCYnv1JyYHCFJsTO+IPhzaB0IGlaHGkS2MOkPYAf56S0lhyR6sf+lFux7TKMKYbaGYluAnO\n",
       "2vB7SQR5BrnVNoULD1xsXQU643T3bVt6SCHsFT5f/cteI1FK+hJop7KHOJYRO0aG5nQnDYupCGri\n",
       "a5mrKt+uIYZAi9wprbc30rkChAF8vaCwVedjQE7qDaDXLZSzVBEnh3V84VYSTG15xlA8hOOne5x3\n",
       "caG3qvslaFRVTRPSWANbPQHV7R+nCZXb5+/lzzbjflaeivUO04Ic9MB0AM4ehhXLXDZ4oMfIkU70\n",
       "lM4XCX55y3YZAlC5h0sAiivrleWWAEVCtvYZqvtPAvBZVWYzHTOOKVhLX2lmh2i0r7pWg5mbQxQU\n",
       "8ffKOxVwwqt8LxwQu/9EsPWXvEfUj+Sd1efPp8ET92Fv9U1HsuoPAxamXchG8N3lfwuvg2w6pXgw\n",
       "8AtpqmqNl4sYxi4I4BGiReykavD4ReKXUnFLlUsFVa/bmhABH6SRAx/N2DB99rQui5Y+BScxT8/M\n",
       "w6XM/EwScdmtZC7Dak1XchvLogq6XM+L3vawwEX6K4kUEFsAyT+4W9ANoS8ZC7B7hLkkAbidObKZ\n",
       "Bf0yaai/qrAlnPqpKNSZiURGPL2thfu7ko7Jpvm8lhCCgHGI2NvrXgq1FgGlaHIBpTsjKpI+Ias5\n",
       "WiaQCpeknQ87ZLkcjmNCBXFNE7fDsOg8gdQstrDjDXchOoEIPTSgYB12/u+tlfzuDBwtpyaycClp\n",
       "OeDfOgwS9imnBz4uw3JR5dJlVH0EbHsbpY5ubnaJ7NI7v6Q6/pXU/NVuvX2/gIL3zgMtMTdkBBuj\n",
       "YMzFx1q1Y99wMmAFaFNTSbdEXYPh/mZvFLLfBssUJpa8IBnj/5av4YyDWjoy5cWng3GmfiuXaQ3v\n",
       "3+D27//5dvKNpZfCxmU4dGZPtKmNuBFhelFnZTOLIjgWaYAflutCdqtUEM/1+bh0kOHcJvEWFGJi\n",
       "PObB6HoKwdUmeno5X0+zvQSTjbdYelsipVRYtcmKzQ0zjZEnZG53XAwrxbkdwH1tO8OVCJL93REK\n",
       "dhcfmnuF693S4wTNJmno4ZSBPXIaw+3xz75UWUiHboTL3qdE4/lv8XqwVDZ/FbxPhQcWTeuBAAAB\n",
       "10GaJGxDP/6eEANz7HggpfwBu6XN5TTQ6LS0XGg4ilCZzQ8LOGrsRDNO/G544ISRJRMxzVqCodNs\n",
       "QFnthYerXGyp9kU1jtothncX+yvRo6/E93DJwjAinGd4h+DTnwhY71Gl8jZoSEPy+/SgC2NVdcP1\n",
       "pXZVMUM9NX1Z2KRyrNnjTP1e1dchRhWN8NRS0ajTyU1c7agkMuYs6KcX6YqC1QA+FR3Q0t0b20Sf\n",
       "f0+45ZRLhhs8HfwqzI8jYkBkwjjAOBcO3+ohO5g1WAmYpF9FZlz47SVB+CFTr2gwhPHtO2a40frQ\n",
       "LLYGle6UcU0NPq5ybP/ot8fhtf/iyzfckfZSkFXubCNZ39v+a1MT72EDjf5lRg3nEekD4CjwQtl1\n",
       "Xofn5yeAypIESd03eA2o/h8EchfMM2fLaq/EBu4t+il9IqwnCdn5N6YCqzWYpmWJh8BAJhYTZ3KI\n",
       "BYOfhP+OneZ3eJAkW0qnYyQ20g0zVgOmPtKvV7bfdN1ozKMx252NozQkqK8Yrvp/bMSVy4eNFDkj\n",
       "3UvMXxOrcQ/K7SjtgKnxAZ1YZrWOet4NZQ0vjbImEmfqdS2Ozf8D9P9WgLPbO5jRwk/mz1TqW/RL\n",
       "7Ft0C3rsEgM9LZoaFRQ+4AAAADFBnkJ4hH8BGlFQhrYuSAa7tEd6dgY8N2vqeNE5AJwcO8O42OrP\n",
       "AjWoh2aboV32W8H1AAAAJQGeYXRH/wHEijaJSWF8DdZNvGYMk8AJciMT0gLrhIrfkiE0mtEAAAAU\n",
       "AZ5jakf/AcWADQwtqKeO4Pp1OGAAAAAdQZpoSahBaJlMCGf//p4QAE99WaN/9jqUDB7A6eQAAAAa\n",
       "QZ6GRREsI/8BHioDIgw42puvnzSKAkmZE6UAAAAUAZ6ldEf/AcSKcBTrv3at+tbr+cAAAAAQAZ6n\n",
       "akf/AcWAAQOmz5F/CwAAACBBmqxJqEFsmUwIZ//+nhAAUbF6AAimoQriP1oVeUQMWAAAABhBnspF\n",
       "FSwj/wEeKgM2DDd9Vdwl0RINbssAAAAQAZ7pdEf/AcSKYoQhERXIvQAAABABnutqR/8BxYABA6bP\n",
       "kX8LAAAAE0Ga8EmoQWyZTAhn//6eEAAAB00AAAAXQZ8ORRUsI/8BHioAU/1QnpzYRkWxh0AAAAAQ\n",
       "AZ8tdEf/AcSKYoQhERXIvAAAABABny9qR/8BxYABA6bPkX8LAAAAKUGbNEmoQWyZTAhn//6eEABR\n",
       "snRgCHABe4XXlzTSsJjJk5yOuLzxYOOAAAAAGUGfUkUVLCP/AR4qAzcqgzyfrxAG/TlvMwIAAAAQ\n",
       "AZ9xdEf/AcSKYoQhERXIvQAAABMBn3NqR/8BxYANXCxhm5wu+VRJAAAAS0GbeEmoQWyZTAhn//6e\n",
       "EABRsnRgCt+vC2Oa7AlXPav6Fj8uCTRqRU2EMCem2j5IhRU1vhFxcjCVEMKzX4oUJxt/ehtt8EYC\n",
       "zhGhxwAAACNBn5ZFFSwj/wEeKgMwN2MkAE7cSO+uY5/zRDCYQMvNgc8mVAAAABYBn7V0R/8BxIpw\n",
       "HlRjGbbWmYqEhoGAAAAAGgGft2pH/wHFgA1WL3f1H5VUK11kQpI+bkDBAAAAJEGbvEmoQWyZTAhn\n",
       "//6eEABRsr44ArfrWiBrc1yJzAuztsWBiwAAAA9Bn9pFFSwj/wEeKgAgRsAAAAAMAZ/5dEf/AcSK\n",
       "YoFDAAAADAGf+2pH/wHFgAEBGwAAADNBm+BJqEFsmUwIZ//+nhAAUbK+OAK1SpyORUMCmNiHEyQB\n",
       "XQ4NQnFaUI7QeoCwhWhYGLEAAAARQZ4eRRUsI/8BHioDNgv8UkEAAAAOAZ49dEf/AcSKcGTrcUkA\n",
       "AAAMAZ4/akf/AcWAAQEbAAAAQ0GaJEmoQWyZTAhn//6eEABT8nRgCrQl2p3C1QGSkzvOeLuxHVbH\n",
       "uPPaotuTpFi8o8/924yw5GJ54IOxtfOyi1z4IuAAAAARQZ5CRRUsI/8BHioDNgv8UkEAAAAMAZ5h\n",
       "dEf/AcSKYoFDAAAADwGeY2pH/wHFgA2v9NxQQAAAACpBmmhJqEFsmUwIZ//+nhAAU/IsgBVpLQJG\n",
       "Ew29XHmV61fCFWc+V/uLBvQAAAAPQZ6GRRUsI/8BHioAIEbBAAAADgGepXRH/wHEinC6kPFBAAAA\n",
       "DAGep2pH/wHFgAEBGwAAACNBmqxJqEFsmUwIZ//+nhAAU/LGlAEbEkJkkG0J9RLeY0QMCAAAABFB\n",
       "nspFFSwj/wEeKgNKC/xQQQAAAAwBnul0R/8BxIpigUMAAAAMAZ7rakf/AcWAAQEbAAAARUGa8Emo\n",
       "QWyZTAhn//6eEABT8r44ArVIOvATkUqa9Q3kYV7oj5rLhWLKOubNGJ2CQS7VNaaT2MqYshk531Fx\n",
       "KQJHxUJAgQAAABpBnw5FFSwj/wEeKgNKC/u4ABnggT/nHhsy4AAAAA4Bny10R/8BxIppovh5QQAA\n",
       "AAwBny9qR/8BxYABARsAAAAwQZs0SahBbJlMCGf//p4QACssuKy4nrOAIfWBIwgMw9jnLnkMLlDb\n",
       "J+zCVr45MKCAAAAAHEGfUkUVLCP/AR4qAb+SQendYAEOQJHYIJ1NTugAAAAWAZ9xdEf/AcSKaZzc\n",
       "J4AELCkOx3fHHQAAAA8Bn3NqR/8BxYAHf/puTcEAAAA/QZt4SahBbJlMCGf//p4QAFYxuOATSlws\n",
       "7prXTCWt/o74TxG3gxHOkhdqasQgn12WxfjrewAeyV6jEMle/Qm5AAAAGEGflkUVLCP/AR4qAb4H\n",
       "XhUAIFmds+b5NwAAABcBn7V0R/8BxIpxHezg5d8gAXCXgF1OmAAAABABn7dqR/8BxYAN9mDeNOmB\n",
       "AAAAN0GbvEmoQWyZTAhn//6eEAArLcKWwB062EwZu1sOHhoV2U7ntcZAdxkxfXWqkh1A6N3Kb658\n",
       "IeAAAAASQZ/aRRUsI/8BHioBudtjG+FTAAAADAGf+XRH/wHEimKBQwAAAA8Bn/tqR/8BxYAHVha4\n",
       "44AAAAAwQZvgSahBbJlMCGf//p4QACoLhigYAtt3oXkARsvAhPxHRAhff6pT9yEM68SwRBgRAAAA\n",
       "EUGeHkUVLCP/AR4qAbUF/lBBAAAADwGePXRH/wHEimmb/a+YsAAAAAwBnj9qR/8BxYABARsAAAA7\n",
       "QZokSahBbJlMCGf//p4QAFYxuOATX14LTSNS569kwkbnltUWEyGPbpOpiGz8+8GuawvpXE1lo/7G\n",
       "h8wAAAATQZ5CRRUsI/8BHioDXythAsBdwQAAAA4BnmF0R/8BxIppnUh5QQAAABUBnmNqR/8BxYAO\n",
       "BOmAB/LucPlXE3AAAAA8QZpoSahBbJlMCGf//p4QAFPyldAEcJhlh07lEZ6zZVhR914pRjtuYJQ0\n",
       "GDkxbMe+DgQ4/wW4UkSYIEPAAAAAEkGehkUVLCP/AR4qA0sqgzFO6QAAAAwBnqV0R/8BxIpigUMA\n",
       "AAAMAZ6nakf/AcWAAQEbAAAAKEGarEmoQWyZTAhn//6eEABT8pXQBf4PSxpqE73LQ9B5LxPjksyC\n",
       "wb0AAAAPQZ7KRRUsI/8BHioAIEbBAAAADAGe6XRH/wHEimKBQwAAAA8BnutqR/8BxYANf6tOHHEA\n",
       "AAATQZrwSahBbJlMCGf//p4QAAAHTQAAAA9Bnw5FFSwj/wEeKgAgRsAAAAAMAZ8tdEf/AcSKYoFD\n",
       "AAAADAGfL2pH/wHFgAEBGwAAADlBmzRJqEFsmUwIZ//+nhAAU/G44A5Jcbv2ll1AE8//9tgK3ZKw\n",
       "JPbxAqqFVnLFvuFCYmYliMatDBgAAAARQZ9SRRUsI/8BHioDSgv8UEAAAAAOAZ9xdEf/AcSKcLqQ\n",
       "8UEAAAAOAZ9zakf/AcWADVZi4dMAAAAeQZt4SahBbJlMCGf//p4QAFGyrXAEZI6fRvJpRAxZAAAA\n",
       "D0GflkUVLCP/AR4qACBGwAAAAAwBn7V0R/8BxIpigUMAAAAMAZ+3akf/AcWAAQEbAAAANEGbvEmo\n",
       "QWyZTAhn//6eEABRsbjgCrc4KA3xXbEmCZyVdtUQuSPcC+RZzktzgDkxT658EfAAAAARQZ/aRRUs\n",
       "I/8BHioDIyqqImAAAAAOAZ/5dEf/AcSKcG5TcUkAAAAPAZ/7akf/AcWADQwtcO6AAAAAKEGb4Emo\n",
       "QWyZTAhn//6eEABPzqej6HAErqbEkxLdBoovtT6xShIFgZUAAAAcQZ4eRRUsI/8BHioDIvIYSQAq\n",
       "QDAKSo97LzfFTQAAABcBnj10R/8BxIpwJddABDmuAhIKd3w7oAAAAAwBnj9qR/8BxYABARsAAAAr\n",
       "QZokSahBbJlMCGf//p4QAFGxegAIq6pBqgt1d4/Jztj2ckI5H2cFufg6YAAAAA9BnkJFFSwj/wEe\n",
       "KgAgRsEAAAAMAZ5hdEf/AcSKYoFDAAAADAGeY2pH/wHFgAEBGwAAAE1BmmhJqEFsmUwIZ//+nhAA\n",
       "UZ39lRWAI1b+QPqw98E+v+0zlI/r+Ki1n1Aye+tVH516MmoF5IWkSm0ydygC+hRPIUPPHCeqXZlu\n",
       "xnwR8AAAABxBnoZFFSwj/wEeKgM5GdACau8ctD4bJta2aj5hAAAAEAGepXRH/wHEinBuWlLagxYA\n",
       "AAAQAZ6nakf/AcWADVwT27DVgQAAAEtBmqxJqEFsmUwIZ//+nhAAUbG44ArVLhPm4U+24snB0kLG\n",
       "zDZkxgFFkMW++sZwkusQuEOrCeJut+RTQP3Rtl/nU3GVjVcn49qg7oAAAAAYQZ7KRRUsI/8BHioD\n",
       "NjXgABzC7LuXVlbBAAAAGAGe6XRH/wHEinB06YAGyow0NghejNw1JQAAABEBnutqR/8BxYANVl4K\n",
       "hvIsoQAAADhBmvBJqEFsmUwIZ//+nhAAUbF6AAsFFUuvWXx1s7MUNHycX0m1nwlirWuPS774OYW+\n",
       "JM4zVpAi4QAAAB1Bnw5FFSwj/wEeKgM2C3dYgAQ5X/K2v0kO2JjK2AAAABMBny10R/8BxIppbyWU\n",
       "YFwN6nzAAAAAGAGfL2pH/wHFgAcr1EAA2PODf56jJVwsoQAAAFRBmzRJqEFsmUwIZ//+nhAAKNqq\n",
       "nACKxYNkGRcSadK+vge/uXDrG3HrXYI4TF57vjllZ0SNAC21r0pAHcMdG3HdF01axzHwRWFU/Buk\n",
       "LVR3eghYMWAAAAAlQZ9SRRUsI/8BHioBqzGHoAbrfWCC0V3G7waHxTfP0xXYxYfKSAAAABoBn3F0\n",
       "R/8BxIppbuPk8XrwAFxWlh48+d8pIQAAABgBn3NqR/8BxYAHHvp74AC3gBI6GuX+UkEAAAAzQZt4\n",
       "SahBbJlMCGf//p4QACjarRIARMbLd80X2OvJ+hbw1pl/iE0Esp9QJe3e0PW+TCphAAAAEUGflkUV\n",
       "LCP/AR4qAaEF/lTAAAAADgGftXRH/wHEimlKdblTAAAADAGft2pH/wHFgAEBGwAAACNBm7xJqEFs\n",
       "mUwIZ//+nhAAKNnHuADimw+BiOFGw6GRztOFBAAAAA9Bn9pFFSwj/wEeKgAgRsAAAAAMAZ/5dEf/\n",
       "AcSKYoFDAAAADAGf+2pH/wHFgAEBGwAAAD5Bm+BJqEFsmUwIX//+jLAAKUvkLwAVzhQGa2uRFB+S\n",
       "qOvnBwI/9xBajgL+jARpBWowsmqPApJEGtdJAldB3QAAABJBnh5FFSwj/wEeKgGrAscqpGEAAAAX\n",
       "AZ49dEf/AcSKaXtIcAE40acpe3LrpCwAAAAPAZ4/akf/AcWABwYWuO6BAAAAQ0GaJEmoQWyZTAhf\n",
       "//6MsABQMt0QAtujsjMTett21h5vop4VO3HvfUE8Z+7Sv7aTO+rYzW+tlXulrREOx9N01t0CKCAA\n",
       "AAAVQZ5CRRUsI/8BHioDIytrdsVXuqUXAAAADwGeYXRH/wHEimlJnCL5nwAAAA4BnmNqR/8BxYAH\n",
       "AzFx3QAAADdBmmhJqEFsmUwIX//+jLAAUCaSIQAjQptjROmZm5OsTP4sGegRw7yTiJCrhXlmc0CK\n",
       "1pcyUMGpAAAAHkGehkUVLCP/AR4qAyNA5sAHEklQl/ytthBK0BWiJwAAAAwBnqV0R/8BxIpigUMA\n",
       "AAAPAZ6nakf/AcWADQwtcO6BAAAAM0GaqUmoQWyZTAhf//6MsABQMp0ABwdtIXXjrdcDv22S+xI+\n",
       "wa1Lk8Zicklol8eDNhg1IAAAAC5Bms1J4QpSZTAhf/6MsABQa9tymaIAWCXfQ7ZDNRsdCeU/ko7x\n",
       "uBhHsrfxjMI/AAAAGkGe60U0TCP/AR4KcZIHFF0AJaw4pV42SqStAAAAEwGfCnRH/wHEinAHmz0S\n",
       "biB0qSsAAAAPAZ8Makf/AcWADMFUXD0hAAAAUEGbEUmoQWiZTAhX//44QAE1FwSADjQGNn/02+Ji\n",
       "MGQL+TT0v8EtAo9rtK+gtzqMDZFFybXTrPayIIBqpNrjCzafCb/SHbcGAE0GNu2OeBMwAAAAG0Gf\n",
       "L0URLCP/AR4qAyUZ0AJTjyS3JwqkU5nBbQAAAA8Bn050R/8BxIpvw3iP41MAAAAQAZ9Qakf/AcWA\n",
       "DQZJh9htQAAAACNBm1VJqEFsmUwI//yEABHjVAPKOcAG5jYXCVaG3Tp+B8gScAAAABFBn3NFFSwj\n",
       "/wEeKgMMkAjRGwAAABABn5J0R/8BxIpvv1uZP+NTAAAADgGflGpH/wHFgAy4+fGpAAAV4m1vb3YA\n",
       "AABsbXZoZAAAAAAAAAAAAAAAAAAAA+gAAB9AAAEAAAEAAAAAAAAAAAAAAAABAAAAAAAAAAAAAAAA\n",
       "AAAAAQAAAAAAAAAAAAAAAAAAQAAAAAAAAAAAAAAAAAAAAAAAAAAAAAAAAAAAAAAAAAIAABUMdHJh\n",
       "awAAAFx0a2hkAAAAAwAAAAAAAAAAAAAAAQAAAAAAAB9AAAAAAAAAAAAAAAAAAAAAAAABAAAAAAAA\n",
       "AAAAAAAAAAAAAQAAAAAAAAAAAAAAAAAAQAAAAAGwAAABIAAAAAAAJGVkdHMAAAAcZWxzdAAAAAAA\n",
       "AAABAAAfQAAAAgAAAQAAAAAUhG1kaWEAAAAgbWRoZAAAAAAAAAAAAAAAAAAAMgAAAZAAVcQAAAAA\n",
       "AC1oZGxyAAAAAAAAAAB2aWRlAAAAAAAAAAAAAAAAVmlkZW9IYW5kbGVyAAAAFC9taW5mAAAAFHZt\n",
       "aGQAAAABAAAAAAAAAAAAAAAkZGluZgAAABxkcmVmAAAAAAAAAAEAAAAMdXJsIAAAAAEAABPvc3Ri\n",
       "bAAAALNzdHNkAAAAAAAAAAEAAACjYXZjMQAAAAAAAAABAAAAAAAAAAAAAAAAAAAAAAGwASAASAAA\n",
       "AEgAAAAAAAAAAQAAAAAAAAAAAAAAAAAAAAAAAAAAAAAAAAAAAAAAAAAAABj//wAAADFhdmNDAWQA\n",
       "Hv/hABhnZAAerNlBsJaEAAADAAQAAAMBkDxYtlgBAAZo6+PLIsAAAAAcdXVpZGtoQPJfJE/Fujml\n",
       "G88DI/MAAAAAAAAAGHN0dHMAAAAAAAAAAQAAAZAAAAEAAAAAGHN0c3MAAAAAAAAAAgAAAAEAAAD7\n",
       "AAAMgGN0dHMAAAAAAAABjgAAAAIAAAIAAAAAAQAABQAAAAABAAACAAAAAAEAAAAAAAAAAQAAAQAA\n",
       "AAABAAACAAAAAAEAAAUAAAAAAQAAAgAAAAABAAAAAAAAAAEAAAEAAAAAAQAABQAAAAABAAACAAAA\n",
       "AAEAAAAAAAAAAQAAAQAAAAABAAAFAAAAAAEAAAIAAAAAAQAAAAAAAAABAAABAAAAAAEAAAIAAAAA\n",
       "AQAABQAAAAABAAACAAAAAAEAAAAAAAAAAQAAAQAAAAABAAAFAAAAAAEAAAIAAAAAAQAAAAAAAAAB\n",
       "AAABAAAAAAEAAAUAAAAAAQAAAgAAAAABAAAAAAAAAAEAAAEAAAAAAQAABQAAAAABAAACAAAAAAEA\n",
       "AAAAAAAAAQAAAQAAAAABAAAFAAAAAAEAAAIAAAAAAQAAAAAAAAABAAABAAAAAAEAAAUAAAAAAQAA\n",
       "AgAAAAABAAAAAAAAAAEAAAEAAAAAAQAABQAAAAABAAACAAAAAAEAAAAAAAAAAQAAAQAAAAABAAAF\n",
       "AAAAAAEAAAIAAAAAAQAAAAAAAAABAAABAAAAAAEAAAUAAAAAAQAAAgAAAAABAAAAAAAAAAEAAAEA\n",
       "AAAAAQAABQAAAAABAAACAAAAAAEAAAAAAAAAAQAAAQAAAAABAAAFAAAAAAEAAAIAAAAAAQAAAAAA\n",
       "AAABAAABAAAAAAEAAAUAAAAAAQAAAgAAAAABAAAAAAAAAAEAAAEAAAAAAQAABQAAAAABAAACAAAA\n",
       "AAEAAAAAAAAAAQAAAQAAAAABAAAFAAAAAAEAAAIAAAAAAQAAAAAAAAABAAABAAAAAAEAAAUAAAAA\n",
       "AQAAAgAAAAABAAAAAAAAAAEAAAEAAAAAAQAABQAAAAABAAACAAAAAAEAAAAAAAAAAQAAAQAAAAAB\n",
       "AAAFAAAAAAEAAAIAAAAAAQAAAAAAAAABAAABAAAAAAEAAAUAAAAAAQAAAgAAAAABAAAAAAAAAAEA\n",
       "AAEAAAAAAQAABQAAAAABAAACAAAAAAEAAAAAAAAAAQAAAQAAAAABAAAFAAAAAAEAAAIAAAAAAQAA\n",
       "AAAAAAABAAABAAAAAAEAAAUAAAAAAQAAAgAAAAABAAAAAAAAAAEAAAEAAAAAAQAABQAAAAABAAAC\n",
       "AAAAAAEAAAAAAAAAAQAAAQAAAAABAAAFAAAAAAEAAAIAAAAAAQAAAAAAAAABAAABAAAAAAEAAAUA\n",
       "AAAAAQAAAgAAAAABAAAAAAAAAAEAAAEAAAAAAQAABQAAAAABAAACAAAAAAEAAAAAAAAAAQAAAQAA\n",
       "AAABAAAFAAAAAAEAAAIAAAAAAQAAAAAAAAABAAABAAAAAAEAAAUAAAAAAQAAAgAAAAABAAAAAAAA\n",
       "AAEAAAEAAAAAAQAABQAAAAABAAACAAAAAAEAAAAAAAAAAQAAAQAAAAABAAAFAAAAAAEAAAIAAAAA\n",
       "AQAAAAAAAAABAAABAAAAAAEAAAUAAAAAAQAAAgAAAAABAAAAAAAAAAEAAAEAAAAAAQAABQAAAAAB\n",
       "AAACAAAAAAEAAAAAAAAAAQAAAQAAAAABAAAFAAAAAAEAAAIAAAAAAQAAAAAAAAABAAABAAAAAAEA\n",
       "AAUAAAAAAQAAAgAAAAABAAAAAAAAAAEAAAEAAAAAAQAABQAAAAABAAACAAAAAAEAAAAAAAAAAQAA\n",
       "AQAAAAABAAAFAAAAAAEAAAIAAAAAAQAAAAAAAAABAAABAAAAAAEAAAUAAAAAAQAAAgAAAAABAAAA\n",
       "AAAAAAEAAAEAAAAAAQAABQAAAAABAAACAAAAAAEAAAAAAAAAAQAAAQAAAAABAAAFAAAAAAEAAAIA\n",
       "AAAAAQAAAAAAAAABAAABAAAAAAEAAAUAAAAAAQAAAgAAAAABAAAAAAAAAAEAAAEAAAAAAQAABQAA\n",
       "AAABAAACAAAAAAEAAAAAAAAAAQAAAQAAAAABAAAFAAAAAAEAAAIAAAAAAQAAAAAAAAABAAABAAAA\n",
       "AAEAAAUAAAAAAQAAAgAAAAABAAAAAAAAAAEAAAEAAAAAAQAAAgAAAAABAAAFAAAAAAEAAAIAAAAA\n",
       "AQAAAAAAAAABAAABAAAAAAEAAAUAAAAAAQAAAgAAAAABAAAAAAAAAAEAAAEAAAAAAQAABQAAAAAB\n",
       "AAACAAAAAAEAAAAAAAAAAQAAAQAAAAABAAAFAAAAAAEAAAIAAAAAAQAAAAAAAAABAAABAAAAAAEA\n",
       "AAUAAAAAAQAAAgAAAAABAAAAAAAAAAEAAAEAAAAAAQAABQAAAAABAAACAAAAAAEAAAAAAAAAAQAA\n",
       "AQAAAAABAAAFAAAAAAEAAAIAAAAAAQAAAAAAAAABAAABAAAAAAEAAAUAAAAAAQAAAgAAAAABAAAA\n",
       "AAAAAAEAAAEAAAAAAQAABQAAAAABAAACAAAAAAEAAAAAAAAAAQAAAQAAAAABAAAFAAAAAAEAAAIA\n",
       "AAAAAQAAAAAAAAABAAABAAAAAAEAAAUAAAAAAQAAAgAAAAABAAAAAAAAAAEAAAEAAAAAAQAABQAA\n",
       "AAABAAACAAAAAAEAAAAAAAAAAQAAAQAAAAABAAAFAAAAAAEAAAIAAAAAAQAAAAAAAAABAAABAAAA\n",
       "AAEAAAUAAAAAAQAAAgAAAAABAAAAAAAAAAEAAAEAAAAAAQAABQAAAAABAAACAAAAAAEAAAAAAAAA\n",
       "AQAAAQAAAAACAAACAAAAAAEAAAUAAAAAAQAAAgAAAAABAAAAAAAAAAEAAAEAAAAAAQAABQAAAAAB\n",
       "AAACAAAAAAEAAAAAAAAAAQAAAQAAAAABAAAFAAAAAAEAAAIAAAAAAQAAAAAAAAABAAABAAAAAAEA\n",
       "AAUAAAAAAQAAAgAAAAABAAAAAAAAAAEAAAEAAAAAAQAABQAAAAABAAACAAAAAAEAAAAAAAAAAQAA\n",
       "AQAAAAABAAAFAAAAAAEAAAIAAAAAAQAAAAAAAAABAAABAAAAAAEAAAUAAAAAAQAAAgAAAAABAAAA\n",
       "AAAAAAEAAAEAAAAAAQAABQAAAAABAAACAAAAAAEAAAAAAAAAAQAAAQAAAAABAAAFAAAAAAEAAAIA\n",
       "AAAAAQAAAAAAAAABAAABAAAAAAEAAAUAAAAAAQAAAgAAAAABAAAAAAAAAAEAAAEAAAAAAQAABQAA\n",
       "AAABAAACAAAAAAEAAAAAAAAAAQAAAQAAAAABAAAFAAAAAAEAAAIAAAAAAQAAAAAAAAABAAABAAAA\n",
       "AAEAAAUAAAAAAQAAAgAAAAABAAAAAAAAAAEAAAEAAAAAAQAABQAAAAABAAACAAAAAAEAAAAAAAAA\n",
       "AQAAAQAAAAABAAAFAAAAAAEAAAIAAAAAAQAAAAAAAAABAAABAAAAAAEAAAUAAAAAAQAAAgAAAAAB\n",
       "AAAAAAAAAAEAAAEAAAAAAQAABQAAAAABAAACAAAAAAEAAAAAAAAAAQAAAQAAAAABAAAFAAAAAAEA\n",
       "AAIAAAAAAQAAAAAAAAABAAABAAAAAAEAAAUAAAAAAQAAAgAAAAABAAAAAAAAAAEAAAEAAAAAAQAA\n",
       "BQAAAAABAAACAAAAAAEAAAAAAAAAAQAAAQAAAAABAAAFAAAAAAEAAAIAAAAAAQAAAAAAAAABAAAB\n",
       "AAAAAAEAAAUAAAAAAQAAAgAAAAABAAAAAAAAAAEAAAEAAAAAAQAABQAAAAABAAACAAAAAAEAAAAA\n",
       "AAAAAQAAAQAAAAABAAAFAAAAAAEAAAIAAAAAAQAAAAAAAAABAAABAAAAAAEAAAUAAAAAAQAAAgAA\n",
       "AAABAAAAAAAAAAEAAAEAAAAAAQAABQAAAAABAAACAAAAAAEAAAAAAAAAAQAAAQAAAAABAAAFAAAA\n",
       "AAEAAAIAAAAAAQAAAAAAAAABAAABAAAAAAEAAAUAAAAAAQAAAgAAAAABAAAAAAAAAAEAAAEAAAAA\n",
       "AQAABQAAAAABAAACAAAAAAEAAAAAAAAAAQAAAQAAAAABAAAFAAAAAAEAAAIAAAAAAQAAAAAAAAAB\n",
       "AAABAAAAAAEAAAUAAAAAAQAAAgAAAAABAAAAAAAAAAEAAAEAAAAAAQAABQAAAAABAAACAAAAAAEA\n",
       "AAAAAAAAAQAAAQAAAAABAAAFAAAAAAEAAAIAAAAAAQAAAAAAAAABAAABAAAAAAEAAAUAAAAAAQAA\n",
       "AgAAAAABAAAAAAAAAAEAAAEAAAAAAQAAAgAAAAABAAAFAAAAAAEAAAIAAAAAAQAAAAAAAAABAAAB\n",
       "AAAAAAEAAAUAAAAAAQAAAgAAAAABAAAAAAAAAAEAAAEAAAAAAQAABQAAAAABAAACAAAAAAEAAAAA\n",
       "AAAAAQAAAQAAAAAcc3RzYwAAAAAAAAABAAAAAQAAAZAAAAABAAAGVHN0c3oAAAAAAAAAAAAAAZAA\n",
       "ADV2AAAClQAAAMIAAAAxAAAAMAAAABwAAABTAAAAhQAAACsAAAAlAAAAJQAAAHsAAAAbAAAAIAAA\n",
       "ACAAAABmAAAAJgAAABgAAAAeAAAASQAAAF4AAAAcAAAAHQAAABYAAAArAAAAIwAAABQAAAAUAAAA\n",
       "cgAAACUAAAAhAAAAHgAAAF8AAAAkAAAAFwAAABwAAABcAAAAHAAAABQAAAAcAAAAawAAACsAAAAW\n",
       "AAAAHgAAAE0AAAAbAAAAGQAAABwAAAA/AAAAIwAAABQAAAAVAAAAOQAAACQAAAAUAAAAEgAAAEIA\n",
       "AAAkAAAAFAAAABIAAABTAAAAHQAAAB0AAAAdAAAAVQAAACcAAAAfAAAAGQAAAFEAAAAmAAAAIQAA\n",
       "ABYAAAA7AAAAJQAAABQAAAAbAAAAQAAAABsAAAAUAAAAHAAAADwAAAAmAAAAGAAAABkAAAB0AAAA\n",
       "HwAAACAAAAAYAAAAPgAAAB0AAAAYAAAAFwAAADgAAAAdAAAAGAAAAB0AAABSAAAAIAAAABkAAAAV\n",
       "AAAASwAAACgAAAAZAAAAIgAAADwAAAAcAAAAGAAAABgAAABRAAAAHQAAACEAAAAXAAAAPwAAABwA\n",
       "AAAWAAAAHAAAADIAAAAbAAAAFgAAABUAAAA/AAAAGwAAABYAAAAbAAAAUgAAACQAAAAeAAAAHQAA\n",
       "AEIAAAAcAAAAFgAAACAAAABLAAAAJwAAAB0AAAAUAAAASQAAACgAAAAYAAAAIAAAAFEAAAAmAAAA\n",
       "HAAAABsAAABLAAAAJQAAABYAAAAXAAAAQwAAAB4AAAAZAAAAIAAAAE0AAAAmAAAAIQAAABgAAABZ\n",
       "AAAAJwAAABcAAAAfAAAAVwAAACkAAAAbAAAAIwAAAEoAAAAlAAAAGwAAABsAAAA9AAAAGwAAABYA\n",
       "AAAWAAAARQAAACsAAAAWAAAAFQAAAEIAAAAcAAAAHQAAABYAAAA4AAAAJAAAABcAAAAWAAAAPwAA\n",
       "ABsAAAAUAAAAFQAAAEcAAABPAAAAJQAAABQAAAASAAAAWAAAACUAAAAWAAAAFgAAAEAAAAAkAAAA\n",
       "HgAAABIAAABAAAAAHQAAABYAAAAXAAAAPAAAABwAAAAWAAAAFgAAAFwAAAApAAAAFwAAACIAAAAz\n",
       "AAAAHwAAABsAAAAWAAAAOAAAACcAAAAYAAAAGAAAADQAAAAdAAAAGAAAABgAAAAuAAAAHQAAABgA\n",
       "AAAWAAAANgAAACYAAAAZAAAAGQAAAE4AAAAmAAAAGgAAACIAAABBAAAAHAAAABcAAAAYAAAALwAA\n",
       "ABwAAAAYAAAAFgAAADUAAAAbAAAAFgAAABgAAAAiAABBFgAAAdsAAAA1AAAAKQAAABgAAAAhAAAA\n",
       "HgAAABgAAAAUAAAAJAAAABwAAAAUAAAAFAAAABcAAAAbAAAAFAAAABQAAAAtAAAAHQAAABQAAAAX\n",
       "AAAATwAAACcAAAAaAAAAHgAAACgAAAATAAAAEAAAABAAAAA3AAAAFQAAABIAAAAQAAAARwAAABUA\n",
       "AAAQAAAAEwAAAC4AAAATAAAAEgAAABAAAAAnAAAAFQAAABAAAAAQAAAASQAAAB4AAAASAAAAEAAA\n",
       "ADQAAAAgAAAAGgAAABMAAABDAAAAHAAAABsAAAAUAAAAOwAAABYAAAAQAAAAEwAAADQAAAAVAAAA\n",
       "EwAAABAAAAA/AAAAFwAAABIAAAAZAAAAQAAAABYAAAAQAAAAEAAAACwAAAATAAAAEAAAABMAAAAX\n",
       "AAAAEwAAABAAAAAQAAAAPQAAABUAAAASAAAAEgAAACIAAAATAAAAEAAAABAAAAA4AAAAFQAAABIA\n",
       "AAATAAAALAAAACAAAAAbAAAAEAAAAC8AAAATAAAAEAAAABAAAABRAAAAIAAAABQAAAAUAAAATwAA\n",
       "ABwAAAAcAAAAFQAAADwAAAAhAAAAFwAAABwAAABYAAAAKQAAAB4AAAAcAAAANwAAABUAAAASAAAA\n",
       "EAAAACcAAAATAAAAEAAAABAAAABCAAAAFgAAABsAAAATAAAARwAAABkAAAATAAAAEgAAADsAAAAi\n",
       "AAAAEAAAABMAAAA3AAAAMgAAAB4AAAAXAAAAEwAAAFQAAAAfAAAAEwAAABQAAAAnAAAAFQAAABQA\n",
       "AAASAAAAFHN0Y28AAAAAAAAAAQAAACwAAABidWR0YQAAAFptZXRhAAAAAAAAACFoZGxyAAAAAAAA\n",
       "AABtZGlyYXBwbAAAAAAAAAAAAAAAAC1pbHN0AAAAJal0b28AAAAdZGF0YQAAAAEAAAAATGF2ZjU2\n",
       "LjQwLjEwMQ==\n",
       "\">\n",
       "  Your browser does not support the video tag.\n",
       "</video>"
      ]
     },
     "metadata": {},
     "output_type": "display_data"
    }
   ],
   "source": [
    "try:\n",
    "    display_html(HTML(anim.to_html5_video()))\n",
    "# In case the build-in renderers are unaviable, fall back to\n",
    "# a custom one, that doesn't require external libraries\n",
    "except RuntimeError:\n",
    "    anim.save(None, writer=matplotlib_utils.SimpleMovieWriter(0.001))"
   ]
  },
  {
   "cell_type": "markdown",
   "metadata": {},
   "source": [
    "# Logistic regression\n",
    "Your assignment is to implement the logistic regression\n",
    "\n",
    "Plan:\n",
    "* Use a shared variable for weights\n",
    "* Use a matrix placeholder for `X`\n",
    " \n",
    "We shall train on a two-class MNIST dataset\n",
    "* please note that target `y` are `{0,1}` and not `{-1,1}` as in some formulae"
   ]
  },
  {
   "cell_type": "code",
   "execution_count": 30,
   "metadata": {},
   "outputs": [
    {
     "name": "stdout",
     "output_type": "stream",
     "text": [
      "y [shape - (360,)]: [0 1 0 1 0 1 0 0 1 1]\n",
      "X [shape - (360, 64)]:\n"
     ]
    }
   ],
   "source": [
    "from sklearn.datasets import load_digits\n",
    "mnist = load_digits(2)\n",
    "\n",
    "X, y = mnist.data, mnist.target\n",
    "\n",
    "print(\"y [shape - %s]:\" % (str(y.shape)), y[:10])\n",
    "print(\"X [shape - %s]:\" % (str(X.shape)))"
   ]
  },
  {
   "cell_type": "code",
   "execution_count": 31,
   "metadata": {},
   "outputs": [
    {
     "name": "stdout",
     "output_type": "stream",
     "text": [
      "X:\n",
      " [[ 0.  0.  5. 13.  9.  1.  0.  0.  0.  0.]\n",
      " [ 0.  0.  0. 12. 13.  5.  0.  0.  0.  0.]\n",
      " [ 0.  0.  1.  9. 15. 11.  0.  0.  0.  0.]]\n",
      "y:\n",
      " [0 1 0 1 0 1 0 0 1 1]\n"
     ]
    },
    {
     "data": {
      "image/png": "[encoded data removed]",
      "text/plain": [
       "<Figure size 432x288 with 1 Axes>"
      ]
     },
     "metadata": {},
     "output_type": "display_data"
    }
   ],
   "source": [
    "print('X:\\n',X[:3,:10])\n",
    "print('y:\\n',y[:10])\n",
    "plt.imshow(X[0].reshape([8,8]));"
   ]
  },
  {
   "cell_type": "markdown",
   "metadata": {},
   "source": [
    "It's your turn now!\n",
    "Just a small reminder of the relevant math:\n",
    "\n",
    "$$\n",
    "P(y=1|X) = \\sigma(X \\cdot W + b)\n",
    "$$\n",
    "$$\n",
    "\\text{loss} = -\\log\\left(P\\left(y_\\text{predicted} = 1\\right)\\right)\\cdot y_\\text{true} - \\log\\left(1 - P\\left(y_\\text{predicted} = 1\\right)\\right)\\cdot\\left(1 - y_\\text{true}\\right)\n",
    "$$\n",
    "\n",
    "$\\sigma(x)$ is available via `tf.nn.sigmoid` and matrix multiplication via `tf.matmul`"
   ]
  },
  {
   "cell_type": "code",
   "execution_count": 32,
   "metadata": {},
   "outputs": [],
   "source": [
    "from sklearn.model_selection import train_test_split\n",
    "X_train, X_test, y_train, y_test = train_test_split(\n",
    "    X, y, random_state=42)"
   ]
  },
  {
   "cell_type": "markdown",
   "metadata": {},
   "source": [
    "__Your code goes here.__ For the training and testing scaffolding to work, please stick to the names in comments."
   ]
  },
  {
   "cell_type": "code",
   "execution_count": 33,
   "metadata": {},
   "outputs": [],
   "source": [
    "# Model parameters - weights and bias\n",
    "# weights = tf.Variable(...) shape should be (X.shape[1], 1)\n",
    "# b = tf.Variable(...)\n",
    "weights = tf.Variable(tf.zeros((X.shape[1], 1)), dtype=tf.float32)\n",
    "b = tf.Variable(0, dtype=tf.float32)"
   ]
  },
  {
   "cell_type": "code",
   "execution_count": 34,
   "metadata": {},
   "outputs": [],
   "source": [
    "# Placeholders for the input data\n",
    "# input_X = tf.placeholder(...)\n",
    "# input_y = tf.placeholder(...)\n",
    "input_X = tf.placeholder(tf.float32, (None, X.shape[1]))\n",
    "input_y = tf.placeholder(tf.float32, (None,))"
   ]
  },
  {
   "cell_type": "code",
   "execution_count": 35,
   "metadata": {},
   "outputs": [],
   "source": [
    "# The model code\n",
    "\n",
    "# Compute a vector of predictions, resulting shape should be [input_X.shape[0],]\n",
    "# This is 1D, if you have extra dimensions, you can get rid of them with tf.squeeze .\n",
    "# Don't forget the sigmoid.\n",
    "predicted_y = tf.nn.sigmoid(tf.matmul(input_X, weights) + b)\n",
    "predicted_y = tf.squeeze(predicted_y)\n",
    "\n",
    "# Loss. Should be a scalar number - average loss over all the objects\n",
    "# tf.reduce_mean is your friend here\n",
    "loss = -tf.reduce_mean(input_y * tf.log(predicted_y) + (1. - input_y) * tf.log(1. - predicted_y))\n",
    "\n",
    "# See above for an example. tf.train.*Optimizer\n",
    "optimizer = tf.train.AdamOptimizer().minimize(loss)"
   ]
  },
  {
   "cell_type": "markdown",
   "metadata": {},
   "source": [
    "A test to help with the debugging"
   ]
  },
  {
   "cell_type": "code",
   "execution_count": 36,
   "metadata": {},
   "outputs": [],
   "source": [
    "validation_weights = 1e-3 * np.fromiter(map(lambda x:\n",
    "        s.run(weird_psychotic_function, {my_scalar:x, my_vector:[1, 0.1, 2]}),\n",
    "                                   0.15 * np.arange(1, X.shape[1] + 1)),\n",
    "                                   count=X.shape[1], dtype=np.float32)[:, np.newaxis]\n",
    "# Compute predictions for given weights and bias\n",
    "prediction_validation = s.run(\n",
    "    predicted_y, {\n",
    "    input_X: X,\n",
    "    weights: validation_weights,\n",
    "    b: 1e-1})\n",
    "\n",
    "# Load the reference values for the predictions\n",
    "validation_true_values = np.loadtxt(\"validation_predictons.txt\")\n",
    "\n",
    "assert prediction_validation.shape == (X.shape[0],),\\\n",
    "       \"Predictions must be a 1D array with length equal to the number \" \\\n",
    "       \"of examples in input_X\"\n",
    "assert np.allclose(validation_true_values, prediction_validation)\n",
    "loss_validation = s.run(\n",
    "        loss, {\n",
    "            input_X: X[:100],\n",
    "            input_y: y[-100:],\n",
    "            weights: validation_weights+1.21e-3,\n",
    "            b: -1e-1})\n",
    "assert np.allclose(loss_validation, 0.728689)"
   ]
  },
  {
   "cell_type": "code",
   "execution_count": 37,
   "metadata": {},
   "outputs": [
    {
     "name": "stdout",
     "output_type": "stream",
     "text": [
      "loss at iter 0:0.6393\n",
      "train auc: 1.0\n",
      "test auc: 1.0\n",
      "loss at iter 1:0.5895\n",
      "train auc: 1.0\n",
      "test auc: 1.0\n",
      "loss at iter 2:0.5433\n",
      "train auc: 1.0\n",
      "test auc: 1.0\n",
      "loss at iter 3:0.5007\n",
      "train auc: 1.0\n",
      "test auc: 1.0\n",
      "loss at iter 4:0.4614\n",
      "train auc: 1.0\n",
      "test auc: 1.0\n"
     ]
    }
   ],
   "source": [
    "from sklearn.metrics import roc_auc_score\n",
    "s.run(tf.global_variables_initializer())\n",
    "for i in range(5):\n",
    "    s.run(optimizer, {input_X: X_train, input_y: y_train})\n",
    "    loss_i = s.run(loss, {input_X: X_train, input_y: y_train})\n",
    "    print(\"loss at iter %i:%.4f\" % (i, loss_i))\n",
    "    print(\"train auc:\", roc_auc_score(y_train, s.run(predicted_y, {input_X:X_train})))\n",
    "    print(\"test auc:\", roc_auc_score(y_test, s.run(predicted_y, {input_X:X_test})))"
   ]
  },
  {
   "cell_type": "markdown",
   "metadata": {},
   "source": [
    "### Coursera submission"
   ]
  },
  {
   "cell_type": "code",
   "execution_count": 38,
   "metadata": {},
   "outputs": [],
   "source": [
    "grade_submitter = grading.Grader(\"BJCiiY8sEeeCnhKCj4fcOA\")"
   ]
  },
  {
   "cell_type": "code",
   "execution_count": 39,
   "metadata": {},
   "outputs": [],
   "source": [
    "test_weights = 1e-3 * np.fromiter(map(lambda x:\n",
    "    s.run(weird_psychotic_function, {my_scalar:x, my_vector:[1, 2, 3]}),\n",
    "                               0.1 * np.arange(1, X.shape[1] + 1)),\n",
    "                               count=X.shape[1], dtype=np.float32)[:, np.newaxis]"
   ]
  },
  {
   "cell_type": "markdown",
   "metadata": {},
   "source": [
    "First, test prediction and loss computation. This part doesn't require a fitted model."
   ]
  },
  {
   "cell_type": "code",
   "execution_count": 40,
   "metadata": {},
   "outputs": [],
   "source": [
    "prediction_test = s.run(\n",
    "    predicted_y, {\n",
    "    input_X: X,\n",
    "    weights: test_weights,\n",
    "    b: 1e-1})"
   ]
  },
  {
   "cell_type": "code",
   "execution_count": 41,
   "metadata": {},
   "outputs": [],
   "source": [
    "assert prediction_test.shape == (X.shape[0],),\\\n",
    "       \"Predictions must be a 1D array with length equal to the number \" \\\n",
    "       \"of examples in X_test\""
   ]
  },
  {
   "cell_type": "code",
   "execution_count": 42,
   "metadata": {},
   "outputs": [],
   "source": [
    "grade_submitter.set_answer(\"0ENlN\", prediction_test)"
   ]
  },
  {
   "cell_type": "code",
   "execution_count": 43,
   "metadata": {},
   "outputs": [],
   "source": [
    "loss_test = s.run(\n",
    "    loss, {\n",
    "        input_X: X[:100],\n",
    "        input_y: y[-100:],\n",
    "        weights: test_weights+1.21e-3,\n",
    "        b: -1e-1})\n",
    "# Yes, the X/y indices mistmach is intentional"
   ]
  },
  {
   "cell_type": "code",
   "execution_count": 44,
   "metadata": {},
   "outputs": [],
   "source": [
    "grade_submitter.set_answer(\"mMVpM\", loss_test)"
   ]
  },
  {
   "cell_type": "code",
   "execution_count": 45,
   "metadata": {},
   "outputs": [],
   "source": [
    "grade_submitter.set_answer(\"D16Rc\", roc_auc_score(y_test, s.run(predicted_y, {input_X:X_test})))"
   ]
  },
  {
   "cell_type": "markdown",
   "metadata": {},
   "source": [
    "Please use the credentials obtained from the Coursera assignment page."
   ]
  },
  {
   "cell_type": "code",
   "execution_count": 46,
   "metadata": {},
   "outputs": [
    {
     "name": "stdout",
     "output_type": "stream",
     "text": [
      "Submitted to Coursera platform. See results on assignment page!\n"
     ]
    }
   ],
   "source": [
    "grade_submitter.submit(\"\", \"\")"
   ]
  }
 ],
 "metadata": {
  "kernelspec": {
   "display_name": "Python 3",
   "language": "python",
   "name": "python3"
  },
  "language_info": {
   "codemirror_mode": {
    "name": "ipython",
    "version": 3
   },
   "file_extension": ".py",
   "mimetype": "text/x-python",
   "name": "python",
   "nbconvert_exporter": "python",
   "pygments_lexer": "ipython3",
   "version": "3.6.5"
  }
 },
 "nbformat": 4,
 "nbformat_minor": 1
}
