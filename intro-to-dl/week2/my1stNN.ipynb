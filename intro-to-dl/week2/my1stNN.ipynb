{
 "cells": [
  {
   "cell_type": "markdown",
   "metadata": {
    "slideshow": {
     "slide_type": "slide"
    }
   },
   "source": [
    "# my1stNN.ipynb (or MNIST digits classification with TensorFlow)"
   ]
  },
  {
   "cell_type": "markdown",
   "metadata": {},
   "source": [
    "<img src=\"mnist_sample.png\" style=\"width:30%\">"
   ]
  },
  {
   "cell_type": "markdown",
   "metadata": {},
   "source": [
    "### This task will be submitted for peer review, so make sure it contains all the necessary outputs!"
   ]
  },
  {
   "cell_type": "code",
   "execution_count": 1,
   "metadata": {},
   "outputs": [
    {
     "name": "stdout",
     "output_type": "stream",
     "text": [
      "We're using TF 1.10.0\n"
     ]
    },
    {
     "name": "stderr",
     "output_type": "stream",
     "text": [
      "Using TensorFlow backend.\n"
     ]
    }
   ],
   "source": [
    "import numpy as np\n",
    "from sklearn.metrics import accuracy_score\n",
    "from matplotlib import pyplot as plt\n",
    "%matplotlib inline\n",
    "import tensorflow as tf\n",
    "print(\"We're using TF\", tf.__version__)\n",
    "\n",
    "import sys\n",
    "sys.path.append(\"..\")\n",
    "import grading\n",
    "\n",
    "import matplotlib_utils\n",
    "from importlib import reload\n",
    "reload(matplotlib_utils)\n",
    "\n",
    "import keras_utils\n",
    "from keras_utils import reset_tf_session"
   ]
  },
  {
   "cell_type": "markdown",
   "metadata": {},
   "source": [
    "# Look at the data\n",
    "\n",
    "In this task we have 50000 28x28 images of digits from 0 to 9.\n",
    "We will train a classifier on this data."
   ]
  },
  {
   "cell_type": "code",
   "execution_count": 2,
   "metadata": {},
   "outputs": [],
   "source": [
    "import preprocessed_mnist\n",
    "X_train, y_train, X_val, y_val, X_test, y_test = preprocessed_mnist.load_dataset()"
   ]
  },
  {
   "cell_type": "code",
   "execution_count": 3,
   "metadata": {},
   "outputs": [
    {
     "name": "stdout",
     "output_type": "stream",
     "text": [
      "X_train [shape (50000, 28, 28)] sample patch:\n",
      " [[0.         0.29803922 0.96470588 0.98823529 0.43921569]\n",
      " [0.         0.33333333 0.98823529 0.90196078 0.09803922]\n",
      " [0.         0.33333333 0.98823529 0.8745098  0.        ]\n",
      " [0.         0.33333333 0.98823529 0.56862745 0.        ]\n",
      " [0.         0.3372549  0.99215686 0.88235294 0.        ]]\n",
      "A closeup of a sample patch:\n"
     ]
    },
    {
     "data": {
      "image/png": "[encoded data removed]",
      "text/plain": [
       "<Figure size 432x288 with 1 Axes>"
      ]
     },
     "metadata": {},
     "output_type": "display_data"
    },
    {
     "name": "stdout",
     "output_type": "stream",
     "text": [
      "And the whole sample:\n"
     ]
    },
    {
     "data": {
      "image/png": "[encoded data removed]",
      "text/plain": [
       "<Figure size 432x288 with 1 Axes>"
      ]
     },
     "metadata": {},
     "output_type": "display_data"
    },
    {
     "name": "stdout",
     "output_type": "stream",
     "text": [
      "y_train [shape (50000,)] 10 samples:\n",
      " [5 0 4 1 9 2 1 3 1 4]\n"
     ]
    }
   ],
   "source": [
    "# X contains rgb values divided by 255\n",
    "print(\"X_train [shape %s] sample patch:\\n\" % (str(X_train.shape)), X_train[1, 15:20, 5:10])\n",
    "print(\"A closeup of a sample patch:\")\n",
    "plt.imshow(X_train[1, 15:20, 5:10], cmap=\"Greys\")\n",
    "plt.show()\n",
    "print(\"And the whole sample:\")\n",
    "plt.imshow(X_train[1], cmap=\"Greys\")\n",
    "plt.show()\n",
    "print(\"y_train [shape %s] 10 samples:\\n\" % (str(y_train.shape)), y_train[:10])"
   ]
  },
  {
   "cell_type": "markdown",
   "metadata": {},
   "source": [
    "# Linear model\n",
    "\n",
    "Your task is to train a linear classifier $\\vec{x} \\rightarrow y$ with SGD using TensorFlow.\n",
    "\n",
    "You will need to calculate a logit (a linear transformation) $z_k$ for each class: \n",
    "$$z_k = \\vec{x} \\cdot \\vec{w_k} + b_k \\quad k = 0..9$$\n",
    "\n",
    "And transform logits $z_k$ to valid probabilities $p_k$ with softmax: \n",
    "$$p_k = \\frac{e^{z_k}}{\\sum_{i=0}^{9}{e^{z_i}}} \\quad k = 0..9$$\n",
    "\n",
    "We will use a cross-entropy loss to train our multi-class classifier:\n",
    "$$\\text{cross-entropy}(y, p) = -\\sum_{k=0}^{9}{\\log(p_k)[y = k]}$$ \n",
    "\n",
    "where \n",
    "$$\n",
    "[x]=\\begin{cases}\n",
    "       1, \\quad \\text{if $x$ is true} \\\\\n",
    "       0, \\quad \\text{otherwise}\n",
    "    \\end{cases}\n",
    "$$\n",
    "\n",
    "Cross-entropy minimization pushes $p_k$ close to 1 when $y = k$, which is what we want.\n",
    "\n",
    "Here's the plan:\n",
    "* Flatten the images (28x28 -> 784) with `X_train.reshape((X_train.shape[0], -1))` to simplify our linear model implementation\n",
    "* Use a matrix placeholder for flattened `X_train`\n",
    "* Convert `y_train` to one-hot encoded vectors that are needed for cross-entropy\n",
    "* Use a shared variable `W` for all weights (a column $\\vec{w_k}$ per class) and `b` for all biases.\n",
    "* Aim for ~0.93 validation accuracy"
   ]
  },
  {
   "cell_type": "code",
   "execution_count": 4,
   "metadata": {},
   "outputs": [
    {
     "name": "stdout",
     "output_type": "stream",
     "text": [
      "(50000, 784)\n",
      "(10000, 784)\n"
     ]
    }
   ],
   "source": [
    "X_train_flat = X_train.reshape((X_train.shape[0], -1))\n",
    "print(X_train_flat.shape)\n",
    "\n",
    "X_val_flat = X_val.reshape((X_val.shape[0], -1))\n",
    "print(X_val_flat.shape)"
   ]
  },
  {
   "cell_type": "code",
   "execution_count": 5,
   "metadata": {},
   "outputs": [
    {
     "name": "stdout",
     "output_type": "stream",
     "text": [
      "(50000, 10)\n",
      "[[0. 0. 0. 0. 0. 1. 0. 0. 0. 0.]\n",
      " [1. 0. 0. 0. 0. 0. 0. 0. 0. 0.]\n",
      " [0. 0. 0. 0. 1. 0. 0. 0. 0. 0.]] [5 0 4]\n"
     ]
    }
   ],
   "source": [
    "import keras  # we use keras only for keras.utils.to_categorical\n",
    "\n",
    "y_train_oh = keras.utils.to_categorical(y_train, 10)\n",
    "y_val_oh = keras.utils.to_categorical(y_val, 10)\n",
    "\n",
    "print(y_train_oh.shape)\n",
    "print(y_train_oh[:3], y_train[:3])"
   ]
  },
  {
   "cell_type": "code",
   "execution_count": 6,
   "metadata": {},
   "outputs": [],
   "source": [
    "# run this again if you remake your graph\n",
    "s = reset_tf_session()"
   ]
  },
  {
   "cell_type": "code",
   "execution_count": 7,
   "metadata": {},
   "outputs": [],
   "source": [
    "# Model parameters: W and b\n",
    "W = tf.get_variable('W', shape=[784, 10])\n",
    "b = tf.get_variable('b', shape=[10])"
   ]
  },
  {
   "cell_type": "code",
   "execution_count": 8,
   "metadata": {},
   "outputs": [],
   "source": [
    "# Placeholders for the input data\n",
    "input_X = tf.placeholder(tf.float32, shape=[None, 784])\n",
    "input_y = tf.placeholder(tf.float32, shape=[None, 10]) "
   ]
  },
  {
   "cell_type": "code",
   "execution_count": 9,
   "metadata": {},
   "outputs": [],
   "source": [
    "# Compute predictions\n",
    "logits = tf.matmul(input_X, W) + b\n",
    "probas = tf.nn.softmax(logits)\n",
    "classes = tf.argmax(probas, axis=-1)\n",
    "\n",
    "# Loss should be a scalar number: average loss over all the objects with tf.reduce_mean().\n",
    "# Use tf.nn.softmax_cross_entropy_with_logits on top of one-hot encoded input_y and logits.\n",
    "# It is identical to calculating cross-entropy on top of probas, but is more numerically friendly (read the docs).\n",
    "loss = tf.reduce_mean(tf.nn.softmax_cross_entropy_with_logits_v2(labels=input_y, logits=logits))\n",
    "\n",
    "# Use a default tf.train.AdamOptimizer to get an SGD step\n",
    "step = tf.train.AdamOptimizer().minimize(loss)"
   ]
  },
  {
   "cell_type": "code",
   "execution_count": 10,
   "metadata": {
    "scrolled": false
   },
   "outputs": [
    {
     "data": {
      "text/html": [
       "<img src=\"data:image/jpeg;base64,/9j/4AAQSkZJRgABAQEASABIAAD/2wBDAAIBAQEBAQIBAQECAgICAgQDAgICAgUEBAMEBgUGBgYFBgYGBwkIBgcJBwYGCAsICQoKCgoKBggLDAsKDAkKCgr/2wBDAQICAgICAgUDAwUKBwYHCgoKCgoKCgoKCgoKCgoKCgoKCgoKCgoKCgoKCgoKCgoKCgoKCgoKCgoKCgoKCgoKCgr/wAARCAEgA2ADASIAAhEBAxEB/8QAHwAAAQUBAQEBAQEAAAAAAAAAAAECAwQFBgcICQoL/8QAtRAAAgEDAwIEAwUFBAQAAAF9AQIDAAQRBRIhMUEGE1FhByJxFDKBkaEII0KxwRVS0fAkM2JyggkKFhcYGRolJicoKSo0NTY3ODk6Q0RFRkdISUpTVFVWV1hZWmNkZWZnaGlqc3R1dnd4eXqDhIWGh4iJipKTlJWWl5iZmqKjpKWmp6ipqrKztLW2t7i5usLDxMXGx8jJytLT1NXW19jZ2uHi4%2BTl5ufo6erx8vP09fb3%2BPn6/8QAHwEAAwEBAQEBAQEBAQAAAAAAAAECAwQFBgcICQoL/8QAtREAAgECBAQDBAcFBAQAAQJ3AAECAxEEBSExBhJBUQdhcRMiMoEIFEKRobHBCSMzUvAVYnLRChYkNOEl8RcYGRomJygpKjU2Nzg5OkNERUZHSElKU1RVVldYWVpjZGVmZ2hpanN0dXZ3eHl6goOEhYaHiImKkpOUlZaXmJmaoqOkpaanqKmqsrO0tba3uLm6wsPExcbHyMnK0tPU1dbX2Nna4uPk5ebn6Onq8vP09fb3%2BPn6/9oADAMBAAIRAxEAPwD9/KKKKACiiigAooooAKKKKACiiigAooooAKKKKACiiigAooooAKKKKACiiigAooooAKKKKACiiigAooooAKKKKACiiigAooooAKKKKACiiigAooooAKKKKACiiigAooooAKKKKACiiigAooooAKKKKACiiigAooooAKKKKACiiigAooooAKKKKACiiigAooooAKKKKACiiigAooooAKKKKACiiigAooooAKKKKACiiigAooooAKKKKACiiigAooooAKKKKACiiigAooooAKKKKACiiigAooooAKKKKACiiigAooooAKKKKACiiigAooooAKKKKACiiigAooooAKKKKACiiigAooooAKKKKACvPfjt%2B1J8FP2b5NGsfil4g1Maj4ilnTQNB8OeF9R1zVNR8lVed4bHTbee5kjiVkMkixlI96biu5c%2BhV4N%2B0P8D/j5/wANJ%2BDv2tv2bLLwfrWueH/B2seFNX8KeOdcutLtLywv7mwuxcQXtraXj288U2noCpt3WVJSCUKK1ABpf/BTL9izWLvxNb2nxXv0h8FWsk/jLUrvwXrEFjoIS0iu9l5dy2iwWsrQzRskMjrJIWKorMrKL2n/APBQ/wDZK1HwBrXxFTx/q9vB4f1ay0vVdE1DwNrNrrkV5ebfscC6PNaLqEr3AYGER27eaAxTcFYjy2b9gH4y%2BMf2a/jn8NfGHinwppHin4o/FS38daHc6U1xeWFpeW0OiywQ3IkihkkiN3pRRwoyYHGDuJVaPi79i/8AaV%2BLmr/Ef45fG34S/CjWvFnjWx8KaPp/gKy%2BI2s2Wm6fY6Hcaldw3qa7b6al5DqDXOqTOksVoPJSKNFZiWcgHsviH9vv9mzwv4a8OeI9XvvG3meK0v5NE8P2vwm8SXGuSRWUscV3NJpMWntf28MLzQq8s0CIpmiy37xM%2Bmaz8RPBHhv4e3XxX8T%2BJbbSvDljo76rf6vqrfZYbSySIzPPMZdvlKsYLNvxtAOcYNfGHin9hH9s/WPgV4X8Nay3hfxV470a58RHRfGd/wDHbxNpGr%2BCLW%2BuUktLO11q1sJLzXIYkjhWZb1YftJtovMBCjHqPxo/4J0Wvx6/Zu8T/Dj4hfHPxrd%2BO/GHwvj8M694pbxtrQ0ea%2BW0hibUE0Jb5bC3Z5oFlbyIopCHkAkVpGcgHRwf8FKP2Mv%2BFc%2BK/itrHxWvdE0bwRZWV94ofxP4O1fSbmysryYw2t79lvLWK4ktJZFZUuY42hby3IfCMRyHxu/4Kyfs7/DP4Iap8Y/Aei%2BKvFU2g/EHwv4X13wx/wAILrtjqdgdZ1K1tY7p7OTTmuvK8i4eeBvJ8u8eNLeGQyTxg%2BV6p/wTE%2BMnjv4VePtI8ReBvDejeMfEeh6Po9h4h1X9ovxn43W7tLXWLfUJo5P7dgP2CM%2BSxSKJZjvfDSYyT3/7UP7Bnxp%2BMHxB%2BL/xB8C%2BIfC8cni%2BD4W3nhKz1a%2BuYle/8J%2BI7nWpYbxo7eTyIbgNbwrLGJnXLsY/kVXAPULD/goJ%2By3qPxNsvgzD4n8TR%2BK7zRdP1iXQLv4b69Bc6dp9606QXd%2Bklkp06Hdbyq8l15SxEKJChdN1Hw1/wUw/Yp8W%2BDPFnxC0j4wXCaP4L8EXXjLWL3UPCWq2guPD1ujPNq1is9qjapZqqHE9mJ42LIFYl0DYOh/sh/FD4h/Ez43fEH44L4e0GL40fB3w74QurHwnrtxqMul3Fomupdss89na%2BZGBqsRifYrMUk3Rx4G75u/bG/ZU/ah0f9hj4pfE39pi78AWkPwh/Yp%2BIPgjwvH4C1C8uG15r3SLYz6jdLc20AsVCaRbhLONrgK00hM7bUFAH1n4e/4KS/sZeJtD1jxHp/xauoLPQ00qa%2Bk1TwlqtkzWmpXa2djqEK3FqjXNhLOwUX0Ie1UBnaVUVmHp%2BifF34eeI/ilr/wX0PxD9p8SeFtL0/UNfsI7SbbZwXzXAtd0xTyi7/ZZj5SuZFUIzKqyRlvknUP2Z/EHivQPFPxt/wCCkXi/4Z%2BE/Alv%2Bz3c/DqS48P%2BIJltZtNvZIZLzVbya9gt0sHJgthDbIZxATJ/pEhZcdh/wR88B/F2y/ZHtfj/APtIagb74k/F68j8T%2BK9Qeze3aSEWkFlpq%2BVJ88P/EutLSRomwUlmmyAxbIB9VUUUUAFFFFABRRRQAUUUUAFFFFABRRRQAUUUUAFFFFABRRRQAUUUUAFFFFABRRRQAUUUUAFFFFABRRRQAUUUUAFFFFABRRRQAV4jpH/AAUY/Y91K716z1P4pXnh5vDnhy58QahJ418I6roMc2k27pHPf2smpWsC31ujyRK0tsZUBljGcuufab2K5ms5YbO6EEzxMsUxj3%2BWxHDbT1wecd6/MTV/%2BCOX7cvxf1bwvrnxu%2BOOhvrfhrwfqFnqHijUPit4m8TjxDrf2zSr611E6XfRQ2Wk20lzpi%2BfYWQCiOTassgVAoB9sv8At/8A7MNr8NG%2BLGseIPFWlaW2uQaNY2eufDLX7DVNTv5kMkMFlptxYpe37SIGdfs8MgZUdgSEYjovAf7VnwP%2BI%2Bv2XhPw54h1SHV7/wAKT%2BJIdI1rwrqWmXaabDd/ZJZZYby3ikgdZ/kMMirL32bea8m%2BJ3wc/bd%2BMTfD342654N%2BFWh/EP4UeOptY8P%2BGbXxxqV/ouuWdxpN3plzHcXz6VDNYzFL2SSN0tbgRmIKfMEjYq/En4Dftwa/8ZfDv7TXgfRvhXaeLL74Yar4L8Y6FqXivUpLDSFuL%2BG6tb%2ByuE04SagYhG6yW8sVoJS4xLFjkA7jSf8Ago3%2ByB4j17wL4W8K/EbVdZ1P4k%2BDdK8W%2BDdO0TwPrN7PeaHqL7LXUZEgtGa1t92PMknEa24ZTN5QYE7Hw1/bc/Zu%2BK/xGufhP4Z8X6tZ6/b6Xc6nDZeJ/BmraIt/Y28iRz3dlLqNrBHfwRvLEHltmkRfMQkgMpPlH7Cn7CXxY/Zh1/4caz488QeGrs%2BDv2UvCPwxv30i5nlZtW0t5muZovMgj3Wrb02MxV22/NGmBXjXw0/4JV/tjeJ/ij4X8TftTfGGz1SLT/AHivwv408TQfF/xJrV54il1exS2/tO10y%2Bhj0/QjlSxtLRSi5UCZxGq0AfUvhP/gov%2ByP410WPxVoPjvXP7DuNV0vT9P8AEt78P9btdK1GXUr2OyspLS%2Bns0tryCW5mijFxBI8IMqFnCsCfS/C3xd%2BHnjX4geKfhd4X8Q/a9c8FyWcfie0S0mC2Ml1B9ogjMrII3doSshRGZkWSMsFEibvmHxx4E%2BIvhX/AIJ7eNPgR/wUM8T/AAq8EeAtB%2BGkWgW3xM8O%2BLbsM06RpbWupPaXVnAmmzLMLeSGCO4umM5REcnaG7X/AIJX/D74seG/2RNK%2BKv7RVglv8TvixfS%2BOviJClu0X2e/v1jMNpsb5k%2By2MdlZ7TkgWuDQB9G0UUUAFFFFABRRRQAUUUUAFFFFABRRRQAUUUUAFFFFABRRRQAUUUUAFFFFABRRRQAUUUUAFFFFABRRRQAUUUUAFFFFABRRRQAUUUUAFeL/Hrx/8AtF/8NF%2BBfgR8BfGfgrw%2Bmv8AgrxLr2r6n4v8F3etEnTrvQ7eGGGO31Kx8sN/akrMzM%2BfLQALyT7RXhXxF1pLL/gpV8IdFkUYvfgn8Q2Rs87o9W8GnH5Mx/Ck2luXCEqjtHs392rL/wDwg/8AwUL/AOjoPgz/AOGH1b/5qKP%2BEH/4KF/9HQfBn/ww%2Brf/ADUV7NRTIPGf%2BEH/AOChf/R0HwZ/8MPq3/zUUf8ACD/8FC/%2BjoPgz/4YfVv/AJqK9mooA8Z/4Qf/AIKF/wDR0HwZ/wDDD6t/81FH/CD/APBQv/o6D4M/%2BGH1b/5qK9mooA8Z/wCEH/4KF/8AR0HwZ/8ADD6t/wDNRR/wg/8AwUL/AOjoPgz/AOGH1b/5qK9mooA8Z/4Qf/goX/0dB8Gf/DD6t/8ANRR/wg//AAUL/wCjoPgz/wCGH1b/AOaivZqKAPGf%2BEH/AOChf/R0HwZ/8MPq3/zUUf8ACD/8FC/%2BjoPgz/4YfVv/AJqK9mooA8Z/4Qf/AIKF/wDR0HwZ/wDDD6t/81FH/CD/APBQv/o6D4M/%2BGH1b/5qK9mooA8Z/wCEH/4KF/8AR0HwZ/8ADD6t/wDNRR/wg/8AwUL/AOjoPgz/AOGH1b/5qKta/wDG/wDZE%2BFNppGk/HT4w/Dnw5rmoaLBqBtvF3iGwtLu4jkyPP23Dq7IzpIA3TKMM8EDN/4a/wD%2BCcH/AEdF8Ef/AAttH/8Ajtc08Zg6cnGdWKa6OUU/uckz2sPw3xJi6Ea1DA15wkrqUaNaUWu6lGjKLWj1Ta03LH/CD/8ABQv/AKOg%2BDP/AIYfVv8A5qKP%2BEH/AOChf/R0HwZ/8MPq3/zUVX/4a/8A%2BCcH/R0XwR/8LbR//jtenaBovws8V6FZeKfC2k%2BH9S0zUrSO607UdPggmguoJFDxyxyICroykMrKSCCCDg1dLE4eu2qc4yt2kn%2BTZz47Js5yuEZ43C1aSk7J1KdSmm97JzpwTdtbJt21tbU85/4Qf/goX/0dB8Gf/DD6t/8ANRR/wg//AAUL/wCjoPgz/wCGH1b/AOaivPvh3/wUX/Yw8Z%2BCLPxf4g%2BH3ibQZ9U8ca14W0TRrr4Qa3Nd6te6dcX8ci2kUWnl7omHTp52WJXMODHJtkVlHYfEL9qj9lrwLZePbS80SLT9Y8BeENa8Q3lt4s8CatpNnd2emL/pc9vdSac4vbeJmiEktkl0VE0bBH3or7Hmmj/wg/8AwUL/AOjoPgz/AOGH1b/5qKP%2BEH/4KF/9HQfBn/ww%2Brf/ADUVVsP2rP2MNQ%2BM8n7P0N5b/wDCUW/iCPQbqP8A4Qa/FhDqr6dHqUdi2oNaC0Wd7SVJkjMoZwcKCwKjZ%2BNfxV%2BCvwk/Z5139ofR/COjeKNO0uwaTTbfQ1tpBqt00oggtYpgCgaS4ZIdxO1WYluhoAof8IP/AMFC/wDo6D4M/wDhh9W/%2Baij/hB/%2BChf/R0HwZ/8MPq3/wA1FP8A2cPiBbfFy88ZeB/ij8CvDfhXxh4D8QQ6Zr%2BlaPqK6rYyLPY217b3NtdSWls8sbxXKqd8EbLLFKuGUK7%2BSfEz9tHxD8BvDPxPl%2BOX7IfgjTvEHgD4WDx3ZaboXjoX1ndWRnngEF5dSaXA1hNvgblYbiNlWQo7%2BUwoA9Y/4Qf/AIKF/wDR0HwZ/wDDD6t/81FH/CD/APBQv/o6D4M/%2BGH1b/5qK8l%2BKH7cvhz4X/Ab4f8AxivvAv7Pl6vxA%2BIj%2BGbXXLX41p/widjEum6jffapdbOj/eLae0HlC2x5kyDzOorqf2jf2sPBv7PXh74ZofgR4b8T%2BI/Heu%2BHrXVtN8P6vG9jo2n6jqen6ZNqi3jWoNzBFc6lbJEPKie53ggRKsrRAHY/8IP/AMFC/wDo6D4M/wDhh9W/%2Baij/hB/%2BChf/R0HwZ/8MPq3/wA1Fef3P7ZvgzR/ivJZeJv2edDsfho3jnV/Btl49GppJdvrOmabdX10ZNOFoBHZj7Be26zi4eRpoFBhVJFej4M/tN%2BPfjDpt9okX7GXhPSPGF/4A0nxp4E0C/8AGSm21TSr%2BaSMJe3SaaTYXUGxTPFHFdRr50Yjlmy2wA9A/wCEH/4KF/8AR0HwZ/8ADD6t/wDNRR/wg/8AwUL/AOjoPgz/AOGH1b/5qK8a8Xf8FBvCGh/s7/s7/HK3%2BCnwu0ST4%2B%2BHLPVUj%2BJHxGj0HS9CM%2BjpqQt2vxptx9oky/koPJj3nnC5216t43%2BKWreBP2jfhd8HdR/Zx8Iz%2BHfiPBdW8viu18RBprDU4NPu754I7M2IFxB5dqALgzRNmVcRHBoAv/8ACD/8FC/%2BjoPgz/4YfVv/AJqKP%2BEH/wCChf8A0dB8Gf8Aww%2Brf/NRXD%2BBv2r7Dxn8XbTwp/wzFoVv4R8S%2BLfE/hPwF4pGtRvdarrehNdpdwXFmbNVtIJG07UvJmWeYutpuaOPzEB0fhR%2B014W1n9nDxb8dPjp8AdD8K6h4N8War4e1Hw34ev11k3l7aXv2OGC0me1tWnmuZjFFFF5akySqgLZBIB0/wDwg/8AwUL/AOjoPgz/AOGH1b/5qKP%2BEH/4KF/9HQfBn/ww%2Brf/ADUV434o/bvPhP8AYm8Oftm%2BIv2dPhVoEF%2BNTi1/w54v%2BKCafLHfWs88Kadpkw0qRdUu5zbT%2BXCRblmVVBO4lfRfiB8bfEPw2%2BIXgxfEn7KvhqHwL438SaZoOmavJ4gC6/Fe3tsZV36SbDy/LidXSUi8MiJHJL5ZVDQBv/8ACD/8FC/%2BjoPgz/4YfVv/AJqKP%2BEH/wCChf8A0dB8Gf8Aww%2Brf/NRXmf7LX7cngL9pf8AaS1j4AW3wL8IWTaba65PONM8SxX%2Br6EdO1OKwWHXdO%2Bxxf2RNdeYZrZPOn82OGY5GzJ%2Bnv8AhBvBP/Qn6V/4L4//AImgDy3/AIQf/goX/wBHQfBn/wAMPq3/AM1FUPA/jj9qzwd%2B1Z4c%2BCPxu%2BI/w98TaN4m%2BHviHXIZvCvw8vtFurS602%2B0S3RWe41e%2BSWN01SUlQiMGiQhsZB9Q8WeE/C2m%2BFtS1LTfDljbXNtYyy29xb2iI8bqhZWVlAIIIFefeOP%2BUhfwv8A%2ByM%2BPP8A07eEKAPZqKKKACiiigAooooAK%2BcfhN4q/bv%2BOuj69478L/G/4SaBpdv8QvFWh6XpV/8AB/VL%2B4itdL16/wBMhaW4TxFAssjx2auzLFGu5yAoAFfR1eM/sH/8kQ1z/ss3xH/9TXW6AD/hB/8AgoX/ANHQfBn/AMMPq3/zUUf8IP8A8FC/%2BjoPgz/4YfVv/mor2aigDxn/AIQf/goX/wBHQfBn/wAMPq3/AM1FH/CD/wDBQv8A6Og%2BDP8A4YfVv/mor2aigDxn/hB/%2BChf/R0HwZ/8MPq3/wA1FH/CD/8ABQv/AKOg%2BDP/AIYfVv8A5qK9mooA8Z/4Qf8A4KF/9HQfBn/ww%2Brf/NRR/wAIP/wUL/6Og%2BDP/hh9W/8Amor2aigDxn/hB/8AgoX/ANHQfBn/AMMPq3/zUUf8IP8A8FC/%2BjoPgz/4YfVv/mor2aigDxn/AIQf/goX/wBHQfBn/wAMPq3/AM1FH/CD/wDBQv8A6Og%2BDP8A4YfVv/mor2aigDxn/hB/%2BChf/R0HwZ/8MPq3/wA1FH/CD/8ABQv/AKOg%2BDP/AIYfVv8A5qK9mooA8Z/4Qf8A4KF/9HQfBn/ww%2Brf/NRR/wAIP/wUL/6Og%2BDP/hh9W/8Amor2aigDxn/hB/8AgoX/ANHQfBn/AMMPq3/zUUf8IP8A8FC/%2BjoPgz/4YfVv/mor2aigDxn/AIQf/goX/wBHQfBn/wAMPq3/AM1FH/CD/wDBQv8A6Og%2BDP8A4YfVv/mor2aigDxn/hB/%2BChf/R0HwZ/8MPq3/wA1FH/CD/8ABQv/AKOg%2BDP/AIYfVv8A5qK9mooA8Z/4Qf8A4KF/9HQfBn/ww%2Brf/NRR/wAIP/wUL/6Og%2BDP/hh9W/8Amor2aigDxn/hB/8AgoX/ANHQfBn/AMMPq3/zUUf8IP8A8FC/%2BjoPgz/4YfVv/mor2YkAZJrivE37SX7O3gq%2BbTPGPx88FaTcp9%2B31PxTaQOv1V5ARUTqU6SvOSS82l%2BbRnUrUqKvUkorzaX5tHHf8IP/AMFC/wDo6D4M/wDhh9W/%2Baij/hB/%2BChf/R0HwZ/8MPq3/wA1Fasv7cH7FkD%2BXP8AtffC5GHVX%2BIGmg/%2Bjqksv21v2NtSl8jTv2tfhlcP/cg8e6c5/ITVj9dwV7e1j/4FH/5I5/7Ry9u3tof%2BBw/%2BTMb/AIQf/goX/wBHQfBn/wAMPq3/AM1FH/CD/wDBQv8A6Og%2BDP8A4YfVv/morr5f2mP2cILQX8/7QPghID0mfxXZhD%2BPmYrk/Fv/AAUL/YU8DwGfxH%2B198OYyvWG28XWlxL/AN%2B4XZ/0onjcHTV51Yr1lH/5IdTMMvpRvOtBLznFf%2B3DP%2BEH/wCChf8A0dB8Gf8Aww%2Brf/NRR/wg/wDwUL/6Og%2BDP/hh9W/%2BaivLPFP/AAXM/wCCafh2R7fTvjnea5PH96HRPCeoy/k7wKh/Bq851/8A4OPf2FtHujZ2fw9%2BJ98%2BfkePQLKJG98zXqED8K86rxHkNH48TD/wK/5Jhg8dhsybWC5q7/6dQq1v/TNKqfTP/CD/APBQv/o6D4M/%2BGH1b/5qKP8AhB/%2BChf/AEdB8Gf/AAw%2Brf8AzUV8ha1/wcp/s6WsZl0P9nnxhcgfdF1q2mwk/gk8hrm7n/g5MvtYUf8ACvv2DNe1JZPuT3HiplUe%2BIrKTP4GuSXF/DkXb6wn6KT/ACie9QyHijFRvQyrGTX93B4v9cPBfifcP/CD/wDBQv8A6Og%2BDP8A4YfVv/moo/4Qf/goX/0dB8Gf/DD6t/8ANRXw/Z/8F3P2xNcfd4a/4J43N6rH5I7X%2B15mHsStgATW/ov/AAV3/wCCnHiKQLon/BIvxZMh6TNYarFGf%2BBSWiiiPFuTT%2BFzfpTqP8osK3D/ABXhletlWKh/ioSj/wClVIv8D7B/4Qf/AIKF/wDR0HwZ/wDDD6t/81FW/wBlb4jfGnxhrHxQ8CfHTX/C%2Brap4B%2BIUWh2eq%2BE/DVzpNvdWsug6Pqas9vcXt4yyLJqMqFhLtKxodqnOfl7T/2/P%2BCxPiED%2BxP%2BCUCW%2B7p/aXicQ/n5rR4r1v8A4Jj%2BLfjj46Pxz8V/tI/DC08GeNLv4zRHWfDVlqCXUVnt8J%2BHEhxKjurb4VikOGOC5BwRgengs1w2PqOFKM1pe8oTivvkkr%2BR5VsTGfLVoTp/44qPy%2BOTv8vmfUNFFFekUFFFFABRRRQAUUUUAFFFFABRRRQAUUUUAFFFFABRRRQAUUUUAc18YpPibD8MtYn%2BDmtaDp3iWK136Ze%2BJtKmvrGIqwLmWCCe3klHlh8KssfzFctjNcV8BPij8YP2hv2I/h/8a/D9z4a0fxr44%2BHGia40t5pVxcaXZ3l5ZQXEp%2BzLcJNJEpkfbH56sQFBk6tXe/EzwdqnxB8B6n4L0b4g6z4VuNRt/JTxB4fhs5LyzBILNEt7b3FuSQCp8yFxhjgA4I8l8JfsNT%2BDP2S0/Y80n9rf4rroNr4ITwrpWvwz6JbaxptjGiRRPBcW2lxqsyQIIVlKE7SXOZcSgA1v2NPjd8Rfjb4U8XyfEW68P6pL4V8fX3h3T/FvhPTZ7PTPEcVtFAZLq3gnnuHiEVzJc2Tr58oM1hKVbBCjx74tfHL4WeJ/%2BCx/wE%2BHPgj4m%2BH9Y1rSPhv8SLHxPo%2BlazBcXWkyO/huaNLqKNy9uzC2cqJApby2xnBr6H/Zy%2BBsf7OXwtsfhHp/xH1rxJpmkqkGitrWm6TaHTrNIo4orOGPSrKzgWFAmVzGXy7ZcgKq/Nn7ZurnSP8AgsZ%2BxcGbEd34e%2BJ9tIf96w0cqP8AvpVrlxk/Z0Obzj%2BMor9T3eHMN9bzT2XenWf/AIDQrS/9tPs6iiiuo8IKKKKACiiigAooooAKKKKACiiigAooooA8z1L9mT9m340aPoPin4xfs9%2BB/Fmp2/h%2B1tYNR8S%2BE7O/njgVS6xLJPGzBAzuwUHALscZJql/wwP%2Bwr/0ZZ8Jf/Dc6Z/8Yrk/i9/wUg/Yv/Y%2Bl8OfDT9ov4y/8I7rd94Us9TtbL/hHdRu99q%2B%2BJZN9rbyIMvDKNpYN8ucYIJ5D/h%2Bb/wSy/6Oi/8ALJ1z/wCQq8XEYvh2nXlGvOkpp683s7387q9/U0XiHiMqX1SOcTpKnpyLE1IKPWyiq8VHfZRW%2B2p63/wwP%2Bwr/wBGWfCX/wANzpn/AMYr07QNA0LwpoVl4W8LaLaabpmm2kdrp2nafbLDBawRqEjijjQBURVAVVUAAAADAr5W/wCH5v8AwSy/6Oi/8snXP/kKvp7wD468K/FDwJovxL8C6p9u0TxFpFtqej3vkPF9otbiJZYpNkiq6bkdTtZQwzggHiujA4jJ605LByptpa8nLe3nypaX7ilxdV4k/dTzGWJ5NbOvOry30vaVWpa%2B10lfa/Q8J%2BGH7C/ivwB488Ka1qfxn03UNB8D/FDxV4v8NaXD4Qkguwuu/wBrPPaXFyb10lMUuqsUlSGL93CEZCzGQeSa1/wRifXvFHjzxJd/HXw9FceMvAXj/wALnW7X4YImt3MfiaRXFxquom%2BL6m9kFEcKBYEMY2hUwGHuth%2B358I9X06xm0nwp4jmvrrRfFupXekyiwt5dLTw5erY6jHdyT3aQQMLt0gRml8tiSxdY1d14Twb/wAFPvA/x2m%2BHGo/ASCzlsdd%2BM%2Bo%2BBvG8F/fWOpS6ebfwbq/iFDbXOlX1xZyuxtLA70nmQJNNGwSVT5XpEHXSfsMB/EOq6%2BPihg6n8ddJ%2BI5iGif6v7FpGn6b9gz5/zb/sHmedgbfN2%2BW23c3efGv4G3/wC0B%2BzzrvwS8f8AjGK3v9asGjTxBoelmAWV0komtbqKCWWXLQypC%2B1nYO0ZzgNgfPHiz/gqpJJ8D/Cvjb4R/CvXvEd7qcHw9k8R%2BKJvD8Fvo2jN4lu9OVILiAak1zHcNa3vmqkBuooGmg82ZlJLfSHxh%2BPHh/4SfALx58fbrRtRuLHwF4f1jVL%2ByuNPms5bgadDLLKsYnRSyt5LBJVDRuCGRmUgkA534C/s/wDxQ%2BFOr%2BIvHfjX4taH4h8VeOPFsWreNNRsvB81haSWsGmRWFvZWNu19M1ps%2BzwSmSWW5LM1wNqiVPJ4v8AZx/ZL/an%2BB%2Bi%2BOL/AMWftMfD/wAWeMfGt2dRu/Gdz8Ir2Cea%2BDgQi5jOuyLLZwQAW8NpCbcRqAwcu0jPt/stfGz4/wDiH4qeJ/gN%2B0qPCNz4i0bwV4d8V22peCtKubK0Frq0mpQGyaO5ubh3lt59LmzOHRZUmjIijIZa5rxl%2B0T%2B1R8Mvjxr/wAI7658DeNJJPhf4i8XaPpXhfwpf2974eNpNDHpkN%2BzX04vReGSaNDGlq7PZTeWjhXMQBt%2BBv2Wv2hvhh4d8W6v4H%2BPngYeNvH/AI%2BfxP4t1bVfhXcTaOWOl2umrDZ6dFq8UtufKsrdmkkup2d2nLDEiiPz7xZ/wRq%2BAfif4LeE/hxB8QvGuna74atfCdjc%2BKNH8a6zpqajY6JrSaosD2GnX9taoWZrtIZAhezNyskR3QpWt8Ev25vGd9%2BzpqfjL4leI9G8TfEqO503TrL4dad8NdX8G39vrN/CptdOntNXubi52PKXb7YFWIQQzS4KQyMOa8U/teftoy/8E29D/bB8JeKvhfY%2BMn0eS3uvDd78PtRvrPX9fn1AadptnZldYgks0nu2ii/eG4b9%2BCPu4YA7uX/gnq2p/FR7jxJ8WIb74ZR%2BONX8Y2XgI%2BHnW8TWNS026sLoS6l9qIltD9uvbhYfs6yCacEzssapU/wM/Yy%2BN/wUtb7xC37SOg6/4u0/4faV4K8Cazqvw9lW00zSrGSV1kvbWLUle/u5jIvnSxzWsbGCIxwxYcPW%2BJX7YfxV8MftbfCj9nbwdovh7U9J1LxX/wAI78WfEUlrOBbanN4b1PV7az09RNiOULp6TzCYyeXBeWoAZpi8fmMn/BTD4%2BeE/h3b/Gjxf4P8IalovxD%2BGniDxX8K9G02zurW50%2BSyv7C2srPU7l7iVbn7THqdtK80MMHkGKVNkuVegD1L4Rfsk/tUfBj9jfwF%2Byf4a/aU%2BHF5L4K8IQeFZtf1f4MXVxFqGlW9lDZ24%2ByHXAEuAkRMjtJJFIXx5CAYLL/APYe%2BLnhnUv2f9G%2BC37QXh7S/CvwG0m2sbPTvFngG51fUtZEely6VI8l7FqtqkRa0lyP9HcrMvmEup8qmaF8bP2sL%2Bx%2BI3w38UfFr4S%2BHPE3wt1q0uPEPj3UfA9%2B2h3GhXGlC9E/2FtXjktZY5fNjdnvXjEcHm4HmeXH418ZP%2BCsXxi%2BEvwX8PfGvx7pHgrwLCnwNh%2BIN9oPivSr2S68a3QadrjRNFP2iA2tysECTfvo7iRBqFvvhCxytQB7t8P/ANhrxJ4H%2BMlj4vl%2BM9pe%2BDvC/jDxN4t8CeEj4WaO503Wtde7e7lub37WRdwI2o6kIYUggKLd7Wkk8tCMr4Vf8E9/EE/gPxH8PP2tvi9pvjay1X4kz%2BONEuPh5pWteCbvSdUnnnmlb7Ta63PNIgaYeUFePYFO7zSVKS%2BCv2rPizf/ALdPir4F/EnxRonhfwnb%2BKYdL%2BHmmal8Jtbin8XQN4asNSeW28QSXa6bJMl1NfobWOBpRFp8mQCGkVnw5%2BLH7aWt/H/4pfBTXfil8MtVsvAvgnTLmLxJo3wn1WD7Jrt89xKtpJa/23cPeCKygineKN4Xb7fbhW6igCr4U/4J%2B/FP4S/snx/shfBf9o/TIdA1GDXbfxVf%2BPPCeo%2BJbq7i1KeR/wDRWutYUWzRxyumJPtETufMMYJdX19H/Yx%2BNHh/9qDw38ZoP2hvD2r%2BEvBvhuy0Lwj4T8VeArq9v9HtkgWK%2BuYdQTVYozf3YXa93JaOyRARIu1pjN5/o3/BRL4y3f7MvjPXrHw/oesfEiy8a6l4a8CRXPhPUtAh1L7LpsF/NqV/o17O1/pcNtHJO0kE8qyTpbwtGyfbrbOl8RP%2BCgnxW03wj8En%2BHPhTw7fax4tuPAd78VJruCc2mi6b4g1Kz05IrZVlDLdTS3NxJBvaRUjsJjIGLRhwDrf2eP2EfFPwW%2BK/h7xr4n%2BN1n4g0bwPpfiLT/BWn23hI2WoCLWL%2BC8uG1O%2BN3KNQkVrdAGSG2DMWkkWR9rL9HV8m6P%2B2v8f734iaf4il0HwrP4E8Y/Ezxp8PvB2kWuk3X9s2uq%2BH4NZY3dzcfaTFcQ3Enh/UlEEcETxiS3PmyEsBy3gr9ur9qjxB%2Bxdq3xNS/0PVfi3ps/g0694Ftv2ffFFhe%2BE4NV1C0t72WfRZ799Q1OOGB76SKW3MSSmxk2l9jgAH2P45/5EnWP%2BwVcf%2Bi2ry3xx/ykL%2BF//ZGfHn/p28IVpfBv4pD4xfsyTeNZviTo3iu7az1O21LVdD8KXmhRLcwyTRPbvp17PPc2U0JXypIppC4kjclUyEXN8cf8pC/hf/2Rnx5/6dvCFAHs1FFFABRRRQAUUUUAFeM/sH/8kQ1z/ss3xH/9TXW69mrxn9g//kiGuf8AZZviP/6mut0AezUUUUAFFFFABRRRQAUUUUAFFFQ39/YaVZS6lql7DbW0EZee4uJAiRqBkszHgAepo2BtJXZNRXzV8Uf%2BCtP7E3w88R/8IL4W%2BIN78Q/EhYhPDnwx0mTW7lsHDYaD9zkdwZA3tXPn/grTpt0Nmh/8E8/2pL924j8n4RlUJ7ZZrgYHv2rzJ51lUJOPtk2u15f%2BkxkvxPGnxDklObh7eLa35eaXy9yM1fyvc%2BtaK%2BSP%2BG1P%2BCiXxB%2BX4Of8Es9Xsbd/uap8QvH9jpnljtutQGlP4HikNp/wW0%2BIKlLjWP2f/h7aSf8ALS0g1PVb%2BH3w%2BIGIqf7Xoy/hUqk/SnJL75ciJ/t2hP8Ag0atT0pSS%2B%2Bfs0fXFQalqmmaNaNf6vqMFrAn35rmZY0X6liAK%2BBviR8IPDGkM8n7dn/BcjxEJ1yZtF8IeJtN8KRse8ZtrcySSqPQDJxnivIpbL/gg5ca00Og%2BEfib8fPEUJwIdMXxBq9y7nsNzwQOT9SK4K%2BfTpOzhCD7Tqxv/4DBVJfI%2BryvhDxS4gpe1yzIq0qf887xil3clDkS83Vt5n6I%2BMv20P2Qfh7G7%2BN/wBqP4faY0Y%2BaG78YWSyH2CeZuY%2BwBNeR6//AMFov%2BCeOmai2ieGvjJfeKb9OWs/CfhTUb449Q6QeWfwY14L4M%2BF%2Bs61LHcfsw/8EEPCGi2indb698YrnT7WdPTNpIktwrd8huOlevaB4B/4LHX%2BnLoeh337N/wv0o8JH4a0XUb25tx67JAsBI/KsP7Vzav/AAoaf3aVSX41JUl87WPW/wCIbcaQ0zHMstwfdSxKqzXrGl7XXyvcv/8AD3fwDq3HgD9i79o3xPn7j6L8KJWQ%2B5aSVMD3xTZf%2BChX7XPi5fsfwh/4JT/E%2B4upeIH8a6tZaFAv%2B1I8pfaB1x36ZpU/4J5ftXePT9p%2BPX/BVP4qXcrctF8O7Gz8Mxp/sjyVkyB0yee9K/8AwRu/Zy8QgQfF740fGf4gWzH/AEiy8ZfE%2B7niuB6OIRET%2BBFH/GT1trpefsY/l7R/mL/UzhujpjeK%2BbusNl9SX/gM606Sfk3FL5HlnxG/a4/bktLp2%2BL/AO25%2BzB8ENufL0G2vzrmrRjuJkkk2Ej1jGK8p1v9ufxV9tNpb/8ABeO61jVP%2BWWk%2BCf2ZIrtfwbZtf8AFq%2B9/hn/AME7P2F/hBbpD4D/AGUvBEDxgbLu90KK9uR/23uRJJ/49XreieHfD/hmzGneG9Cs9Ptx0gsbVIkH/AVAFH9i5tW1q17f9v1ZflKlH7lYP7J8I8N8Uczxcu88VSwyf/blGnUaXlzX8z8of%2BGn/wDgqH4o/wBE%2BE37Q/7Q/imFvuajD%2ByBo1nbsPTz5roY%2BpWnJ4M/4LyfE1vs8z/FtrCT791L4v8ADnhiVffZFHJIPwr9aKKP9WKk/wCLjKr8lJpfjKQPE%2BHtDTD5Apf9f8dmFb71Gth4/LY/JVv%2BCTn/AAUg%2BKZz8Vv7D1%2BKQ/voPi58btf1XIPUEaaIAfzxXaeF/wDgiJ8ebexWxnv/ANnfw4n/AFDvhXLrbr9JNUkd2/E1%2Bm1FXDhDKIu8ueT7uX/2t/xNKfEOUYV3weQ5bTfd4OFaX/gWJrYhv5o/Om3/AOCBP/CQKIPib%2B0z4buYG%2B/F4V%2BAXh3SHA9BKkbt%2BOK29D/4Nx/2CNOizrXiX4hapMx3SST65awqT6BYbVAo9v1r77orojwtw%2Bnd4dSf968vzZVfjPOa1N04Qw9KL6UsHgaa/wDJcG3/AOTHxNp3/Bvv/wAE3LIg3PgbxLeY7XPiu4Gf%2B/e2ul0D/ghv/wAEwtAlE4/Zt%2B2yL0a/8VapKP8Avn7SFP4ivrSiuiHD%2BRQ2wtP/AMBX63PGpZvmFCpz0ZKEt7wp0YP740ItfJo8E0j/AIJcf8E8dEiWGz/Y/wDA7hehu9HW4P4mXcT%2BNdHo37Bv7EPh5xLo37H3wxgcdJV8CWBcf8CMWf1r1iiuuGW5dD4aMF/25H/5E9KrxlxhWhy1MyxDXb29a33Kql8rW8jm/Dvwc%2BEXg8hvCXwr8N6WV%2B6dO0O3gx/3wgrpAABgCiiuuMIQVopL0SX5WPBr4nE4qfPWnKb7yk5P75OT/EKKKKoxCvGf2X/%2BS3/tHf8AZZrH/wBQrwvXs1eM/sv/APJb/wBo7/ss1j/6hXhegD2aiiigAooooAKKKKACiiigAooooAKKKKACiiigAooooAKKKKACiiigAooooAK%2BDf8AgpXqn9h/8FWf2INU3Y3an4ytc/8AXcaJFj/x6vvKvzs/4LF3suj/APBQr9iTXU4S18e6kJ2z92KTU/DkbH/x%2BvMziXJl05duV/8Ak9M%2B48N6CxPGmGov7arx%2B/C4v/I/ROiiivTPhwooooAKKKKACiiigAooooAKKKKACiiigDK8Df8AIk6P/wBgu3/9FrWrWUPBmhplYGvoUySIrfVrmNF9lVZAqj2AApf%2BEP0n/n71X/weXf8A8doA1KKy/wDhD9J/5%2B9V/wDB5d//AB2j/hD9J/5%2B9V/8Hl3/APHaAPD/ABB/wTT/AGfPEniP4zeJdQ1fxMJfjbp1taa5bx6jD5GiCJSWk01DCRA005FzMJfNWWZVLKV%2BQyeC/wDgnf8ADjwv4vT4h%2BIPjB498UeID8TpPHd5q%2Bv3un%2BZdam3hWfwv5bJbWcMSW4sJyyxxImJkRs7N0be2f8ACH6T/wA/eq/%2BDy7/APjtH/CH6T/z96r/AODy7/8AjtAHzov/AASm%2BC9l4V0HwB4d%2BMfxH0nw7pNj4Ph1PQtP1TTxBr8/hprQ6Zd3jPZNIJttlbRy/Z3gjlSJQyfKpHv%2BsfDrSPFvgfXfh18Qr658R6T4ihvrbUrXVI4VDWV0HV7MeRHGDEsbmNS2ZCoG93bLG5/wh%2Bk/8/eq/wDg8u//AI7R/wAIfpP/AD96r/4PLv8A%2BO0AeZ/A79j3S/gXJqWs6d8c/HfiDX9Uh0WxuvFHiafTZ746RpUkr2mkjy7KOL7MPtF2Gcxm5Y3kzmfzCsi53wl/YmuPg9478f8Aj/Qf2q/iXfXXxF1C9v8AWY9Wg8Pym3upl8uCSGddJW422kQSK2hllkhjRAGjfnPrv/CH6T/z96r/AODy7/8AjtH/AAh%2Bk/8AP3qv/g8u/wD47QB5HpP/AAT/APgLrB8QXv7R1kfjbqPiWfT31PUfi5oOkagAlglwlnHFa29jBaQiH7ZeFWSAOTdSlnbdxF8Nf%2BCd/wCzp8IvhJ8PPgb8PtLutL8MfDnxqPFOn6VYQ2lvFqmoKLlojerDbosqxzXCXC7BG3m2lsSzKjK/sP8Awh%2Bk/wDP3qv/AIPLv/47R/wh%2Bk/8/eq/%2BDy7/wDjtAHlHxS/4J3fsbfF743%2BFf2j/Ff7PvhFfG/hTxhF4kj8TW3hTThfapeRWFxZwreXD27TTxxCdJkG9WSa0tXDDygDgaf/AMEyvgPHZa/4e8ReLvGGt6DqfhXWfDfh7w7qWo2y23hLTNVuo7q9g0x7e3jnTdNBbMkk8s8kItoliaNV2n3b/hD9J/5%2B9V/8Hl3/APHaP%2BEP0n/n71X/AMHl3/8AHaAPn/xv/wAE0fCXxC%2BHN/4H8TftN/FCfUNd8c2Pijxb4qdtCe98RTWVtHb2lleQPpTWL2MawW7i2S2RXkgDvvLy%2BZ2vxS/ZKufjV4K074afE39pP4g6n4c/s42HjDRPL0WGHxlbs%2BXi1FotNWREdcxOtm1qrxsysCCa9L/4Q/Sf%2BfvVf/B5d/8Ax2j/AIQ/Sf8An71X/wAHl3/8doA8/wDEX7LUHjX406N8XPHvxv8AGut6f4b106z4b8C3Z0yLR9Nv/sstqs6mCyjvJiqTzlUnuZYw8m7blI9lvw9%2BzVpHgvw7480/wJ8S/FGjaz8QvFtx4j1jxbavZS6hb3kiQQxiET2skBjhtrW2to0lhkxDCobecse1/wCEP0n/AJ%2B9V/8AB5d//HaP%2BEP0n/n71X/weXf/AMdoA8Uu/wDgmn%2Byz4z8D%2BIvC3x%2B8G2vxW1TxVrFzq2r%2BLviToGlahqIvprC10/7RAFs47a0ZLWytIlEEMa4t0ZgzFmbJ8S/8EiP%2BCfHi34beDPhvrX7MngyX/hBzoK6Vrx8F6S2pTwaVdQ3MVtNO1od0MzQlJ41CiRJ5gNm/I%2Bgf%2BEP0n/n71X/AMHl3/8AHaP%2BEP0n/n71X/weXf8A8doA8l0b9hP4e6B8W5/ippXxM8ZRwR6zrGueHfCn2qyOl%2BHtb1SKWO%2B1WzU2vn/aJBcXbYmmmhVry4KxL5hqXw3%2BxxqHhq48U%2BLov2q/iXdeOPFljpen3nxEu4tBOpWthp81zNbWcECaUunpEHvLwsWtGkb7S2XysZT1X/hD9J/5%2B9V/8Hl3/wDHaP8AhD9J/wCfvVf/AAeXf/x2gDifh78CvDf7PvwT8QeENB8QavrVxqMuqaxrmv8AiCeJ73VdQui8s9xN5McUSkkgBIo440VVVUUKBWH44/5SF/C//sjPjz/07eEK9RPgzQ3ws7X0yZBMVxq1zIjezK0hVh7EEV5d44/5SF/C/wD7Iz48/wDTt4QoA9mooooAK%2Bfv%2BClx0wfs12v/AAmfl/8ACFf8LC8L/wDCyPtH/Hv/AMI9/bNp9t%2B1Z4%2Bx7P8Aj53fu/s3n%2BZ%2B7319A0UAfBfgi0%2BF/j79gL4tfDD4f/GXwV4X8CR%2BO9S1bwE2r61Ha6IfCMOsRSPE7I37nQ7qeDULMTRgwi1mPlBowinzDQ/iv%2Byr8N/2VfHHiD9pn4PfA/WPCHiP46y2H7N3gk6layeCmkk0HTkmexvL6CGBNPjvo9XmlvRBGoIumgRzJCkn6h0UAeT/ALOmi%2BJ/h9%2BxX4E8MfC7x9onxS1XRPAGl2Wl%2BJ7/AMSPDYeJJIbWKP7Wb2KO7cRy7S4kCTsQRksSWrD/AOCdNx4lu/2br668ZaTY2GryfFv4htqdjpmovd21vOfGeteZHFO8MLTIGyA7RRlgASi5wPdK8Z/YP/5Ihrn/AGWb4j/%2BprrdAHs1FFFABRRRQAUVneK/F/hPwHoFx4r8ceKNO0bS7NN93qWq3sdvbwr6vJIQqj3Jr5a8Uf8ABVXRfiRr9z8Ov2AfgX4i%2BN2vW8hhudX0tDYeHbCT/pvqM4CHGdwCAhwDh648Vj8Jg7KrOzeyWsn6RV5P5L5o4MbmeBy%2ByrzSk9oq7lL/AAxinJ/JW7tH1tXlv7R/7af7MH7JemLf/Hn4waVotxKga00gSGfULrPA8q1iDSuCeNwXaCeSK8UP7PH/AAVS/aFBf48/th%2BHPhTo8/8ArfDnwd0NprwoeitqN4fMhkA6tFlc9K6HwZ%2Byp/wTz/4JyaNN8bvHFzpNnrBcyXvxH%2BJGri91e8nxyUnn581gPuQKpb%2B6TXFUx2PqwcqVJUoredVpWXfkTv8A%2BBSijHDT4hzrEQw2W4SSlN2jzpuTb2UaNPnnJ9k3HzRzr/8ABQT9rX46obX9jD/gnt4suLSYYg8Y/Fi5Tw/p6DtMkDEzXUf%2B4VbHYVHYf8E1fiP%2B0PexeM/%2BCl37SOoeP1jkE8fw48KyyaT4WsWByAyRlZbsqRxJIUbGQwYU1/2/v2mP2r5jo3/BOT9mqa70WVtn/C2/ihFLpuhhenmWtvgXF4PQqBtI%2BZCKnj/4JgeOfjq66p/wUA/bD8Z/EqOQ7pfBmgTf2B4eA/55tb2pDz46CQsjEZz1ryrPHvRTxK7u1Oj91vfXymvU%2B9fhPh8vanxtmkaLWv1e3ta3pLDUJKEH5YrEJr7VNao2NV/bR/4Jb/sLWI%2BG3gXxd4L0m6LiJfC3w30lb27mlHRZI7BHIk95SCe55rMf/gpx8VviAhh/Zs/4Jt/GjxM7jFrfeKdLh8O2ExPQrcXDt8nqSoxXvXwU/ZX/AGcP2cbAaf8AAz4JeG/DA2bJLnS9KjS4mH/TScgyy/V2Jrvq9WGEzWUFF1o0o/y04J2%2Bc/0gvQ9eGZ%2BGmTwVLAZVUxPLtLEV/ZRf/cDCQikvJ1m%2B7ufIafCT/grR%2B0Y4uvit%2B0T4R%2BCGiSHcNA%2BHOkf2rqrJ/cmvbo7I3B/igyDjpyam/wCHPHwQ8YfvP2if2gPjL8Ui/wDr7Xxj8Rbn7K3qqxWwi2L/ALO419bUVf8AYmAnrXUqr/vylL8LqPy5S34n8V4b3cqlTwMFssNRpUmv%2B4nJUrt/3nXv6bHiHw2/4JsfsE/CXy38E/sm%2BCUlhx5V1qWjJfzofUS3XmOD75zXs2k6PpGg2EelaHpdtZWsQxFbWkCxxoPQKoAFWaK76GFwuGjajTjFeSS/JI%2BSzTPs8zyr7TMsXVry71KlSp/6XOVvkkFFFFbnlBRRRQAUUUUAFFFFABRRRQAUUUUAFFFFABRRRQAUUUUAFFFFABXjP7L/APyW/wDaO/7LNY/%2BoV4Xr2avGf2X/wDkt/7R3/ZZrH/1CvC9AHs1FFFABRRRQAUUUUAFFFFABRRRQAUUUUAFFFFABRRRQAUUUUAFFFFABRXMfGjQ/FviP4W63pHgX4lal4P1WSzL2niPSLK0uLmyKMHYxx3kM0DMyqyfvI3A35wSBXgKftNfGW1/4JL%2BA/2kV8SwS%2BPfFfw38HtP4gutOi8uDU9YGn20moNAirERHLeNcGMKsfybcBeKAPqWvzl/4Lk/6B8d/gB4v6f8I%2Buq6ju/u7fEXhBM/wDkSvrD9kTxr8S7vxX8WPgp8TfiNfeMpvhv48ttL0vxXqtjZ297fWl1ommamqXS2MEFv50cl7LHmKGMGJYSV3Fmb4x/4LlfEbQfF99caP4f0rxFHqXgb4Wa7dXUuqeEdRsbSV/%2BEt8DYNrdXMEcF6Aobc1u8oXjcRuXPlZ7/wAibEPtBv7rP9D7/wAKWv8AiJeUQf28RTh/4M5qf/uQ/TiimW1xFd20d3A25JUDo3qCMin16p8C007MKKKKBBRRRQAUUUUAFFFFABRRRQAUUUUAFFFFABRRRQAUUUUAFFFFABRRRQAUUUUAFFFFABRRRQAUUUUAFFFFABRRRQAV4z44/wCUhfwv/wCyM%2BPP/Tt4Qr2avGfHH/KQv4X/APZGfHn/AKdvCFAHs1FFFABRRRQAUUUUAFeM/sH/APJENc/7LN8R/wD1Ndbr2avGf2D/APkiGuf9lm%2BI/wD6mut0AezUUUEhQWY4A6k0AFfJnx2/bz%2BIfxS%2BJV9%2Byd/wTk8P2Xi7xxat5Pirx3efN4e8GqSQWmlAK3FyMHbCm75gchyjx1zfxc%2BOfxV/4KQfEbVf2Uv2M/FdzoXw00e5Nn8VfjLp5/4%2BP%2Bemk6S/SSVlOHnGVUHI%2BUr5v1L8Bf2f/hF%2BzJ8M7D4R/BLwVaaHoenp8kFsnzzyYAaaZz80srYG52JJ%2BgArxZV6%2BaTdPDS5aS0c1vJ9VT6WWznrrpC7TkvnpYnE51UdLBz5KC0lUW8mt40ulltKpqk7qCbTkvn/AMIf8ElfhZ4o1u1%2BIH7avxY8W/HPxNAwkT/hMNRaLR7SXv8AZtOhIijQ8/IxdTnpX0dfX3wk/Z9%2BG0l/ey6B4N8JaBabnbENhYWEI9ANqRrk4AGOTgda8v8A2v8A9uzwD%2By2%2BnfD7QvD1543%2BJviT5PCHw38PHffX7nIEspAP2a3BBLSuOisVDbWx5l4H/4J/wDxY/ac8U2Pxs/4KeeNrXxNcWswudA%2BD%2BguyeGtCbqvnLnN/OAcFnJT7y5kQjGUZYXB1pYfLqKlV%2B0%2Bkf8Ar5N3k315U3J9orU/TeHPDzKcty6OcZxP6nhal3FqPPicTZ2fsYSfNKN9HXqzjQi7pOpJOCrah%2B23%2B03%2B2zqM3gz/AIJs/D9dM8LCZoNQ%2BOnjrT3i09MHDf2ZZuu%2B8kHOGddgYYdQCGrrfhD/AMErvgT4a8XRfF79ozxDrXxp8fLhj4l%2BIs/2qC2bOcWtkSYLdAcFVIcoR8rCvpfTtO0/R9Pg0nSbCG1tbaJYra2togkcUajCoqqAFUAAADgAVNXTTyqFSaq4yXtZ9Lr3I/4Yar5y5peaPVxnH2JweHlgeG6X1DDtNScJXxFVPf22JtGo79adJ0aK2UJLVtiijhjWGGNURFCoijAUDoAO1Ooor1j8%2B3CiiigAooooAKKKKACiiigAooooAKKKKACiiigAooooAKKKKACiiigAooooAKKKKACiiigArxn9l/8A5Lf%2B0d/2Wax/9QrwvXs1eM/sv/8AJb/2jv8Ass1j/wCoV4XoA9mooooAKKKKACiiigAooooAKKKKACiiigAooooAKKKKACiiigAooooAxPiN8P8Aw/8AFTwTqHw%2B8VXOrw6dqkIiu5NB8Q3ulXYUMGxHd2MsVxCSQATHIpIJU5BIPBeCP2JP2c/AHwRb9m/RvDWu3ngc%2BGX8Pr4c8Q%2BOtY1aCPTSAogT7ddysgRQFjZSGiVVWNlUAD1iigDkfgx8C/hp8APDV14V%2BGWlX0MOoanJqOqXmr67eapfahduiI09zeX001xcyeXFFGGlkYqkUaDCoqj46/4LU6N/b2kXdjs3eX%2Bzn48uMf8AXHXfBcuf/HK%2B86%2BOf%2BCoGjf2/ruqaYE3Mf2TPixJGvqyXHhV1H5qK4c0h7TLK8e8J/8ApMj6rgTE/U%2BOMqr/AMuJw7/8r0v8z6f%2BCWs/8JH8GfCPiHfu%2B3%2BGLC43eu%2B3jbP6109eWfsM6z/wkX7FPwh1svua5%2BGOgySH/bOnwbv1zXqdb4WftMLTn3jF/fGL/U8vP8N9Sz7GYf8AkrVY/wDgNWrH/wBtCiiitzyQooooAKKKKACiiigAooooAKKKKACiiigAooooAKKKKACiiigAooooAKKKKACiiigAooooAKKKKACiiigAooooAK8Z8cf8pC/hf/2Rnx5/6dvCFezV4z44/wCUhfwv/wCyM%2BPP/Tt4QoA9mooooAKKK8h/bX%2BJHj74efCfSLL4ZeJW0LWPFnj/AMO%2BGIfESWkM76TFqGp29vPcxxzo8TTCF5BF5iPGJWjLo6gowB69RXylYfGX9qif9kP4oWHg3xBqPirx38PviNd%2BGbfxRa6DaS6lfaXFf2rTX8dnDElvPfwadcy4iSIRzXNqAIQJPKrzr4WftVftCfHDxxF%2Byz4e%2BNnjrw%2BIfjNqegL8TPEHgbTtP8S3uk23hOw1xEewvNOW1trhrnUVjzJYoxtbXPlJJJ5iAH3lXjP7B/8AyRDXP%2ByzfEf/ANTXW6d%2By3%2B0TrPjr9ivwn%2B0J8Wra6utSl8OrL4gfwz4eur17y4icwSz21naJLO6yuhkWKNXYK4HOM1n/wDBOnxDYeLf2br7xTpVvfRW2o/Fv4h3NvFqelz2VyiP4z1pgJbe4RJoHAPMciK6nIZQQRQB7pXzF/wVI%2BM/jLw18HtJ/Zl%2BC13t%2BIvxr1ceFvDOxjus7aQD7ffnHISG3Y5ccoZVb%2BE19OkhQWYgADkmvjb9i5W/bP8A2yfHX/BQXVVM/hLwyZvA/wAGg4zHJbQuf7Q1SPsfOlJRHHOwuh%2B6K8rNak5044Sm7Squ11uorWcvlHRf3pLseJnVWpUpwwNJ2nXbjdbxglepLytH3U/5prsfTPwA%2BB/gT9m74N%2BHfgh8NtMS20jw5pkVpb7YwrTso%2BeeTHWSR9zu3dmJryf9vP8Aa68V/BWy0T4B/s7aTDrvxm%2BIsjWngnRmAZLCPkS6pdDBCW8KhmywwzIeCqvjvv2t/wBp7wL%2ByD8CdY%2BNvjpXuFskWDSNJgb9/qt/JlbeziGCS7v6A7VDMRhTXmX7Av7K3jzwddax%2B15%2B1NLHqHxl%2BI0SS6zlf3fhvT%2BGg0e2BJ8tIwF8zB%2BZ1AJbZvbPFTm5Ry/B%2B67K7X/LuG2n96VrQXTWT0ir/rHCGTZTk2U/6xZrSUsNRfs8PQeixFeKTUGlZ/V6K5Z4hr4vcoRfNVk49H%2Bxz%2Bwt4D/ZXtr7xzrmtXXjL4m%2BJVEnjP4i683m32oSnBaOItnyLcEALEvZV3Fiox7pRRXpYbDUMJRVKjG0V/Tbe7b3bbbb1bPl86zvNeIcynj8xqupVna7fRLSMYpJRhCKtGEIxjGMUoxiktSiiitzygooooAKKKKACiiigAooooAKKKKACiiigAooooAKKKKACiiigAooooAKKKKACiiigAooooAKKKKACvGf2X/%2BS3/tHf8AZZrH/wBQrwvXs1eM/sv/APJb/wBo7/ss1j/6hXhegD2aiiigAooooAKKKKACiiigAooooAKKKKACiiigAooooAKKKKACiiigAooooAK%2BZf2ydG/4SP8AaC0zw9s3fb/2Zfihb7fXfd%2BFVx%2BtfTVeH/FTTItb/bw%2BHejTY2XfwP8AiBC%2BfR9U8Iqf51nVh7SlKHdNfemv1OvL8Q8Hj6OIX2Jwl/4DOMv/AG0z/wDglbrP9vf8E7PhBfb93l%2BDLa3z/wBcS0OP/HK%2BgK%2BVf%2BCJuqS6n/wTH%2BGQuMia1i1W1lQ9VMWrXiAfkBX1VXDk0/aZRh5d6cP/AElH1XiThlhPEXOaK%2BzisQv/ACtUf6hRRRXpHxQUUUUAFFFFABRRRQAUUUUAFFFFABRRRQAUUUUAFFFFABRRRQAUUUUAFFFFABRRRQAUUUUAFFFFABRRRQAUUUUAFeM%2BOP8AlIX8L/8AsjPjz/07eEK9mrxnxx/ykL%2BF/wD2Rnx5/wCnbwhQB7NRRRQAVzvxY%2BE/gH43%2BAr34Z/E3Q21DR794JJoYr2a2ljlhmSeCeGeB0lgmimijljlidZI5I0dGVlBHRUUAeceFv2Ufgv4I%2BHt18L/AAhZ%2BJNN0i9tJ4boWfjzWI7qV57qS6nuzdC7%2B0fbZJ5ZJHvfM%2B0uW%2BaUgADLvv2G/wBmnUPhnYfCmTwhrEVhpviCXXbPVbPxrq8GtJqkscsUt6dXjul1B7iSKeaJ5WnLPFI0bEodtet0UAZXgXwP4R%2BGXgnSPhx4A8P22k6FoGmQado2l2abYrS1hjWOKJB2VUVVHsK8u/YP/wCSIa5/2Wb4j/8Aqa63Xs1eM/sH/wDJENc/7LN8R/8A1NdboAof8FLvjdP%2Bz7%2Bwz8RviFpkzpqb6A%2Bl6IIsmQ316wtICgHLMrzB8Dshrqv2RvgxYfsx/sq%2BBvgxL5Nv/wAIv4WtoNTk3BUN0Iw91KT0AaZpXJ968O/4KEf8Xu/av/Z1/Y7t/wB9aXnjOXxx4rhH3VsdIiLwpKO8c0zlMd2QVr/8FT/il4vX4W6B%2ByD8Hb/yvHfxy1n/AIRrS5I8lrHTCA2pXzAc7I7clSRyPN3D7tfP1cVGljMTi5K6pRjTiu8n7zS83KVOP/DFcHZDX4w47%2Bp05KKXLSc38NOKTr4ipL%2B7Tprml5Qtu0jjfgfbXH/BTD9rQftaeIrd5Pgz8KNTmsfhHp8ykReIdZRttxrbKfvRxsuyEnuoI2ssin7XrnPhD8LPCHwQ%2BF3h/wCEHgHTxa6N4b0mDT9Oi4z5cSBQzEfedsFmbqWYk8mujr0cuwksLRbqO9Sb5pvvJ9F/divdiuiXds%2Bq4x4hoZ9mUYYKDp4PDx9lh6b3jSi2%2BaXerVlerWl9qpNr4YQSKKKK7z5MKKKKACiiigAooooAKKKKACiiigAooooAKKKKACiiigAooooAKKKKACiiigAooooAKKKKACiiigAooooAK8Z/Zf8A%2BS3/ALR3/ZZrH/1CvC9ezV4z%2By//AMlv/aO/7LNY/wDqFeF6APZqKKKACiiigAooooAKKKKACiiigAooooAKKKKACiiigAooooAKKKKAPMP20/i/4p%2BAf7JnxD%2BMfgaO1Ot%2BH/Cl5daO99EXt4boRkRSyqCC0SOVd1yMqrDI6jzLwX8YvjD8JNI/aC%2BHvxC%2BOcPii5%2BFXh2DXNC8feN9NtLUQxXGkyXBj1BdMt4ImjgntpZC0UKv5EyKQ7Jvf6J8aeDfCvxF8Hat8PvHWgWuq6Jrumz6frGl3sQeG8tZo2jlhkU8MjozKR3BNcF4D/Y1/Z7%2BHPhrVPCGg%2BFdVu9P14XQ8RxeIfF%2Bqas2ti4tYrSRb5765me%2BAtoIoUE5kEUaBI9gJBAPH/8Agm78bf2kvH/jLxl8Pf2lNS8YxX%2BmeEfC2t2GjfEbTNEt9ZiOoLqC3Fyh0NFtG0%2BSW02QJIftkclvci4VA0IPU3/xO8N%2BMf8Agpt4L8GaTpviGG88PfB7xxHfzar4R1GxtJS%2BreEsG2urmCOC9A2nLW7yBcjcRuXPovwL/Zb%2BCv7OEmpXXwq0DVIrvV7a0ttQ1HXvFOo6zdyW1qJBa2wuNRuJ5Ut4fOmMcCsI0M0hVQXYnm/HH/KQv4X/APZGfHn/AKdvCFAHmP8AwRe/0D9ju%2B8IdP8AhH/iV4k07Z/d26hI%2BP8AyJX1pXyX/wAElf8AiXeH/j34QPH9iftNeLLWJPSPdbup%2Bh3GvrSvJyLTKKK7K33Skv0P0DxV97xFzKp/PUU//BlKhU/9yBRRRXrH5%2BFFFFABRRRQAUUUUAFFFFABRRRQAUUUUAFFFFABRRRQAUUUUAFFFFABRRRQAUUUUAFFFFABRRRQAUUUUAFFFFABXjPjj/lIX8L/APsjPjz/ANO3hCvZq8Z8cf8AKQv4X/8AZGfHn/p28IUAezUUUUAFFFFABRRRQAV4z%2Bwf/wAkQ1z/ALLN8R//AFNdbr2avCv2OPEFn4T/AGavFvinUTi30z4r/E27nOcYSPxlrjt%2BgNJtRV2KTUYtvZHm/wCyyR8eP%2BCnHx3/AGjpyJdM%2BH2nWHw38MznkCSM/a9SX0DLcFRxzh%2BcVV/YnU/ti/tifEL/AIKC6oDP4X0FpPAvwf38xvZwOTf6jH2PnTEqjjB2b0P3a81/Zw%2BIN3%2Bzj/wQl8U/tK6vdmPxN4x0zXvEF/fk4M2raney2ttN65%2Ba1%2Bu2vr/9iP4ML%2Bz1%2ByL8Ovg49oILnRPCdnHqUYXH%2BmPGJbk4953kP418plsXi6lBS2s68v8AFOTVNP8AwrX1S7H1fAreReFWKzpK2IzGo6EX1jTlFYnEtecovC0G%2BkXNfaPUqKKK%2BsPlQooooAKKKKACiiigAooooAKKKKACiiigAooooAKKKKACiiigAooooAKKKKACiiigAooooAKKKKACiiigAooooAK8Z/Zf/wCS3/tHf9lmsf8A1CvC9ezV4z%2By/wD8lv8A2jv%2ByzWP/qFeF6APZqKKKACiiigAooooAKKKKACiiigAooooAKKKKACiiigAooooAKKKKACiiigArxnxx/ykL%2BF//ZGfHn/p28IV7NXzv8YfHln4X/4KhfAfwpesAfE3wi%2BI1pag9TNFe%2BE7n/0XDLx/hUylGCu/6voTOcacby20/F2X4s5P/gm//wASj9oX9qjwj08n41yajs/6%2B7SN8/jtr60r5L/Yv/4k/wDwUl/a58Knhf7T8HajEP732jSZC5H4qBX1pXl5LpgOXtOovuqT/wAz9C8Tve4s9r/z8w%2BDn/4HgsM//bQooor1j8/CiiigAooooAKKKKACiiigAooooAKKKKACiiigAooooAKKKKACiiigAooooAKKKKACiiigAooooAKKKKACiiigArxnxx/ykL%2BF/wD2Rnx5/wCnbwhXs1eM%2BOP%2BUhfwv/7Iz48/9O3hCgD2aiiigArjvjx8bPDX7P3w6l%2BInibSNT1TdqVjpmmaLokMcl7qmoXt1FaWlpAsskcfmSTzRrukdI0BLu6IrMOxry/9rf4N%2BM/jP8MLCx%2BGt5pkXibw14w0XxLoEetzyRWV1caffw3JtZ5Io5HiSaNJIfNWOQxGQSBJNmxgDM/4bc%2BF1r%2BzZr37SuveF/Eel23hjU7jSdf8K3trb/2tZarDeCzNgyxztbmRp2jVJBOYGWVJfN8tt9c3/wAPGPBctpDo1j8AfiHceNZPHF54Uk%2BHKDRl1OG/tdMTVZi1w%2BpLpzRrZSwy7ku2J8wIB5iuic1qP7IP7Rnif9l/4lfCnXpfBVt4i%2BJviWfxNrcUGuXc%2BmSyS6hC0mgyFrNJHspdNtYrOW8CiRjcTutsmFU%2Bdyf8Eyvib/whEGjXvwF%2BBureFR8TtR8SJ%2BznqOp3A8F6bbXGjW9hGlvP/ZL5kS6iur/Z/Z6QmXU58KsiLOwB9lfBb4teD/j58IPC3xw%2BH0ty%2BheMPD9nrOjveWxhlNtcwrNHvQ8q21xkdj3PWvl3WfGn/Cvf%2BCVPx48VpN5csHiT4uRWz5%2B7NL4s16KM/wDfbrXvHwN/Z%2B1jwV%2ByR4U/Zu%2BK/j3VNavtI8IWekazr2ja7fafczyRRKrNDdwzJdRgFcLJ5olKgbmJLE/Fv7S1ing//gjH43%2BEXhW9vnl1z46eKfDWky6nqk99cyeZ8RtSH72e4d5rhzHG%2B6SR2diSWYkk15%2BbVXQyuvNbqEvv5Wl%2BLR5eeVnh8lxNRbqnO3rytL8WjV%2BMvgv7d%2Byt%2Bxj%2BwXFF%2B88a6t4eufEdpj/X6bpdhHe6gpHu7I2T0xX6G18feEtMs/ip/wAFg7y006MNonwE%2BD9rplvEORbarqr7wc9BmyTbjrxX2DXHk1JKVaotk1TXpSjGH/pXMfp/FVFZLw1kOQx09jhVWmv7%2BKl7RX81Rp0F6S7MKKKK9w%2BECiiigAooooAKKKKACiiigAooooAKKKKACiiigAooooAKKKKACiiigAooooAKKKKACiiigAooooAKKKKACiiigArxn9l//kt/7R3/AGWax/8AUK8L17NXjP7L/wDyW/8AaO/7LNY/%2BoV4XoA9mooooAKKKKACiiigAooooAKKKKACiiigAooooAKKKKACiiigAooooAKK8w/bT%2BL/AIp%2BAf7JnxD%2BMfgaO1Ot%2BH/Cl5daO99EXt4boRkRSyqCC0SOVd1yMqrDI6jzLwV8dviz8B9J/aC8MfE3x/qXxMk%2BD3h6DxHo%2Bt6tp9jZ31/BNpMl01jOun28FuXWa1lKukKnyriJWDshdwD6cr4C/wCCpnjif4V/8FN/2KfiTGzJDbax4q0y9mH3YoNQl0Gxd29FHnjJ969l/wCCefxy8c/Eq31Hw78aPHvxCvvGU3hXRPEs%2BkeOPDmiadaxWN%2BLkR3WlrpaFxaSSwToIb2WS8hECCUKXy/zj/wWc1rTPi74sm0TwVpniKDxD8Mvg94q1%2BK81TwhqNjaia18Q%2BDJzJa3VzBHBegQxzZa3kkCZG4jcM%2BbnDnHK6s4bxXMv%2B3Wpf8AtrPIz91I5NXnT%2BKMeZf9uOM/xUGvme5fAr/iSf8ABYL476Z0/tv4c%2BF9Rx/e8lXt8/rivrSviy28d2Phz/gqd8K/jtGQPD/7QHwPfStMlJ%2BWO/tGTUky3T5reRVUHksePSvtOssnlF060F0qT%2B6XLNP5qVz9W4/axMsqx9N3hXwOFafRunCdCa9YypJP5dwooor1z4AKKKKACiiigAooooAKKKKACiiigAooooAKKKKACiiigAooooAKKKKACiiigAooooAKKKKACiiigAooooAKKKKACvGfHH/KQv4X/wDZGfHn/p28IV7NXjPjj/lIX8L/APsjPjz/ANO3hCgD2aiiigAooooAKKKKACvzj%2BL/APxVXw2%2BB3wdQ5/t/wDbq8W3l5F/z0tLLxl4hmmXHp8yH8K/Ryvy68TeK/K%2BPvwxVZcQ%2BAvE37QXjG%2BXPTZ4h1uKBz6bZFJBrx89mo5bJPaUoL5OcW/wizy83w9TG4ang6fxVqtGkvWpWpRPo3/gkqD8SvDfxZ/a%2BuR5h%2BK/xZ1O70i4/v6PZP8AY7Nc99uyYZ6V9cV85/8ABI/wp/whv/BN74SaR5WzzvDH27GP%2BfqeW5z%2BPnZ/GvoytMlg4ZTR5t3FSfrL3n%2BMmfp3ibiaeJ8QczVL%2BHTrSpQ8qdC1CmvlCivm33CiiivUPhQooooAKKKKACiiigAooooAKKKKACiiigAooooAKKKKACiiigAooooAKKKKACiiigAooooAKKKKACiiigAooooAK8Z/Zf8A%2BS3/ALR3/ZZrH/1CvC9ezV4z%2By//AMlv/aO/7LNY/wDqFeF6APZqKKKACiiigAooooAKKKKACiiigAooooAKKKKACiiigAooooAKKKKAMzxp4N8K/EXwdq3w%2B8daBa6romu6bPp%2BsaXexB4by1mjaOWGRTwyOjMpHcE1xfwp/ZP%2BCHwWs7mx8CaJrW2/uZp9Wk1vxjqmqy6rJLbw2xN7JfXMz3u2C3hijE5kESRhY9gyD6PRQB538Cv2Vfgb%2BzdNqF38I/C99aXGp2dpZXN1qviTUNUmSytfN%2By2UUl9PM8FrD503lW0RWGMyuVRdxz5z%2B078PrT4tftWeGfhXqAXyPE37OvxK0qbf023F/4ThOfwevoqvGfHH/KQv4X/wDZGfHn/p28IVM4RqQcJbNNP0at%2BpFSEatNwkrppp%2BjTT/Bs%2BJJNc8S%2BMf%2BCK/wd/af0Kzkfxb%2Bz34isNR%2ByjiURaVfvYXFsx7IbYK7DoVjH0r9MvC3iXRvGnhjTvGPhy9W507VrCG8sLhOksMqB0cexVgfxr47/YI8BaBqb/tW/sO%2BLoN2mWvxQ1V/sZA/daRrtoJIowPTaJSD7muy/wCCQvj3Xtd/Y6s/hD43n3eJfhL4g1DwNr6H%2BCSwmKQgA87RbtAo9dpr5fJJyo1qUZf8vKfK/wDHQbg/m4WfyPrchnLPPBfDOetXLK7py7%2ByxHNH7o4nDP09r5n1DRRRX1R8qFFFFABRRRQAUUUUAFFFFABRRRQAUUUUAFFFFABRRRQAUUUUAFFFFABRRRQAUUUUAFFFFABRRRQAUUUUAFFFFABXjPjj/lIX8L/%2ByM%2BPP/Tt4Qr2avGfHH/KQv4X/wDZGfHn/p28IUAezUUUUAFFFFABRRRQAV%2BOHibxV53xC/ab8V%2Bb%2B48FfCX4m6GvP%2Bqu9V%2BImugN7MYpMV%2Bx9fiJeaZqF/8AB/8Aby1KKVvP8UftGp4P0d/%2BeePF9/PMi%2Bu7zMkV8zxVOUcvil3k/wDwGnUa/Fo9rg/BLNPEnhzBy%2BGePw7l5RpydVt%2BS5L/ACP16/ZK8Kf8IJ%2Byt8NPBJj2HSPAGj2bLjoY7KFDn3yDXoNRWNlbabYw6dZxhIbeJY4kH8KqMAfkKlr6KjTVGjGmvspL7kl%2BhxZljJ5jmNfFy3qznN%2Bs5zm/xkFFFFaHEFFFFABRRRQAUUUUAFFFFABRRRQAUUUUAFFFFABRRRQAUUUUAFFFFABRRRQAUUUUAFFFFABRRRQAUUUUAFFFFABXjP7L/wDyW/8AaO/7LNY/%2BoV4Xr2avGf2X/8Akt/7R3/ZZrH/ANQrwvQB7NRRRQAUUUUAFFFFABRRRQAUUUUAFFFFABRRRQAUUUUAFFFFABRRRQAUUUUAFeM%2BOP8AlIX8L/8AsjPjz/07eEK9mrxnxx/ykL%2BF/wD2Rnx5/wCnbwhQB5Hfakv7MP8AwV8m1nxNCbbw5%2B0N4JtLDTtTBxGfEOlAqlvIeil7VgEJOWZgoB5xD4f1lP2LP%2BCoXiTQvF0Bs/A/7SEVnd%2BGdTzi2tvE9pF5U9o5/ge5RhICfvuUVcnO31z/AIKBfsu3P7V/7Nup%2BCfC159h8YaLcRa74A1hHCSWGtWhMls6ufubjmIt2WUnqBXnXhhfBH/BXv8A4J4RWHjJG0PxO2bfUZIoylz4W8V2J2mVBkNGUlw4XIYwzbSRuNfL18PWo4qVGl8ak61K%2BzvpUpv1v8lNP7LPU8PM6y/h/iLF5LmrawOPhKMpJXcFKcJupFfalh68adZR3nTlVhu0z6xor54/4J5ftTeLPjf4D1b4P/HiBNP%2BLnwxvhovxB0wkA3EijEOoxjjdDcIA4YALu3YG0qT9D19BhMVSxmHjWp7P709mmujTTTXRo0z/I8fw3nFbLcYlz03uneMotKUJwltKFSEozhJaSjJPukUUUV0HjhRRRQAUUUUAFFFFABRRRQAUUUUAFFFFABRRRQAUUUUAFFFFABRRRQAUUUUAFFFFABRRRQAUUUUAFFFFABXjPjj/lIX8L/%2ByM%2BPP/Tt4Qr2avGfHH/KQv4X/wDZGfHn/p28IUAezUUUUAFfP3/BS46YP2a7X/hM/L/4Qr/hYXhf/hZH2j/j3/4R7%2B2bT7b9qzx9j2f8fO7939m8/wAz93vr6BooA/O/UfFHw5f/AIJmfGjwR8MfE9hD4Km8cX7/AA7t9HuI2s7HwpPrcFub/wAhMl9AjuPt7uIwIXsIpUhYRlCPJbCz0eD4c2PhFfH3wRX4Ln9pPVhrvjK88N7Phbdr/wAIlbT2Rt9KW%2BWFLBbwy27QNfPA2qxPP5rSsluP1qooA8d/Zd8e%2BNPGf7EPgjx38Pfgp4e0HV7nwXZvo3gmW9m0nSbdVjVIoo5FtZZLa1Mahoh9nZljKAoDnH5v/Djwp4kufhHFoHjLRrKz1r4lf8FONcl1uy06%2Be6t4oLbWrxbiOKZ4omnijlgcK7RRlhyUQnaP2Cr83dD0zT9V/aS/Zu%2BG%2Bn2iIt3%2B0p8bPEd6qDrJZeItYdZG9yzYB9q8TP6Sq4Jf4or/wADlCP5XPufDOgnx1hcY/8AmGp4qt/4LweKafybT9bH6RUUUV7Z8MFFFFABRRRQAUUUUAFFFFABRRRQAUUUUAFFFFABRRRQAUUUUAFFFFABRRRQAUUUUAFFFFABRRRQAUUUUAFFFFABRRRQAV4z%2By//AMlv/aO/7LNY/wDqFeF69mrxn9l//kt/7R3/AGWax/8AUK8L0AezUUUUAFFFFABRRRQAUUUUAFFFFABRRRQAUUUUAFFFFABRRRQAUUUUAeRft9fELxp8J/2KPin8SPh5rMmmazovgbUbqy1eGMM%2BmlYG3XihgVJgXdMNwK/u%2BQRkV518DPHOo/s/a1%2B0J4U8Pah48%2BIvhb4Z2mnavoGmz61feJdakupdGF3c6TbT3Mk1zdSPst544Wd2DagFXbGY0X6dvbKz1Kzl07UbSK4t7iJo54Jow6SIwwysp4IIJBB4INcp8Of2efgD8HtPsNJ%2BEfwO8H%2BFrXS5bmTTLbw54ZtbGOze4CC4aJYY1EZlCJvK4L7F3ZwKAPmX/glH8bfHvxR8ffHfRPif408e6xrNp420vUJoPF3hHXdKs9IN5oWnzS6fp8WrWsBgtop2mWOEKsjR7J5FJuPMk9Dv/GniTxD/AMFNvBfh3VvhH4h0Kz0n4PeOEsNe1W5057TWg2reEsvbLbXcs6BNoz9oigPzjaG%2BbHvGleFfC%2BhatqevaJ4bsLO%2B1u5juNZvbWzSOW/mSFIUkmdQDK6xRxxhmJISNVHCgDyjxx/ykL%2BF/wD2Rnx5/wCnbwhQB7NXxT8b9N%2BIX/BNT9o7xN%2B2T4B8KT6/8GfiHdQXPxd8P6XCzXfhu/UbDrdvGOJInBzOoGc5YnG0p9rVHd2lrf2stjfW0c0E0bRzQyoGSRCMFWB4IIOCDXFjcH9bprllyzi7xl2drbdU1pJdV2aTXn5jgPr1KLhLkqQfNCS15ZWtqusWnaUeqfRpNfL/AO0R%2By1oH7VEPh/9t/8AYi%2BLFl4d%2BJ1npiTeF/G2myb9P8RWRGRY6gigiaBsbckF4yOh27Rt/sh/t/8Ahn4461cfAf446Cvw7%2BM2hN5HiHwDq04Q3Lhc/abB2OLq3cfOuwsyr13LtkbzjWf2X/2pP%2BCfvivV/iR/wT90%2By8YfDfVL5tQ174E6rcm3eylbmWXRrk5ERbr5DDb2UOdireHjT/gnX/wVp8PJ4C8f6c2j/EDRZCg0DXP%2BJP4u8NXaHc3kE4kOxsMdhkiJA3rkbR4Uataji7wSpV5fFCTap1X/NCXSXn8VtJwdlI%2B3yHj3Kc2wFLh3jOEoOmuWhXglKpSV3eNNycVicM2%2Bb2Epxq0m26LjeUJ/YVFfG9of%2BCn37EEZ0xNKt/2k/h5Zn/Rrn7YLHxhY24/hk35ivyo6EZlkOc7RgD0D4Jf8FS/2M/jRqn/AAh938Sj4I8VxSCK98GfEW2OjalbTf8APIrORG7/AOzG7GvWpZvhXNU696U39mel/wDDL4ZfKV/JHq4/w8z6nhpY3KnHH4WOrq4Zupyr/p7St7ei%2B6qUrJ3SqS3f0RRTYpY541mhkV0dQyOpyGB6EHvTq9Q%2BD2CiiigAooooAKKKKACiiigAooooAKKKKACiiigAooooAKKKKACiiigAooooAKKKKACiiigAooooAK8Z8cf8pC/hf/2Rnx5/6dvCFezV4z44/wCUhfwv/wCyM%2BPP/Tt4QoA9mooooAKKKKACiiigAr83/wBme/s9a/4KU%2BFNNvpwsXg21%2BL%2BusSCfL%2B1/EPWbEHA5ySAoxyelfpBX5of8E6P%2BKu/4KKfHDxB97/hEdZ1vQt39z7V8SNXvdv44zXk5r731en/ADVYf%2BS80v0R%2BgcAfuVm%2BL/59YDE/fVdCgv/AE5JfM/Rr/hMNJ/59NU/8Ed3/wDGqX/hMNJ/59NV/wDBHd//ABqvnbx9/wAFkf8Agm98L/HetfDTxz%2B0b9h1vw7q1zpmsWX/AAiGsS/Z7q3laKWPfHaMj7XRhuUlTjIJHNZP/D8v/glp/wBHQ/8Alk63/wDIVVLPMlhJxliaaa/vx/zM6Phb4mYijGrSyTFyjJJprD1Wmmk001CzTTTT6pp9T6f/AOEw0n/n01X/AMEd3/8AGqP%2BEw0n/n01X/wR3f8A8ar528A/8Fkf%2BCb3xQ8d6L8NPA37Rv27W/EWrW2maPZf8IhrEX2i6uJViij3yWiom53UbmIUZySBzXfft/fGD4mfs%2B/sTfFP44/Bu002bxP4S8D6hqujrq8zJbrLBC0m99scm7aoZgm3DsoQsgYuvXhcbg8bFyw9SM0t%2BVp29bHz%2BecM8ScMVoUs4wVXDSmm4qrTnTcknZtKaTaT0bXXQ9L/AOEw0n/n01X/AMEd3/8AGqP%2BEw0n/n01X/wR3f8A8ar591L9tv41eFfiB458F/EP4GeBdCsfhl8PbPxN448TXXxTumsIHu4tUa3trY/2OJZwH0%2BMSyvHEUS4LJHM8Yik5f4bf8FKtX%2BKuqeGdD1b4T6v4X1uL40S%2BDvEOkLLeW0MiHwfqGvwz7dY0e0vXhdIYk2/Z7SQSoGWWSFStx0nhn1V/wAJhpP/AD6ar/4I7v8A%2BNUf8JhpP/Ppqv8A4I7v/wCNV88/slft8/En9ofT9EuPHP7MH/CP3fiz4TaL8QfCel%2BHvGsOqz3WnXzBHgnNxBZRW9xCXiYqHkR0fIcMpjrqf2q/FvxV1L4tfC/9nj4W/FfUfAjeNrrWLrVvFejabY3V7Fb2FkJFtoFv7e4t1aSaaFmZ4nPlQSqu1mEiAHrv/CYaT/z6ar/4I7v/AONUf8JhpP8Az6ar/wCCO7/%2BNV85QftB/tI/E/8A4JkeEPj/APD60uf%2BE513SPDs3iG78K6Gt7cW9rLf2kWsahp1lIsgnlSzN5c28BWXcyxrsnP7t%2BM8BfHD9pX40fs1fEHUPAvi7426hrvwz%2BJV/oelXPh3wp4X0zxJ4osxY2l5by3lnr1nDaQbBehWSOK2mYQj92rloqAPsD/hMNJ/59NV/wDBHd//ABqj/hMNJ/59NV/8Ed3/APGq%2BFrf9tH9pjxn4Ch/aC0n446fHZeBvAvw01XVvD3hvRLZtK8Z3GuyI%2BpSl7y3N5DC0Mgjs1ieB45VZphMD5S%2Bz2fj74%2BeAP8Agodpfwl8QeOfGd54G8W6LrV3Zv4zsvD66XPdRfZZ4bTRX0yFL4PBHJcLKupffjiLRNKUZ6APovS9b07WPMWykk3wkCWKe3eJ0z0JVwGAPODjBwat1lWn/I7ah/2C7P8A9GXNatABRRRQAUUUUAFFFFABRRRQAUUUUAFFFFABRRRQAUUUUAFFFFABRRRQAUUUUAFeM/sv/wDJb/2jv%2ByzWP8A6hXhevZq8Z/Zf/5Lf%2B0d/wBlmsf/AFCvC9AHs1FFFABRRRQAUUUUAFFFFABRRRQAUUUUAFFFFABRRRQAUUUUAFFFFABRRRQAV4z44/5SF/C//sjPjz/07eEK9mrxnxx/ykL%2BF/8A2Rnx5/6dvCFAHs1FFFABXkX7Sv7CX7K37WkS3Hxr%2BElhe6rCqiy8S2O601S1K8oY7qErJhTyFYlMjlTXrtFZV8PQxNN060VKL6NJr8TDE4XDYyi6VeCnF9JJNfc/%2BH8z4/h/ZW/4KU/s0r5X7LH7ZOm/ELw9bnNp4P8Ajfpzz3EUY/gXVLbE0hxwocKi4HbNcZ8Zf2h77xZo/wDwjH/BSv8A4I/eJr%2B3gQxt4j8I6Za%2BKrOFf%2BeyTRFJrRTyeG3jOOtfedFeVUydKDhRqyjF/ZlapD/wGpdr5SOTBYPMclxMcTk%2BOrYacdYuM3JR/wAN5Kcf%2B3ai9Oh%2BXHw6u/8Agm5FcmL9iT/gqr43%2BBd4khC%2BE/EWtTjSLOTP3XstYVFYg8f64jtmvefB/jH/AIKy%2BHtPGp/Dr4o/AT4/aJGMi9tLmTSdTuR2INuzWiZ%2Bp5r6k%2BIvwK%2BCXxfgNt8WPg/4X8ToV2lfEGgW95x/21RsV4R4u/4I1f8ABOfxTfnWrH9n2Pw9qIJMV/4U12%2B054j6qkMyxj/vivN/sbMcN/AcV/gnUp/%2BSv2tP7kl6H3H/ETPESrpm9LB5mu%2BIopVX/3Gio1b%2Bbqzd9bsyh/wUb/aS%2BHo8v8AaI/4JdfFvSvL4nufAUlr4ngX1fdbtHhe/sPWrejf8Fo/%2BCf818mi%2BOviXrXgvUm66b4y8HahZyKe4ZvJaMY92qp/w6mvfCnzfBn/AIKD/tCeGFX/AFNhN47GoWUXpiCaL%2BbVV1n9ij/gpJaWL6Xov/BTix8SaeemkeOvg3pl0jf78ytvb8qftOJqH2XL1VKf4xlSf4B/rjwlif8AkYcL1aT74THXXyp4mFRfLn%2BZ7X4K/bp/Yu%2BIoRfBf7Vvw9vpZPu2yeLrRZ/xiaQOPxFemaVrOka7ZrqGiarbXlu/3Z7WdZEP0ZSRX55%2BNf8Agm/%2B2zrJd9b%2BAn7GHjLd/rbrUvAN/pd7KP8ArpZquD9TivM9U/4Jf/HXRLxtUs/%2BCXnw/wDtve9%2BHXx51XSWP%2B6tzKyL7fLR/bOdUv4mFv6RqL/5Yhf2l4UYjeWZ4Z/38JQxC/8AAqGIpu3ny38j9YaK/JYfs4ft4eCfm0b9nP8Aas8KCP7sPhL9qfTNUtv%2B/LW%2BWHsWo/4Tr/gp14IH/Es1/wDa%2BsNnT7V8LtG8T4/OaPf/AFo/1nnD%2BLhZr0v%2BsIh7Hw1rfwuIeT/r/gMwpfe4066%2B4/WmivyWH7ef/BT7weP%2BJj4w%2BLc%2B3qfGv7Ji2Of977Fcvj8KVf8Agsl%2B334Wbbrs3wwkiX758RfCzxbZS/8AkBHUGj/XDLI/xITj/wBu/wDBQf2TwpU/g8SZc/8AHVr0f/T2Cj%2BJ%2BtFFfk2n/Bwx8XtBlEHiXwt8Jr6TvHZS%2BIrIt9PtFiQPxNbGlf8AByDrpcR6h%2Byf4avFPW4svi/b24H/AAC4tFP61UeM%2BHm7Oq1/26/0uOPDeGrfwM3y2p6Zjg1%2BFSdJ/gfqZRX5tab/AMHGPgEqG1/9mWW3/vfYviZpFxj82TNakX/ByJ%2BybZjPiL4LePIcfe/s650i7/LF6ua3XFnDr3xCXqpL/wBtNIcG5vWdqFXDVP8ABjcBL8sbE/RGivgnRf8Ag4t/YR1kA/8ACF/E62B/57eGbZ8f9%2Brt66bTv%2BC9n/BP69Aa61XxpZA9Tc%2BDLk4/797q3hxLkE9sTD7/APNIqXAvFcXZYdS/w1cNP/0jFzPtCivkW2/4Ln/8EzXAOpfHbULD/r88E6tx/wB8WrVr2H/BaX/gmLqWPs37VWnrnp5%2BganF/wCh2wrZZ7kktsTT/wDA4/5h/qHxs1eOW1n6U3L8YykfUdFfO1j/AMFaf%2BCcOo4%2Bz/tceFVz/wA95Jov/Q4xWxY/8FMP%2BCfmoY8j9sb4ern/AJ7%2BJoIv/Q2FbRzXK5bV4f8Agcf/AJIiXA3G0Vd5Xif/AARWf5Ume40V5LZ/t8/sMahgWn7ZfwrYnop%2BIGnA/kZs1q2f7X/7JeoY%2BwftRfDqfPTyfG1g38pa1WOwUtqsX/29H/5I4qnC/E9H%2BJgK8fWhXX50Uei0Vx1p%2B0R%2Bz/f4%2BwfHPwdPnp5Pia0b%2BUladp8Uvhlf4%2Bw/EbQZs9PK1eFv5NWqr0JbTT%2Ba/wAzhqZXmdH%2BJh6kfWE1%2BcEb1FVLTX9Cv8fYdatJs9PKuVb%2BRq316VomnsccoTg7STXrp%2BYUUUUyQooooAK8Z8cf8pC/hf8A9kZ8ef8Ap28IV7NXjPjj/lIX8L/%2ByM%2BPP/Tt4QoA9mooooAKKK8w/a2%2BMnjL4MfDCwvvhrZ6ZL4m8S%2BMNF8NaBJrcEktla3GoX8NsbqeOKSN5Y4Y3km8pZIzKYhGHj371APT6K%2BYNV/bI%2BM3hT9jX4ofFPXPD/hy/wDHvwt8Tah4f1J7Cyni0y9lhuIRHfRWrXDzsDa3MM/2JZ3leUNbxyuzI54W3/4KRfGg/steOvEukaJ4e134laX4s1bQ/BEFz4S1PQIruKy0u31G41LUtFvZ21DS4raOWXdBPKj3AS1MbxjULc0AfbNfnN/wSE8PMfj9%2B2J47ZSReftMXemo57fZvEWosQP/AAIGa%2B4vBvxm0BP2eNC%2BO/xc8TaL4csbrwpY6trmp396lnYWRmgjkdmkmfEcYZ8Au3Axkmvk/wD4I%2BReH9Y%2BEfx3%2BKHhfW7LVdN8XftieMtR0nV9Ouknt72y/wCEhVIZYpEJWSNgrMrqSGDZBIrgxdP2mKw7/llJ/wDkkl%2Bp9bw/jVg8gziN9atGlT%2B/FUpv/wBNo%2B56K%2BYvH/8AwU1/4QLx3rfgX/h3z%2B09rX9i6vc2H9saB8J/tNhf%2BTK0fn20v2kebC%2B3ej4G5WU4GayP%2BHsP/WNT9rT/AMM3/wDdVZSzrLIycXU1X92f/wArPzmXEOTQk4yq6rT4anTT/n0fWlYvxH%2BHngz4ufD7XPhV8RtBi1Xw/wCJdIudL1zTJ2ZUurS4iaKaIlCGAZGYZUgjOQQea%2BfPAP8AwU1/4T3x3ovgX/h3z%2B09ov8AbWr21h/bGv8Awn%2BzWFh50qx%2Bfcy/aT5UKbt7vg7VVjg4r2b9pPxh8Tvh58AvF/xB%2BDPhy01nxPoOgXOpaPot7C7pqUkCGU2gCOhDyqjRo27Cu6sQwBU9eGxmGxkXKjK6W%2Bkl/wClRj%2Bp24PH4PMIuWHlzJaPSS8/tRj%2BFzGg/Y1/Z4Xwr4p8Han4Q1LV7Pxr4bt9B8VS%2BIvFep6ndalYQfafJjkubu5kn3p9rnxKHEo3L8/yJtz/AAT%2BwZ%2By38P9TXXtA8BalNqQ8XDxRLqus%2BMNV1K8uNXGkTaMLua4u7qSWdv7Pnlt8SMy7SrY3IjL4Z4j/wCCj/xN%2BJHha58Y/suNoeq2HiPx3NpHwoli8JLqjeINOsNIW61W9ka51vSraGOK78%2BAO1wu0WbgJK0g8vifBv7dXxG%2BLniPRPjxZfabXTvHnwy/Z31WPwo2v3v2HSp/EXi7Xba/kg%2BzTxbnMXkozHKTrawrMksS%2BUek7D7D8MfsnfAjwTY6JYeDvCd7pS%2BHPA1p4O0SbTvEeoQzWmi2rxvBarKk4c7TFHmQsZGAIZ2DMDo/G/8AZ6%2BFP7ROiafofxS0fUZhpGom%2B0i/0TxFfaRfWNwYZYGeG8sJobiLdDNNE4SQB0kZWBUkV8m/BT9qn9p743ftR/B/xhqXinwkNF8d/C3x/rfh34e6VdXuntayWd/o0FtBq0pmuEupY/NKNcJbRm3ke4RYpM5Pt37b%2BreJJ9M%2BFHw3l8U6t4d0jx38V7DQ/GepeG9duNPuobM6ff3SQRXtu0U9v597a2dr5kbRyMtwVUqXFAHoUn7O/wALE8Bj4YaNY6xougReHLDQrLTPDPivUdKj0%2BxsyTbpafY7iI2bqDtMsBSV0REZ2WNFXnbv9iX9n6f4ead8LbGw8W6XpGm3V5cg6B8S9e027vZ7tzJcy3t3a3sdxfvK5Lu1zJKWY7iSea8v%2BEWo/tC/FP8A4Jt%2BN9E%2BE/xJu5/GlnqXjvw54B8Wavqpa4uLbT9e1TT9MuJLyUOWlNrbQD7W4cu2J237jniv2fbP4q/FnTvjf8DD4L8fWFj4S8U6MfBPh7xx%2B0Jq1pqsN/LpUU93p934g0i6v7pIxuW6EKzXW1bpNyqrLFEAfQmp/sL/ALK2p%2BJfC/ihvhSlpL4O03SdP0Kw0vWL2z08WulzGfTIZ7GCZLa8SzlJltxcRyCByXj2Mc1qeEf2Uvgr4L%2BLEvxu07TNevvEjC8Fpd%2BIfG2ratDpq3UiyXC2Nte3UsFgshVQRbRxDaoT7oC18Az/ABq%2BLni/9mjUtf8AF/7SXjLTNX%2BF37NfiLxT4av9L8WXdsL3xPp2sajZzNcPDMP7dgs3sLK2X7R5sV2l4JZIy9wu36X8V%2BCJ/FP/AAUU%2BGNh4T8a%2BP8ASr%2Bw8N3/AI7%2BJ2lw/E/XH0loTANM07TX0xrw2SRzXM9zcgJCuW0Zsn5mDAH0zaf8jtqH/YKs/wD0Zc1qVl2n/I7ah/2CrP8A9GXNalABRRRQAUUUUAFFFFABRRRQAUUUUAFFFFABRRRQAUUUUAFFFFABRRRQAUUUUAFeM/sv/wDJb/2jv%2ByzWP8A6hXhevZq8Z/Zf/5Lf%2B0d/wBlmsf/AFCvC9AHs1FFFABRRRQAUUUUAFFFFABRRRQAUUUUAFFFFABRRRQAUUUUAFFFFABRRRQAV4z44/5SF/C//sjPjz/07eEK9mr5w/aP1f416P8At4fCef4HfD/wt4i1JvhH47W7tPFfjC50WCOD%2B1PCRLpLb6fes77to2GNRgk78gKQD6Porxn/AITj/goX/wBGv/Bn/wAPxq3/AMy9H/Ccf8FC/wDo1/4M/wDh%2BNW/%2BZegD2aivGf%2BE4/4KF/9Gv8AwZ/8Pxq3/wAy9H/Ccf8ABQv/AKNf%2BDP/AIfjVv8A5l6APZqK%2BcdJ/aO/bt1j4z6/8Drf9lD4SLqnh3wvpGu3ly/x11TyJINRudSt4UQjwxuLq2lzlgVAAePBYlgvUf8ACcf8FC/%2BjX/gz/4fjVv/AJl6APZqK8Z/4Tj/AIKF/wDRr/wZ/wDD8at/8y9H/Ccf8FC/%2BjX/AIM/%2BH41b/5l6APZqK8Z/wCE4/4KF/8ARr/wZ/8AD8at/wDMvXL%2BAf2jv27fiJ4r8b%2BENH/ZQ%2BEkNx4D8URaFqslz8ddUCTzyaVp%2Bph4tvhgkp5OowqSwU70cYwAzAH0dRXjP/Ccf8FC/wDo1/4M/wDh%2BNW/%2BZej/hOP%2BChf/Rr/AMGf/D8at/8AMvQB7NRXjP8AwnH/AAUL/wCjX/gz/wCH41b/AOZej/hOP%2BChf/Rr/wAGf/D8at/8y9AHs1FfOPwi/aO/bt%2BMvhS78X%2BHP2UPhJbW9n4o1vQpI73466ormfS9VutMncbfDDDY01pIyHOSjKSFOVHUf8Jx/wAFC/8Ao1/4M/8Ah%2BNW/wDmXoA9kmgguIzFcQpIh6q6gg/gax9Q%2BG3w61bP9q%2BAdFuc9ftGlQvn81rzP/hOP%2BChf/Rr/wAGf/D8at/8y9H/AAnH/BQv/o1/4M/%2BH41b/wCZeplGMt1cmUIT%2BJJ%2BqOxv/wBmv9nTVM/2n8AvBVznr5/hWzfP5x1j3v7FP7GupZGo/sk/DK4z18/wFpz5/OGsb/hOP%2BChf/Rr/wAGf/D8at/8y9cv8Ef2jv27fjx8GPCHxx8K/sofCS10vxn4X0/XdNttQ%2BOuqLPDBd20dxGkgTwwyhwsgDBWYZBwSOaxlhMJL4qcX/27H/5E55YHBT%2BKlB%2BsYv8A9tOrvP8Agnj%2BwVfZE37GHwuXP/PHwJYR/wDoEQrLu/8AgmF/wT1vc%2Bd%2Bx34CXP8Azy0COP8A9BArR/4Tj/goX/0a/wDBn/w/Grf/ADL0f8Jx/wAFC/8Ao1/4M/8Ah%2BNW/wDmXrJ5bl0t6MP/AACP/wAiYyyjKZb4en/4BD/5A5y6/wCCS/8AwThvP9b%2ByL4UGf8AnlDKn/oLis%2B5/wCCOP8AwTPu8%2Bb%2Bydogz/zy1G%2BT/wBBnFdn/wAJx/wUL/6Nf%2BDP/h%2BNW/8AmXrl/jd%2B0d%2B3b8B/gx4v%2BOPir9lD4SXWl%2BDPC%2Boa7qVtp/x11Rp5oLS2kuJEjD%2BGFUuVjIUMyjJGSBzWbyfKZb4eH/gEf8jF5Dkct8LT/wDBcP8A5Exbn/gib/wS/us%2Bb%2BytZjP/ADz8Taqn/oN0KpT/APBDH/glvNyv7MjRk94/GmtD%2Bd5Xp/8AwnH/AAUL/wCjX/gz/wCH41b/AOZej/hOP%2BChf/Rr/wAGf/D8at/8y9Q8jyV74an/AOAR/wAjP/Vzh5u/1Ol/4Lj/AJHkc/8AwQc/4JhTfc%2BAt9H/ALnjLVD/ADuDVSf/AIIFf8Ezpf8AV/CTWov9zxfff1lNez/8Jx/wUL/6Nf8Agz/4fjVv/mXo/wCE4/4KF/8ARr/wZ/8AD8at/wDMvUPh/In/AMwtP/wFG0ckyin8FCK9E1%2BUkeGzf8G/H/BNqX7ngLxJH/ueLLn%2BpNVZf%2BDer/gnLJ9zw74uj/3PFUn9VNeqfF39o79u34NeFLTxf4j/AGUPhJc2954o0TQo47L466ozifVNVtdMgc7vDCjYs13GznOQisQGOFPUf8Jx/wAFC/8Ao1/4M/8Ah%2BNW/wDmXqHw5kD/AOYWH/gKN45fhIfCmvSdRflVR89S/wDBu5/wTvk%2B7beN0/3fE4/rEaiP/Bux%2BwLGc2WvfEa2/wCuHiiIfztzX0V/wnH/AAUL/wCjX/gz/wCH41b/AOZej/hOP%2BChf/Rr/wAGf/D8at/8y9T/AKs8P/8AQLD7v%2BCbKgo7Tmv%2B4tf/AOXnzun/AAb2/sZwf8ePxa%2BL1t6eR4vtx/7aVYh/4IGfsyWv/Hj%2B0n8dLfHTyfHVsuP/ACTr6A/4Tj/goX/0a/8ABn/w/Grf/MvXL%2BPv2jv27fh34r8EeENY/ZQ%2BEk1x488US6FpUlt8ddUKQTx6VqGpl5d3hgEJ5OnTKCoY73QYwSyi4ayFbYeP4/8AyQpYaEt5z/8ABtf/AOaDzS3/AOCGfwVsv%2BPD9sf9oqDHTyfiLAv8rOr9v/wRg8DWQxYft8ftOwY6eX8Uol/lZ17J/wAJx/wUL/6Nf%2BDP/h%2BNW/8AmXo/4Tj/AIKF/wDRr/wZ/wDD8at/8y9WuH8ljtRX3z/%2BTOeeV4Kp8Sk/%2B4tb/wCXnkkX/BIeG1/48f8AgpF%2B1PDjpt%2BLGP5WwqL4Ffsl3/7Ln/BQzwd9t/af%2BKnxIXXfgz4y8sfE3xWdUOneTq3hbP2bKL5fmeaN/wDe8qP%2B7XsH/Ccf8FC/%2BjX/AIM/%2BH41b/5l6oeB/A/7VnjH9qzw58bvjd8OPh74Z0bwz8PfEOhww%2BFfiHfa1dXd1qV9olwjMlxpFikUaJpcoLB3YtKgC4yR0UMpy/DVVUpQs1/em/wc2vwFQynAYasqtODUl1cqj/CVSS/BnutFFFeieiFcb8ePgl4a/aB%2BHUvw78Taxqel7dSsdT0vWtEmjjvdL1Cyuoru0u4Gljkj3xzwxttkR43AKOjozKeyooA8Oj/YO8AyfBbWPgjq/wAVfGt/aa9qf9tanrVzc2CajLr41NdTTWhLFaIq3SXMcBSMILVEtoo1twilTlav/wAExP2VfiB4C8T%2BE/2gvCUHxU1fxbqd5qOq%2BNPiLoGk3%2BqxXlxp9rpxntdllHb2bJa2NnGoggjX/RkZgz7mb6GooA5v4PfCfwN8CPhX4e%2BDXw00SDTtB8M6RBp2l2lvbRQqkUSBQdkSIgZsFm2qoLMTgZrxb9iHwxpvhb9njxZe2PmEXv7Q3j/U752GcH/hPNU3twOipGPwWvo2vkr9krxZ%2B2dp/wAPfFFn8MfgH8MNX0JPjT8Rf7P1HXvi7qOm3cy/8JnrJYyW0WgXKRENuAAmfIAOQTtCaTafYuNSpGEoJ6Stfzs7r7nqfUH/AAnPgn/ocNL/APBhH/8AFUv/AAnPgn/ocNK/8GEf/wAVXlv/AAnH/BQv/o1/4M/%2BH41b/wCZej/hOP8AgoX/ANGv/Bn/AMPxq3/zL0yD1L/hOfBP/Q4aV/4MI/8A4qj/AITnwT/0OGlf%2BDCP/wCKry3/AITj/goX/wBGv/Bn/wAPxq3/AMy9H/Ccf8FC/wDo1/4M/wDh%2BNW/%2BZegDUvfgd%2BxTqXw50j4Paj8H/hbP4R0C9N5oXhabw/pradptwWkbzre2KeVDJullO9FBzI5z8xzoaf8OP2UdJtbWy0rwH8PbaGytNJtLKG30uxRbeDS55LjTIkAUBEtJ5ZZbdRgQSSO8YVmJPmfwR/aO/bt%2BPHwY8IfHHwr%2Byh8JLXS/GfhfT9d0221D466os8MF3bR3EaSBPDDKHCyAMFZhkHBI5rqP%2BE4/wCChf8A0a/8Gf8Aw/Grf/MvQBrWPwS/Yt0zxNrXjXTfhH8L7fWfEkN3D4i1eDQNOS61SO6wLlLmUJvnWbavmByQ%2B0bs4rf8b6V8APiZ4Iufhl8SNN8HeIPDd5CkV34e1yG0u7GeNGVkR4JQ0bKrKpAK4BUEdBXFf8Jx/wAFC/8Ao1/4M/8Ah%2BNW/wDmXo/4Tj/goX/0a/8ABn/w/Grf/MvQB1Q8E/swjw9b%2BER4R8BjSbTw3P4etdL%2BwWX2eHSJxGs2nJHt2rayCGIPAB5bCJAVO0Yw7r9nz9hi%2B%2BFtr8Dr34IfCebwVZX5vrPwfL4a0xtLgujvzOloY/JST94/zhQ3ztzya4n43ftHft2/Af4MeL/jj4q/ZQ%2BEl1pfgzwvqGu6lbaf8ddUaeaC0tpLiRIw/hhVLlYyFDMoyRkgc11H/Ccf8FC/%2BjX/AIM/%2BH41b/5l6AN3xB8Jv2QPFlj4Y0vxV8NPhtqdt4Jljl8GW%2BoaNp80egOgQI1kroRalRGmDFtI2LjoK6S0u/g9YeKL7xvY3XhqHWtTs7az1LV4Xt1uru3t2ma3hllHzyRxNcXDIrEhDPIVA3tnz7/hOP8AgoX/ANGv/Bn/AMPxq3/zL0f8Jx/wUL/6Nf8Agz/4fjVv/mXoA9M0PULHV/FOoalpV3Hc232G1iFxA4ZC6vOzKGHBIDrnHqK2q8Z/4Tj/AIKF/wDRr/wZ/wDD8at/8y9cv8Xf2jv27fg14UtPF/iP9lD4SXNveeKNE0KOOy%2BOuqM4n1TVbXTIHO7wwo2LNdxs5zkIrEBjhSAfR1FeM/8ACcf8FC/%2BjX/gz/4fjVv/AJl6P%2BE4/wCChf8A0a/8Gf8Aw/Grf/MvQB7NRXjP/Ccf8FC/%2BjX/AIM/%2BH41b/5l6P8AhOP%2BChf/AEa/8Gf/AA/Grf8AzL0AezUV84%2BPv2jv27fh34r8EeENY/ZQ%2BEk1x488US6FpUlt8ddUKQTx6VqGpl5d3hgEJ5OnTKCoY73QYwSy9R/wnH/BQv8A6Nf%2BDP8A4fjVv/mXoA9morxn/hOP%2BChf/Rr/AMGf/D8at/8AMvR/wnH/AAUL/wCjX/gz/wCH41b/AOZegD2aivGf%2BE4/4KF/9Gv/AAZ/8Pxq3/zL1y%2BrftHft26P8Z9A%2BB1x%2Byh8JG1TxF4X1fXbO5T466p5EcGnXOm28yOT4Y3B2bVICoCkEJJkqQoYA%2BjqK8Z/4Tj/AIKF/wDRr/wZ/wDD8at/8y9H/Ccf8FC/%2BjX/AIM/%2BH41b/5l6APZqK8Z/wCE4/4KF/8ARr/wZ/8AD8at/wDMvR/wnH/BQv8A6Nf%2BDP8A4fjVv/mXoA9mor5x0n9o79u3WPjPr/wOt/2UPhIuqeHfC%2Bka7eXL/HXVPIkg1G51K3hRCPDG4uraXOWBUAB48FiWC9R/wnH/AAUL/wCjX/gz/wCH41b/AOZegD2aivGf%2BE4/4KF/9Gv/AAZ/8Pxq3/zL0f8ACcf8FC/%2BjX/gz/4fjVv/AJl6APZqK8Z/4Tj/AIKF/wDRr/wZ/wDD8at/8y9cv4B/aO/bt%2BInivxv4Q0f9lD4SQ3HgPxRFoWqyXPx11QJPPJpWn6mHi2%2BGCSnk6jCpLBTvRxjADMAfR1FeM/8Jx/wUL/6Nf8Agz/4fjVv/mXo/wCE4/4KF/8ARr/wZ/8AD8at/wDMvQB7NXjP7L//ACW/9o7/ALLNY/8AqFeF6P8AhOP%2BChf/AEa/8Gf/AA/Grf8AzL1b/ZW%2BHPxp8H6x8UPHfx00DwvpOqePviFFrlnpXhPxLc6tb2trFoOj6YqvcXFlZs0jSadK5URbQsiDcxzgA9booooAKKKKACiiigAooooAKKKKACiiigAooooAKKKKACiiigAooooAKKKKACvlf9p79rT4ufDH4yeLNZ8A%2BHfB8nhj4P8Ah/w/e%2BNTrWkXE2rapb6vfypcwWFxHcRpZeRbWcdx%2B8inFzIUjIh8vzT9UV4z8Z/2Ifhx8bvikfiZrnjnxVpcWo2ukWvi/wANaNdWqad4pg0u9kvbGK%2BWW3kmCxzTS5%2BzywGWOQxTGWMKgAPZqKKKACiiigD5j8OftK/EyH9v/wAUfB/4jax4e8J%2BG18QWmieDItR%2BEWspdeMYBoEGo4g8RtdrpzSx3dzqAFoIXk8u0mAUFmkX6cryvxZ%2By1B4/8AjJpHxT8e/G/xrq%2BleHtdj1rQPAFwdMi0ax1CO3eCOcNDZJey7PMkkVJrqSMSPu2fIgX1SgAooooA8X/4KC/F344fs/fsj%2BNPj18Ar3wpHrHgnQrvXLqDxhotzfW13aWttLM9uiW11bMkrsiKJC5VAWJR%2BBXn/jz9rP4ueC/jx4t1Pwp4d8HxfDzwf8Y/CPw%2B8ZWc2kTnW9V1XXYNFSPUIbtLhYY44P7c0mMxSW8ryJDPiWPagr2H9rH9nGy/a0%2BBGvfs%2B618VfFPhHSfE9lLY65f%2BEF077Xc2UsTxTW26/tLqNEdX5ZEWQFRtdec8XB%2BwD4On%2BItn8RfFXxx8fa6x1nSdc8TaNqEulRWPifXNMREsdWvo7awiZbiIQWhC2zQQMbG2LxMY8kA97ooooAK8X/bJ%2BLvxw%2BCVr4B8Y/Cy98Kf2NqHxM8OeHvF9j4g0W5ubq5tdV1mx00GzlhuoUtpI1uZZN8iTqSiLs5Jr2ivKv2rv2W3/aq8N6F4Xn%2BPvjfwNb6F4ksNdRvBcOjs93e2N5BeWbSnUtPvBtiuLeNwsYQNysm9TtAB5x%2Bzz%2B0r8TNb/aq8W/BH4oav4e8J6dD4p1u38E%2BEpPhFrOmXOvW0LpKb%2B31q4u/sGoOxkmllitoC/JdiuGJ%2BnK8l0n9lEP8ZNF%2BMvxH/aA8d%2BNZvC93eXfhPQvEI0mGw0e6ubeS1kuIlsNPtpZX%2BzzTwr58kqos77QCQR61QAUUUUAeH/t3fFz48fs/fBrV/jr8KPGPgWx0/wALaLc3l7ovizwze39z4hvcotnplnJbXsH2aa4lIt0byrpmlniCwsflbz/4I/tffGfXPiX4L/tbwZ4S0j4aeN/if4o%2BG3hXw1p2lzR6vol/oEOrb557kXDW80EjeH9TRYY7eIxq1sfMkywHp/7Sv7IMH7SXjzwR8QJv2gfHfhC58A3dze6LY%2BGItGns5L2VBGt5NBqenXiPPDH5iwyAKYxPKR8zZFXwH%2Bwz8PfAfxlt/i7D8RfF2pQadrmp69onhDUrmy/snStb1KN49Q1SBIrVJ/PnE92WV5nhRr65McUfmcAHtdFFFABXy/8Atc/Hj9pj4LfETT/CulQ%2BAPGuj%2BOYdattF%2BHMXg%2B%2Bk1hLW00O6u5L%2B4uBfPFdWwuore2khFrED9vhQTGRkST6grw6b9ia4j/aP8V/tNaJ%2B1X8S9O1fxbpsOnXOlwweH57TT7OGBo4baza50mW5t4lld7rYs2153LuHB20AM/YQ/aD8b/Hv4e3l18V/H2jX3i7ThZtr/huy%2BF2r%2BEbzQHntllEFzZavdT3Dgtv8u4ASORUO0NtJr3SvN/gd%2Bzdp3wZ8T%2BJPiHrHxS8U%2BOPFXiuKxt9Y8T%2BLmsFuXtLMTfZbVItPtbW2jija5uXG2EMzXEhZmyMekUAFFFFAHxz/wAFBP24/ip%2Bxf45/tPXdF0Dxj4RfRtR1u38Ky/DnU7KW3TTdGvtSST/AISKa6fTJ7v7Xpo2WKwJdCOZZQNsLSN69%2BzR8Xfjnq3xU8b/ALPX7R1z4Uv/ABP4R0nQ9aj1rwVpFzYWNzY6mLyNIjBc3Ny6yxXGnXal/NxIhibZGSVFb47fsJeCP2ndaurX4/8Axb8a%2BKPBdzJcSL8MryTTYdGikmsZrJmD29lHfSAR3EzBJbp0Dvu2/IgXp/2fP2ZtI%2BAd5r3iK7%2BKHizxx4j8SGzj1bxV41uLN76W2tIjFa2o%2Bx21vCsUQeVhiPezzyu7Ozk0AelUUUUAFfEf7U/7ZX7Wfwb%2BNXiD4UeDvDfhzxrqdhotxrvhgJ8D/EEcmigajplqhhb7c48TSCx1S487%2By/KeFoSsojEwjr7crw/Xv2LNT8TePj8Tta/a5%2BKM2t6fBeQ%2BDbwpoAHhVbqaGSf7JGNJ2Ts0cC2%2B69W6ZYmcKVd2cgHVfssfFh/jJ8I4PFl78TNG8VX8Oo3Vlql9o3gy%2B8Oi2uIpWVrWbTdQuJ7qznjGFeOZw%2Bfm2qGAr0auG%2BAfwF8PfADwzqejaV4p1vxBqOv69ca34k8SeI5oGvdVv5giNPKLeKGBMRxQxKkMUcapEgCjBJ7mgAooooAKKKKACiiigAooooAo%2BKPENh4R8Naj4r1UP8AZdMsZru58pct5caF2wO5wpr5z/Ym/aT%2BNfj/AMU6P4M%2BNnh7wZZr46%2BFtl8RvDMPgzSri0GmR3lwTd6fdma4lF3NG9zbP9sQQCdpZiYI9oL/AEtd2lrf2stje26TQzRtHNFKoZXUjBUg8EEcYryH9mb9ivwF%2BzBqr6voHxB8W%2BJZbbwxY%2BGfDo8WXtrMNA0KzeR7fTbU29vCWjUyfNLOZriQRxeZM/lrgA9iooooAK4X9qDx38Rfhb%2BzT8RPid8H/Ci694t8OeBdX1TwtobWM10NR1G3s5Zba2MMDLLN5kqInlxsHbdhSCQa7qs7xbol/wCJfDGoeH9L8V6joVze2kkNvrWkLA11YuykCaIXEUsRdTyBJG6ZHzKwyCAeXfsU/Fqf4ofDO%2BstW%2BIXh/WdT8O6qunXmmaJ8MNT8HPoaC2gkis7jStUuZ7mFwjiRXby0eKWLYmBvf2KvPPgP%2BztpPwOvPEviO5%2BIniTxj4k8X6jDeeIvFPit7MXd0YbdLeCIR2NtbW0UUcaAKscKZLOzFmZmPodABRRRQB8uftUftY/FD9nD4veOLL4laN4S8RfC%2Bw/Z38X%2BPbbQrfRLhNVdtEGlrPbXFzJcvbzRTrfTgILZCoRMu%2BWFdv%2BzP8AF/4%2Bap8XPGX7O37S0nhK88UeGPDHh7xLHqvgrSbmxspLLVn1K3W2MNzc3LmWG40i7BlEgWRHiby4zuWoPjH%2Bwr4d%2BOnx1b4y%2BPPjt45l02bwVqfhG%2B%2BHsMGi/wBiXejaktt9vtJC%2BmtekTtaQOzi6DqUIRkRmQ9J%2Bzv%2By7of7Pt9rfiOf4oeLfG/iHX7Wwsr/wAT%2BNrm0kvfsFiki2dmv2S2t4/KiM9w4JQyO9zK7u7NmgD0%2BiiigAr5E%2BNf7S/7W3gzXf2gPAlv4V8GeLL3wF4f8KeJPhtY6T8P9Tv51j1HVdShCXlrFePLqM8C6bHOpthbkuSFX5VavruvC5f2KPEMXx08bfH/AEL9tD4raVq3jfSLHTLmxsrPww1ppttZXFzPZpbCXRXk/dG8ulBmeUus5EnmFUKgHV/sqfFub4y/CkeJtR%2BJ2jeKdRtdVubHVrrR/BF/4bNncRN81rPpmo3E91aTopXckzBiGVtqqwr0muE%2BAfwD0D4A6FrNjp/i3XPEeq%2BJvEEuueJ/E3iSW3a91W/khhg82QW0MMEYWC3t4VSKKNFSFAFzknu6ACiiigD42/aW/a7/AGlv2ePjNB8NtaT4Z%2BNb7W4IJvCMOneFr20l8F3mpeIdM8PaRNqcr304uop21ecFols5HFjdLGGXzDF7l%2Byr8X/iR8Rh4/8Ah98Yzok/ir4aePG8NazqvhrTprOw1PzNL07Vre4ht5p55LfNrqlujxtNLiSOTDEEY4S2/wCCavhJrr4hv4h/aX%2BJ2s2/xJ1465rFvqR0LzLPUoriGfT7m2uotLS6U2D29uLSN5pIolhQMj859Y%2BAfwF0P4B%2BHtW02y8X654k1bxFr82teJ/FHiV7Y3%2Br30kcUPnTC1gggXZBBbwIkUUaLHBGoXgkgHdUUUUAMuftP2aT7Hs87YfK83O3djjOOcZr4g%2BK37XP7afw0%2BImufDa3tvAfjPXvDF74at9W8deCPgrr%2BrR%2BHLfVmvHvbCXSrPUp7u5mihsrG6JinT93dQtLAgMTSfb13DJcWstvDdSQPJGyrPEFLxkjAZdwK5HUZBHqDXz38GP2AvEHwE%2BG1x8NPh3%2B3V8Yoo7rVn1ObWbyy8Jz6hLdyvLJczzTPoR%2B0yTvLukknEj5jTYUAwQD1n4CfEOy%2BK3wd8P/EKw%2BIGjeKk1PTxI%2Bv8Ah/SZrC0u5ASshS1nmmltirqyNDJI7xsrKx3KQOvrkvgX8F/CX7Pvwv074U%2BCrm/uLKwluria%2B1W5E11fXd1cy3V1dTOFUNLNcTzSvtVV3SHaqrhR1tABVHxPD4kufDeoW/g3U7Gy1eSylXS7zU7B7q2guChEcksMcsTTRq2CyLJGWAIDqTuF6s3xjoN/4o8LX/h3S/FupaDc3lq8UGtaOIDdWLkcTRC4iliLqeQJI3Q4%2BZWGRQB8PfDf9u39rX4wfFPW/gl8LdN%2BHyeM9NtddvpPGfiv4Xa1oS6ppmkWuiypYy6JeXyahp8r3fiHYk08zx%2BVDJcRwus6A/Y3wC%2BLOm/Hz4FeCvjro2my2Vn418Jabr1pZztueCK8tY7hY2IAyVEgBPqK8W1f/gmR4H1rXL74i3f7SnxTT4gasl5a638SbW90iHVr/TLq2tbabTCiaaLOG2KWVow8i2imWSBZVlDlmP0H4L8H%2BGvh54O0nwB4M0mLT9H0PTINP0mwhzstraGNY4o1zzhUVVH0oA06KKKAOX%2BNOo%2BONG%2BFuta38OfENjperWFmbqG%2B1Dwfe%2BIESOMh5QNOsZ4Lm8kaJXVIoZA5dlwrn5G%2BLfhL/wAFEfj94k8aaHqfje48I%2BBPBmpTzr4g8cXnwM8RTW2sX8Ov3WkIlzKt9GnhmeS1tLX9xqjSSwPKsb52BK%2B2/iZ4M13x74Sm8OeG/ilr/g28kljeLX/DMVi93BtYEqq39tcwMGAKkPE3BOMHBHitz/wTm8Kah4PuPhtqv7SHxNu/DGuahNf%2BPPD80%2BjiLxhdz3j3VxNfSrpouIvNLLE0dnLaxCGJI1RRu3AH0TRRRQAUUUUAFFFFABRRRQAUUUUAFFFFABRRRQAUUUUAFFFFABRRRQAUUUUAFFFFABRRRQAUUUUAFFFFABRRRQAUUUUAFFFFABRRRQAUUUUAFFFFABRRRQAUUUUAFFFFABRRRQAUUUUAFFFFABRRRQAUUUUAFFFFABRRRQAUUUUAFFFFABRRRQAUUUUAFFFFABRRRQAUUUUAFFFFABRRRQAUUUUAFFFFABRRRQAUUUUAFFFFABRRRQAUUUUAFFFFABRRRQAUUUUAFFFFABRRRQAUUUUAFFFFABRRRQAUUUUAFFFFABRRRQAUUUUAFFFFABRRRQB//9k%3D\">"
      ]
     },
     "metadata": {},
     "output_type": "display_data"
    }
   ],
   "source": [
    "s.run(tf.global_variables_initializer())\n",
    "\n",
    "BATCH_SIZE = 512\n",
    "EPOCHS = 40\n",
    "\n",
    "# for logging the progress right here in Jupyter (for those who don't have TensorBoard)\n",
    "simpleTrainingCurves = matplotlib_utils.SimpleTrainingCurves(\"cross-entropy\", \"accuracy\")\n",
    "\n",
    "for epoch in range(EPOCHS):  # we finish an epoch when we've looked at all training samples\n",
    "    \n",
    "    batch_losses = []\n",
    "    for batch_start in range(0, X_train_flat.shape[0], BATCH_SIZE):  # data is already shuffled\n",
    "        _, batch_loss = s.run([step, loss], {input_X: X_train_flat[batch_start:batch_start+BATCH_SIZE], \n",
    "                                             input_y: y_train_oh[batch_start:batch_start+BATCH_SIZE]})\n",
    "        # collect batch losses, this is almost free as we need a forward pass for backprop anyway\n",
    "        batch_losses.append(batch_loss)\n",
    "\n",
    "    train_loss = np.mean(batch_losses)\n",
    "    val_loss = s.run(loss, {input_X: X_val_flat, input_y: y_val_oh})  # this part is usually small\n",
    "    train_accuracy = accuracy_score(y_train, s.run(classes, {input_X: X_train_flat}))  # this is slow and usually skipped\n",
    "    valid_accuracy = accuracy_score(y_val, s.run(classes, {input_X: X_val_flat}))  \n",
    "    simpleTrainingCurves.add(train_loss, val_loss, train_accuracy, valid_accuracy)"
   ]
  },
  {
   "cell_type": "markdown",
   "metadata": {},
   "source": [
    "# Adding more layers"
   ]
  },
  {
   "cell_type": "markdown",
   "metadata": {},
   "source": [
    "Let's add a couple of hidden layers and see how that improves our validation accuracy!\n",
    "\n",
    "Rememeber that we need non-linearities for hidden layers (e.g. `tf.sigmoid`)!\n",
    "\n",
    "Now add 1 or more hidden layers to the code above and restart training.\n",
    "You're aiming for ~0.98 validation accuracy here."
   ]
  },
  {
   "cell_type": "code",
   "execution_count": null,
   "metadata": {},
   "outputs": [],
   "source": []
  }
 ],
 "metadata": {
  "kernelspec": {
   "display_name": "Python 3",
   "language": "python",
   "name": "python3"
  },
  "language_info": {
   "codemirror_mode": {
    "name": "ipython",
    "version": 3
   },
   "file_extension": ".py",
   "mimetype": "text/x-python",
   "name": "python",
   "nbconvert_exporter": "python",
   "pygments_lexer": "ipython3",
   "version": "3.6.6"
  }
 },
 "nbformat": 4,
 "nbformat_minor": 1
}
