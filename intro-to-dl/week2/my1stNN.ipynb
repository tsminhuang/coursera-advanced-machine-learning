{
 "cells": [
  {
   "cell_type": "code",
   "execution_count": 1,
   "metadata": {},
   "outputs": [
    {
     "name": "stderr",
     "output_type": "stream",
     "text": [
      "/opt/anaconda3/lib/python3.6/site-packages/h5py/__init__.py:36: FutureWarning: Conversion of the second argument of issubdtype from `float` to `np.floating` is deprecated. In future, it will be treated as `np.float64 == np.dtype(float).type`.\n",
      "  from ._conv import register_converters as _register_converters\n",
      "Using TensorFlow backend.\n"
     ]
    },
    {
     "name": "stdout",
     "output_type": "stream",
     "text": [
      "(50000, 28, 28) (50000,)\n"
     ]
    },
    {
     "data": {
      "image/png": "[encoded data removed]",
      "text/plain": [
       "<Figure size 432x288 with 1 Axes>"
      ]
     },
     "metadata": {},
     "output_type": "display_data"
    }
   ],
   "source": [
    "import numpy as np\n",
    "import tensorflow as tf\n",
    "import matplotlib.pyplot as plt\n",
    "\n",
    "np.random.seed(42)\n",
    "tf.set_random_seed(42)\n",
    "\n",
    "from preprocessed_mnist import load_dataset\n",
    "X_train, y_train, X_val, y_val, X_test, y_test = load_dataset()\n",
    "print(X_train.shape, y_train.shape)\n",
    "import matplotlib.pyplot as plt\n",
    "%matplotlib inline\n",
    "plt.imshow(X_train[0], cmap=\"Greys\");"
   ]
  },
  {
   "cell_type": "code",
   "execution_count": 2,
   "metadata": {},
   "outputs": [],
   "source": [
    "def one_hot(y):\n",
    "    \"\"\"\n",
    "    Inputs:\n",
    "    - y: lD vector of (n_sample,)\n",
    "    \n",
    "    Returns:\n",
    "    - y_one_hot: one hot encoding y\n",
    "    \"\"\"\n",
    "    n_class = len(np.unique(y))\n",
    "    \n",
    "    return np.eye(n_class)[y.reshape(-1)]"
   ]
  },
  {
   "cell_type": "code",
   "execution_count": 3,
   "metadata": {},
   "outputs": [],
   "source": [
    "def next_batch(data, batch_size=32, shuffle=True):\n",
    "    \"\"\"\n",
    "    Inputs:\n",
    "    - data: tuple of (X, y)\n",
    "    - batch_size: size of batch\n",
    "    - shuffled: shuffle data\n",
    "    \n",
    "    Return:\n",
    "    - batch sampled data of (X, y)\n",
    "    \"\"\"\n",
    "    \n",
    "    X, y = data\n",
    "    assert X.shape[0] == y.shape[0]\n",
    "    \n",
    "    n_sample = X.shape[0]\n",
    "    n_batch = n_sample // batch_size\n",
    "    n_batch = n_batch + 1 if (n_sample % n_batch) != 0 else n_batch \n",
    "    idx = np.arange(n_sample)\n",
    "    if shuffle:\n",
    "        np.random.shuffle(idx)\n",
    "        \n",
    "    for b in range(n_batch):\n",
    "        start, end = b * batch_size, (b + 1) * batch_size\n",
    "        if end > n_sample:\n",
    "            sample_idx = idx[start:]\n",
    "        else:\n",
    "            sample_idx = idx[start:end]\n",
    "\n",
    "        yield X[sample_idx, :], y[sample_idx, :]"
   ]
  },
  {
   "cell_type": "code",
   "execution_count": 4,
   "metadata": {},
   "outputs": [],
   "source": [
    "def init_weights(layers):\n",
    "    \"\"\"\n",
    "    Inputs:\n",
    "    - layers: list of (n_inputs, n_outputs)\n",
    "    \n",
    "    Return:\n",
    "    - weights: list of layer weight (W, b)\n",
    "    \"\"\"\n",
    "    \n",
    "    def xavier_initializer(n_inputs, n_outputs):\n",
    "        init_range = tf.sqrt(6.0 / (n_inputs + n_outputs))\n",
    "        return tf.random_uniform([n_inputs, n_outputs], -init_range, init_range)\n",
    "   \n",
    "    weights = []\n",
    "    for n_inputs, n_outputs in layers:\n",
    "        W = tf.Variable(xavier_initializer(n_inputs, n_outputs))\n",
    "        b = tf.Variable(tf.zeros(n_outputs))\n",
    "        weights.append((W, b))\n",
    "\n",
    "    return weights   "
   ]
  },
  {
   "cell_type": "code",
   "execution_count": 5,
   "metadata": {},
   "outputs": [],
   "source": [
    "def foward(input_X, input_y, weights):\n",
    "    \"\"\"\n",
    "    Inputs:\n",
    "    - input_X: tensor (None, n_features)\n",
    "    - input_y: tensor (None, n_class)\n",
    "    - weights: list of layer weights (W, b)\n",
    "    \n",
    "    Return:\n",
    "    - logits: model logits\n",
    "    \"\"\"\n",
    "    \n",
    "    A = input_X\n",
    "    for idx, (W, b) in enumerate(weights):\n",
    "        Z = tf.matmul(A, W) + b\n",
    "        \n",
    "        # last layer\n",
    "        if idx == (len(weights) - 1):\n",
    "            A = tf.nn.sigmoid(Z)\n",
    "        else:\n",
    "            A = tf.nn.relu(Z)\n",
    "            \n",
    "    logits = A\n",
    "    \n",
    "    return logits   "
   ]
  },
  {
   "cell_type": "markdown",
   "metadata": {},
   "source": [
    "## Data preprocess"
   ]
  },
  {
   "cell_type": "code",
   "execution_count": 6,
   "metadata": {},
   "outputs": [],
   "source": [
    "# Flatten data to 1D vector\n",
    "X_train = X_train.reshape(X_train.shape[0], -1)\n",
    "X_test = X_test.reshape(X_test.shape[0], -1)\n",
    "\n",
    "# one hot encoding\n",
    "y_train_en = one_hot(y_train)\n",
    "y_test_en = one_hot(y_test)"
   ]
  },
  {
   "cell_type": "markdown",
   "metadata": {},
   "source": [
    "## Build Model"
   ]
  },
  {
   "cell_type": "markdown",
   "metadata": {},
   "source": [
    "#### Weights initialization"
   ]
  },
  {
   "cell_type": "code",
   "execution_count": 7,
   "metadata": {},
   "outputs": [],
   "source": [
    "n_features = X_train.shape[1]\n",
    "n_class = y_train_en.shape[1]\n",
    "\n",
    "hidden_dims = [\n",
    "    (n_features, 256),\n",
    "    (256, 128),\n",
    "    (128, 64),\n",
    "    (64, n_class)\n",
    "]\n",
    "\n",
    "weights = init_weights(hidden_dims)"
   ]
  },
  {
   "cell_type": "markdown",
   "metadata": {},
   "source": [
    "#### Build tensorflow op"
   ]
  },
  {
   "cell_type": "code",
   "execution_count": 8,
   "metadata": {},
   "outputs": [],
   "source": [
    "input_X = tf.placeholder(tf.float32, shape=(None, n_features))\n",
    "input_y = tf.placeholder(tf.float32, shape=(None, n_class))\n",
    "\n",
    "logits = foward(input_X, input_y, weights)\n",
    "\n",
    "predict = tf.nn.softmax(logits)\n",
    "acc = tf.equal(tf.argmax(predict, axis=-1), tf.argmax(input_y, axis=-1))\n",
    "acc = tf.reduce_mean(tf.cast(acc, tf.float32))\n",
    "\n",
    "loss = input_y * tf.log(predict) + (1. - input_y) * tf.log(1. - predict)\n",
    "loss = -tf.reduce_mean(tf.reduce_sum(loss, axis=-1))\n",
    "#loss = tf.nn.softmax_cross_entropy_with_logits(logits=logits, labels=input_y)\n",
    "#loss = tf.reduce_mean(loss)\n",
    "\n",
    "train = tf.train.AdamOptimizer().minimize(loss)"
   ]
  },
  {
   "cell_type": "markdown",
   "metadata": {},
   "source": [
    "#### Parameters"
   ]
  },
  {
   "cell_type": "code",
   "execution_count": 9,
   "metadata": {},
   "outputs": [],
   "source": [
    "epochs = 30\n",
    "batch_size = 128"
   ]
  },
  {
   "cell_type": "code",
   "execution_count": 10,
   "metadata": {},
   "outputs": [
    {
     "name": "stdout",
     "output_type": "stream",
     "text": [
      "[  5/ 30] | Train loss: 2.2872 acc: 97.80% | Test loss: 2.2916 acc: 97.34%\n",
      "[ 10/ 30] | Train loss: 2.2759 acc: 98.86% | Test loss: 2.2888 acc: 97.70%\n",
      "[ 15/ 30] | Train loss: 2.2724 acc: 99.22% | Test loss: 2.2886 acc: 97.48%\n",
      "[ 20/ 30] | Train loss: 2.2706 acc: 99.39% | Test loss: 2.2868 acc: 97.71%\n",
      "[ 25/ 30] | Train loss: 2.2701 acc: 99.43% | Test loss: 2.2885 acc: 97.71%\n",
      "[ 30/ 30] | Train loss: 2.2682 acc: 99.61% | Test loss: 2.2857 acc: 98.01%\n"
     ]
    }
   ],
   "source": [
    "train_loss_hist = np.zeros(epochs)\n",
    "train_acc_hist = np.zeros(epochs)\n",
    "\n",
    "test_loss_hist = np.zeros(epochs)\n",
    "test_acc_hist = np.zeros(epochs)\n",
    "\n",
    "data = (X_train, y_train_en)\n",
    "\n",
    "with tf.Session() as sess:\n",
    "    \n",
    "    sess.run(tf.global_variables_initializer())\n",
    "    \n",
    "    for e in range(epochs):\n",
    "\n",
    "        train_batch_loss = []\n",
    "        train_batch_acc = []\n",
    "        \n",
    "        for X_batch, y_batch in next_batch(data, batch_size=batch_size):\n",
    "            _, train_loss, train_acc = sess.run([train, loss, acc], \n",
    "                                     feed_dict = {input_X: X_batch, input_y: y_batch})\n",
    "            train_batch_loss.append(train_loss)\n",
    "            train_batch_acc.append(train_acc)\n",
    "            \n",
    "        train_loss_hist[e] = np.mean(train_batch_loss)\n",
    "        train_acc_hist[e] = np.mean(train_batch_acc)\n",
    "        \n",
    "        test_loss, test_acc = sess.run([loss, acc], \n",
    "                                     feed_dict = {input_X: X_test, input_y: y_test_en})\n",
    "        test_loss_hist[e] = test_loss\n",
    "        test_acc_hist[e] = test_acc\n",
    "        \n",
    "        if e % 5 == 4:\n",
    "            print('[{:3d}/{:3d}] | Train loss: {:4.4f} acc: {:4.2f}% | Test loss: {:6.4f} acc: {:4.2f}%'.format( \\\n",
    "                e + 1, epochs, \\\n",
    "                train_loss_hist[e], train_acc_hist[e] * 100,\n",
    "                test_loss_hist[e], test_acc_hist[e] * 100))"
   ]
  },
  {
   "cell_type": "code",
   "execution_count": 11,
   "metadata": {},
   "outputs": [
    {
     "data": {
      "text/plain": [
       "<matplotlib.legend.Legend at 0x7f16580d2240>"
      ]
     },
     "execution_count": 11,
     "metadata": {},
     "output_type": "execute_result"
    },
    {
     "data": {
      "image/png": "[encoded data removed]",
      "text/plain": [
       "<Figure size 432x288 with 1 Axes>"
      ]
     },
     "metadata": {},
     "output_type": "display_data"
    }
   ],
   "source": [
    "plt.title('train vs test loss')\n",
    "plt.plot(train_loss_hist, c='r', label='train')\n",
    "plt.plot(test_loss_hist, c='g', label='test')\n",
    "plt.xlabel('epochs')\n",
    "plt.ylabel('loss')\n",
    "plt.legend()"
   ]
  },
  {
   "cell_type": "code",
   "execution_count": null,
   "metadata": {},
   "outputs": [],
   "source": []
  }
 ],
 "metadata": {
  "kernelspec": {
   "display_name": "Python 3",
   "language": "python",
   "name": "python3"
  },
  "language_info": {
   "codemirror_mode": {
    "name": "ipython",
    "version": 3
   },
   "file_extension": ".py",
   "mimetype": "text/x-python",
   "name": "python",
   "nbconvert_exporter": "python",
   "pygments_lexer": "ipython3",
   "version": "3.6.5"
  }
 },
 "nbformat": 4,
 "nbformat_minor": 2
}
